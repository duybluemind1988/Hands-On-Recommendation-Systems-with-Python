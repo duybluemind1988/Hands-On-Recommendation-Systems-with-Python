{
  "nbformat": 4,
  "nbformat_minor": 0,
  "metadata": {
    "kernelspec": {
      "display_name": "Python 3",
      "language": "python",
      "name": "python3"
    },
    "language_info": {
      "codemirror_mode": {
        "name": "ipython",
        "version": 3
      },
      "file_extension": ".py",
      "mimetype": "text/x-python",
      "name": "python",
      "nbconvert_exporter": "python",
      "pygments_lexer": "ipython3",
      "version": "3.6.0"
    },
    "colab": {
      "name": "Content Based Recommenders.ipynb",
      "provenance": []
    }
  },
  "cells": [
    {
      "cell_type": "markdown",
      "metadata": {
        "id": "RInm-a0_vwHm",
        "colab_type": "text"
      },
      "source": [
        "# Plot Description Based Recommender"
      ]
    },
    {
      "cell_type": "code",
      "metadata": {
        "id": "WJZY_OIlvwHn",
        "colab_type": "code",
        "colab": {
          "base_uri": "https://localhost:8080/",
          "height": 204
        },
        "outputId": "e624dedc-efcf-4865-ed6a-e0bd1051a36b"
      },
      "source": [
        "import pandas as pd\n",
        "import numpy as np\n",
        "\n",
        "#Import data from the clean file \n",
        "df = pd.read_csv('/content/drive/My Drive/Data/Movie dataset/metadata_clean.csv')\n",
        "\n",
        "#Print the head of the cleaned DataFrame\n",
        "df.head()"
      ],
      "execution_count": 2,
      "outputs": [
        {
          "output_type": "execute_result",
          "data": {
            "text/html": [
              "<div>\n",
              "<style scoped>\n",
              "    .dataframe tbody tr th:only-of-type {\n",
              "        vertical-align: middle;\n",
              "    }\n",
              "\n",
              "    .dataframe tbody tr th {\n",
              "        vertical-align: top;\n",
              "    }\n",
              "\n",
              "    .dataframe thead th {\n",
              "        text-align: right;\n",
              "    }\n",
              "</style>\n",
              "<table border=\"1\" class=\"dataframe\">\n",
              "  <thead>\n",
              "    <tr style=\"text-align: right;\">\n",
              "      <th></th>\n",
              "      <th>title</th>\n",
              "      <th>genres</th>\n",
              "      <th>runtime</th>\n",
              "      <th>vote_average</th>\n",
              "      <th>vote_count</th>\n",
              "      <th>year</th>\n",
              "    </tr>\n",
              "  </thead>\n",
              "  <tbody>\n",
              "    <tr>\n",
              "      <th>0</th>\n",
              "      <td>Toy Story</td>\n",
              "      <td>['animation', 'comedy', 'family']</td>\n",
              "      <td>81.0</td>\n",
              "      <td>7.7</td>\n",
              "      <td>5415.0</td>\n",
              "      <td>1995</td>\n",
              "    </tr>\n",
              "    <tr>\n",
              "      <th>1</th>\n",
              "      <td>Jumanji</td>\n",
              "      <td>['adventure', 'fantasy', 'family']</td>\n",
              "      <td>104.0</td>\n",
              "      <td>6.9</td>\n",
              "      <td>2413.0</td>\n",
              "      <td>1995</td>\n",
              "    </tr>\n",
              "    <tr>\n",
              "      <th>2</th>\n",
              "      <td>Grumpier Old Men</td>\n",
              "      <td>['romance', 'comedy']</td>\n",
              "      <td>101.0</td>\n",
              "      <td>6.5</td>\n",
              "      <td>92.0</td>\n",
              "      <td>1995</td>\n",
              "    </tr>\n",
              "    <tr>\n",
              "      <th>3</th>\n",
              "      <td>Waiting to Exhale</td>\n",
              "      <td>['comedy', 'drama', 'romance']</td>\n",
              "      <td>127.0</td>\n",
              "      <td>6.1</td>\n",
              "      <td>34.0</td>\n",
              "      <td>1995</td>\n",
              "    </tr>\n",
              "    <tr>\n",
              "      <th>4</th>\n",
              "      <td>Father of the Bride Part II</td>\n",
              "      <td>['comedy']</td>\n",
              "      <td>106.0</td>\n",
              "      <td>5.7</td>\n",
              "      <td>173.0</td>\n",
              "      <td>1995</td>\n",
              "    </tr>\n",
              "  </tbody>\n",
              "</table>\n",
              "</div>"
            ],
            "text/plain": [
              "                         title  ...  year\n",
              "0                    Toy Story  ...  1995\n",
              "1                      Jumanji  ...  1995\n",
              "2             Grumpier Old Men  ...  1995\n",
              "3            Waiting to Exhale  ...  1995\n",
              "4  Father of the Bride Part II  ...  1995\n",
              "\n",
              "[5 rows x 6 columns]"
            ]
          },
          "metadata": {
            "tags": []
          },
          "execution_count": 2
        }
      ]
    },
    {
      "cell_type": "code",
      "metadata": {
        "id": "9AdTjXIj7Enh",
        "colab_type": "code",
        "colab": {
          "base_uri": "https://localhost:8080/",
          "height": 34
        },
        "outputId": "7eea4bb7-130e-4f24-8980-56d613aa66a7"
      },
      "source": [
        "df.shape"
      ],
      "execution_count": 3,
      "outputs": [
        {
          "output_type": "execute_result",
          "data": {
            "text/plain": [
              "(45466, 6)"
            ]
          },
          "metadata": {
            "tags": []
          },
          "execution_count": 3
        }
      ]
    },
    {
      "cell_type": "code",
      "metadata": {
        "id": "zbe3pVia7SOF",
        "colab_type": "code",
        "colab": {
          "base_uri": "https://localhost:8080/",
          "height": 683
        },
        "outputId": "c8886145-182b-4d1b-e082-03f6c5f1acda"
      },
      "source": [
        "#Import the original file\n",
        "orig_df = pd.read_csv('/content/drive/My Drive/Data/Movie dataset/movies_metadata.csv', low_memory=False)\n",
        "print(orig_df.shape)\n",
        "orig_df.head()"
      ],
      "execution_count": 4,
      "outputs": [
        {
          "output_type": "stream",
          "text": [
            "(45466, 24)\n"
          ],
          "name": "stdout"
        },
        {
          "output_type": "execute_result",
          "data": {
            "text/html": [
              "<div>\n",
              "<style scoped>\n",
              "    .dataframe tbody tr th:only-of-type {\n",
              "        vertical-align: middle;\n",
              "    }\n",
              "\n",
              "    .dataframe tbody tr th {\n",
              "        vertical-align: top;\n",
              "    }\n",
              "\n",
              "    .dataframe thead th {\n",
              "        text-align: right;\n",
              "    }\n",
              "</style>\n",
              "<table border=\"1\" class=\"dataframe\">\n",
              "  <thead>\n",
              "    <tr style=\"text-align: right;\">\n",
              "      <th></th>\n",
              "      <th>adult</th>\n",
              "      <th>belongs_to_collection</th>\n",
              "      <th>budget</th>\n",
              "      <th>genres</th>\n",
              "      <th>homepage</th>\n",
              "      <th>id</th>\n",
              "      <th>imdb_id</th>\n",
              "      <th>original_language</th>\n",
              "      <th>original_title</th>\n",
              "      <th>overview</th>\n",
              "      <th>popularity</th>\n",
              "      <th>poster_path</th>\n",
              "      <th>production_companies</th>\n",
              "      <th>production_countries</th>\n",
              "      <th>release_date</th>\n",
              "      <th>revenue</th>\n",
              "      <th>runtime</th>\n",
              "      <th>spoken_languages</th>\n",
              "      <th>status</th>\n",
              "      <th>tagline</th>\n",
              "      <th>title</th>\n",
              "      <th>video</th>\n",
              "      <th>vote_average</th>\n",
              "      <th>vote_count</th>\n",
              "    </tr>\n",
              "  </thead>\n",
              "  <tbody>\n",
              "    <tr>\n",
              "      <th>0</th>\n",
              "      <td>False</td>\n",
              "      <td>{'id': 10194, 'name': 'Toy Story Collection', ...</td>\n",
              "      <td>30000000</td>\n",
              "      <td>[{'id': 16, 'name': 'Animation'}, {'id': 35, '...</td>\n",
              "      <td>http://toystory.disney.com/toy-story</td>\n",
              "      <td>862</td>\n",
              "      <td>tt0114709</td>\n",
              "      <td>en</td>\n",
              "      <td>Toy Story</td>\n",
              "      <td>Led by Woody, Andy's toys live happily in his ...</td>\n",
              "      <td>21.946943</td>\n",
              "      <td>/rhIRbceoE9lR4veEXuwCC2wARtG.jpg</td>\n",
              "      <td>[{'name': 'Pixar Animation Studios', 'id': 3}]</td>\n",
              "      <td>[{'iso_3166_1': 'US', 'name': 'United States o...</td>\n",
              "      <td>1995-10-30</td>\n",
              "      <td>373554033.0</td>\n",
              "      <td>81.0</td>\n",
              "      <td>[{'iso_639_1': 'en', 'name': 'English'}]</td>\n",
              "      <td>Released</td>\n",
              "      <td>NaN</td>\n",
              "      <td>Toy Story</td>\n",
              "      <td>False</td>\n",
              "      <td>7.7</td>\n",
              "      <td>5415.0</td>\n",
              "    </tr>\n",
              "    <tr>\n",
              "      <th>1</th>\n",
              "      <td>False</td>\n",
              "      <td>NaN</td>\n",
              "      <td>65000000</td>\n",
              "      <td>[{'id': 12, 'name': 'Adventure'}, {'id': 14, '...</td>\n",
              "      <td>NaN</td>\n",
              "      <td>8844</td>\n",
              "      <td>tt0113497</td>\n",
              "      <td>en</td>\n",
              "      <td>Jumanji</td>\n",
              "      <td>When siblings Judy and Peter discover an encha...</td>\n",
              "      <td>17.015539</td>\n",
              "      <td>/vzmL6fP7aPKNKPRTFnZmiUfciyV.jpg</td>\n",
              "      <td>[{'name': 'TriStar Pictures', 'id': 559}, {'na...</td>\n",
              "      <td>[{'iso_3166_1': 'US', 'name': 'United States o...</td>\n",
              "      <td>1995-12-15</td>\n",
              "      <td>262797249.0</td>\n",
              "      <td>104.0</td>\n",
              "      <td>[{'iso_639_1': 'en', 'name': 'English'}, {'iso...</td>\n",
              "      <td>Released</td>\n",
              "      <td>Roll the dice and unleash the excitement!</td>\n",
              "      <td>Jumanji</td>\n",
              "      <td>False</td>\n",
              "      <td>6.9</td>\n",
              "      <td>2413.0</td>\n",
              "    </tr>\n",
              "    <tr>\n",
              "      <th>2</th>\n",
              "      <td>False</td>\n",
              "      <td>{'id': 119050, 'name': 'Grumpy Old Men Collect...</td>\n",
              "      <td>0</td>\n",
              "      <td>[{'id': 10749, 'name': 'Romance'}, {'id': 35, ...</td>\n",
              "      <td>NaN</td>\n",
              "      <td>15602</td>\n",
              "      <td>tt0113228</td>\n",
              "      <td>en</td>\n",
              "      <td>Grumpier Old Men</td>\n",
              "      <td>A family wedding reignites the ancient feud be...</td>\n",
              "      <td>11.7129</td>\n",
              "      <td>/6ksm1sjKMFLbO7UY2i6G1ju9SML.jpg</td>\n",
              "      <td>[{'name': 'Warner Bros.', 'id': 6194}, {'name'...</td>\n",
              "      <td>[{'iso_3166_1': 'US', 'name': 'United States o...</td>\n",
              "      <td>1995-12-22</td>\n",
              "      <td>0.0</td>\n",
              "      <td>101.0</td>\n",
              "      <td>[{'iso_639_1': 'en', 'name': 'English'}]</td>\n",
              "      <td>Released</td>\n",
              "      <td>Still Yelling. Still Fighting. Still Ready for...</td>\n",
              "      <td>Grumpier Old Men</td>\n",
              "      <td>False</td>\n",
              "      <td>6.5</td>\n",
              "      <td>92.0</td>\n",
              "    </tr>\n",
              "    <tr>\n",
              "      <th>3</th>\n",
              "      <td>False</td>\n",
              "      <td>NaN</td>\n",
              "      <td>16000000</td>\n",
              "      <td>[{'id': 35, 'name': 'Comedy'}, {'id': 18, 'nam...</td>\n",
              "      <td>NaN</td>\n",
              "      <td>31357</td>\n",
              "      <td>tt0114885</td>\n",
              "      <td>en</td>\n",
              "      <td>Waiting to Exhale</td>\n",
              "      <td>Cheated on, mistreated and stepped on, the wom...</td>\n",
              "      <td>3.859495</td>\n",
              "      <td>/16XOMpEaLWkrcPqSQqhTmeJuqQl.jpg</td>\n",
              "      <td>[{'name': 'Twentieth Century Fox Film Corporat...</td>\n",
              "      <td>[{'iso_3166_1': 'US', 'name': 'United States o...</td>\n",
              "      <td>1995-12-22</td>\n",
              "      <td>81452156.0</td>\n",
              "      <td>127.0</td>\n",
              "      <td>[{'iso_639_1': 'en', 'name': 'English'}]</td>\n",
              "      <td>Released</td>\n",
              "      <td>Friends are the people who let you be yourself...</td>\n",
              "      <td>Waiting to Exhale</td>\n",
              "      <td>False</td>\n",
              "      <td>6.1</td>\n",
              "      <td>34.0</td>\n",
              "    </tr>\n",
              "    <tr>\n",
              "      <th>4</th>\n",
              "      <td>False</td>\n",
              "      <td>{'id': 96871, 'name': 'Father of the Bride Col...</td>\n",
              "      <td>0</td>\n",
              "      <td>[{'id': 35, 'name': 'Comedy'}]</td>\n",
              "      <td>NaN</td>\n",
              "      <td>11862</td>\n",
              "      <td>tt0113041</td>\n",
              "      <td>en</td>\n",
              "      <td>Father of the Bride Part II</td>\n",
              "      <td>Just when George Banks has recovered from his ...</td>\n",
              "      <td>8.387519</td>\n",
              "      <td>/e64sOI48hQXyru7naBFyssKFxVd.jpg</td>\n",
              "      <td>[{'name': 'Sandollar Productions', 'id': 5842}...</td>\n",
              "      <td>[{'iso_3166_1': 'US', 'name': 'United States o...</td>\n",
              "      <td>1995-02-10</td>\n",
              "      <td>76578911.0</td>\n",
              "      <td>106.0</td>\n",
              "      <td>[{'iso_639_1': 'en', 'name': 'English'}]</td>\n",
              "      <td>Released</td>\n",
              "      <td>Just When His World Is Back To Normal... He's ...</td>\n",
              "      <td>Father of the Bride Part II</td>\n",
              "      <td>False</td>\n",
              "      <td>5.7</td>\n",
              "      <td>173.0</td>\n",
              "    </tr>\n",
              "  </tbody>\n",
              "</table>\n",
              "</div>"
            ],
            "text/plain": [
              "   adult  ... vote_count\n",
              "0  False  ...     5415.0\n",
              "1  False  ...     2413.0\n",
              "2  False  ...       92.0\n",
              "3  False  ...       34.0\n",
              "4  False  ...      173.0\n",
              "\n",
              "[5 rows x 24 columns]"
            ]
          },
          "metadata": {
            "tags": []
          },
          "execution_count": 4
        }
      ]
    },
    {
      "cell_type": "code",
      "metadata": {
        "id": "NtyO8BXwvwHr",
        "colab_type": "code",
        "colab": {
          "base_uri": "https://localhost:8080/",
          "height": 204
        },
        "outputId": "a6d8479a-5348-4490-9411-f3be72b3ea22"
      },
      "source": [
        "#Add the useful features into the cleaned dataframe\n",
        "df['overview'], df['id'] = orig_df['overview'], orig_df['id']\n",
        "df.head()"
      ],
      "execution_count": 5,
      "outputs": [
        {
          "output_type": "execute_result",
          "data": {
            "text/html": [
              "<div>\n",
              "<style scoped>\n",
              "    .dataframe tbody tr th:only-of-type {\n",
              "        vertical-align: middle;\n",
              "    }\n",
              "\n",
              "    .dataframe tbody tr th {\n",
              "        vertical-align: top;\n",
              "    }\n",
              "\n",
              "    .dataframe thead th {\n",
              "        text-align: right;\n",
              "    }\n",
              "</style>\n",
              "<table border=\"1\" class=\"dataframe\">\n",
              "  <thead>\n",
              "    <tr style=\"text-align: right;\">\n",
              "      <th></th>\n",
              "      <th>title</th>\n",
              "      <th>genres</th>\n",
              "      <th>runtime</th>\n",
              "      <th>vote_average</th>\n",
              "      <th>vote_count</th>\n",
              "      <th>year</th>\n",
              "      <th>overview</th>\n",
              "      <th>id</th>\n",
              "    </tr>\n",
              "  </thead>\n",
              "  <tbody>\n",
              "    <tr>\n",
              "      <th>0</th>\n",
              "      <td>Toy Story</td>\n",
              "      <td>['animation', 'comedy', 'family']</td>\n",
              "      <td>81.0</td>\n",
              "      <td>7.7</td>\n",
              "      <td>5415.0</td>\n",
              "      <td>1995</td>\n",
              "      <td>Led by Woody, Andy's toys live happily in his ...</td>\n",
              "      <td>862</td>\n",
              "    </tr>\n",
              "    <tr>\n",
              "      <th>1</th>\n",
              "      <td>Jumanji</td>\n",
              "      <td>['adventure', 'fantasy', 'family']</td>\n",
              "      <td>104.0</td>\n",
              "      <td>6.9</td>\n",
              "      <td>2413.0</td>\n",
              "      <td>1995</td>\n",
              "      <td>When siblings Judy and Peter discover an encha...</td>\n",
              "      <td>8844</td>\n",
              "    </tr>\n",
              "    <tr>\n",
              "      <th>2</th>\n",
              "      <td>Grumpier Old Men</td>\n",
              "      <td>['romance', 'comedy']</td>\n",
              "      <td>101.0</td>\n",
              "      <td>6.5</td>\n",
              "      <td>92.0</td>\n",
              "      <td>1995</td>\n",
              "      <td>A family wedding reignites the ancient feud be...</td>\n",
              "      <td>15602</td>\n",
              "    </tr>\n",
              "    <tr>\n",
              "      <th>3</th>\n",
              "      <td>Waiting to Exhale</td>\n",
              "      <td>['comedy', 'drama', 'romance']</td>\n",
              "      <td>127.0</td>\n",
              "      <td>6.1</td>\n",
              "      <td>34.0</td>\n",
              "      <td>1995</td>\n",
              "      <td>Cheated on, mistreated and stepped on, the wom...</td>\n",
              "      <td>31357</td>\n",
              "    </tr>\n",
              "    <tr>\n",
              "      <th>4</th>\n",
              "      <td>Father of the Bride Part II</td>\n",
              "      <td>['comedy']</td>\n",
              "      <td>106.0</td>\n",
              "      <td>5.7</td>\n",
              "      <td>173.0</td>\n",
              "      <td>1995</td>\n",
              "      <td>Just when George Banks has recovered from his ...</td>\n",
              "      <td>11862</td>\n",
              "    </tr>\n",
              "  </tbody>\n",
              "</table>\n",
              "</div>"
            ],
            "text/plain": [
              "                         title  ...     id\n",
              "0                    Toy Story  ...    862\n",
              "1                      Jumanji  ...   8844\n",
              "2             Grumpier Old Men  ...  15602\n",
              "3            Waiting to Exhale  ...  31357\n",
              "4  Father of the Bride Part II  ...  11862\n",
              "\n",
              "[5 rows x 8 columns]"
            ]
          },
          "metadata": {
            "tags": []
          },
          "execution_count": 5
        }
      ]
    },
    {
      "cell_type": "code",
      "metadata": {
        "id": "1JIafugmvwHu",
        "colab_type": "code",
        "colab": {
          "base_uri": "https://localhost:8080/",
          "height": 34
        },
        "outputId": "e5073e32-0bec-4323-98db-86f87f1018d6"
      },
      "source": [
        "#Replace NaN with an empty string\n",
        "df['overview'] = df['overview'].fillna('')\n",
        "print(df.shape) # Nen giam xuong con 9000 thoi thi ok"
      ],
      "execution_count": 6,
      "outputs": [
        {
          "output_type": "stream",
          "text": [
            "(45466, 8)\n"
          ],
          "name": "stdout"
        }
      ]
    },
    {
      "cell_type": "markdown",
      "metadata": {
        "id": "WWPqK0WnKqu4",
        "colab_type": "text"
      },
      "source": [
        "## DNN giam dữ liệu movie xuống còn 9000 phim ngẫu nhie6n"
      ]
    },
    {
      "cell_type": "code",
      "metadata": {
        "id": "r9aB7K5yS7gB",
        "colab_type": "code",
        "colab": {
          "base_uri": "https://localhost:8080/",
          "height": 34
        },
        "outputId": "0a590160-7023-4a79-ad59-3fa477d8ce83"
      },
      "source": [
        "df=df.sample(frac=0.2,replace=False, random_state=1) #20% sample of the dataframe with replacement\n",
        "df.shape"
      ],
      "execution_count": 7,
      "outputs": [
        {
          "output_type": "execute_result",
          "data": {
            "text/plain": [
              "(9093, 8)"
            ]
          },
          "metadata": {
            "tags": []
          },
          "execution_count": 7
        }
      ]
    },
    {
      "cell_type": "code",
      "metadata": {
        "id": "fNTV2BBSVkU_",
        "colab_type": "code",
        "colab": {}
      },
      "source": [
        "df.reset_index(drop=True,inplace=True)"
      ],
      "execution_count": 8,
      "outputs": []
    },
    {
      "cell_type": "code",
      "metadata": {
        "id": "1L38jXiPV-SY",
        "colab_type": "code",
        "colab": {
          "base_uri": "https://localhost:8080/",
          "height": 204
        },
        "outputId": "3a49441b-6f42-4dbd-e9c3-7b33f91e4514"
      },
      "source": [
        "df.head()"
      ],
      "execution_count": 9,
      "outputs": [
        {
          "output_type": "execute_result",
          "data": {
            "text/html": [
              "<div>\n",
              "<style scoped>\n",
              "    .dataframe tbody tr th:only-of-type {\n",
              "        vertical-align: middle;\n",
              "    }\n",
              "\n",
              "    .dataframe tbody tr th {\n",
              "        vertical-align: top;\n",
              "    }\n",
              "\n",
              "    .dataframe thead th {\n",
              "        text-align: right;\n",
              "    }\n",
              "</style>\n",
              "<table border=\"1\" class=\"dataframe\">\n",
              "  <thead>\n",
              "    <tr style=\"text-align: right;\">\n",
              "      <th></th>\n",
              "      <th>title</th>\n",
              "      <th>genres</th>\n",
              "      <th>runtime</th>\n",
              "      <th>vote_average</th>\n",
              "      <th>vote_count</th>\n",
              "      <th>year</th>\n",
              "      <th>overview</th>\n",
              "      <th>id</th>\n",
              "    </tr>\n",
              "  </thead>\n",
              "  <tbody>\n",
              "    <tr>\n",
              "      <th>0</th>\n",
              "      <td>The New Comics</td>\n",
              "      <td>['comedy']</td>\n",
              "      <td>102.0</td>\n",
              "      <td>5.0</td>\n",
              "      <td>32.0</td>\n",
              "      <td>1994</td>\n",
              "      <td>A few funny little novels about different aspe...</td>\n",
              "      <td>43649</td>\n",
              "    </tr>\n",
              "    <tr>\n",
              "      <th>1</th>\n",
              "      <td>China Girl</td>\n",
              "      <td>['romance', 'crime', 'drama']</td>\n",
              "      <td>90.0</td>\n",
              "      <td>6.6</td>\n",
              "      <td>8.0</td>\n",
              "      <td>1987</td>\n",
              "      <td>Teenage lovers Tony (Richard Panebianco) and T...</td>\n",
              "      <td>47212</td>\n",
              "    </tr>\n",
              "    <tr>\n",
              "      <th>2</th>\n",
              "      <td>Snow Shark: Ancient Snow Beast</td>\n",
              "      <td>['science fiction', 'horror']</td>\n",
              "      <td>80.0</td>\n",
              "      <td>4.0</td>\n",
              "      <td>2.0</td>\n",
              "      <td>2011</td>\n",
              "      <td>12 years ago during a scientific expedition 3 ...</td>\n",
              "      <td>133953</td>\n",
              "    </tr>\n",
              "    <tr>\n",
              "      <th>3</th>\n",
              "      <td>Penny Serenade</td>\n",
              "      <td>['drama', 'romance']</td>\n",
              "      <td>119.0</td>\n",
              "      <td>6.4</td>\n",
              "      <td>23.0</td>\n",
              "      <td>1941</td>\n",
              "      <td>A light-hearted romantic drama starring Cary G...</td>\n",
              "      <td>43795</td>\n",
              "    </tr>\n",
              "    <tr>\n",
              "      <th>4</th>\n",
              "      <td>Iron And Silk</td>\n",
              "      <td>['drama', 'comedy']</td>\n",
              "      <td>92.0</td>\n",
              "      <td>6.0</td>\n",
              "      <td>1.0</td>\n",
              "      <td>1991</td>\n",
              "      <td>Iron and Silk is a 1990 movie based on the epo...</td>\n",
              "      <td>23981</td>\n",
              "    </tr>\n",
              "  </tbody>\n",
              "</table>\n",
              "</div>"
            ],
            "text/plain": [
              "                            title  ...      id\n",
              "0                  The New Comics  ...   43649\n",
              "1                      China Girl  ...   47212\n",
              "2  Snow Shark: Ancient Snow Beast  ...  133953\n",
              "3                  Penny Serenade  ...   43795\n",
              "4                   Iron And Silk  ...   23981\n",
              "\n",
              "[5 rows x 8 columns]"
            ]
          },
          "metadata": {
            "tags": []
          },
          "execution_count": 9
        }
      ]
    },
    {
      "cell_type": "code",
      "metadata": {
        "id": "9FeGeJJLKdIj",
        "colab_type": "code",
        "colab": {
          "base_uri": "https://localhost:8080/",
          "height": 34
        },
        "outputId": "291a0501-a8eb-456f-d00a-31b394c7890b"
      },
      "source": [
        "#Import TfIdfVectorizer from the scikit-learn library\n",
        "from sklearn.feature_extraction.text import TfidfVectorizer\n",
        "\n",
        "#Define a TF-IDF Vectorizer Object. Remove all english stopwords\n",
        "tfidf = TfidfVectorizer(stop_words='english',#max_features=20000\n",
        "                        )\n",
        "#Construct the required TF-IDF matrix by applying the fit_transform method on the overview feature\n",
        "tfidf_matrix = tfidf.fit_transform(df['overview'])\n",
        "\n",
        "#Output the shape of tfidf_matrix\n",
        "tfidf_matrix.shape"
      ],
      "execution_count": 10,
      "outputs": [
        {
          "output_type": "execute_result",
          "data": {
            "text/plain": [
              "(9093, 33389)"
            ]
          },
          "metadata": {
            "tags": []
          },
          "execution_count": 10
        }
      ]
    },
    {
      "cell_type": "code",
      "metadata": {
        "id": "EWqSUpX8T8RY",
        "colab_type": "code",
        "colab": {
          "base_uri": "https://localhost:8080/",
          "height": 136
        },
        "outputId": "ea5445ee-61ed-4831-8080-8255ab4ed99e"
      },
      "source": [
        "tfidf_matrix.toarray()"
      ],
      "execution_count": 11,
      "outputs": [
        {
          "output_type": "execute_result",
          "data": {
            "text/plain": [
              "array([[0., 0., 0., ..., 0., 0., 0.],\n",
              "       [0., 0., 0., ..., 0., 0., 0.],\n",
              "       [0., 0., 0., ..., 0., 0., 0.],\n",
              "       ...,\n",
              "       [0., 0., 0., ..., 0., 0., 0.],\n",
              "       [0., 0., 0., ..., 0., 0., 0.],\n",
              "       [0., 0., 0., ..., 0., 0., 0.]])"
            ]
          },
          "metadata": {
            "tags": []
          },
          "execution_count": 11
        }
      ]
    },
    {
      "cell_type": "code",
      "metadata": {
        "id": "kvSDj9RovwH0",
        "colab_type": "code",
        "colab": {}
      },
      "source": [
        "# Import linear_kernel to compute the dot product\n",
        "from sklearn.metrics.pairwise import linear_kernel\n",
        "\n",
        "# Compute the cosine similarity matrix\n",
        "cosine_sim = linear_kernel(tfidf_matrix, tfidf_matrix)"
      ],
      "execution_count": 12,
      "outputs": []
    },
    {
      "cell_type": "code",
      "metadata": {
        "id": "yQwXi_RiT6t6",
        "colab_type": "code",
        "colab": {
          "base_uri": "https://localhost:8080/",
          "height": 255
        },
        "outputId": "002ff7d6-eac1-46cc-c734-1b6735271f74"
      },
      "source": [
        "print(cosine_sim.shape)\n",
        "cosine_sim"
      ],
      "execution_count": 13,
      "outputs": [
        {
          "output_type": "stream",
          "text": [
            "(9093, 9093)\n"
          ],
          "name": "stdout"
        },
        {
          "output_type": "execute_result",
          "data": {
            "text/plain": [
              "array([[1.        , 0.04780398, 0.        , ..., 0.01707626, 0.        ,\n",
              "        0.01670676],\n",
              "       [0.04780398, 1.        , 0.        , ..., 0.        , 0.        ,\n",
              "        0.        ],\n",
              "       [0.        , 0.        , 1.        , ..., 0.        , 0.        ,\n",
              "        0.        ],\n",
              "       ...,\n",
              "       [0.01707626, 0.        , 0.        , ..., 1.        , 0.        ,\n",
              "        0.03152166],\n",
              "       [0.        , 0.        , 0.        , ..., 0.        , 1.        ,\n",
              "        0.        ],\n",
              "       [0.01670676, 0.        , 0.        , ..., 0.03152166, 0.        ,\n",
              "        1.        ]])"
            ]
          },
          "metadata": {
            "tags": []
          },
          "execution_count": 13
        }
      ]
    },
    {
      "cell_type": "code",
      "metadata": {
        "id": "NuP8zGUlvwH3",
        "colab_type": "code",
        "colab": {}
      },
      "source": [
        "#Construct a reverse mapping of indices and movie titles, and drop duplicate titles, if any\n",
        "indices = pd.Series(df.index, index=df['title']).drop_duplicates()"
      ],
      "execution_count": 14,
      "outputs": []
    },
    {
      "cell_type": "code",
      "metadata": {
        "id": "88Vh2kd3T_5z",
        "colab_type": "code",
        "colab": {
          "base_uri": "https://localhost:8080/",
          "height": 238
        },
        "outputId": "ef4dfb59-2302-4544-bb0e-70720e60f0d6"
      },
      "source": [
        "indices"
      ],
      "execution_count": 15,
      "outputs": [
        {
          "output_type": "execute_result",
          "data": {
            "text/plain": [
              "title\n",
              "The New Comics                       0\n",
              "China Girl                           1\n",
              "Snow Shark: Ancient Snow Beast       2\n",
              "Penny Serenade                       3\n",
              "Iron And Silk                        4\n",
              "                                  ... \n",
              "All That Heaven Allows            9088\n",
              "Revenge                           9089\n",
              "Badmaash Company                  9090\n",
              "The Best of Everything            9091\n",
              "The Gambler                       9092\n",
              "Length: 9093, dtype: int64"
            ]
          },
          "metadata": {
            "tags": []
          },
          "execution_count": 15
        }
      ]
    },
    {
      "cell_type": "code",
      "metadata": {
        "id": "VyIOvMf-vwH5",
        "colab_type": "code",
        "colab": {}
      },
      "source": [
        "# Function that takes in movie title as input and gives recommendations \n",
        "def content_recommender(title, cosine_sim=cosine_sim, df=df, indices=indices):\n",
        "    # Obtain the index of the movie that matches the title\n",
        "    idx = indices[title]\n",
        "\n",
        "    # Get the pairwsie similarity scores of all movies with that movie\n",
        "    # And convert it into a list of tuples as described above\n",
        "    sim_scores = list(enumerate(cosine_sim[idx]))\n",
        "\n",
        "    # Sort the movies based on the cosine similarity scores\n",
        "    sim_scores = sorted(sim_scores, key=lambda x: x[1], reverse=True)\n",
        "\n",
        "    # Get the scores of the 10 most similar movies. Ignore the first movie.\n",
        "    sim_scores = sim_scores[1:11]\n",
        "\n",
        "    # Get the movie indices\n",
        "    movie_indices = [i[0] for i in sim_scores]\n",
        "\n",
        "    # Return the top 10 most similar movies\n",
        "    return df['title'].iloc[movie_indices]"
      ],
      "execution_count": 16,
      "outputs": []
    },
    {
      "cell_type": "code",
      "metadata": {
        "id": "OZlVHZxIUYFO",
        "colab_type": "code",
        "colab": {
          "base_uri": "https://localhost:8080/",
          "height": 204
        },
        "outputId": "ad34ddc6-252a-422e-dfce-758281b9b95c"
      },
      "source": [
        "content_recommender('Penny Serenade')"
      ],
      "execution_count": 17,
      "outputs": [
        {
          "output_type": "execute_result",
          "data": {
            "text/plain": [
              "6151                      Parineeta\n",
              "2621                        Ventoux\n",
              "1098       History Is Made at Night\n",
              "4620              Friends with Kids\n",
              "7898            Becoming Cary Grant\n",
              "1489               To Catch a Thief\n",
              "8225    Joe Dirt 2: Beautiful Loser\n",
              "6037                       Daylight\n",
              "4414                 Love Forbidden\n",
              "1925        Night Across the Street\n",
              "Name: title, dtype: object"
            ]
          },
          "metadata": {
            "tags": []
          },
          "execution_count": 17
        }
      ]
    },
    {
      "cell_type": "code",
      "metadata": {
        "id": "taA-gVMxUjU1",
        "colab_type": "code",
        "colab": {
          "base_uri": "https://localhost:8080/",
          "height": 299
        },
        "outputId": "78463f7d-71eb-4cc1-d1b0-93e17d6c86ae"
      },
      "source": [
        "content_recommender('Revenge')"
      ],
      "execution_count": 18,
      "outputs": [
        {
          "output_type": "error",
          "ename": "ValueError",
          "evalue": "ignored",
          "traceback": [
            "\u001b[0;31m---------------------------------------------------------------------------\u001b[0m",
            "\u001b[0;31mValueError\u001b[0m                                Traceback (most recent call last)",
            "\u001b[0;32m<ipython-input-18-9afaca41b67c>\u001b[0m in \u001b[0;36m<module>\u001b[0;34m()\u001b[0m\n\u001b[0;32m----> 1\u001b[0;31m \u001b[0mcontent_recommender\u001b[0m\u001b[0;34m(\u001b[0m\u001b[0;34m'Revenge'\u001b[0m\u001b[0;34m)\u001b[0m\u001b[0;34m\u001b[0m\u001b[0;34m\u001b[0m\u001b[0m\n\u001b[0m",
            "\u001b[0;32m<ipython-input-16-200443956b8e>\u001b[0m in \u001b[0;36mcontent_recommender\u001b[0;34m(title, cosine_sim, df, indices)\u001b[0m\n\u001b[1;32m      9\u001b[0m \u001b[0;34m\u001b[0m\u001b[0m\n\u001b[1;32m     10\u001b[0m     \u001b[0;31m# Sort the movies based on the cosine similarity scores\u001b[0m\u001b[0;34m\u001b[0m\u001b[0;34m\u001b[0m\u001b[0;34m\u001b[0m\u001b[0m\n\u001b[0;32m---> 11\u001b[0;31m     \u001b[0msim_scores\u001b[0m \u001b[0;34m=\u001b[0m \u001b[0msorted\u001b[0m\u001b[0;34m(\u001b[0m\u001b[0msim_scores\u001b[0m\u001b[0;34m,\u001b[0m \u001b[0mkey\u001b[0m\u001b[0;34m=\u001b[0m\u001b[0;32mlambda\u001b[0m \u001b[0mx\u001b[0m\u001b[0;34m:\u001b[0m \u001b[0mx\u001b[0m\u001b[0;34m[\u001b[0m\u001b[0;36m1\u001b[0m\u001b[0;34m]\u001b[0m\u001b[0;34m,\u001b[0m \u001b[0mreverse\u001b[0m\u001b[0;34m=\u001b[0m\u001b[0;32mTrue\u001b[0m\u001b[0;34m)\u001b[0m\u001b[0;34m\u001b[0m\u001b[0;34m\u001b[0m\u001b[0m\n\u001b[0m\u001b[1;32m     12\u001b[0m \u001b[0;34m\u001b[0m\u001b[0m\n\u001b[1;32m     13\u001b[0m     \u001b[0;31m# Get the scores of the 10 most similar movies. Ignore the first movie.\u001b[0m\u001b[0;34m\u001b[0m\u001b[0;34m\u001b[0m\u001b[0;34m\u001b[0m\u001b[0m\n",
            "\u001b[0;31mValueError\u001b[0m: The truth value of an array with more than one element is ambiguous. Use a.any() or a.all()"
          ]
        }
      ]
    },
    {
      "cell_type": "markdown",
      "metadata": {
        "id": "Kay9VxyG_ndZ",
        "colab_type": "text"
      },
      "source": [
        "### Explain"
      ]
    },
    {
      "cell_type": "code",
      "metadata": {
        "id": "W9sDDPcoWIDR",
        "colab_type": "code",
        "colab": {
          "base_uri": "https://localhost:8080/",
          "height": 411
        },
        "outputId": "a9cde95a-6b75-4c67-92d4-d5ce49c18fb6"
      },
      "source": [
        "title='Penny Serenade'\n",
        "cosine_sim=cosine_sim\n",
        "df=df \n",
        "indices=indices\n",
        "\n",
        "# Obtain the index of the movie that matches the title\n",
        "idx = indices[title]\n",
        "print('idx: ',idx)\n",
        "\n",
        "# Get the pairwsie similarity scores of all movies with that movie\n",
        "# And convert it into a list of tuples as described above\n",
        "sim_scores = list(enumerate(cosine_sim[idx]))\n",
        "print('sim_scores:\\n ',sim_scores)\n",
        "print('len',len(sim_scores))\n",
        "# Sort the movies based on the cosine similarity scores\n",
        "sim_scores = sorted(sim_scores, key=lambda x: x[1], reverse=True)\n",
        "print('sim_scores sort \\n',sim_scores)\n",
        "\n",
        "\n",
        "# Get the scores of the 10 most similar movies. Ignore the first movie.\n",
        "sim_scores = sim_scores[1:11]\n",
        "print('sim_scores top 10: \\n ',sim_scores)\n",
        "\n",
        "# Get the movie indices\n",
        "movie_indices = [i[0] for i in sim_scores]\n",
        "print('movie_indices: \\n',movie_indices)\n",
        "\n",
        "# Return the top 10 most similar movies\n",
        "print('Return the top 10 most similar movies\\n',df['title'].iloc[movie_indices])"
      ],
      "execution_count": 46,
      "outputs": [
        {
          "output_type": "stream",
          "text": [
            "idx:  3\n",
            "sim_scores:\n",
            "  [(0, 0.0), (1, 0.0), (2, 0.018554928414103947), (3, 1.0000000000000007), (4, 0.0), (5, 0.0), (6, 0.0), (7, 0.0), (8, 0.0), (9, 0.024324991730639713), (10, 0.014101646979091212), (11, 0.0), (12, 0.0), (13, 0.011607446409780418), (14, 0.0), (15, 0.013648738210374656), (16, 0.0), (17, 0.0), (18, 0.0), (19, 0.0), (20, 0.0), (21, 0.0), (22, 0.0), (23, 0.02878972376834309), (24, 0.0), (25, 0.0), (26, 0.0), (27, 0.0), (28, 0.03182100836766543), (29, 0.0), (30, 0.0097150900272977), (31, 0.00879626727363354), (32, 0.0), (33, 0.0), (34, 0.02903172641027662), (35, 0.0), (36, 0.0), (37, 0.01410655021446854), (38, 0.015317364309299097), (39, 0.014368717359950468), (40, 0.0), (41, 0.0), (42, 0.0), (43, 0.0), (44, 0.0), (45, 0.0), (46, 0.0), (47, 0.020206699238045325), (48, 0.010790931264715017), (49, 0.0), (50, 0.0), (51, 0.0), (52, 0.0), (53, 0.0), (54, 0.0), (55, 0.0), (56, 0.0), (57, 0.012673174956924963), (58, 0.0), (59, 0.005340698812081219), (60, 0.007532431473453978), (61, 0.028877355734018645), (62, 0.0), (63, 0.018814646365409), (64, 0.0), (65, 0.01401226519116618), (66, 0.0), (67, 0.0), (68, 0.029108926058636655), (69, 0.0), (70, 0.0), (71, 0.0), (72, 0.036000062363759334), (73, 0.0), (74, 0.0), (75, 0.010587885219509327), (76, 0.0057262174424787616), (77, 0.0), (78, 0.0), (79, 0.03312512565612471), (80, 0.0), (81, 0.0067836250133323445), (82, 0.0), (83, 0.0094392090702038), (84, 0.0), (85, 0.0), (86, 0.024414780820401938), (87, 0.0036677569705874046), (88, 0.0), (89, 0.00905694625512141), (90, 0.0), (91, 0.009455620144941598), (92, 0.011038652048874357), (93, 0.0), (94, 0.0), (95, 0.0), (96, 0.006171122355338427), (97, 0.0), (98, 0.00440958907877898), (99, 0.01637224687260899), (100, 0.0), (101, 0.0), (102, 0.011317355373717803), (103, 0.011203099767827332), (104, 0.0), (105, 0.007691788374732123), (106, 0.0), (107, 0.0), (108, 0.0), (109, 0.0), (110, 0.0), (111, 0.0), (112, 0.0), (113, 0.0), (114, 0.0), (115, 0.02184349149519017), (116, 0.0), (117, 0.0), (118, 0.0), (119, 0.004911864306575886), (120, 0.0), (121, 0.012012090357933249), (122, 0.014048498927056962), (123, 0.0), (124, 0.0), (125, 0.0), (126, 0.0), (127, 0.0), (128, 0.0), (129, 0.0), (130, 0.011683313363953158), (131, 0.0), (132, 0.0), (133, 0.0191672509227348), (134, 0.0), (135, 0.0), (136, 0.0), (137, 0.0), (138, 0.04183406646299401), (139, 0.0), (140, 0.03049622928094714), (141, 0.0), (142, 0.011220228830661334), (143, 0.00890289820433253), (144, 0.03770811481269683), (145, 0.012917204468120998), (146, 0.0), (147, 0.0), (148, 0.0), (149, 0.0), (150, 0.007169629035967923), (151, 0.0), (152, 0.0052149430729870605), (153, 0.0), (154, 0.0), (155, 0.028580363694004865), (156, 0.0), (157, 0.0), (158, 0.0), (159, 0.020432576013051634), (160, 0.0), (161, 0.0), (162, 0.0), (163, 0.0), (164, 0.0038886180497220988), (165, 0.009982510172964048), (166, 0.0), (167, 0.0), (168, 0.0), (169, 0.01070756153712712), (170, 0.027247645427782484), (171, 0.0), (172, 0.008474401345610566), (173, 0.0), (174, 0.0), (175, 0.0), (176, 0.0), (177, 0.03229007638241607), (178, 0.0), (179, 0.0), (180, 0.0), (181, 0.010998555911939205), (182, 0.0), (183, 0.0), (184, 0.0), (185, 0.0), (186, 0.0063079958209774365), (187, 0.03261818490969257), (188, 0.0), (189, 0.0), (190, 0.0), (191, 0.012985683062012596), (192, 0.0), (193, 0.0), (194, 0.009886058182929472), (195, 0.01617993503165132), (196, 0.0), (197, 0.0), (198, 0.0), (199, 0.0), (200, 0.0), (201, 0.006321314857551645), (202, 0.0), (203, 0.007453444431306547), (204, 0.0), (205, 0.028036206056461056), (206, 0.0), (207, 0.0), (208, 0.0072503130671477505), (209, 0.0), (210, 0.01256297881100357), (211, 0.0), (212, 0.0), (213, 0.004515957014248578), (214, 0.0), (215, 0.0), (216, 0.0), (217, 0.0), (218, 0.0), (219, 0.0), (220, 0.0), (221, 0.02068673209942959), (222, 0.01972073002858177), (223, 0.0), (224, 0.0), (225, 0.005229528517099642), (226, 0.0), (227, 0.0), (228, 0.0), (229, 0.021360653392852882), (230, 0.0), (231, 0.025652408724507525), (232, 0.0), (233, 0.0), (234, 0.020844401553580954), (235, 0.0), (236, 0.0), (237, 0.0), (238, 0.0), (239, 0.018588661900177692), (240, 0.0), (241, 0.0), (242, 0.0), (243, 0.0), (244, 0.047881393529849846), (245, 0.015013700532291804), (246, 0.022045962000436483), (247, 0.004710960777600519), (248, 0.0), (249, 0.0), (250, 0.0), (251, 0.016761838909829893), (252, 0.0), (253, 0.0), (254, 0.0), (255, 0.02207905757442485), (256, 0.0), (257, 0.0), (258, 0.0), (259, 0.0), (260, 0.011953836220652474), (261, 0.0), (262, 0.009106382279072067), (263, 0.0), (264, 0.033809554147533706), (265, 0.0), (266, 0.0), (267, 0.0), (268, 0.006086729426060938), (269, 0.0), (270, 0.0), (271, 0.022197572703551997), (272, 0.012347092559343615), (273, 0.0), (274, 0.023895269760589376), (275, 0.0), (276, 0.0), (277, 0.0), (278, 0.0), (279, 0.0), (280, 0.0), (281, 0.0), (282, 0.0), (283, 0.031759497824116086), (284, 0.01519373291098948), (285, 0.0), (286, 0.0), (287, 0.0), (288, 0.0), (289, 0.0), (290, 0.01035621721008095), (291, 0.013643236431322606), (292, 0.00901589511975734), (293, 0.0), (294, 0.0), (295, 0.007598119647776259), (296, 0.0), (297, 0.010009882655449345), (298, 0.0), (299, 0.0), (300, 0.018306028358195444), (301, 0.02585125056780952), (302, 0.0), (303, 0.0), (304, 0.0), (305, 0.0), (306, 0.0), (307, 0.0), (308, 0.0254358501996179), (309, 0.0), (310, 0.00371086728431939), (311, 0.0), (312, 0.01067859133592033), (313, 0.0), (314, 0.035155856140715785), (315, 0.014110744506810229), (316, 0.01212622825533153), (317, 0.02161115058250896), (318, 0.0), (319, 0.0), (320, 0.0), (321, 0.007665054705829644), (322, 0.013131909092368324), (323, 0.01091176237777969), (324, 0.0), (325, 0.0), (326, 0.0), (327, 0.0), (328, 0.0), (329, 0.04189397751255529), (330, 0.012390666314985631), (331, 0.0), (332, 0.005145434000585563), (333, 0.0), (334, 0.0), (335, 0.0), (336, 0.0), (337, 0.0), (338, 0.010416389708862986), (339, 0.0), (340, 0.0), (341, 0.0), (342, 0.055258593783100315), (343, 0.0), (344, 0.0), (345, 0.0), (346, 0.0), (347, 0.0), (348, 0.0), (349, 0.0), (350, 0.0), (351, 0.011558589468819706), (352, 0.0), (353, 0.0), (354, 0.0), (355, 0.01673061777498843), (356, 0.0), (357, 0.0), (358, 0.0), (359, 0.0), (360, 0.0), (361, 0.0), (362, 0.0), (363, 0.0), (364, 0.0), (365, 0.007061862472290345), (366, 0.0), (367, 0.0), (368, 0.0), (369, 0.0), (370, 0.021652146039814732), (371, 0.0), (372, 0.006875900505968807), (373, 0.013351323487407621), (374, 0.0), (375, 0.0), (376, 0.0), (377, 0.0), (378, 0.0), (379, 0.057786082705585246), (380, 0.0), (381, 0.0), (382, 0.0), (383, 0.0), (384, 0.006374442551620404), (385, 0.0), (386, 0.0), (387, 0.00793925370541954), (388, 0.0), (389, 0.012259954049291668), (390, 0.007352747422805407), (391, 0.0), (392, 0.0), (393, 0.0), (394, 0.0), (395, 0.0), (396, 0.0), (397, 0.033132619740835575), (398, 0.009158811094808953), (399, 0.0), (400, 0.0), (401, 0.01721672816669778), (402, 0.011071441015774387), (403, 0.0), (404, 0.0), (405, 0.0), (406, 0.0), (407, 0.0), (408, 0.015391997125679818), (409, 0.0), (410, 0.011600085115633532), (411, 0.0), (412, 0.0), (413, 0.0), (414, 0.0), (415, 0.0), (416, 0.0), (417, 0.0), (418, 0.0), (419, 0.0), (420, 0.01404489535289068), (421, 0.0), (422, 0.004833795389926398), (423, 0.0), (424, 0.007836798503205187), (425, 0.0), (426, 0.0), (427, 0.0), (428, 0.0), (429, 0.011354409421857678), (430, 0.030084374285393137), (431, 0.0), (432, 0.0), (433, 0.0), (434, 0.0), (435, 0.022210382719134975), (436, 0.0), (437, 0.0), (438, 0.025107189339258866), (439, 0.017162036926443313), (440, 0.004124124225144908), (441, 0.0), (442, 0.020641152702537), (443, 0.02178155740291666), (444, 0.0), (445, 0.015850681460412314), (446, 0.0), (447, 0.0), (448, 0.0), (449, 0.004478768019189291), (450, 0.0), (451, 0.0), (452, 0.0), (453, 0.004199767804616931), (454, 0.00445211001112324), (455, 0.0), (456, 0.013442255583567967), (457, 0.0019141738552198046), (458, 0.0), (459, 0.021829670248905596), (460, 0.0), (461, 0.0), (462, 0.004993848535946209), (463, 0.0), (464, 0.012617930202158609), (465, 0.0), (466, 0.05083782189389072), (467, 0.0), (468, 0.0), (469, 0.0), (470, 0.0), (471, 0.0), (472, 0.0), (473, 0.0), (474, 0.013142139870543575), (475, 0.02138683463641232), (476, 0.01182213806455071), (477, 0.0), (478, 0.0), (479, 0.014407052135453636), (480, 0.0), (481, 0.0), (482, 0.010228280603793148), (483, 0.0), (484, 0.0), (485, 0.01446733569795685), (486, 0.0), (487, 0.0), (488, 0.0), (489, 0.0), (490, 0.008919954243041546), (491, 0.0), (492, 0.0), (493, 0.0), (494, 0.012221058012359816), (495, 0.0), (496, 0.0), (497, 0.0), (498, 0.041340425063157875), (499, 0.0), (500, 0.0023521198143447546), (501, 0.0), (502, 0.0), (503, 0.0), (504, 0.0), (505, 0.0), (506, 0.06808131492364428), (507, 0.013554727481237698), (508, 0.018950159780941705), (509, 0.0), (510, 0.0), (511, 0.004714071118178971), (512, 0.0), (513, 0.0), (514, 0.0), (515, 0.0), (516, 0.0), (517, 0.0), (518, 0.0), (519, 0.038948703073770644), (520, 0.021099697233960206), (521, 0.018090000419774786), (522, 0.0), (523, 0.0), (524, 0.018588005307542278), (525, 0.0), (526, 0.017226917895743283), (527, 0.012351152073941997), (528, 0.0), (529, 0.0), (530, 0.01667956821867838), (531, 0.0), (532, 0.0), (533, 0.008243727850835434), (534, 0.0), (535, 0.0), (536, 0.0), (537, 0.007056766232495765), (538, 0.0), (539, 0.006462760641883062), (540, 0.026665994278252243), (541, 0.0), (542, 0.0), (543, 0.0), (544, 0.0), (545, 0.0), (546, 0.0), (547, 0.0), (548, 0.0), (549, 0.0), (550, 0.0), (551, 0.0325066264740173), (552, 0.018349953114886585), (553, 0.018472496547693503), (554, 0.0), (555, 0.029497473044332173), (556, 0.014505304552433523), (557, 0.008617157579759373), (558, 0.0), (559, 0.0), (560, 0.0), (561, 0.012220789116580054), (562, 0.0), (563, 0.02026814371751053), (564, 0.0), (565, 0.0), (566, 0.0), (567, 0.0), (568, 0.0), (569, 0.0), (570, 0.0), (571, 0.01402656824345289), (572, 0.0), (573, 0.018669188108722253), (574, 0.0), (575, 0.004485420029653843), (576, 0.011503428050683771), (577, 0.06899752049003915), (578, 0.011206280034686718), (579, 0.0), (580, 0.0), (581, 0.0), (582, 0.0), (583, 0.06737600021654179), (584, 0.0), (585, 0.0), (586, 0.00979762271607446), (587, 0.03458864398763096), (588, 0.0), (589, 0.0), (590, 0.0), (591, 0.0), (592, 0.017534074928397578), (593, 0.0), (594, 0.0631054430007632), (595, 0.023869049094463777), (596, 0.0443636369787822), (597, 0.0), (598, 0.0), (599, 0.0), (600, 0.01145950844077807), (601, 0.00566807174269427), (602, 0.008908916477906027), (603, 0.0), (604, 0.0), (605, 0.0), (606, 0.0031030249825452607), (607, 0.0), (608, 0.0), (609, 0.0), (610, 0.007921678936901155), (611, 0.0), (612, 0.0), (613, 0.012692328039770679), (614, 0.009947392192807021), (615, 0.0), (616, 0.0), (617, 0.024471002274471125), (618, 0.0), (619, 0.006011144540904172), (620, 0.0), (621, 0.0), (622, 0.01658972307293095), (623, 0.0), (624, 0.0), (625, 0.004904126157006324), (626, 0.013952880913457437), (627, 0.0), (628, 0.004253402140975308), (629, 0.0), (630, 0.0), (631, 0.0), (632, 0.0), (633, 0.0), (634, 0.0), (635, 0.0), (636, 0.008668689024700386), (637, 0.0049480043052126995), (638, 0.0), (639, 0.0), (640, 0.0), (641, 0.01869530920169185), (642, 0.014488075899698813), (643, 0.0), (644, 0.0), (645, 0.0), (646, 0.017654995470717496), (647, 0.0), (648, 0.0), (649, 0.0), (650, 0.0), (651, 0.0), (652, 0.0), (653, 0.0), (654, 0.0), (655, 0.0), (656, 0.0), (657, 0.0), (658, 0.0), (659, 0.007463564963623509), (660, 0.0), (661, 0.0), (662, 0.0242393075946138), (663, 0.0), (664, 0.05686985824397878), (665, 0.0), (666, 0.0), (667, 0.005342488857506277), (668, 0.0), (669, 0.0), (670, 0.0), (671, 0.02090612303658055), (672, 0.004331087968947421), (673, 0.0), (674, 0.0), (675, 0.036067672107374764), (676, 0.0), (677, 0.0), (678, 0.0), (679, 0.014796686770035995), (680, 0.0), (681, 0.0), (682, 0.0), (683, 0.0), (684, 0.014630259279743906), (685, 0.008322771003845321), (686, 0.0), (687, 0.0), (688, 0.0), (689, 0.0), (690, 0.02217474530260178), (691, 0.0), (692, 0.0), (693, 0.0), (694, 0.0), (695, 0.0), (696, 0.0), (697, 0.0), (698, 0.0194813137044473), (699, 0.01608656806285707), (700, 0.0), (701, 0.021982487455849537), (702, 0.0), (703, 0.0), (704, 0.06048450533709521), (705, 0.0), (706, 0.04229150012137579), (707, 0.0), (708, 0.010542761576339744), (709, 0.010063991695489164), (710, 0.0), (711, 0.01313904015133566), (712, 0.009079183168462438), (713, 0.0), (714, 0.0), (715, 0.02030642610486525), (716, 0.0), (717, 0.0), (718, 0.010987660156752246), (719, 0.016296901928745732), (720, 0.0), (721, 0.023105417447732216), (722, 0.06094500506052044), (723, 0.0), (724, 0.0), (725, 0.0), (726, 0.0), (727, 0.0), (728, 0.0), (729, 0.0), (730, 0.0), (731, 0.0), (732, 0.026432731792109285), (733, 0.0), (734, 0.0), (735, 0.0), (736, 0.004817977901521996), (737, 0.0), (738, 0.0), (739, 0.0), (740, 0.0), (741, 0.0), (742, 0.0), (743, 0.0), (744, 0.0), (745, 0.0), (746, 0.0), (747, 0.010426113626854989), (748, 0.0), (749, 0.0), (750, 0.0), (751, 0.016698127160706778), (752, 0.0), (753, 0.0), (754, 0.0), (755, 0.023977092509004875), (756, 0.0), (757, 0.006318106020478667), (758, 0.0), (759, 0.0), (760, 0.04218666159441559), (761, 0.0), (762, 0.0), (763, 0.0), (764, 0.0), (765, 0.0), (766, 0.0), (767, 0.0), (768, 0.0), (769, 0.0), (770, 0.016225095392205846), (771, 0.0), (772, 0.0), (773, 0.0), (774, 0.014501602927889878), (775, 0.0), (776, 0.009670944574097631), (777, 0.0), (778, 0.0), (779, 0.0), (780, 0.0), (781, 0.012976928456551188), (782, 0.0), (783, 0.0), (784, 0.0), (785, 0.0), (786, 0.04094729521013078), (787, 0.0), (788, 0.0), (789, 0.0), (790, 0.0), (791, 0.0), (792, 0.03843036373132098), (793, 0.0), (794, 0.0), (795, 0.0), (796, 0.006195725171519593), (797, 0.0), (798, 0.02782861805640558), (799, 0.013623628857360294), (800, 0.013854030965786957), (801, 0.0), (802, 0.0), (803, 0.0), (804, 0.0), (805, 0.010778994163812944), (806, 0.025595243387559974), (807, 0.0), (808, 0.0), (809, 0.0), (810, 0.0), (811, 0.0), (812, 0.003914311072899925), (813, 0.0), (814, 0.0), (815, 0.0), (816, 0.0), (817, 0.0), (818, 0.0), (819, 0.02377630365928643), (820, 0.0), (821, 0.0), (822, 0.01882298785383594), (823, 0.0), (824, 0.013904950678406304), (825, 0.0), (826, 0.0), (827, 0.0), (828, 0.015395434149317471), (829, 0.0), (830, 0.0), (831, 0.021108662303668955), (832, 0.011838711776289656), (833, 0.003293791197646463), (834, 0.005472333421606673), (835, 0.003602349933898006), (836, 0.015352459747658103), (837, 0.0), (838, 0.0), (839, 0.0), (840, 0.018461582635201052), (841, 0.040832684451453195), (842, 0.02184995298611028), (843, 0.0), (844, 0.009706975625320528), (845, 0.0), (846, 0.0), (847, 0.025655328416647007), (848, 0.0), (849, 0.0), (850, 0.0), (851, 0.02234573836150551), (852, 0.0), (853, 0.0), (854, 0.0), (855, 0.008255052407972259), (856, 0.0), (857, 0.0), (858, 0.0), (859, 0.0), (860, 0.0), (861, 0.0), (862, 0.017208911066676647), (863, 0.0), (864, 0.029146799399897366), (865, 0.0), (866, 0.0), (867, 0.0), (868, 0.0), (869, 0.015359720205631857), (870, 0.0), (871, 0.0290665417181147), (872, 0.0), (873, 0.040760457639999505), (874, 0.008227942638919494), (875, 0.0043596419092966745), (876, 0.0), (877, 0.0), (878, 0.021691286156282002), (879, 0.004391915975642646), (880, 0.0), (881, 0.0), (882, 0.012258083928138685), (883, 0.0), (884, 0.0), (885, 0.0), (886, 0.0), (887, 0.0), (888, 0.01138160939405407), (889, 0.0), (890, 0.0), (891, 0.0), (892, 0.0), (893, 0.0), (894, 0.009588801908551952), (895, 0.0), (896, 0.0), (897, 0.0), (898, 0.031444614005913425), (899, 0.010164089502698778), (900, 0.0), (901, 0.04138233506030503), (902, 0.040170241212946815), (903, 0.0), (904, 0.020632288552723182), (905, 0.006748764876910922), (906, 0.008408047884746687), (907, 0.0), (908, 0.0), (909, 0.012573889785685926), (910, 0.0), (911, 0.0), (912, 0.0), (913, 0.009095530234190708), (914, 0.0), (915, 0.0), (916, 0.009678298733047607), (917, 0.0), (918, 0.0), (919, 0.0), (920, 0.016555454270561622), (921, 0.0), (922, 0.0), (923, 0.0), (924, 0.0), (925, 0.010375142572506987), (926, 0.0), (927, 0.0), (928, 0.0), (929, 0.0), (930, 0.0), (931, 0.0), (932, 0.0), (933, 0.0), (934, 0.0), (935, 0.0), (936, 0.02662429220837879), (937, 0.0048747910684195685), (938, 0.003052067377252525), (939, 0.0), (940, 0.0), (941, 0.0), (942, 0.0), (943, 0.0), (944, 0.0), (945, 0.0), (946, 0.0), (947, 0.04300620496654408), (948, 0.0), (949, 0.01627187371595077), (950, 0.0), (951, 0.0), (952, 0.0), (953, 0.03146432375202855), (954, 0.0), (955, 0.0), (956, 0.03408150940875286), (957, 0.0), (958, 0.0), (959, 0.0), (960, 0.0), (961, 0.017041188510676937), (962, 0.0), (963, 0.0), (964, 0.0), (965, 0.0), (966, 0.01096545482911876), (967, 0.0), (968, 0.0), (969, 0.0), (970, 0.0280986759165013), (971, 0.009753394415488208), (972, 0.0), (973, 0.0), (974, 0.0), (975, 0.0), (976, 0.03176394402572611), (977, 0.0), (978, 0.0), (979, 0.0), (980, 0.010608851221312074), (981, 0.026090808093097554), (982, 0.017752395836232313), (983, 0.022867084109157932), (984, 0.028523830207993334), (985, 0.0), (986, 0.0), (987, 0.0), (988, 0.05365540928691842), (989, 0.0), (990, 0.025671205526462175), (991, 0.024983164530525112), (992, 0.0), (993, 0.0), (994, 0.0), (995, 0.011270839613406768), (996, 0.03228867100950926), (997, 0.0), (998, 0.01212493568273683), (999, 0.007892647555899648), (1000, 0.005252088830260591), (1001, 0.0), (1002, 0.0), (1003, 0.0), (1004, 0.047087159862316694), (1005, 0.012724466127187221), (1006, 0.02093413329560214), (1007, 0.005079662556395421), (1008, 0.0), (1009, 0.0), (1010, 0.0), (1011, 0.015386773444901011), (1012, 0.0), (1013, 0.0), (1014, 0.0), (1015, 0.0), (1016, 0.0), (1017, 0.020638111686234945), (1018, 0.0), (1019, 0.0), (1020, 0.03340226466338416), (1021, 0.0), (1022, 0.014036255041784355), (1023, 0.009209392195119542), (1024, 0.0), (1025, 0.007429656440602169), (1026, 0.0), (1027, 0.007455437432359333), (1028, 0.0), (1029, 0.0), (1030, 0.007277847667551159), (1031, 0.0), (1032, 0.0), (1033, 0.017658720274177447), (1034, 0.0), (1035, 0.006448104591065611), (1036, 0.0), (1037, 0.0), (1038, 0.0), (1039, 0.0), (1040, 0.018214095549032455), (1041, 0.030348149172638547), (1042, 0.010223058904435232), (1043, 0.0), (1044, 0.0), (1045, 0.0), (1046, 0.0057366873569564495), (1047, 0.0), (1048, 0.0), (1049, 0.04578420721842937), (1050, 0.0), (1051, 0.07629439130040894), (1052, 0.0), (1053, 0.05844475009823687), (1054, 0.0), (1055, 0.0), (1056, 0.011085871001271752), (1057, 0.0), (1058, 0.0), (1059, 0.0), (1060, 0.00401293914394303), (1061, 0.0), (1062, 0.04998269430209783), (1063, 0.0), (1064, 0.018953900914862265), (1065, 0.0), (1066, 0.0), (1067, 0.0), (1068, 0.0), (1069, 0.0), (1070, 0.0), (1071, 0.0), (1072, 0.0), (1073, 0.0), (1074, 0.006489332514438044), (1075, 0.01500054619506154), (1076, 0.0), (1077, 0.0), (1078, 0.0), (1079, 0.0), (1080, 0.0), (1081, 0.0059525341479313805), (1082, 0.0), (1083, 0.004106525421983346), (1084, 0.0), (1085, 0.010414976405149604), (1086, 0.0), (1087, 0.0), (1088, 0.0), (1089, 0.0), (1090, 0.007725270782738107), (1091, 0.0), (1092, 0.0), (1093, 0.0), (1094, 0.0), (1095, 0.0), (1096, 0.0), (1097, 0.014481383144458406), (1098, 0.10271159212135092), (1099, 0.0), (1100, 0.0), (1101, 0.021999238771251973), (1102, 0.0), (1103, 0.0), (1104, 0.011681274202461286), (1105, 0.0072715313473657945), (1106, 0.0), (1107, 0.0), (1108, 0.027840142538321268), (1109, 0.023884109193394162), (1110, 0.0), (1111, 0.006618453291501895), (1112, 0.0), (1113, 0.024857307297639117), (1114, 0.0), (1115, 0.0), (1116, 0.021308794172713266), (1117, 0.0), (1118, 0.0), (1119, 0.0), (1120, 0.0), (1121, 0.0), (1122, 0.019066007987263895), (1123, 0.0), (1124, 0.0), (1125, 0.0), (1126, 0.0), (1127, 0.0), (1128, 0.0), (1129, 0.010028530193833006), (1130, 0.0), (1131, 0.01748870728736013), (1132, 0.0), (1133, 0.019008328890156315), (1134, 0.005202210540748218), (1135, 0.0), (1136, 0.01711196433107915), (1137, 0.0), (1138, 0.018440086401957108), (1139, 0.0), (1140, 0.004310701161551554), (1141, 0.009182068654370124), (1142, 0.00465078356247592), (1143, 0.0), (1144, 0.016094629839444662), (1145, 0.035769727758840256), (1146, 0.0), (1147, 0.028630529816880832), (1148, 0.008612007346702795), (1149, 0.0), (1150, 0.007289889246441236), (1151, 0.0), (1152, 0.03469859569839727), (1153, 0.0), (1154, 0.0), (1155, 0.005999105717204872), (1156, 0.0), (1157, 0.0), (1158, 0.0), (1159, 0.0281988549595157), (1160, 0.0032370482682896563), (1161, 0.0), (1162, 0.0), (1163, 0.04343326184356383), (1164, 0.0), (1165, 0.023621499046704537), (1166, 0.0), (1167, 0.0), (1168, 0.02201581423188923), (1169, 0.0), (1170, 0.0), (1171, 0.0), (1172, 0.030951424311064887), (1173, 0.0), (1174, 0.015224977263507699), (1175, 0.0), (1176, 0.0), (1177, 0.0), (1178, 0.014105410960452673), (1179, 0.0), (1180, 0.0), (1181, 0.027915852043047754), (1182, 0.04262409467845385), (1183, 0.0), (1184, 0.012001388015385226), (1185, 0.0), (1186, 0.015492067825168966), (1187, 0.0), (1188, 0.018890004923434178), (1189, 0.008959230103315915), (1190, 0.013054941451591785), (1191, 0.04457616920313731), (1192, 0.0), (1193, 0.02374464147234842), (1194, 0.0035731788290962593), (1195, 0.01762537082054245), (1196, 0.0), (1197, 0.00912389430396684), (1198, 0.0), (1199, 0.0), (1200, 0.0), (1201, 0.0), (1202, 0.014666666721801318), (1203, 0.010251157880312108), (1204, 0.03381303005526257), (1205, 0.0), (1206, 0.0), (1207, 0.0), (1208, 0.026585168689338055), (1209, 0.010958980362599393), (1210, 0.0), (1211, 0.0069600546922801015), (1212, 0.0), (1213, 0.02525792832522305), (1214, 0.04631085402158561), (1215, 0.011946062683525068), (1216, 0.0), (1217, 0.0), (1218, 0.0), (1219, 0.0), (1220, 0.0), (1221, 0.0), (1222, 0.0), (1223, 0.00431424082705514), (1224, 0.0), (1225, 0.0), (1226, 0.0), (1227, 0.05176104707967934), (1228, 0.016050358147508416), (1229, 0.0), (1230, 0.0), (1231, 0.00977879010703036), (1232, 0.0), (1233, 0.0), (1234, 0.0), (1235, 0.013422755128260593), (1236, 0.0), (1237, 0.0), (1238, 0.006612693601217162), (1239, 0.006887233961030283), (1240, 0.0), (1241, 0.007779116912113315), (1242, 0.0), (1243, 0.023016277097023273), (1244, 0.0), (1245, 0.020602846324268082), (1246, 0.0), (1247, 0.023386157878715286), (1248, 0.0), (1249, 0.01082901588721474), (1250, 0.0), (1251, 0.0), (1252, 0.025987592983509288), (1253, 0.0), (1254, 0.019903475834080593), (1255, 0.0), (1256, 0.03705840958337696), (1257, 0.0), (1258, 0.0), (1259, 0.0), (1260, 0.006546330003367072), (1261, 0.011992852763894868), (1262, 0.0074812047472112555), (1263, 0.010714432409391461), (1264, 0.0), (1265, 0.0), (1266, 0.0), (1267, 0.029371279048637643), (1268, 0.0), (1269, 0.0), (1270, 0.0), (1271, 0.03433999579842939), (1272, 0.0), (1273, 0.015132114718549314), (1274, 0.0), (1275, 0.0), (1276, 0.0), (1277, 0.0), (1278, 0.0), (1279, 0.0), (1280, 0.0), (1281, 0.0), (1282, 0.0), (1283, 0.0), (1284, 0.0035524910332921243), (1285, 0.016926153511516443), (1286, 0.0), (1287, 0.0), (1288, 0.013880782329492854), (1289, 0.009401947504956057), (1290, 0.01579660607961967), (1291, 0.013954475841985971), (1292, 0.0), (1293, 0.01918723105532679), (1294, 0.0), (1295, 0.00484801945467825), (1296, 0.0), (1297, 0.005203545398743111), (1298, 0.0), (1299, 0.0), (1300, 0.0), (1301, 0.017993050955800016), (1302, 0.0), (1303, 0.0), (1304, 0.0), (1305, 0.0), (1306, 0.009990854469371471), (1307, 0.0), (1308, 0.0109721827074839), (1309, 0.0), (1310, 0.0), (1311, 0.008632770987776794), (1312, 0.0), (1313, 0.00940943923821805), (1314, 0.01929257691677553), (1315, 0.015245648696685684), (1316, 0.0), (1317, 0.0), (1318, 0.0), (1319, 0.003215682706615522), (1320, 0.029828939062161622), (1321, 0.0), (1322, 0.0), (1323, 0.0), (1324, 0.0), (1325, 0.0), (1326, 0.0), (1327, 0.008558583228699445), (1328, 0.025432682981314188), (1329, 0.0), (1330, 0.0), (1331, 0.0), (1332, 0.0), (1333, 0.012162096734322754), (1334, 0.006135939186317327), (1335, 0.0), (1336, 0.009258725802905116), (1337, 0.010373687074787445), (1338, 0.0), (1339, 0.01750191453579864), (1340, 0.0), (1341, 0.0), (1342, 0.008544443069745094), (1343, 0.0), (1344, 0.0), (1345, 0.03019978265128586), (1346, 0.0), (1347, 0.01142091001037194), (1348, 0.004510694930945675), (1349, 0.0), (1350, 0.0), (1351, 0.021012487063531045), (1352, 0.0), (1353, 0.0), (1354, 0.0), (1355, 0.019369151039948383), (1356, 0.0), (1357, 0.0), (1358, 0.0), (1359, 0.005020293421444454), (1360, 0.0), (1361, 0.011110155880531596), (1362, 0.0), (1363, 0.0), (1364, 0.0), (1365, 0.0), (1366, 0.0027802663257008404), (1367, 0.0), (1368, 0.0), (1369, 0.0), (1370, 0.015811908564249088), (1371, 0.025519901807943248), (1372, 0.0), (1373, 0.0), (1374, 0.0), (1375, 0.0), (1376, 0.0), (1377, 0.0), (1378, 0.01773077534994446), (1379, 0.0), (1380, 0.0), (1381, 0.014870199251334136), (1382, 0.0), (1383, 0.0), (1384, 0.0), (1385, 0.0076531507124797), (1386, 0.004623021918512546), (1387, 0.0), (1388, 0.011884345775033717), (1389, 0.005660410262812084), (1390, 0.0), (1391, 0.0), (1392, 0.0), (1393, 0.01924422545447808), (1394, 0.013712038951173237), (1395, 0.0), (1396, 0.0), (1397, 0.0), (1398, 0.0), (1399, 0.012041710982337736), (1400, 0.0), (1401, 0.008631839933731652), (1402, 0.0), (1403, 0.012416586487014701), (1404, 0.0), (1405, 0.026449967040140385), (1406, 0.0), (1407, 0.0), (1408, 0.0), (1409, 0.02278260131840224), (1410, 0.0), (1411, 0.0), (1412, 0.009306786793470792), (1413, 0.013154743750787408), (1414, 0.0), (1415, 0.0), (1416, 0.005701979017587147), (1417, 0.0), (1418, 0.0), (1419, 0.0077531270073749456), (1420, 0.008586571695938086), (1421, 0.012229230423003296), (1422, 0.08015703847949338), (1423, 0.0077870018394592426), (1424, 0.0), (1425, 0.0), (1426, 0.0), (1427, 0.026121614618746392), (1428, 0.005742537570159851), (1429, 0.011739368099020056), (1430, 0.0), (1431, 0.0), (1432, 0.0), (1433, 0.014841625000972278), (1434, 0.006778190500568417), (1435, 0.0), (1436, 0.0), (1437, 0.0), (1438, 0.0), (1439, 0.024386492455359978), (1440, 0.0), (1441, 0.0), (1442, 0.0), (1443, 0.0), (1444, 0.0), (1445, 0.0), (1446, 0.0), (1447, 0.0), (1448, 0.0), (1449, 0.00993954666321151), (1450, 0.02084919644860131), (1451, 0.0), (1452, 0.017835305481428986), (1453, 0.0), (1454, 0.0), (1455, 0.012125430706228412), (1456, 0.0), (1457, 0.0), (1458, 0.014342775146713272), (1459, 0.019334597419245758), (1460, 0.0), (1461, 0.02030985088972718), (1462, 0.0231403523170137), (1463, 0.01247844703988199), (1464, 0.0), (1465, 0.0), (1466, 0.0), (1467, 0.0), (1468, 0.0), (1469, 0.0), (1470, 0.006267797687601179), (1471, 0.0), (1472, 0.04971109615977351), (1473, 0.02169739167493963), (1474, 0.01572642635736392), (1475, 0.0), (1476, 0.0), (1477, 0.0), (1478, 0.0), (1479, 0.0), (1480, 0.0), (1481, 0.0), (1482, 0.0), (1483, 0.0), (1484, 0.0), (1485, 0.0), (1486, 0.0), (1487, 0.0), (1488, 0.02133853883864422), (1489, 0.09721061919885426), (1490, 0.0), (1491, 0.002465961094366461), (1492, 0.022701251749141678), (1493, 0.0), (1494, 0.0), (1495, 0.0), (1496, 0.0), (1497, 0.0), (1498, 0.0), (1499, 0.0), (1500, 0.0), (1501, 0.0), (1502, 0.0), (1503, 0.0), (1504, 0.015251285570494754), (1505, 0.06039241431093553), (1506, 0.0), (1507, 0.03519765081862734), (1508, 0.0), (1509, 0.0), (1510, 0.00927414227451164), (1511, 0.0), (1512, 0.022304327865418378), (1513, 0.0), (1514, 0.011694246529063836), (1515, 0.0), (1516, 0.0), (1517, 0.0), (1518, 0.0), (1519, 0.0), (1520, 0.0), (1521, 0.006424608507021598), (1522, 0.0), (1523, 0.0), (1524, 0.0), (1525, 0.0), (1526, 0.0), (1527, 0.0), (1528, 0.0), (1529, 0.0), (1530, 0.010017661300523612), (1531, 0.0), (1532, 0.0), (1533, 0.0), (1534, 0.005691314883784338), (1535, 0.0), (1536, 0.0), (1537, 0.0), (1538, 0.00834562530275091), (1539, 0.00932905164634265), (1540, 0.0), (1541, 0.014886222202969658), (1542, 0.017997174870219963), (1543, 0.037105441940926076), (1544, 0.0), (1545, 0.0), (1546, 0.01629278217917306), (1547, 0.009523289751861171), (1548, 0.0), (1549, 0.0), (1550, 0.015711997760382002), (1551, 0.0), (1552, 0.0), (1553, 0.06999574963334274), (1554, 0.07773721114889409), (1555, 0.0078106056783046884), (1556, 0.0), (1557, 0.0), (1558, 0.0), (1559, 0.0), (1560, 0.0), (1561, 0.0), (1562, 0.0), (1563, 0.0), (1564, 0.0), (1565, 0.0), (1566, 0.0), (1567, 0.009816566617529292), (1568, 0.0), (1569, 0.011673881041902253), (1570, 0.0), (1571, 0.0), (1572, 0.021827149426845265), (1573, 0.0), (1574, 0.0), (1575, 0.009897261897645851), (1576, 0.0), (1577, 0.0), (1578, 0.023226230657095552), (1579, 0.0), (1580, 0.0), (1581, 0.0), (1582, 0.00522586096487474), (1583, 0.0), (1584, 0.009978150231581712), (1585, 0.0), (1586, 0.0), (1587, 0.0029804512805985182), (1588, 0.0), (1589, 0.016508863473407763), (1590, 0.0), (1591, 0.0446831654281086), (1592, 0.0), (1593, 0.0), (1594, 0.0022287442880010735), (1595, 0.0), (1596, 0.0), (1597, 0.0), (1598, 0.0), (1599, 0.0), (1600, 0.06808964662099924), (1601, 0.0), (1602, 0.01748950937118134), (1603, 0.005925642165264951), (1604, 0.009720229037639092), (1605, 0.016122688004364706), (1606, 0.0), (1607, 0.0064062520108785674), (1608, 0.005669483574577002), (1609, 0.0), (1610, 0.0), (1611, 0.0), (1612, 0.0), (1613, 0.013019240478152479), (1614, 0.0), (1615, 0.0), (1616, 0.0), (1617, 0.012577389832148582), (1618, 0.0), (1619, 0.0), (1620, 0.0), (1621, 0.03158513475103948), (1622, 0.0), (1623, 0.006857786990460565), (1624, 0.013763586668131307), (1625, 0.0), (1626, 0.0), (1627, 0.017053416541752336), (1628, 0.0), (1629, 0.0), (1630, 0.0), (1631, 0.0), (1632, 0.0), (1633, 0.0), (1634, 0.020289797406365898), (1635, 0.0), (1636, 0.0), (1637, 0.0), (1638, 0.0), (1639, 0.0), (1640, 0.0), (1641, 0.0), (1642, 0.0), (1643, 0.0), (1644, 0.0), (1645, 0.012632046624139753), (1646, 0.00847895627241491), (1647, 0.008697788315679031), (1648, 0.0), (1649, 0.020822539062498837), (1650, 0.0), (1651, 0.0), (1652, 0.0), (1653, 0.0), (1654, 0.027832008264445394), (1655, 0.0), (1656, 0.0), (1657, 0.0), (1658, 0.01032249530475485), (1659, 0.0), (1660, 0.027611571967196363), (1661, 0.033509420679974956), (1662, 0.0), (1663, 0.0050762724316800595), (1664, 0.0), (1665, 0.0), (1666, 0.020406986423673074), (1667, 0.0035253332335599586), (1668, 0.016871787841037936), (1669, 0.0), (1670, 0.0), (1671, 0.0), (1672, 0.019913786248667322), (1673, 0.0), (1674, 0.0), (1675, 0.0), (1676, 0.0), (1677, 0.0), (1678, 0.01583874550598723), (1679, 0.0), (1680, 0.0), (1681, 0.01866949511880459), (1682, 0.0), (1683, 0.0), (1684, 0.0), (1685, 0.02896759460145815), (1686, 0.030658621205134653), (1687, 0.006722081264546824), (1688, 0.0), (1689, 0.008961020212339488), (1690, 0.0), (1691, 0.0), (1692, 0.0), (1693, 0.0), (1694, 0.0), (1695, 0.0), (1696, 0.0), (1697, 0.019213529759863637), (1698, 0.009106517595477261), (1699, 0.0), (1700, 0.0), (1701, 0.0), (1702, 0.012582026435414926), (1703, 0.0), (1704, 0.0), (1705, 0.0), (1706, 0.008763128115139287), (1707, 0.0), (1708, 0.0), (1709, 0.0), (1710, 0.019047072505685436), (1711, 0.008053610761721387), (1712, 0.0), (1713, 0.0183691245321996), (1714, 0.0), (1715, 0.02611164916314859), (1716, 0.0), (1717, 0.0), (1718, 0.0), (1719, 0.0292691729530053), (1720, 0.012108426214957616), (1721, 0.0049119704139512065), (1722, 0.0), (1723, 0.020119203552128342), (1724, 0.0), (1725, 0.0), (1726, 0.0), (1727, 0.0), (1728, 0.0), (1729, 0.0), (1730, 0.0), (1731, 0.03517848720212124), (1732, 0.006713155440521923), (1733, 0.0), (1734, 0.0), (1735, 0.0), (1736, 0.0), (1737, 0.0), (1738, 0.0), (1739, 0.0111103181462433), (1740, 0.0), (1741, 0.0), (1742, 0.0), (1743, 0.02156942158545487), (1744, 0.02919049993628358), (1745, 0.0), (1746, 0.0), (1747, 0.0), (1748, 0.0), (1749, 0.0), (1750, 0.0), (1751, 0.0), (1752, 0.03830517381422637), (1753, 0.0), (1754, 0.0), (1755, 0.014379947796339807), (1756, 0.0), (1757, 0.0), (1758, 0.011440046041530077), (1759, 0.0), (1760, 0.010856324631503454), (1761, 0.004717911321276313), (1762, 0.0), (1763, 0.0), (1764, 0.0), (1765, 0.028526822185352987), (1766, 0.005847718740066674), (1767, 0.0), (1768, 0.0), (1769, 0.0), (1770, 0.015479242173572518), (1771, 0.0), (1772, 0.0), (1773, 0.0), (1774, 0.0), (1775, 0.0), (1776, 0.0), (1777, 0.0), (1778, 0.013359210682776453), (1779, 0.009042002736731537), (1780, 0.0), (1781, 0.0), (1782, 0.0), (1783, 0.0034722950805727583), (1784, 0.0), (1785, 0.011412283058474835), (1786, 0.0), (1787, 0.0), (1788, 0.0), (1789, 0.0), (1790, 0.0), (1791, 0.026982611598015106), (1792, 0.015008521341168996), (1793, 0.012619898071148435), (1794, 0.0), (1795, 0.0), (1796, 0.012386224221319762), (1797, 0.0), (1798, 0.0), (1799, 0.0), (1800, 0.0), (1801, 0.006443176925970912), (1802, 0.0), (1803, 0.0), (1804, 0.0), (1805, 0.03404179665737877), (1806, 0.017062512539618675), (1807, 0.0), (1808, 0.0), (1809, 0.0), (1810, 0.018808804255478498), (1811, 0.014813807141797345), (1812, 0.0), (1813, 0.0), (1814, 0.0), (1815, 0.0), (1816, 0.0), (1817, 0.0), (1818, 0.0), (1819, 0.0), (1820, 0.0), (1821, 0.0), (1822, 0.0), (1823, 0.0), (1824, 0.037995028816428265), (1825, 0.0), (1826, 0.0), (1827, 0.0), (1828, 0.05160276077277988), (1829, 0.005961102634978501), (1830, 0.0), (1831, 0.0), (1832, 0.0), (1833, 0.0), (1834, 0.014816971751608796), (1835, 0.0), (1836, 0.0), (1837, 0.0), (1838, 0.0), (1839, 0.0), (1840, 0.00766253366455202), (1841, 0.03347941089281606), (1842, 0.0), (1843, 0.014488578887835734), (1844, 0.0), (1845, 0.0), (1846, 0.009966539537790895), (1847, 0.0), (1848, 0.012151031219531368), (1849, 0.0), (1850, 0.0), (1851, 0.0029288789841263865), (1852, 0.0202810914331781), (1853, 0.0), (1854, 0.0), (1855, 0.008726384386143421), (1856, 0.0), (1857, 0.0), (1858, 0.0), (1859, 0.0), (1860, 0.0), (1861, 0.0), (1862, 0.0), (1863, 0.0), (1864, 0.0), (1865, 0.0), (1866, 0.017796924348392643), (1867, 0.0), (1868, 0.0), (1869, 0.0), (1870, 0.0), (1871, 0.0), (1872, 0.0), (1873, 0.042722251636681474), (1874, 0.0), (1875, 0.0), (1876, 0.0), (1877, 0.005878543486680632), (1878, 0.0), (1879, 0.0), (1880, 0.0), (1881, 0.0), (1882, 0.0), (1883, 0.0), (1884, 0.0), (1885, 0.0), (1886, 0.0), (1887, 0.0), (1888, 0.023264540916548716), (1889, 0.0), (1890, 0.0), (1891, 0.0), (1892, 0.0), (1893, 0.0), (1894, 0.0), (1895, 0.0), (1896, 0.0), (1897, 0.01327377664423736), (1898, 0.0), (1899, 0.0), (1900, 0.0), (1901, 0.0), (1902, 0.0), (1903, 0.0), (1904, 0.0), (1905, 0.0), (1906, 0.0), (1907, 0.022434562936746803), (1908, 0.0), (1909, 0.0), (1910, 0.0), (1911, 0.0), (1912, 0.0), (1913, 0.010226952231246039), (1914, 0.0), (1915, 0.0), (1916, 0.0), (1917, 0.0), (1918, 0.0), (1919, 0.027338479252895048), (1920, 0.0), (1921, 0.010800803498637032), (1922, 0.0), (1923, 0.0), (1924, 0.0), (1925, 0.08240059967603154), (1926, 0.0), (1927, 0.00983195061316249), (1928, 0.0), (1929, 0.032162326443198636), (1930, 0.0), (1931, 0.0), (1932, 0.0), (1933, 0.0), (1934, 0.012916574675511041), (1935, 0.0), (1936, 0.0), (1937, 0.0), (1938, 0.0), (1939, 0.0052021967755590814), (1940, 0.0), (1941, 0.0), (1942, 0.0), (1943, 0.0), (1944, 0.0), (1945, 0.0), (1946, 0.026074294843825355), (1947, 0.0), (1948, 0.0), (1949, 0.0), (1950, 0.0), (1951, 0.0), (1952, 0.0), (1953, 0.0), (1954, 0.010626618047595954), (1955, 0.0), (1956, 0.03970559798745705), (1957, 0.0), (1958, 0.0), (1959, 0.010231451845782643), (1960, 0.0), (1961, 0.0), (1962, 0.0), (1963, 0.0), (1964, 0.0), (1965, 0.02506476960468205), (1966, 0.0), (1967, 0.0), (1968, 0.0), (1969, 0.0), (1970, 0.01842997887137817), (1971, 0.0), (1972, 0.010855245337136712), (1973, 0.0), (1974, 0.0), (1975, 0.0), (1976, 0.014013929839596496), (1977, 0.0), (1978, 0.010762327364769288), (1979, 0.0), (1980, 0.0), (1981, 0.018245069414454987), (1982, 0.0), (1983, 0.0), (1984, 0.015714119709376393), (1985, 0.0), (1986, 0.0), (1987, 0.0), (1988, 0.016567167834511714), (1989, 0.0), (1990, 0.0), (1991, 0.0), (1992, 0.008804304208798424), (1993, 0.0), (1994, 0.0), (1995, 0.0), (1996, 0.0), (1997, 0.0), (1998, 0.0), (1999, 0.0), (2000, 0.0), (2001, 0.0), (2002, 0.0), (2003, 0.0), (2004, 0.0), (2005, 0.0), (2006, 0.010456030607841893), (2007, 0.0), (2008, 0.0), (2009, 0.0), (2010, 0.008012755561419744), (2011, 0.0), (2012, 0.006260387421900525), (2013, 0.019798877287383998), (2014, 0.0), (2015, 0.0), (2016, 0.0), (2017, 0.01988239001684949), (2018, 0.0), (2019, 0.0), (2020, 0.0), (2021, 0.02309143960916625), (2022, 0.01354710499987933), (2023, 0.0), (2024, 0.0), (2025, 0.0), (2026, 0.0), (2027, 0.01675365619468409), (2028, 0.013038574024751736), (2029, 0.0), (2030, 0.0), (2031, 0.0), (2032, 0.005318367474482858), (2033, 0.016089673257689844), (2034, 0.0), (2035, 0.018228129764939854), (2036, 0.0), (2037, 0.0), (2038, 0.0), (2039, 0.003598060819300937), (2040, 0.012871030952213086), (2041, 0.0), (2042, 0.0), (2043, 0.0), (2044, 0.0), (2045, 0.010550646041306167), (2046, 0.0), (2047, 0.024807127231412564), (2048, 0.0), (2049, 0.0), (2050, 0.013263833629700373), (2051, 0.0), (2052, 0.0), (2053, 0.0), (2054, 0.0), (2055, 0.026246751822445402), (2056, 0.0), (2057, 0.010002029298233114), (2058, 0.0), (2059, 0.005550733415919815), (2060, 0.003662258533398876), (2061, 0.010200891498213844), (2062, 0.0), (2063, 0.008904282609122356), (2064, 0.01094213759513096), (2065, 0.0), (2066, 0.0), (2067, 0.006393717097331639), (2068, 0.008301977173518583), (2069, 0.00745803935687693), (2070, 0.0), (2071, 0.0), (2072, 0.0), (2073, 0.011671227559744498), (2074, 0.0), (2075, 0.006852417906419813), (2076, 0.005179747305408889), (2077, 0.03934782436742602), (2078, 0.0), (2079, 0.0), (2080, 0.0), (2081, 0.004708284688456678), (2082, 0.0), (2083, 0.0), (2084, 0.0), (2085, 0.0), (2086, 0.0), (2087, 0.0), (2088, 0.0), (2089, 0.0), (2090, 0.0), (2091, 0.007545378549580974), (2092, 0.007333252446552899), (2093, 0.0), (2094, 0.023802221588732998), (2095, 0.008121588772156555), (2096, 0.0), (2097, 0.052481480077972216), (2098, 0.0), (2099, 0.0), (2100, 0.0), (2101, 0.0), (2102, 0.01016375946304231), (2103, 0.025191647258927603), (2104, 0.0), (2105, 0.0), (2106, 0.0), (2107, 0.0), (2108, 0.0), (2109, 0.012715480112525957), (2110, 0.00655580958332248), (2111, 0.0), (2112, 0.0), (2113, 0.011454611730705342), (2114, 0.0), (2115, 0.0), (2116, 0.0), (2117, 0.0), (2118, 0.0), (2119, 0.0), (2120, 0.0), (2121, 0.0), (2122, 0.01798163564978993), (2123, 0.0), (2124, 0.012994535333284232), (2125, 0.0), (2126, 0.0), (2127, 0.015259870228065135), (2128, 0.0), (2129, 0.0), (2130, 0.0), (2131, 0.0), (2132, 0.0), (2133, 0.0), (2134, 0.016089493289793297), (2135, 0.0), (2136, 0.022816937252601834), (2137, 0.0), (2138, 0.020191924456281), (2139, 0.0), (2140, 0.018922036407154137), (2141, 0.0), (2142, 0.0), (2143, 0.0), (2144, 0.0), (2145, 0.017481797629649375), (2146, 0.0), (2147, 0.0), (2148, 0.025202488165986355), (2149, 0.0), (2150, 0.0), (2151, 0.01249853344608126), (2152, 0.0), (2153, 0.0), (2154, 0.0087456492977376), (2155, 0.0), (2156, 0.012950670886670871), (2157, 0.0), (2158, 0.0), (2159, 0.05622658596386125), (2160, 0.0), (2161, 0.007987319953428038), (2162, 0.05132366547265049), (2163, 0.0), (2164, 0.0057860957409321045), (2165, 0.007644863753883274), (2166, 0.011589288302146419), (2167, 0.018929689809676888), (2168, 0.0), (2169, 0.0), (2170, 0.0), (2171, 0.0), (2172, 0.0), (2173, 0.0), (2174, 0.027361233963278057), (2175, 0.0), (2176, 0.020111070888739976), (2177, 0.04424784538320849), (2178, 0.0), (2179, 0.0), (2180, 0.0), (2181, 0.0), (2182, 0.013372697091787693), (2183, 0.01593130843262333), (2184, 0.013020488806766775), (2185, 0.0), (2186, 0.0), (2187, 0.007296545702562311), (2188, 0.03196238630268211), (2189, 0.015941763235158637), (2190, 0.008760829255999662), (2191, 0.0), (2192, 0.0), (2193, 0.0), (2194, 0.0), (2195, 0.010132131917298082), (2196, 0.0), (2197, 0.01508316294356428), (2198, 0.08108838923994668), (2199, 0.007799526045398654), (2200, 0.0071540814807682755), (2201, 0.0), (2202, 0.0), (2203, 0.0), (2204, 0.0), (2205, 0.0), (2206, 0.0), (2207, 0.0), (2208, 0.012016232053162601), (2209, 0.0), (2210, 0.0), (2211, 0.0), (2212, 0.0), (2213, 0.03301423719381835), (2214, 0.0), (2215, 0.0), (2216, 0.0), (2217, 0.00809620664758909), (2218, 0.018587175667152886), (2219, 0.0), (2220, 0.037972739378663294), (2221, 0.0), (2222, 0.0), (2223, 0.0), (2224, 0.0), (2225, 0.0), (2226, 0.014233552479710636), (2227, 0.0), (2228, 0.0), (2229, 0.02546706172954445), (2230, 0.0), (2231, 0.0), (2232, 0.02328279051929885), (2233, 0.0), (2234, 0.0), (2235, 0.0), (2236, 0.0), (2237, 0.04033112699408557), (2238, 0.0), (2239, 0.0), (2240, 0.0), (2241, 0.004999725711547843), (2242, 0.0), (2243, 0.009985666359381227), (2244, 0.0), (2245, 0.03827534250235194), (2246, 0.0), (2247, 0.0), (2248, 0.0), (2249, 0.0), (2250, 0.0), (2251, 0.0), (2252, 0.0), (2253, 0.0), (2254, 0.017684531523855074), (2255, 0.0), (2256, 0.0), (2257, 0.007009602074210009), (2258, 0.006185327518927557), (2259, 0.009406464512682861), (2260, 0.0), (2261, 0.0), (2262, 0.0), (2263, 0.005438046413752843), (2264, 0.01656129398007037), (2265, 0.0), (2266, 0.0), (2267, 0.0), (2268, 0.0), (2269, 0.011124330696846731), (2270, 0.016927299581571794), (2271, 0.0), (2272, 0.0), (2273, 0.0), (2274, 0.0), (2275, 0.01719339485794812), (2276, 0.0), (2277, 0.005678666393369855), (2278, 0.0), (2279, 0.0), (2280, 0.011428236787424976), (2281, 0.0), (2282, 0.0037716578798564593), (2283, 0.05176962911754825), (2284, 0.0), (2285, 0.037105863571222406), (2286, 0.006744199139409464), (2287, 0.0), (2288, 0.006681818253249136), (2289, 0.0), (2290, 0.022657518774831346), (2291, 0.0), (2292, 0.0), (2293, 0.0), (2294, 0.012142197982437843), (2295, 0.0), (2296, 0.0), (2297, 0.0), (2298, 0.0), (2299, 0.00904265862771988), (2300, 0.04064056809330516), (2301, 0.0), (2302, 0.0), (2303, 0.01069663813456569), (2304, 0.04970799060718091), (2305, 0.02315631928033819), (2306, 0.0), (2307, 0.0), (2308, 0.0), (2309, 0.009462134358348164), (2310, 0.023144915652547934), (2311, 0.0), (2312, 0.0), (2313, 0.04353279054907628), (2314, 0.031843801777102845), (2315, 0.009596380012897726), (2316, 0.0), (2317, 0.0), (2318, 0.0), (2319, 0.0), (2320, 0.00347038635736724), (2321, 0.014485878351720915), (2322, 0.006077211943074066), (2323, 0.0), (2324, 0.015150583913388574), (2325, 0.0), (2326, 0.003692355727226088), (2327, 0.018135517461846096), (2328, 0.00644391187824244), (2329, 0.0), (2330, 0.017263571241068375), (2331, 0.026782868575802993), (2332, 0.0), (2333, 0.0), (2334, 0.017545858062365815), (2335, 0.0), (2336, 0.0), (2337, 0.0), (2338, 0.0), (2339, 0.0), (2340, 0.005250750564997016), (2341, 0.0), (2342, 0.004118238818112647), (2343, 0.0), (2344, 0.0), (2345, 0.008380960983610141), (2346, 0.0), (2347, 0.005899379062196041), (2348, 0.0), (2349, 0.0), (2350, 0.0), (2351, 0.0), (2352, 0.01646940388461837), (2353, 0.004531037957952272), (2354, 0.022243909867650576), (2355, 0.005200299258626765), (2356, 0.0), (2357, 0.0), (2358, 0.0), (2359, 0.017487021262620098), (2360, 0.0), (2361, 0.0), (2362, 0.0), (2363, 0.0), (2364, 0.01679852502021103), (2365, 0.0), (2366, 0.0), (2367, 0.0), (2368, 0.0), (2369, 0.0), (2370, 0.0), (2371, 0.005496550519859112), (2372, 0.005188227360700104), (2373, 0.0), (2374, 0.02069601121280816), (2375, 0.013174823930536421), (2376, 0.02557321368198003), (2377, 0.0), (2378, 0.0), (2379, 0.0), (2380, 0.0), (2381, 0.0), (2382, 0.0), (2383, 0.0), (2384, 0.0), (2385, 0.01513893663696208), (2386, 0.0), (2387, 0.020245270497014925), (2388, 0.0), (2389, 0.0), (2390, 0.03879156105202452), (2391, 0.0), (2392, 0.003156072297172559), (2393, 0.03133938558436496), (2394, 0.0), (2395, 0.009039757252220691), (2396, 0.009605405110680774), (2397, 0.0), (2398, 0.0), (2399, 0.03571165959962189), (2400, 0.0), (2401, 0.0), (2402, 0.0), (2403, 0.0), (2404, 0.0), (2405, 0.0), (2406, 0.0), (2407, 0.0), (2408, 0.0), (2409, 0.016645344387745196), (2410, 0.017133307862511632), (2411, 0.0), (2412, 0.0), (2413, 0.0), (2414, 0.0), (2415, 0.0), (2416, 0.0), (2417, 0.028460479784821188), (2418, 0.04690096749570634), (2419, 0.006753743538848451), (2420, 0.0), (2421, 0.0), (2422, 0.02521219230579838), (2423, 0.0), (2424, 0.011058142956351557), (2425, 0.0), (2426, 0.0), (2427, 0.0), (2428, 0.0), (2429, 0.0), (2430, 0.0), (2431, 0.0), (2432, 0.0), (2433, 0.0), (2434, 0.0), (2435, 0.0), (2436, 0.0), (2437, 0.0), (2438, 0.0), (2439, 0.0), (2440, 0.0), (2441, 0.0), (2442, 0.0029940925931506964), (2443, 0.0), (2444, 0.0), (2445, 0.0), (2446, 0.0), (2447, 0.007150580623169743), (2448, 0.0), (2449, 0.008138584923264948), (2450, 0.005568162925788179), (2451, 0.028101582580674994), (2452, 0.0), (2453, 0.0), (2454, 0.0), (2455, 0.0), (2456, 0.0), (2457, 0.023916479482497987), (2458, 0.0), (2459, 0.0), (2460, 0.0), (2461, 0.0), (2462, 0.043565717219199177), (2463, 0.0), (2464, 0.0), (2465, 0.0), (2466, 0.06361719797527253), (2467, 0.015102357777346533), (2468, 0.006761763147188416), (2469, 0.0), (2470, 0.0), (2471, 0.0), (2472, 0.0), (2473, 0.014581941902976245), (2474, 0.0), (2475, 0.0), (2476, 0.0), (2477, 0.0), (2478, 0.0), (2479, 0.0), (2480, 0.0), (2481, 0.0), (2482, 0.0), (2483, 0.006744456815477255), (2484, 0.0), (2485, 0.0), (2486, 0.0), (2487, 0.0), (2488, 0.0), (2489, 0.0), (2490, 0.009256150127135376), (2491, 0.0), (2492, 0.0), (2493, 0.019587425088659294), (2494, 0.0), (2495, 0.0), (2496, 0.0), (2497, 0.0), (2498, 0.010031144041478644), (2499, 0.0), (2500, 0.0), (2501, 0.0), (2502, 0.0), (2503, 0.021299298790555296), (2504, 0.035209017705980145), (2505, 0.010213597936810547), (2506, 0.0), (2507, 0.014080386810037334), (2508, 0.0), (2509, 0.0), (2510, 0.0), (2511, 0.008824538851959213), (2512, 0.0), (2513, 0.005210906033823547), (2514, 0.0), (2515, 0.0), (2516, 0.0), (2517, 0.028341221271189754), (2518, 0.0), (2519, 0.0), (2520, 0.010765613008238641), (2521, 0.0), (2522, 0.0), (2523, 0.0), (2524, 0.0), (2525, 0.0), (2526, 0.0), (2527, 0.0), (2528, 0.0), (2529, 0.005780140629844143), (2530, 0.0), (2531, 0.0), (2532, 0.014864169121236403), (2533, 0.0), (2534, 0.0), (2535, 0.0), (2536, 0.0), (2537, 0.0), (2538, 0.0), (2539, 0.0), (2540, 0.0), (2541, 0.006612142040541242), (2542, 0.015765281924182306), (2543, 0.012713539623776932), (2544, 0.0), (2545, 0.0), (2546, 0.0), (2547, 0.0), (2548, 0.0), (2549, 0.0), (2550, 0.008674153205313364), (2551, 0.0), (2552, 0.0), (2553, 0.007958859556298485), (2554, 0.0), (2555, 0.007585215131912398), (2556, 0.0547122985684485), (2557, 0.0), (2558, 0.0), (2559, 0.0), (2560, 0.0), (2561, 0.0), (2562, 0.0), (2563, 0.0), (2564, 0.03503304243595286), (2565, 0.022467824537566267), (2566, 0.019841336207662784), (2567, 0.0), (2568, 0.0), (2569, 0.008106318684247136), (2570, 0.0), (2571, 0.0), (2572, 0.0), (2573, 0.018434604436757127), (2574, 0.02186317133830958), (2575, 0.019287496342410115), (2576, 0.0), (2577, 0.0), (2578, 0.020505508434783833), (2579, 0.006671082077244492), (2580, 0.0), (2581, 0.051855242896506656), (2582, 0.0), (2583, 0.0), (2584, 0.007928002224099506), (2585, 0.0), (2586, 0.0), (2587, 0.0), (2588, 0.0), (2589, 0.0), (2590, 0.0), (2591, 0.0), (2592, 0.0), (2593, 0.0), (2594, 0.0), (2595, 0.0), (2596, 0.0), (2597, 0.0), (2598, 0.013123857961776522), (2599, 0.0), (2600, 0.0), (2601, 0.029660118266283068), (2602, 0.003589596258855284), (2603, 0.02648292788351161), (2604, 0.0), (2605, 0.0), (2606, 0.0), (2607, 0.0), (2608, 0.008309542571747439), (2609, 0.019229003948751554), (2610, 0.0), (2611, 0.0), (2612, 0.0), (2613, 0.0), (2614, 0.0), (2615, 0.0), (2616, 0.0), (2617, 0.0), (2618, 0.016573783205921143), (2619, 0.0), (2620, 0.0), (2621, 0.10428042289116488), (2622, 0.0), (2623, 0.0), (2624, 0.0), (2625, 0.0), (2626, 0.0), (2627, 0.0), (2628, 0.0), (2629, 0.0), (2630, 0.0), (2631, 0.0), (2632, 0.032834635386010246), (2633, 0.0), (2634, 0.00965760218112334), (2635, 0.0), (2636, 0.0), (2637, 0.0), (2638, 0.016363717063086352), (2639, 0.0), (2640, 0.0), (2641, 0.0), (2642, 0.024370042813760505), (2643, 0.03671450576106584), (2644, 0.0), (2645, 0.005079924471522054), (2646, 0.0), (2647, 0.0), (2648, 0.00960335157786155), (2649, 0.0), (2650, 0.0), (2651, 0.016648352738758424), (2652, 0.0), (2653, 0.0), (2654, 0.0), (2655, 0.0), (2656, 0.0), (2657, 0.0), (2658, 0.031653104291330475), (2659, 0.007052069769717197), (2660, 0.0), (2661, 0.0), (2662, 0.006620066010053794), (2663, 0.0), (2664, 0.0), (2665, 0.0), (2666, 0.01330144178631294), (2667, 0.0), (2668, 0.04014786648998753), (2669, 0.0), (2670, 0.0), (2671, 0.0), (2672, 0.0), (2673, 0.03222639393155089), (2674, 0.00600958643582779), (2675, 0.014668519066914715), (2676, 0.009482539858454837), (2677, 0.0), (2678, 0.0), (2679, 0.0), (2680, 0.0), (2681, 0.0), (2682, 0.0), (2683, 0.011603128842096392), (2684, 0.0), (2685, 0.0), (2686, 0.0), (2687, 0.0), (2688, 0.0), (2689, 0.0), (2690, 0.0595450663471532), (2691, 0.0), (2692, 0.04645982386166084), (2693, 0.0), (2694, 0.0), (2695, 0.020161606002937288), (2696, 0.007520911840739349), (2697, 0.0), (2698, 0.0), (2699, 0.0), (2700, 0.0), (2701, 0.0), (2702, 0.0), (2703, 0.0), (2704, 0.015018189638414656), (2705, 0.0), (2706, 0.0), (2707, 0.0), (2708, 0.0), (2709, 0.0), (2710, 0.03426308684006662), (2711, 0.0), (2712, 0.04193489779785367), (2713, 0.02112120299543533), (2714, 0.0), (2715, 0.0), (2716, 0.0), (2717, 0.0), (2718, 0.0), (2719, 0.0), (2720, 0.01552420070445779), (2721, 0.0), (2722, 0.0), (2723, 0.011968751353997052), (2724, 0.0), (2725, 0.0), (2726, 0.0), (2727, 0.00799471568708445), (2728, 0.0), (2729, 0.0), (2730, 0.004171400822478027), (2731, 0.0), (2732, 0.011538629602051058), (2733, 0.0), (2734, 0.0), (2735, 0.02406536056158449), (2736, 0.0), (2737, 0.0), (2738, 0.0), (2739, 0.0), (2740, 0.0), (2741, 0.0), (2742, 0.024789642721219637), (2743, 0.0), (2744, 0.0), (2745, 0.0), (2746, 0.011988252228943265), (2747, 0.0), (2748, 0.0), (2749, 0.043330334894705745), (2750, 0.03136319561359199), (2751, 0.0), (2752, 0.01719110197466393), (2753, 0.0), (2754, 0.0), (2755, 0.00590656351266539), (2756, 0.007750856298203995), (2757, 0.0), (2758, 0.025568088118728384), (2759, 0.014633314079178944), (2760, 0.0), (2761, 0.0), (2762, 0.0), (2763, 0.0), (2764, 0.0), (2765, 0.0), (2766, 0.011192766777145396), (2767, 0.0), (2768, 0.0), (2769, 0.01285229041035046), (2770, 0.010123508086989804), (2771, 0.0), (2772, 0.0), (2773, 0.0), (2774, 0.011166306800549301), (2775, 0.0), (2776, 0.0), (2777, 0.0), (2778, 0.020212418834853172), (2779, 0.0), (2780, 0.0), (2781, 0.0), (2782, 0.007966287391183675), (2783, 0.0), (2784, 0.022617941340200145), (2785, 0.0), (2786, 0.008967808339733), (2787, 0.0), (2788, 0.0), (2789, 0.009000651224914245), (2790, 0.0), (2791, 0.0), (2792, 0.0), (2793, 0.0), (2794, 0.0), (2795, 0.007241237900269043), (2796, 0.03881150290935639), (2797, 0.0), (2798, 0.020767324443094592), (2799, 0.0), (2800, 0.0), (2801, 0.0), (2802, 0.01000433321036596), (2803, 0.014111543605365892), (2804, 0.0), (2805, 0.0), (2806, 0.005434090328259133), (2807, 0.0), (2808, 0.0), (2809, 0.0), (2810, 0.0), (2811, 0.010604541697878207), (2812, 0.0), (2813, 0.0), (2814, 0.017095317344432114), (2815, 0.0), (2816, 0.0), (2817, 0.0035746683908499713), (2818, 0.0), (2819, 0.013445280166503051), (2820, 0.0), (2821, 0.0), (2822, 0.0), (2823, 0.007908257788449781), (2824, 0.00750106248220323), (2825, 0.0), (2826, 0.0), (2827, 0.0), (2828, 0.007557693965454654), (2829, 0.0), (2830, 0.01311133694912239), (2831, 0.0), (2832, 0.0), (2833, 0.03339265593728131), (2834, 0.0), (2835, 0.02527392163394444), (2836, 0.0), (2837, 0.003885609472812526), (2838, 0.00885983425392993), (2839, 0.01432982308427772), (2840, 0.012804697945936366), (2841, 0.0), (2842, 0.019221259970358263), (2843, 0.0), (2844, 0.0), (2845, 0.0), (2846, 0.0), (2847, 0.014251698621595447), (2848, 0.0), (2849, 0.006520492966435331), (2850, 0.0), (2851, 0.0), (2852, 0.0), (2853, 0.030059512862444182), (2854, 0.008977185162362874), (2855, 0.01632160933878569), (2856, 0.0), (2857, 0.0), (2858, 0.007075341120814295), (2859, 0.007242730290515704), (2860, 0.0), (2861, 0.0), (2862, 0.025473987896133133), (2863, 0.0), (2864, 0.042059598033902315), (2865, 0.015821154691754383), (2866, 0.009161777520083222), (2867, 0.0), (2868, 0.014168097356153113), (2869, 0.0076153516438734505), (2870, 0.0), (2871, 0.0), (2872, 0.0), (2873, 0.0), (2874, 0.0), (2875, 0.0), (2876, 0.010111425474166517), (2877, 0.019288769420785667), (2878, 0.016928296994960998), (2879, 0.00578491596644473), (2880, 0.031325191588957114), (2881, 0.032610298996912035), (2882, 0.0), (2883, 0.019371732042126243), (2884, 0.0), (2885, 0.0), (2886, 0.0), (2887, 0.032126846337996694), (2888, 0.0), (2889, 0.016067343464995252), (2890, 0.0), (2891, 0.013135012433538434), (2892, 0.0), (2893, 0.0), (2894, 0.0), (2895, 0.00802627804701598), (2896, 0.0), (2897, 0.0), (2898, 0.019996017710771356), (2899, 0.0), (2900, 0.0), (2901, 0.0), (2902, 0.0), (2903, 0.050346202428952797), (2904, 0.0), (2905, 0.0), (2906, 0.0), (2907, 0.0), (2908, 0.0), (2909, 0.0), (2910, 0.010192073403326344), (2911, 0.0), (2912, 0.0378410150627833), (2913, 0.0), (2914, 0.0), (2915, 0.0), (2916, 0.0), (2917, 0.0), (2918, 0.0), (2919, 0.0), (2920, 0.0), (2921, 0.0), (2922, 0.0), (2923, 0.0), (2924, 0.0), (2925, 0.0), (2926, 0.0), (2927, 0.0), (2928, 0.0), (2929, 0.0), (2930, 0.0), (2931, 0.0), (2932, 0.03100677548505204), (2933, 0.0), (2934, 0.0070146543228887205), (2935, 0.0), (2936, 0.0), (2937, 0.0), (2938, 0.013562437518668584), (2939, 0.0), (2940, 0.010938810886194219), (2941, 0.0), (2942, 0.0), (2943, 0.012190572511524988), (2944, 0.012455053147656948), (2945, 0.025766549672376644), (2946, 0.04082648591430457), (2947, 0.0), (2948, 0.00915585056341505), (2949, 0.0), (2950, 0.0), (2951, 0.0), (2952, 0.0), (2953, 0.0), (2954, 0.0), (2955, 0.0), (2956, 0.02428283749250156), (2957, 0.0), (2958, 0.0), (2959, 0.007689454328467504), (2960, 0.005491286018960722), (2961, 0.005044428634670451), (2962, 0.0), (2963, 0.010642856456551162), (2964, 0.0), (2965, 0.0), (2966, 0.03557293446852536), (2967, 0.0), (2968, 0.0), (2969, 0.013434145289525726), (2970, 0.010907726544400882), (2971, 0.0), (2972, 0.00745835686222312), (2973, 0.022267649828065526), (2974, 0.0), (2975, 0.0), (2976, 0.0076124150644641675), (2977, 0.0), (2978, 0.00854391778650015), (2979, 0.0), (2980, 0.0), (2981, 0.0), (2982, 0.0), (2983, 0.0), (2984, 0.0), (2985, 0.028313302377333465), (2986, 0.0), (2987, 0.0), (2988, 0.0), (2989, 0.0), (2990, 0.011187166653788732), (2991, 0.0), (2992, 0.0), (2993, 0.0), (2994, 0.00940466888580304), (2995, 0.0), (2996, 0.0), (2997, 0.0), (2998, 0.0), (2999, 0.004154851542520509), (3000, 0.0), (3001, 0.0), (3002, 0.0), (3003, 0.01994935118085661), (3004, 0.0), (3005, 0.0), (3006, 0.0), (3007, 0.0), (3008, 0.0), (3009, 0.014977776750344155), (3010, 0.0), (3011, 0.0), (3012, 0.0), (3013, 0.0), (3014, 0.0), (3015, 0.0), (3016, 0.01746291877791742), (3017, 0.016155151193321345), (3018, 0.0), (3019, 0.0), (3020, 0.0), (3021, 0.0), (3022, 0.0), (3023, 0.0), (3024, 0.0), (3025, 0.011919279839557125), (3026, 0.0), (3027, 0.0), (3028, 0.0), (3029, 0.006961857342142154), (3030, 0.0), (3031, 0.0376064114654591), (3032, 0.0), (3033, 0.0), (3034, 0.0), (3035, 0.014572817039611599), (3036, 0.0), (3037, 0.0), (3038, 0.0), (3039, 0.0), (3040, 0.0), (3041, 0.0), (3042, 0.0), (3043, 0.011478655960345906), (3044, 0.0), (3045, 0.0), (3046, 0.0), (3047, 0.0), (3048, 0.0), (3049, 0.0), (3050, 0.0), (3051, 0.028021347155150447), (3052, 0.0), (3053, 0.0), (3054, 0.0), (3055, 0.0), (3056, 0.0), (3057, 0.0), (3058, 0.0), (3059, 0.0), (3060, 0.0), (3061, 0.008549182417298825), (3062, 0.0), (3063, 0.0), (3064, 0.007739951501812383), (3065, 0.0), (3066, 0.0), (3067, 0.0), (3068, 0.016811397357952642), (3069, 0.01070785114984992), (3070, 0.0663029100544252), (3071, 0.021243782394810284), (3072, 0.008007259895868084), (3073, 0.0045405926071641674), (3074, 0.017505916780650436), (3075, 0.0), (3076, 0.0), (3077, 0.02506442216329504), (3078, 0.008453275882322616), (3079, 0.0), (3080, 0.02866235757243455), (3081, 0.0), (3082, 0.0), (3083, 0.0), (3084, 0.0), (3085, 0.007668296178935834), (3086, 0.0), (3087, 0.0), (3088, 0.0), (3089, 0.01916439069779488), (3090, 0.0), (3091, 0.0), (3092, 0.0), (3093, 0.0), (3094, 0.0), (3095, 0.020956751490634872), (3096, 0.013455446878681084), (3097, 0.030429127660832965), (3098, 0.0), (3099, 0.0), (3100, 0.0), (3101, 0.0), (3102, 0.004753014294368376), (3103, 0.007929126081894439), (3104, 0.012568914961363243), (3105, 0.0), (3106, 0.018215344552185233), (3107, 0.0), (3108, 0.0), (3109, 0.0), (3110, 0.0), (3111, 0.0), (3112, 0.012602515732465538), (3113, 0.0), (3114, 0.0), (3115, 0.0), (3116, 0.0), (3117, 0.0), (3118, 0.0), (3119, 0.0), (3120, 0.03283353111455399), (3121, 0.0), (3122, 0.0), (3123, 0.0), (3124, 0.0), (3125, 0.0), (3126, 0.0), (3127, 0.0), (3128, 0.0), (3129, 0.030061077089146845), (3130, 0.012026865144122146), (3131, 0.0), (3132, 0.0), (3133, 0.0), (3134, 0.009947488848370973), (3135, 0.0), (3136, 0.0), (3137, 0.0), (3138, 0.0), (3139, 0.0), (3140, 0.009613244315657793), (3141, 0.0), (3142, 0.0), (3143, 0.0), (3144, 0.00825694954872568), (3145, 0.0), (3146, 0.0), (3147, 0.0), (3148, 0.0), (3149, 0.014060507977360654), (3150, 0.0), (3151, 0.00910820756149431), (3152, 0.0), (3153, 0.0), (3154, 0.0), (3155, 0.006374039389598304), (3156, 0.015223996559679823), (3157, 0.0), (3158, 0.06674851444058796), (3159, 0.020508657634822132), (3160, 0.0), (3161, 0.008587364643321944), (3162, 0.0), (3163, 0.010840104560219546), (3164, 0.0), (3165, 0.0), (3166, 0.0), (3167, 0.0), (3168, 0.0), (3169, 0.008971748080620989), (3170, 0.030883807004759012), (3171, 0.009323207661533776), (3172, 0.014780609134173039), (3173, 0.0), (3174, 0.0), (3175, 0.0), (3176, 0.0062439442057793835), (3177, 0.04254113963935591), (3178, 0.0), (3179, 0.007766201140175894), (3180, 0.017418258450758794), (3181, 0.03754566692383394), (3182, 0.024766645371015656), (3183, 0.010189012253678287), (3184, 0.038320525976594924), (3185, 0.0), (3186, 0.0), (3187, 0.023681351543584833), (3188, 0.01673166047576511), (3189, 0.013545236159193504), (3190, 0.0), (3191, 0.0), (3192, 0.016216091849092548), (3193, 0.0), (3194, 0.0), (3195, 0.0), (3196, 0.0), (3197, 0.0), (3198, 0.031888505339272885), (3199, 0.011662846775673065), (3200, 0.0), (3201, 0.007914130658063824), (3202, 0.0), (3203, 0.0), (3204, 0.0), (3205, 0.005358978828493362), (3206, 0.0), (3207, 0.008281340026495746), (3208, 0.0), (3209, 0.0), (3210, 0.01233592538643367), (3211, 0.03746795183608422), (3212, 0.013285496003937775), (3213, 0.0), (3214, 0.0), (3215, 0.0), (3216, 0.010501198296901382), (3217, 0.0), (3218, 0.0), (3219, 0.006810585751519973), (3220, 0.015951222135864907), (3221, 0.011951049047818229), (3222, 0.0), (3223, 0.0), (3224, 0.0), (3225, 0.0), (3226, 0.0), (3227, 0.0), (3228, 0.004858171065549772), (3229, 0.0), (3230, 0.0), (3231, 0.0), (3232, 0.011388335962912003), (3233, 0.027261959789236075), (3234, 0.023145497749739962), (3235, 0.0), (3236, 0.0), (3237, 0.0), (3238, 0.0), (3239, 0.004904395746629076), (3240, 0.0), (3241, 0.0), (3242, 0.0), (3243, 0.0), (3244, 0.0), (3245, 0.008502751128732697), (3246, 0.0), (3247, 0.0), (3248, 0.0), (3249, 0.0), (3250, 0.050270583994436416), (3251, 0.0), (3252, 0.0), (3253, 0.0), (3254, 0.0), (3255, 0.0), (3256, 0.0), (3257, 0.05055821268655149), (3258, 0.0060914014320862225), (3259, 0.0), (3260, 0.0), (3261, 0.0), (3262, 0.0), (3263, 0.0), (3264, 0.017334078832856516), (3265, 0.004993838542231288), (3266, 0.0), (3267, 0.003041347969757755), (3268, 0.0), (3269, 0.0), (3270, 0.0), (3271, 0.012739039824984595), (3272, 0.0), (3273, 0.0), (3274, 0.006341131668051717), (3275, 0.0), (3276, 0.0), (3277, 0.0), (3278, 0.010088151404097113), (3279, 0.0), (3280, 0.0), (3281, 0.0), (3282, 0.0), (3283, 0.0), (3284, 0.0), (3285, 0.0), (3286, 0.0), (3287, 0.0), (3288, 0.0), (3289, 0.009139220169286148), (3290, 0.02422952456337204), (3291, 0.0), (3292, 0.0), (3293, 0.03924679682021076), (3294, 0.0), (3295, 0.015288740504732529), (3296, 0.0), (3297, 0.0), (3298, 0.014379953185643736), (3299, 0.004170373785103489), (3300, 0.0), (3301, 0.0), (3302, 0.0), (3303, 0.0), (3304, 0.0), (3305, 0.0), (3306, 0.009588967330764038), (3307, 0.05818165213153233), (3308, 0.0), (3309, 0.013133583904501407), (3310, 0.0), (3311, 0.009590798049410848), (3312, 0.019655336255835598), (3313, 0.0), (3314, 0.0), (3315, 0.037912340065015385), (3316, 0.013810581393641937), (3317, 0.0), (3318, 0.0), (3319, 0.004128328135030752), (3320, 0.0), (3321, 0.0), (3322, 0.0), (3323, 0.0), (3324, 0.010200984681955067), (3325, 0.0), (3326, 0.0), (3327, 0.020871873030299127), (3328, 0.019872776254875428), (3329, 0.0), (3330, 0.0), (3331, 0.0), (3332, 0.010019997331769474), (3333, 0.0), (3334, 0.03239065547779168), (3335, 0.0), (3336, 0.00728753216009562), (3337, 0.0), (3338, 0.019556149409392293), (3339, 0.0059022977994259195), (3340, 0.02965919322841213), (3341, 0.010698028114746056), (3342, 0.0), (3343, 0.0), (3344, 0.0), (3345, 0.013660870354560053), (3346, 0.005193614923230716), (3347, 0.0), (3348, 0.0), (3349, 0.010405030360554686), (3350, 0.0), (3351, 0.0), (3352, 0.0), (3353, 0.009910654044965746), (3354, 0.0), (3355, 0.0), (3356, 0.0), (3357, 0.018771431426543177), (3358, 0.0), (3359, 0.0), (3360, 0.0), (3361, 0.0), (3362, 0.0), (3363, 0.011528528095780881), (3364, 0.0), (3365, 0.0), (3366, 0.0), (3367, 0.0), (3368, 0.0219792096811297), (3369, 0.0), (3370, 0.026472492110606188), (3371, 0.0), (3372, 0.011129881428125888), (3373, 0.0), (3374, 0.0), (3375, 0.0), (3376, 0.0), (3377, 0.021671378749679438), (3378, 0.0), (3379, 0.0), (3380, 0.0), (3381, 0.0), (3382, 0.0), (3383, 0.0), (3384, 0.003976458639919375), (3385, 0.0), (3386, 0.0), (3387, 0.0), (3388, 0.0), (3389, 0.0), (3390, 0.0), (3391, 0.0), (3392, 0.0), (3393, 0.0), (3394, 0.0), (3395, 0.0), (3396, 0.01535900680413895), (3397, 0.0), (3398, 0.0), (3399, 0.0), (3400, 0.0), (3401, 0.0), (3402, 0.0), (3403, 0.0), (3404, 0.010475378149946661), (3405, 0.01866477500883189), (3406, 0.0), (3407, 0.008114680050719903), (3408, 0.0), (3409, 0.0), (3410, 0.0), (3411, 0.0), (3412, 0.0), (3413, 0.0), (3414, 0.0), (3415, 0.0), (3416, 0.0), (3417, 0.0), (3418, 0.0), (3419, 0.0030178718453349996), (3420, 0.0), (3421, 0.0), (3422, 0.0), (3423, 0.0), (3424, 0.0), (3425, 0.012569535179912637), (3426, 0.0), (3427, 0.0), (3428, 0.0), (3429, 0.0), (3430, 0.0), (3431, 0.032912461832407446), (3432, 0.0), (3433, 0.008013038370755), (3434, 0.0), (3435, 0.0), (3436, 0.0), (3437, 0.0), (3438, 0.007537215635545822), (3439, 0.0), (3440, 0.0), (3441, 0.01151771605658613), (3442, 0.0), (3443, 0.008272730532046513), (3444, 0.02431270840302155), (3445, 0.0), (3446, 0.0), (3447, 0.010290391423939447), (3448, 0.0), (3449, 0.0), (3450, 0.0), (3451, 0.012153742414390151), (3452, 0.0), (3453, 0.047454754645278985), (3454, 0.0), (3455, 0.06125490164474858), (3456, 0.0), (3457, 0.0), (3458, 0.005657608342551938), (3459, 0.0), (3460, 0.0), (3461, 0.0), (3462, 0.0), (3463, 0.0), (3464, 0.004093707309804796), (3465, 0.0), (3466, 0.0), (3467, 0.0), (3468, 0.0), (3469, 0.024545733512549225), (3470, 0.0), (3471, 0.0), (3472, 0.0), (3473, 0.0), (3474, 0.0), (3475, 0.0), (3476, 0.0), (3477, 0.0), (3478, 0.0), (3479, 0.0), (3480, 0.0), (3481, 0.014425386010043258), (3482, 0.0), (3483, 0.0), (3484, 0.01493618439614096), (3485, 0.02084594958075598), (3486, 0.0), (3487, 0.0), (3488, 0.016555973475213513), (3489, 0.0), (3490, 0.0), (3491, 0.04159489248845459), (3492, 0.01341194396146409), (3493, 0.0), (3494, 0.0), (3495, 0.0), (3496, 0.0), (3497, 0.0), (3498, 0.015514282309955385), (3499, 0.009887581614602157), (3500, 0.0), (3501, 0.006641530373970852), (3502, 0.002645102405774888), (3503, 0.0), (3504, 0.0), (3505, 0.0), (3506, 0.0), (3507, 0.008641830001227558), (3508, 0.0), (3509, 0.061052675679804984), (3510, 0.0), (3511, 0.0), (3512, 0.004804376358003947), (3513, 0.0), (3514, 0.0), (3515, 0.01980351103774544), (3516, 0.0), (3517, 0.0), (3518, 0.005503701797983651), (3519, 0.04007247834097643), (3520, 0.0), (3521, 0.010341238728159854), (3522, 0.006192765902431984), (3523, 0.0), (3524, 0.00795157796135248), (3525, 0.0), (3526, 0.0), (3527, 0.0), (3528, 0.007502008473570527), (3529, 0.0), (3530, 0.0), (3531, 0.0), (3532, 0.03128196105690083), (3533, 0.0), (3534, 0.0), (3535, 0.0), (3536, 0.0), (3537, 0.0), (3538, 0.0029872130584897663), (3539, 0.009885167723236714), (3540, 0.03601068436456614), (3541, 0.0), (3542, 0.008766192099324482), (3543, 0.01665477119553721), (3544, 0.0), (3545, 0.0), (3546, 0.0), (3547, 0.012368978136044652), (3548, 0.0), (3549, 0.0), (3550, 0.007101998029737873), (3551, 0.0), (3552, 0.0), (3553, 0.0), (3554, 0.015870364563430855), (3555, 0.0), (3556, 0.0), (3557, 0.0), (3558, 0.0), (3559, 0.0), (3560, 0.0), (3561, 0.0), (3562, 0.0), (3563, 0.0), (3564, 0.0), (3565, 0.0), (3566, 0.0), (3567, 0.0), (3568, 0.009700725011963738), (3569, 0.0), (3570, 0.02871136017334349), (3571, 0.0), (3572, 0.0), (3573, 0.0), (3574, 0.0067501717113582155), (3575, 0.0), (3576, 0.0), (3577, 0.0), (3578, 0.0), (3579, 0.0), (3580, 0.024047512075502212), (3581, 0.0), (3582, 0.02218639996843598), (3583, 0.04517161541153995), (3584, 0.0), (3585, 0.0), (3586, 0.03533697989897103), (3587, 0.0), (3588, 0.0), (3589, 0.0), (3590, 0.0033208605676350446), (3591, 0.012059384721943367), (3592, 0.014483152054358659), (3593, 0.0), (3594, 0.0), (3595, 0.0184914556436632), (3596, 0.0), (3597, 0.017182203489738458), (3598, 0.0), (3599, 0.0), (3600, 0.0), (3601, 0.0), (3602, 0.0), (3603, 0.0), (3604, 0.0), (3605, 0.008247753266043358), (3606, 0.017129804174383142), (3607, 0.024284608610367416), (3608, 0.0), (3609, 0.0), (3610, 0.0), (3611, 0.0), (3612, 0.012310363268670459), (3613, 0.0), (3614, 0.03332195926695107), (3615, 0.0), (3616, 0.0), (3617, 0.0), (3618, 0.0), (3619, 0.0), (3620, 0.0), (3621, 0.013426912572778045), (3622, 0.010331378000455816), (3623, 0.0), (3624, 0.0), (3625, 0.016720086492798224), (3626, 0.00622359175615829), (3627, 0.0), (3628, 0.0), (3629, 0.0), (3630, 0.0), (3631, 0.0), (3632, 0.0), (3633, 0.0), (3634, 0.0), (3635, 0.005028296181150486), (3636, 0.008110684738819407), (3637, 0.0), (3638, 0.0), (3639, 0.0), (3640, 0.013933751827605844), (3641, 0.0), (3642, 0.0), (3643, 0.05110414481943675), (3644, 0.007975304439344045), (3645, 0.0), (3646, 0.0), (3647, 0.0), (3648, 0.0), (3649, 0.0), (3650, 0.0), (3651, 0.0), (3652, 0.0), (3653, 0.0), (3654, 0.0), (3655, 0.0), (3656, 0.0), (3657, 0.0), (3658, 0.0), (3659, 0.004993959715067839), (3660, 0.0), (3661, 0.0), (3662, 0.01826803461780105), (3663, 0.0), (3664, 0.004546063379674418), (3665, 0.0), (3666, 0.0), (3667, 0.0), (3668, 0.0), (3669, 0.0), (3670, 0.0), (3671, 0.0), (3672, 0.039079031599078023), (3673, 0.0139163976019302), (3674, 0.0), (3675, 0.0), (3676, 0.0), (3677, 0.0), (3678, 0.0), (3679, 0.00800608884265627), (3680, 0.0), (3681, 0.0), (3682, 0.0), (3683, 0.0), (3684, 0.015391818028109367), (3685, 0.0), (3686, 0.0), (3687, 0.0), (3688, 0.0), (3689, 0.06187063405709769), (3690, 0.0), (3691, 0.0), (3692, 0.0), (3693, 0.0), (3694, 0.0), (3695, 0.0), (3696, 0.02071220550603332), (3697, 0.0), (3698, 0.0), (3699, 0.01157627875621091), (3700, 0.01944317587552168), (3701, 0.0), (3702, 0.0), (3703, 0.031127206275966747), (3704, 0.0), (3705, 0.01732889875354165), (3706, 0.005784895420873937), (3707, 0.013454603234085465), (3708, 0.0), (3709, 0.0), (3710, 0.021678859008677654), (3711, 0.009240591576261633), (3712, 0.012598335773939923), (3713, 0.006890305750705038), (3714, 0.008508565932109378), (3715, 0.0), (3716, 0.0), (3717, 0.0032496115851930758), (3718, 0.0), (3719, 0.015943055840356185), (3720, 0.0), (3721, 0.025914673246794542), (3722, 0.0), (3723, 0.027350094047347676), (3724, 0.0), (3725, 0.0), (3726, 0.010732914429236002), (3727, 0.0), (3728, 0.013716630859396882), (3729, 0.009108443691464805), (3730, 0.0), (3731, 0.0), (3732, 0.0), (3733, 0.0), (3734, 0.0), (3735, 0.0), (3736, 0.0057948256777162616), (3737, 0.0), (3738, 0.0), (3739, 0.0), (3740, 0.0), (3741, 0.0), (3742, 0.022516661665087846), (3743, 0.0), (3744, 0.0), (3745, 0.0), (3746, 0.0), (3747, 0.0), (3748, 0.012955623528107951), (3749, 0.0), (3750, 0.0), (3751, 0.0), (3752, 0.0), (3753, 0.0), (3754, 0.0), (3755, 0.0), (3756, 0.007774052701745936), (3757, 0.0), (3758, 0.0), (3759, 0.0), (3760, 0.005268271910118028), (3761, 0.009869868266079251), (3762, 0.0), (3763, 0.0), (3764, 0.0), (3765, 0.0), (3766, 0.003909375074571366), (3767, 0.016541548372986773), (3768, 0.0), (3769, 0.0), (3770, 0.00805690876459908), (3771, 0.0), (3772, 0.0), (3773, 0.0), (3774, 0.0), (3775, 0.0), (3776, 0.021442756651369688), (3777, 0.0), (3778, 0.014513460114978097), (3779, 0.0), (3780, 0.0), (3781, 0.021520884047820564), (3782, 0.010291790176665313), (3783, 0.0), (3784, 0.014234203458550395), (3785, 0.009506233542697076), (3786, 0.0), (3787, 0.0), (3788, 0.03444230542009554), (3789, 0.0), (3790, 0.0), (3791, 0.018104424810039172), (3792, 0.0), (3793, 0.029755129802155472), (3794, 0.0), (3795, 0.009980721647960433), (3796, 0.007671458595851303), (3797, 0.0), (3798, 0.0), (3799, 0.0), (3800, 0.015415320162567546), (3801, 0.0), (3802, 0.017129621992648603), (3803, 0.0), (3804, 0.0), (3805, 0.03255645762902004), (3806, 0.0), (3807, 0.015669798917573544), (3808, 0.005415577709956174), (3809, 0.0), (3810, 0.0), (3811, 0.026934972004213), (3812, 0.0), (3813, 0.0), (3814, 0.014116453600552865), (3815, 0.05222957716217504), (3816, 0.01514353005730762), (3817, 0.0), (3818, 0.0), (3819, 0.003968435529260862), (3820, 0.011520335912867738), (3821, 0.02574058442262833), (3822, 0.0), (3823, 0.0), (3824, 0.0), (3825, 0.0), (3826, 0.0), (3827, 0.003631019552642478), (3828, 0.0), (3829, 0.0), (3830, 0.009397976838660163), (3831, 0.0), (3832, 0.0), (3833, 0.0), (3834, 0.04764153290725255), (3835, 0.007280349431713043), (3836, 0.0), (3837, 0.0), (3838, 0.0), (3839, 0.013280154131137511), (3840, 0.0), (3841, 0.003475043024611534), (3842, 0.0), (3843, 0.024428154496505206), (3844, 0.0), (3845, 0.0), (3846, 0.0), (3847, 0.004823974757344658), (3848, 0.0129772530059182), (3849, 0.0), (3850, 0.0), (3851, 0.018976347520570053), (3852, 0.0), (3853, 0.0), (3854, 0.01585700638923243), (3855, 0.0), (3856, 0.0), (3857, 0.0057865598679027195), (3858, 0.02301787242474993), (3859, 0.0), (3860, 0.0), (3861, 0.0), (3862, 0.0), (3863, 0.05726928830101721), (3864, 0.010662877156445986), (3865, 0.004749589022317719), (3866, 0.0), (3867, 0.0), (3868, 0.005220931655998728), (3869, 0.0), (3870, 0.0), (3871, 0.0), (3872, 0.0), (3873, 0.0), (3874, 0.0), (3875, 0.0), (3876, 0.011370350133841975), (3877, 0.0), (3878, 0.01131881244245116), (3879, 0.0), (3880, 0.07931451685740733), (3881, 0.0), (3882, 0.0), (3883, 0.0), (3884, 0.0), (3885, 0.0), (3886, 0.0), (3887, 0.0), (3888, 0.0), (3889, 0.0), (3890, 0.0), (3891, 0.010719187585808946), (3892, 0.01030254246788111), (3893, 0.0), (3894, 0.0), (3895, 0.0), (3896, 0.004189484146377364), (3897, 0.0), (3898, 0.0), (3899, 0.0), (3900, 0.006948017984752727), (3901, 0.0), (3902, 0.009471138987218894), (3903, 0.0), (3904, 0.0), (3905, 0.01834473995243182), (3906, 0.015746622553494526), (3907, 0.0), (3908, 0.0), (3909, 0.030474033208746042), (3910, 0.009515025815059098), (3911, 0.0), (3912, 0.007566177524238342), (3913, 0.0), (3914, 0.0), (3915, 0.0), (3916, 0.0), (3917, 0.0), (3918, 0.0), (3919, 0.008835372105544987), (3920, 0.0), (3921, 0.0), (3922, 0.0), (3923, 0.0), (3924, 0.0), (3925, 0.0), (3926, 0.011509260065906652), (3927, 0.0), (3928, 0.0), (3929, 0.0), (3930, 0.0), (3931, 0.0), (3932, 0.019863210677081355), (3933, 0.0), (3934, 0.0), (3935, 0.013533641924249617), (3936, 0.0), (3937, 0.0), (3938, 0.0), (3939, 0.0), (3940, 0.0), (3941, 0.0), (3942, 0.0), (3943, 0.0), (3944, 0.0138611704799251), (3945, 0.0), (3946, 0.0), (3947, 0.0), (3948, 0.0), (3949, 0.0), (3950, 0.0), (3951, 0.0), (3952, 0.0), (3953, 0.0), (3954, 0.009013804482468123), (3955, 0.012182076503228506), (3956, 0.0), (3957, 0.0), (3958, 0.0), (3959, 0.07663107055984399), (3960, 0.020955192266762283), (3961, 0.0), (3962, 0.010062329195410245), (3963, 0.0), (3964, 0.0), (3965, 0.0), (3966, 0.0), (3967, 0.0), (3968, 0.03686806286133484), (3969, 0.0), (3970, 0.0), (3971, 0.0), (3972, 0.021874033785217496), (3973, 0.0), (3974, 0.010281912243037202), (3975, 0.0), (3976, 0.0), (3977, 0.0), (3978, 0.029008280076523216), (3979, 0.0), (3980, 0.0), (3981, 0.006851840661415608), (3982, 0.0), (3983, 0.0), (3984, 0.027901620046420945), (3985, 0.0), (3986, 0.011961686050945962), (3987, 0.0), (3988, 0.004220597345367729), (3989, 0.0), (3990, 0.0), (3991, 0.0), (3992, 0.0), (3993, 0.0), (3994, 0.012470520167661535), (3995, 0.0), (3996, 0.0), (3997, 0.0), (3998, 0.0), (3999, 0.0), (4000, 0.02195468590097418), (4001, 0.012411839420488192), (4002, 0.0), (4003, 0.007396565164595595), (4004, 0.022135471906713652), (4005, 0.0), (4006, 0.0), (4007, 0.006789460654128442), (4008, 0.005683678520948048), (4009, 0.027788977756949503), (4010, 0.006416065298598923), (4011, 0.0), (4012, 0.0), (4013, 0.0), (4014, 0.0), (4015, 0.0), (4016, 0.008535150597610383), (4017, 0.0), (4018, 0.0), (4019, 0.0), (4020, 0.0), (4021, 0.004424060810020058), (4022, 0.0), (4023, 0.019916605464746294), (4024, 0.0), (4025, 0.0), (4026, 0.0), (4027, 0.0), (4028, 0.0), (4029, 0.0), (4030, 0.0), (4031, 0.008552072868883676), (4032, 0.0), (4033, 0.0), (4034, 0.0), (4035, 0.0), (4036, 0.0), (4037, 0.0), (4038, 0.0), (4039, 0.02053026579069972), (4040, 0.033313506662236377), (4041, 0.0), (4042, 0.0226102758965946), (4043, 0.0), (4044, 0.0), (4045, 0.016357129635708477), (4046, 0.0386605107864796), (4047, 0.0), (4048, 0.0), (4049, 0.00862262733931645), (4050, 0.0), (4051, 0.007832553238730207), (4052, 0.0), (4053, 0.012247935719983751), (4054, 0.0), (4055, 0.0), (4056, 0.0), (4057, 0.0), (4058, 0.013280303892955012), (4059, 0.0), (4060, 0.0), (4061, 0.013949465429375278), (4062, 0.0), (4063, 0.0), (4064, 0.009595954703689706), (4065, 0.0), (4066, 0.005567530776961706), (4067, 0.0), (4068, 0.017108352425223964), (4069, 0.018085162643204852), (4070, 0.0), (4071, 0.0), (4072, 0.005987415709737649), (4073, 0.0), (4074, 0.0), (4075, 0.0), (4076, 0.007724958803364171), (4077, 0.018196314789193105), (4078, 0.0), (4079, 0.0), (4080, 0.015908030412487277), (4081, 0.0), (4082, 0.0), (4083, 0.0), (4084, 0.0), (4085, 0.0), (4086, 0.0), (4087, 0.0), (4088, 0.0), (4089, 0.0), (4090, 0.013542024152644232), (4091, 0.0028844823958808067), (4092, 0.0), (4093, 0.0), (4094, 0.030308326847876), (4095, 0.0), (4096, 0.04203050837480675), (4097, 0.019394422502066362), (4098, 0.015488952459553874), (4099, 0.0), (4100, 0.0), (4101, 0.0), (4102, 0.0), (4103, 0.008305431039230746), (4104, 0.009933569744816548), (4105, 0.0), (4106, 0.015556719174470943), (4107, 0.01945590737708611), (4108, 0.007852353491960737), (4109, 0.003814088580745978), (4110, 0.06538632377568405), (4111, 0.0), (4112, 0.007825440520554084), (4113, 0.0), (4114, 0.0), (4115, 0.0), (4116, 0.009015496046781495), (4117, 0.05785326636356587), (4118, 0.0), (4119, 0.0), (4120, 0.0), (4121, 0.014875036089700706), (4122, 0.0), (4123, 0.0), (4124, 0.0), (4125, 0.0), (4126, 0.012535036452182539), (4127, 0.0), (4128, 0.0), (4129, 0.0), (4130, 0.0), (4131, 0.018628541496924864), (4132, 0.0), (4133, 0.0), (4134, 0.0), (4135, 0.0), (4136, 0.01846596245174515), (4137, 0.0), (4138, 0.0), (4139, 0.0), (4140, 0.013876320606567894), (4141, 0.0), (4142, 0.0), (4143, 0.007991391853736056), (4144, 0.0), (4145, 0.0), (4146, 0.0), (4147, 0.008663604667578439), (4148, 0.0), (4149, 0.0), (4150, 0.0), (4151, 0.0), (4152, 0.004337337573928409), (4153, 0.015780231917206258), (4154, 0.0), (4155, 0.0), (4156, 0.0), (4157, 0.007620070794890776), (4158, 0.010542165089359526), (4159, 0.0), (4160, 0.006660844859703348), (4161, 0.007577769445011295), (4162, 0.0), (4163, 0.024821970498616616), (4164, 0.0), (4165, 0.016619085452574695), (4166, 0.021690275526883417), (4167, 0.0), (4168, 0.0), (4169, 0.009315540641588653), (4170, 0.0), (4171, 0.010813842012242371), (4172, 0.0), (4173, 0.0), (4174, 0.0), (4175, 0.010566236133092892), (4176, 0.010197199633882959), (4177, 0.0), (4178, 0.0), (4179, 0.0), (4180, 0.0), (4181, 0.0), (4182, 0.021690392586367905), (4183, 0.011011616046641382), (4184, 0.0), (4185, 0.0), (4186, 0.0), (4187, 0.0), (4188, 0.008171215953421289), (4189, 0.005047687063105495), (4190, 0.0), (4191, 0.0), (4192, 0.0), (4193, 0.0), (4194, 0.00860537588485686), (4195, 0.0), (4196, 0.036585509204192075), (4197, 0.0), (4198, 0.0), (4199, 0.019674186989608974), (4200, 0.0), (4201, 0.0), (4202, 0.0), (4203, 0.0), (4204, 0.0), (4205, 0.018794807705731553), (4206, 0.0), (4207, 0.0), (4208, 0.00785070288057334), (4209, 0.0), (4210, 0.0), (4211, 0.01569548533202734), (4212, 0.0), (4213, 0.0), (4214, 0.0), (4215, 0.0), (4216, 0.0), (4217, 0.010515712866174958), (4218, 0.026253263597247188), (4219, 0.019518566318694867), (4220, 0.0), (4221, 0.0), (4222, 0.0), (4223, 0.0), (4224, 0.003387298465473346), (4225, 0.0), (4226, 0.017111944514260582), (4227, 0.0), (4228, 0.0), (4229, 0.005767945474004355), (4230, 0.0), (4231, 0.0), (4232, 0.0), (4233, 0.008747658855687807), (4234, 0.006093894008147285), (4235, 0.008774499844609646), (4236, 0.0), (4237, 0.0), (4238, 0.00445247441590002), (4239, 0.0), (4240, 0.0), (4241, 0.01212925654290115), (4242, 0.0), (4243, 0.0), (4244, 0.0), (4245, 0.0), (4246, 0.010554867988423354), (4247, 0.0), (4248, 0.0), (4249, 0.00948982616628189), (4250, 0.0042395218252326205), (4251, 0.0), (4252, 0.004554485835237575), (4253, 0.0065192025080077765), (4254, 0.0), (4255, 0.0077398831032219765), (4256, 0.007050136716700395), (4257, 0.0), (4258, 0.0), (4259, 0.029561411913438557), (4260, 0.020596060957362126), (4261, 0.013045197652485399), (4262, 0.0), (4263, 0.03265878822792689), (4264, 0.0), (4265, 0.0), (4266, 0.0), (4267, 0.0), (4268, 0.022062634867114097), (4269, 0.0), (4270, 0.0054946884499581915), (4271, 0.012426962957621513), (4272, 0.0), (4273, 0.0), (4274, 0.0), (4275, 0.0), (4276, 0.02705964725928076), (4277, 0.0), (4278, 0.0), (4279, 0.0), (4280, 0.0), (4281, 0.0), (4282, 0.0), (4283, 0.004603609426598221), (4284, 0.0), (4285, 0.026692317720859445), (4286, 0.0), (4287, 0.0), (4288, 0.0), (4289, 0.0), (4290, 0.010126509013810996), (4291, 0.0), (4292, 0.0), (4293, 0.0), (4294, 0.025303990074116732), (4295, 0.0), (4296, 0.0), (4297, 0.0), (4298, 0.0), (4299, 0.0), (4300, 0.0), (4301, 0.0), (4302, 0.0), (4303, 0.0), (4304, 0.005506179357604461), (4305, 0.012454866170190254), (4306, 0.021017267336128236), (4307, 0.0), (4308, 0.0), (4309, 0.0), (4310, 0.014908098945821905), (4311, 0.0), (4312, 0.04151729631459732), (4313, 0.013183187941369488), (4314, 0.011184568116311428), (4315, 0.007122762436631369), (4316, 0.0), (4317, 0.037912340065015385), (4318, 0.004464863837442593), (4319, 0.0), (4320, 0.0), (4321, 0.0), (4322, 0.0), (4323, 0.01687442790026842), (4324, 0.0), (4325, 0.00933163470869047), (4326, 0.0), (4327, 0.02104793138732358), (4328, 0.0), (4329, 0.0), (4330, 0.0), (4331, 0.023239278312275125), (4332, 0.007380127222006411), (4333, 0.00554385627048943), (4334, 0.01822893537238477), (4335, 0.04454105434506643), (4336, 0.0), (4337, 0.02476321567864328), (4338, 0.0), (4339, 0.015390741082251542), (4340, 0.0), (4341, 0.0), (4342, 0.014840252844558881), (4343, 0.030575584177507283), (4344, 0.0), (4345, 0.0), (4346, 0.0), (4347, 0.012090195416849019), (4348, 0.011404928218446044), (4349, 0.0), (4350, 0.04388103970654694), (4351, 0.017884106170908493), (4352, 0.0), (4353, 0.0), (4354, 0.018746180278507715), (4355, 0.008725485313235791), (4356, 0.0), (4357, 0.0), (4358, 0.03233720323053739), (4359, 0.03023130188998168), (4360, 0.0), (4361, 0.00891837405271147), (4362, 0.011026773367225316), (4363, 0.0), (4364, 0.0), (4365, 0.004211287463052326), (4366, 0.007313905232810331), (4367, 0.0), (4368, 0.008753718661056257), (4369, 0.038695899158582785), (4370, 0.0), (4371, 0.028690438057861138), (4372, 0.019979187100642802), (4373, 0.0), (4374, 0.0), (4375, 0.0), (4376, 0.0), (4377, 0.007597724630010502), (4378, 0.0), (4379, 0.016076347759760225), (4380, 0.0), (4381, 0.0), (4382, 0.0), (4383, 0.0), (4384, 0.01088207672881095), (4385, 0.01365501570614263), (4386, 0.0), (4387, 0.0), (4388, 0.0), (4389, 0.0), (4390, 0.0), (4391, 0.0272245259840751), (4392, 0.0), (4393, 0.0), (4394, 0.007074315738465297), (4395, 0.0), (4396, 0.030118641707308647), (4397, 0.0), (4398, 0.007460253109598818), (4399, 0.0), (4400, 0.0), (4401, 0.024614604366914972), (4402, 0.0), (4403, 0.02166873028135181), (4404, 0.0), (4405, 0.0), (4406, 0.0), (4407, 0.005734733928088261), (4408, 0.0), (4409, 0.04209505125625652), (4410, 0.0), (4411, 0.016081193164986525), (4412, 0.0), (4413, 0.01121719972619187), (4414, 0.08340213479617721), (4415, 0.013917865247472088), (4416, 0.0), (4417, 0.01364411762705361), (4418, 0.009701950010137043), (4419, 0.0), (4420, 0.03207368304274442), (4421, 0.005254794397725722), (4422, 0.018266157354331923), (4423, 0.07501499346325939), (4424, 0.0), (4425, 0.0), (4426, 0.0), (4427, 0.0), (4428, 0.0036213398192351367), (4429, 0.0), (4430, 0.0), (4431, 0.0), (4432, 0.0433141835081963), (4433, 0.0), (4434, 0.0), (4435, 0.02014890644266959), (4436, 0.0), (4437, 0.0), (4438, 0.0), (4439, 0.0), (4440, 0.023777704252616664), (4441, 0.007791888645976013), (4442, 0.021197517050832684), (4443, 0.0), (4444, 0.0), (4445, 0.0), (4446, 0.0), (4447, 0.0), (4448, 0.008104348940586809), (4449, 0.00837870397316819), (4450, 0.0), (4451, 0.0), (4452, 0.0), (4453, 0.0), (4454, 0.0), (4455, 0.026863698722948758), (4456, 0.0), (4457, 0.0), (4458, 0.007207655505813783), (4459, 0.0), (4460, 0.0), (4461, 0.04778046715970987), (4462, 0.0), (4463, 0.0), (4464, 0.006941738557418417), (4465, 0.020204147617359558), (4466, 0.0), (4467, 0.0), (4468, 0.012028765241108958), (4469, 0.041549568135588445), (4470, 0.0), (4471, 0.004555711970556217), (4472, 0.0), (4473, 0.03497621403376897), (4474, 0.026015418422610823), (4475, 0.0), (4476, 0.010386925766435696), (4477, 0.0), (4478, 0.0), (4479, 0.01203622112897606), (4480, 0.0), (4481, 0.0), (4482, 0.0), (4483, 0.0), (4484, 0.0), (4485, 0.0), (4486, 0.0), (4487, 0.0), (4488, 0.0061460300044695396), (4489, 0.0), (4490, 0.0062938834038800545), (4491, 0.056888394316546284), (4492, 0.0), (4493, 0.015422160381416498), (4494, 0.023726898962477382), (4495, 0.0), (4496, 0.0), (4497, 0.0), (4498, 0.0), (4499, 0.01792736784273831), (4500, 0.014558113292407198), (4501, 0.0), (4502, 0.0), (4503, 0.004771072926348038), (4504, 0.0), (4505, 0.011887897480245687), (4506, 0.0), (4507, 0.015568108473366132), (4508, 0.023759514170747793), (4509, 0.0), (4510, 0.0), (4511, 0.0), (4512, 0.0), (4513, 0.0), (4514, 0.0), (4515, 0.0), (4516, 0.0), (4517, 0.0), (4518, 0.0), (4519, 0.0), (4520, 0.0), (4521, 0.0), (4522, 0.0028683348736097372), (4523, 0.0), (4524, 0.0), (4525, 0.0), (4526, 0.014648977486434416), (4527, 0.015392777858205264), (4528, 0.0), (4529, 0.0), (4530, 0.0), (4531, 0.0), (4532, 0.0), (4533, 0.0), (4534, 0.0), (4535, 0.0), (4536, 0.0), (4537, 0.0), (4538, 0.0), (4539, 0.006095694770935434), (4540, 0.0), (4541, 0.0), (4542, 0.0), (4543, 0.0), (4544, 0.0), (4545, 0.015799363709386335), (4546, 0.0), (4547, 0.0), (4548, 0.0), (4549, 0.0), (4550, 0.0), (4551, 0.0), (4552, 0.0), (4553, 0.013234858118763662), (4554, 0.0669936371070124), (4555, 0.0), (4556, 0.0), (4557, 0.0), (4558, 0.0), (4559, 0.017495864190894963), (4560, 0.0), (4561, 0.025408371007279277), (4562, 0.024717420321854727), (4563, 0.0), (4564, 0.0), (4565, 0.0), (4566, 0.0), (4567, 0.005445369001263038), (4568, 0.0), (4569, 0.0), (4570, 0.0), (4571, 0.0), (4572, 0.0), (4573, 0.0), (4574, 0.0), (4575, 0.005747233960780374), (4576, 0.03504855174920355), (4577, 0.0), (4578, 0.006484457386181116), (4579, 0.0), (4580, 0.0), (4581, 0.0), (4582, 0.0), (4583, 0.012048418993813974), (4584, 0.0), (4585, 0.0), (4586, 0.0), (4587, 0.0), (4588, 0.0), (4589, 0.0), (4590, 0.0), (4591, 0.013487798941945572), (4592, 0.0), (4593, 0.0), (4594, 0.0), (4595, 0.0), (4596, 0.0), (4597, 0.0), (4598, 0.015300912334632379), (4599, 0.027475769945933124), (4600, 0.0), (4601, 0.0), (4602, 0.0), (4603, 0.0), (4604, 0.01154321728574957), (4605, 0.0), (4606, 0.0), (4607, 0.011356736645410903), (4608, 0.009060578769577159), (4609, 0.0), (4610, 0.0), (4611, 0.005534775955360592), (4612, 0.0), (4613, 0.0), (4614, 0.0), (4615, 0.018757078997615306), (4616, 0.022877142040900942), (4617, 0.0), (4618, 0.017406054911865986), (4619, 0.0), (4620, 0.10257362377192508), (4621, 0.0), (4622, 0.0), (4623, 0.0), (4624, 0.018838356372046856), (4625, 0.010757116482076817), (4626, 0.012501655191922824), (4627, 0.031016756361858237), (4628, 0.030200833360465626), (4629, 0.0), (4630, 0.0), (4631, 0.0), (4632, 0.0), (4633, 0.025293408137830813), (4634, 0.010781007711045372), (4635, 0.0), (4636, 0.0), (4637, 0.0), (4638, 0.02034224599948117), (4639, 0.0), (4640, 0.0), (4641, 0.0), (4642, 0.0), (4643, 0.014735673122095415), (4644, 0.0), (4645, 0.0), (4646, 0.0), (4647, 0.0), (4648, 0.0), (4649, 0.0), (4650, 0.0), (4651, 0.0), (4652, 0.022478630927432717), (4653, 0.0), (4654, 0.0), (4655, 0.00525365663948326), (4656, 0.013667047995874072), (4657, 0.0), (4658, 0.0), (4659, 0.003932452794867278), (4660, 0.0), (4661, 0.0), (4662, 0.023609957953441833), (4663, 0.0), (4664, 0.04113784788948113), (4665, 0.0), (4666, 0.030673402533556417), (4667, 0.0), (4668, 0.015201961618156519), (4669, 0.0), (4670, 0.0), (4671, 0.015080241212679455), (4672, 0.0060988183840730865), (4673, 0.0), (4674, 0.0), (4675, 0.0), (4676, 0.0), (4677, 0.023544005586790533), (4678, 0.0), (4679, 0.014943974292409052), (4680, 0.017862422046040306), (4681, 0.016962606187875092), (4682, 0.0), (4683, 0.0), (4684, 0.012695233002530377), (4685, 0.0), (4686, 0.0), (4687, 0.0), (4688, 0.0), (4689, 0.036625047532395226), (4690, 0.0), (4691, 0.0), (4692, 0.0), (4693, 0.0), (4694, 0.0), (4695, 0.07407691004346065), (4696, 0.0), (4697, 0.0), (4698, 0.0), (4699, 0.0), (4700, 0.0), (4701, 0.0), (4702, 0.0), (4703, 0.0), (4704, 0.0), (4705, 0.0), (4706, 0.0), (4707, 0.0), (4708, 0.025063004005405936), (4709, 0.0), (4710, 0.0), (4711, 0.0), (4712, 0.0), (4713, 0.0), (4714, 0.0), (4715, 0.03359870884221273), (4716, 0.0), (4717, 0.0), (4718, 0.011780355153283422), (4719, 0.013358073034040336), (4720, 0.020949674257003153), (4721, 0.02194252718364599), (4722, 0.00821000279880007), (4723, 0.01765697536785125), (4724, 0.0), (4725, 0.015653521293090694), (4726, 0.011102430837555773), (4727, 0.0), (4728, 0.0), (4729, 0.0), (4730, 0.031167318590384647), (4731, 0.0), (4732, 0.0067724504030901795), (4733, 0.0), (4734, 0.0), (4735, 0.0), (4736, 0.0), (4737, 0.01969468544822541), (4738, 0.0), (4739, 0.0), (4740, 0.006518562915911002), (4741, 0.0), (4742, 0.0), (4743, 0.0), (4744, 0.0), (4745, 0.0), (4746, 0.003430531048546832), (4747, 0.0), (4748, 0.0), (4749, 0.0), (4750, 0.0), (4751, 0.0), (4752, 0.006700296914235127), (4753, 0.0), (4754, 0.0), (4755, 0.0), (4756, 0.00869099294447076), (4757, 0.02505458111964974), (4758, 0.0), (4759, 0.026750665482858926), (4760, 0.0), (4761, 0.019193028782203775), (4762, 0.0), (4763, 0.024526397678162296), (4764, 0.013324078003211493), (4765, 0.0), (4766, 0.0), (4767, 0.0), (4768, 0.0), (4769, 0.017500550746942994), (4770, 0.0), (4771, 0.0), (4772, 0.0), (4773, 0.0), (4774, 0.007418403686151823), (4775, 0.0), (4776, 0.00513681726182027), (4777, 0.015114094327060477), (4778, 0.01113158184259395), (4779, 0.0), (4780, 0.0074660260191299465), (4781, 0.0), (4782, 0.0), (4783, 0.0), (4784, 0.0), (4785, 0.0061063943567164145), (4786, 0.0), (4787, 0.0), (4788, 0.0), (4789, 0.0), (4790, 0.0), (4791, 0.0), (4792, 0.0), (4793, 0.013855871171077797), (4794, 0.0), (4795, 0.0), (4796, 0.017937708906626097), (4797, 0.0), (4798, 0.014026054472051736), (4799, 0.0), (4800, 0.0), (4801, 0.015842115067518734), (4802, 0.0), (4803, 0.0), (4804, 0.00491186840546186), (4805, 0.007037099523851004), (4806, 0.0), (4807, 0.0), (4808, 0.0), (4809, 0.008921759171530048), (4810, 0.006782010460124658), (4811, 0.0), (4812, 0.010641890811973358), (4813, 0.0), (4814, 0.0), (4815, 0.016722823511738948), (4816, 0.0), (4817, 0.0), (4818, 0.0), (4819, 0.0), (4820, 0.0), (4821, 0.028048689836196468), (4822, 0.00574414930528038), (4823, 0.004282527283362347), (4824, 0.0), (4825, 0.01937056268987856), (4826, 0.029044663536168937), (4827, 0.0), (4828, 0.0), (4829, 0.0), (4830, 0.0), (4831, 0.0), (4832, 0.0), (4833, 0.006527735331619136), (4834, 0.0), (4835, 0.00719874453694071), (4836, 0.0), (4837, 0.021669776217536258), (4838, 0.0), (4839, 0.011368302887973893), (4840, 0.015258739304816894), (4841, 0.0), (4842, 0.0), (4843, 0.010546107691515979), (4844, 0.0), (4845, 0.01064311176314382), (4846, 0.0), (4847, 0.0), (4848, 0.0), (4849, 0.0), (4850, 0.0), (4851, 0.0), (4852, 0.0), (4853, 0.0), (4854, 0.023771459315051573), (4855, 0.013896479388917148), (4856, 0.0), (4857, 0.0), (4858, 0.0), (4859, 0.0), (4860, 0.0), (4861, 0.0), (4862, 0.0), (4863, 0.00980892797592086), (4864, 0.019963330944296465), (4865, 0.0), (4866, 0.0), (4867, 0.0), (4868, 0.0), (4869, 0.0), (4870, 0.0), (4871, 0.0), (4872, 0.0), (4873, 0.0), (4874, 0.0), (4875, 0.0), (4876, 0.0), (4877, 0.0), (4878, 0.0), (4879, 0.0), (4880, 0.0), (4881, 0.0), (4882, 0.0), (4883, 0.007558146331703161), (4884, 0.0), (4885, 0.019757267306440673), (4886, 0.01283117778897248), (4887, 0.0), (4888, 0.0), (4889, 0.018941418613513113), (4890, 0.0), (4891, 0.0), (4892, 0.0), (4893, 0.03243630451953983), (4894, 0.0), (4895, 0.0), (4896, 0.0), (4897, 0.0), (4898, 0.0), (4899, 0.0), (4900, 0.0), (4901, 0.0), (4902, 0.0), (4903, 0.0), (4904, 0.0), (4905, 0.0), (4906, 0.048185293350996486), (4907, 0.0), (4908, 0.0), (4909, 0.006155533079096191), (4910, 0.0), (4911, 0.0), (4912, 0.0), (4913, 0.017659540512882994), (4914, 0.0), (4915, 0.0), (4916, 0.0), (4917, 0.027283392481500763), (4918, 0.0), (4919, 0.007104152240494276), (4920, 0.0), (4921, 0.0), (4922, 0.0), (4923, 0.023174801748129675), (4924, 0.004218355559359824), (4925, 0.0), (4926, 0.0), (4927, 0.012095367455797206), (4928, 0.0), (4929, 0.004894541069727295), (4930, 0.0), (4931, 0.01750423389737851), (4932, 0.0), (4933, 0.0), (4934, 0.0), (4935, 0.0), (4936, 0.0), (4937, 0.0), (4938, 0.023992106389252834), (4939, 0.0), (4940, 0.0), (4941, 0.0), (4942, 0.0), (4943, 0.0), (4944, 0.0), (4945, 0.029042994141540938), (4946, 0.0039179068389543865), (4947, 0.0), (4948, 0.0), (4949, 0.015223270367219313), (4950, 0.0), (4951, 0.021450562962973097), (4952, 0.0), (4953, 0.027041637421404967), (4954, 0.0), (4955, 0.02965396727396847), (4956, 0.010311626685057978), (4957, 0.0), (4958, 0.0), (4959, 0.0), (4960, 0.0), (4961, 0.0), (4962, 0.0), (4963, 0.0), (4964, 0.005548763864426993), (4965, 0.0), (4966, 0.0), (4967, 0.0), (4968, 0.0), (4969, 0.011913639112353668), (4970, 0.0), (4971, 0.0), (4972, 0.0), (4973, 0.0), (4974, 0.021957191694466062), (4975, 0.0068833300709973495), (4976, 0.0), (4977, 0.0), (4978, 0.01916819758608069), (4979, 0.018432499688409067), (4980, 0.0), (4981, 0.0), (4982, 0.0), (4983, 0.0), (4984, 0.0), (4985, 0.0), (4986, 0.008645383905428973), (4987, 0.0), (4988, 0.0), (4989, 0.0), (4990, 0.0), (4991, 0.022215437200975966), (4992, 0.0), (4993, 0.0), (4994, 0.0), (4995, 0.0), (4996, 0.0), (4997, 0.0), (4998, 0.0), (4999, 0.0), (5000, 0.014662227546352356), (5001, 0.0), (5002, 0.0), (5003, 0.0), (5004, 0.0163265507566369), (5005, 0.0), (5006, 0.0), (5007, 0.0), (5008, 0.0), (5009, 0.05300021986313769), (5010, 0.0), (5011, 0.006074425150752947), (5012, 0.0), (5013, 0.009961977438942463), (5014, 0.0), (5015, 0.0), (5016, 0.0), (5017, 0.0), (5018, 0.02365732635487826), (5019, 0.0), (5020, 0.0), (5021, 0.03225889595267279), (5022, 0.0), (5023, 0.0), (5024, 0.0), (5025, 0.005108207317608296), (5026, 0.0), (5027, 0.024647315820164238), (5028, 0.01106292802809903), (5029, 0.0), (5030, 0.014511325380385211), (5031, 0.0), (5032, 0.0), (5033, 0.030558223165629388), (5034, 0.0), (5035, 0.0), (5036, 0.0), (5037, 0.026337076692075686), (5038, 0.020447967239981765), (5039, 0.0), (5040, 0.0), (5041, 0.0), (5042, 0.0), (5043, 0.0), (5044, 0.0), (5045, 0.033012155358120944), (5046, 0.0), (5047, 0.0), (5048, 0.009130175801385938), (5049, 0.020269680443274804), (5050, 0.0), (5051, 0.014432781788033346), (5052, 0.0), (5053, 0.0), (5054, 0.0), (5055, 0.0043543363767118756), (5056, 0.0), (5057, 0.03154608633078778), (5058, 0.0), (5059, 0.0), (5060, 0.0), (5061, 0.0), (5062, 0.044488951303077756), (5063, 0.013159273275301845), (5064, 0.01436297910496685), (5065, 0.01369088320573089), (5066, 0.0), (5067, 0.0), (5068, 0.0), (5069, 0.0), (5070, 0.0), (5071, 0.0), (5072, 0.018659188273524484), (5073, 0.01896512411131395), (5074, 0.0), (5075, 0.0), (5076, 0.004570782752606178), (5077, 0.061827891925849615), (5078, 0.011297194936292458), (5079, 0.0), (5080, 0.0), (5081, 0.0), (5082, 0.007206597603427903), (5083, 0.0), (5084, 0.0), (5085, 0.010873404319800599), (5086, 0.0), (5087, 0.0), (5088, 0.009151031633089803), (5089, 0.0), (5090, 0.01908398638437654), (5091, 0.0), (5092, 0.04888495490968289), (5093, 0.01071012129547974), (5094, 0.0), (5095, 0.01455572192387777), (5096, 0.0), (5097, 0.014624933470830784), (5098, 0.02821425549495194), (5099, 0.0), (5100, 0.011418040967370816), (5101, 0.015696317730769432), (5102, 0.0), (5103, 0.01540088762670626), (5104, 0.0), (5105, 0.014410835699546331), (5106, 0.0), (5107, 0.0), (5108, 0.0), (5109, 0.0), (5110, 0.011266659346329127), (5111, 0.0), (5112, 0.012955004614406676), (5113, 0.0), (5114, 0.00483454592901555), (5115, 0.0), (5116, 0.0), (5117, 0.0), (5118, 0.0), (5119, 0.0), (5120, 0.0), (5121, 0.0), (5122, 0.0), (5123, 0.0), (5124, 0.004798887635672339), (5125, 0.031059554446110686), (5126, 0.014538151264332767), (5127, 0.01594916615846005), (5128, 0.0), (5129, 0.0), (5130, 0.006515980981579712), (5131, 0.0293916798702607), (5132, 0.020100371256859366), (5133, 0.0), (5134, 0.0), (5135, 0.0), (5136, 0.012786352245989348), (5137, 0.0), (5138, 0.02059048244243253), (5139, 0.0), (5140, 0.0), (5141, 0.0), (5142, 0.010875156859011232), (5143, 0.0), (5144, 0.0), (5145, 0.0), (5146, 0.0), (5147, 0.0), (5148, 0.020457767943189344), (5149, 0.0), (5150, 0.0), (5151, 0.0), (5152, 0.0), (5153, 0.0), (5154, 0.0), (5155, 0.013621865088699411), (5156, 0.0), (5157, 0.0), (5158, 0.007744347289191181), (5159, 0.0), (5160, 0.009730837989315295), (5161, 0.0), (5162, 0.0), (5163, 0.0), (5164, 0.025555596651966186), (5165, 0.0), (5166, 0.0), (5167, 0.0), (5168, 0.023347818913899147), (5169, 0.0), (5170, 0.0), (5171, 0.015374737202929051), (5172, 0.003278810161477455), (5173, 0.0), (5174, 0.0), (5175, 0.0), (5176, 0.0), (5177, 0.0), (5178, 0.0), (5179, 0.0), (5180, 0.0), (5181, 0.0), (5182, 0.008091834865167173), (5183, 0.0), (5184, 0.0), (5185, 0.0), (5186, 0.0), (5187, 0.0), (5188, 0.0), (5189, 0.0), (5190, 0.0), (5191, 0.0), (5192, 0.014962772026290075), (5193, 0.0), (5194, 0.0), (5195, 0.0), (5196, 0.0), (5197, 0.0), (5198, 0.0), (5199, 0.01072298882033416), (5200, 0.0), (5201, 0.0), (5202, 0.010096044954181396), (5203, 0.017792405930745405), (5204, 0.0), (5205, 0.014210685708428162), (5206, 0.0), (5207, 0.0), (5208, 0.0), (5209, 0.0), (5210, 0.0), (5211, 0.0), (5212, 0.0), (5213, 0.025421074281525124), (5214, 0.0), (5215, 0.011541607254643479), (5216, 0.011059467842472283), (5217, 0.0), (5218, 0.015792117715311912), (5219, 0.0), (5220, 0.0), (5221, 0.0), (5222, 0.014376752421658052), (5223, 0.0), (5224, 0.0), (5225, 0.016015030602521168), (5226, 0.0), (5227, 0.0), (5228, 0.01027558982435736), (5229, 0.0063483348428865745), (5230, 0.0), (5231, 0.013864882025965785), (5232, 0.0), (5233, 0.0316897739347118), (5234, 0.006756843191672162), (5235, 0.00699029822727607), (5236, 0.007033768322493755), (5237, 0.0), (5238, 0.026003982512158776), (5239, 0.04671550895003525), (5240, 0.0), (5241, 0.0), (5242, 0.0), (5243, 0.0), (5244, 0.0), (5245, 0.0), (5246, 0.01391878824465596), (5247, 0.0), (5248, 0.011215342783677924), (5249, 0.0), (5250, 0.003128862618216017), (5251, 0.0), (5252, 0.004677336911038866), (5253, 0.0), (5254, 0.00304416769623645), (5255, 0.009592923890820608), (5256, 0.02438044777610531), (5257, 0.0), (5258, 0.0), (5259, 0.0), (5260, 0.0), (5261, 0.0), (5262, 0.0), (5263, 0.0), (5264, 0.0), (5265, 0.0), (5266, 0.0), (5267, 0.0), (5268, 0.0), (5269, 0.0), (5270, 0.0), (5271, 0.008025032102202512), (5272, 0.014916558407050053), (5273, 0.0), (5274, 0.03293539329253191), (5275, 0.0), (5276, 0.012563002663399308), (5277, 0.007069496645252545), (5278, 0.0), (5279, 0.011608412575600064), (5280, 0.0), (5281, 0.0), (5282, 0.0), (5283, 0.012663562005411634), (5284, 0.0), (5285, 0.0), (5286, 0.0), (5287, 0.012697951124451216), (5288, 0.016715222908485164), (5289, 0.0027857740352637663), (5290, 0.007530336593300502), (5291, 0.0), (5292, 0.007121392552723073), (5293, 0.03414598231680337), (5294, 0.03178449413526987), (5295, 0.0), (5296, 0.03465306515714161), (5297, 0.0), (5298, 0.0), (5299, 0.0), (5300, 0.0), (5301, 0.0), (5302, 0.0), (5303, 0.0), (5304, 0.0), (5305, 0.00978100776791149), (5306, 0.0), (5307, 0.009594708058137377), (5308, 0.0), (5309, 0.0), (5310, 0.023659306898799422), (5311, 0.0), (5312, 0.0), (5313, 0.0), (5314, 0.0), (5315, 0.0), (5316, 0.0), (5317, 0.013991868309451334), (5318, 0.0177552706251776), (5319, 0.0), (5320, 0.0), (5321, 0.0), (5322, 0.0), (5323, 0.0), (5324, 0.007505972003749812), (5325, 0.0), (5326, 0.014571133554794799), (5327, 0.0), (5328, 0.00783699886579598), (5329, 0.0), (5330, 0.0), (5331, 0.0), (5332, 0.0), (5333, 0.0), (5334, 0.0), (5335, 0.0), (5336, 0.0), (5337, 0.0), (5338, 0.0), (5339, 0.0), (5340, 0.0), (5341, 0.006552874160967457), (5342, 0.0), (5343, 0.0), (5344, 0.004269703814362624), (5345, 0.0), (5346, 0.02078247601447857), (5347, 0.03548065088723969), (5348, 0.0), (5349, 0.0), (5350, 0.0), (5351, 0.0), (5352, 0.007732100833711965), (5353, 0.0), (5354, 0.0), (5355, 0.0), (5356, 0.008347463937283441), (5357, 0.00803274370846404), (5358, 0.0), (5359, 0.007826905340688087), (5360, 0.02752687443337369), (5361, 0.0), (5362, 0.03441127339495284), (5363, 0.0), (5364, 0.021347735230594907), (5365, 0.0), (5366, 0.0), (5367, 0.0), (5368, 0.0), (5369, 0.0), (5370, 0.0034023699439804126), (5371, 0.0), (5372, 0.0), (5373, 0.02483421291929719), (5374, 0.0), (5375, 0.0), (5376, 0.01497781897672289), (5377, 0.005745205571387722), (5378, 0.0), (5379, 0.0), (5380, 0.0), (5381, 0.027864363536871446), (5382, 0.011003778469229212), (5383, 0.0), (5384, 0.02304226104238601), (5385, 0.02148562272537902), (5386, 0.0), (5387, 0.033582084690721645), (5388, 0.0030602621199865227), (5389, 0.0), (5390, 0.0), (5391, 0.0), (5392, 0.006933647940846864), (5393, 0.0), (5394, 0.0), (5395, 0.0), (5396, 0.0), (5397, 0.0), (5398, 0.009057048087913156), (5399, 0.01876992072452975), (5400, 0.0), (5401, 0.0), (5402, 0.0), (5403, 0.008951553851629901), (5404, 0.0), (5405, 0.0), (5406, 0.0), (5407, 0.017308555976488414), (5408, 0.0), (5409, 0.0), (5410, 0.018569661914512856), (5411, 0.0131320979782158), (5412, 0.01075671948588066), (5413, 0.0), (5414, 0.011462520021601988), (5415, 0.04119556505810644), (5416, 0.0), (5417, 0.0), (5418, 0.0), (5419, 0.0), (5420, 0.0), (5421, 0.0), (5422, 0.009985456398513703), (5423, 0.0), (5424, 0.0), (5425, 0.007785794222441041), (5426, 0.0), (5427, 0.0), (5428, 0.018516995475298132), (5429, 0.02105595767550982), (5430, 0.015328562428868667), (5431, 0.024224915232594957), (5432, 0.0), (5433, 0.010176922727298648), (5434, 0.0), (5435, 0.016056588271127107), (5436, 0.0), (5437, 0.0), (5438, 0.0), (5439, 0.00731732327788243), (5440, 0.022492400631186415), (5441, 0.0), (5442, 0.0), (5443, 0.0), (5444, 0.0), (5445, 0.0), (5446, 0.0), (5447, 0.021220012067101147), (5448, 0.0), (5449, 0.009681934224168832), (5450, 0.0), (5451, 0.0), (5452, 0.0), (5453, 0.006267303047710008), (5454, 0.0), (5455, 0.012267283473456748), (5456, 0.0), (5457, 0.0), (5458, 0.005442305264280467), (5459, 0.0), (5460, 0.0), (5461, 0.0), (5462, 0.011077498548411687), (5463, 0.0), (5464, 0.0), (5465, 0.0), (5466, 0.0), (5467, 0.015602932713708065), (5468, 0.0), (5469, 0.009320847980077375), (5470, 0.0), (5471, 0.0), (5472, 0.0), (5473, 0.0), (5474, 0.003809192650688011), (5475, 0.0), (5476, 0.0), (5477, 0.014775075863054273), (5478, 0.0), (5479, 0.01834554011216071), (5480, 0.0), (5481, 0.007318947346503229), (5482, 0.030568481786378943), (5483, 0.0453664090237628), (5484, 0.033877806170228494), (5485, 0.0), (5486, 0.024770225754340784), (5487, 0.04292282332861212), (5488, 0.009106784518543033), (5489, 0.005863739189057523), (5490, 0.0028069074298480044), (5491, 0.0), (5492, 0.0), (5493, 0.0), (5494, 0.0), (5495, 0.0), (5496, 0.0), (5497, 0.0), (5498, 0.0), (5499, 0.013487911046931507), (5500, 0.0), (5501, 0.0), (5502, 0.0), (5503, 0.0), (5504, 0.007347431721186556), (5505, 0.0), (5506, 0.01651337670103602), (5507, 0.0), (5508, 0.0), (5509, 0.015744084770931692), (5510, 0.0), (5511, 0.0), (5512, 0.0), (5513, 0.0), (5514, 0.0), (5515, 0.0), (5516, 0.012997169779899294), (5517, 0.0), (5518, 0.0), (5519, 0.0), (5520, 0.0), (5521, 0.0), (5522, 0.0), (5523, 0.0), (5524, 0.0), (5525, 0.0), (5526, 0.010309154113621339), (5527, 0.0), (5528, 0.0), (5529, 0.0), (5530, 0.0035649373226888945), (5531, 0.01793028614810952), (5532, 0.0), (5533, 0.03650302146624369), (5534, 0.0), (5535, 0.0), (5536, 0.0), (5537, 0.007331192403436231), (5538, 0.0), (5539, 0.0), (5540, 0.003606526448273178), (5541, 0.0), (5542, 0.0), (5543, 0.0), (5544, 0.0), (5545, 0.025434370572648274), (5546, 0.0), (5547, 0.0), (5548, 0.0), (5549, 0.0), (5550, 0.0068196520165481195), (5551, 0.029015472621343283), (5552, 0.0), (5553, 0.0), (5554, 0.022552779244076882), (5555, 0.0), (5556, 0.0), (5557, 0.0), (5558, 0.0), (5559, 0.014689909157732944), (5560, 0.0), (5561, 0.0), (5562, 0.0), (5563, 0.0), (5564, 0.0), (5565, 0.0), (5566, 0.027081908933705025), (5567, 0.0), (5568, 0.0), (5569, 0.003857425875177491), (5570, 0.02424752856332508), (5571, 0.0), (5572, 0.0), (5573, 0.022001972157936946), (5574, 0.016927632474691326), (5575, 0.012923798440245372), (5576, 0.0), (5577, 0.03068071765763053), (5578, 0.019067650632239246), (5579, 0.0), (5580, 0.0), (5581, 0.0), (5582, 0.012544359369489215), (5583, 0.0), (5584, 0.0), (5585, 0.012143351203755755), (5586, 0.0), (5587, 0.01047948728350677), (5588, 0.0), (5589, 0.010889888767658536), (5590, 0.0), (5591, 0.0), (5592, 0.024056559283239905), (5593, 0.0), (5594, 0.0), (5595, 0.02142018784497436), (5596, 0.0), (5597, 0.0), (5598, 0.0), (5599, 0.01539902207653636), (5600, 0.004302230249084717), (5601, 0.0), (5602, 0.0), (5603, 0.0), (5604, 0.0), (5605, 0.0), (5606, 0.0), (5607, 0.0), (5608, 0.0), (5609, 0.0), (5610, 0.0), (5611, 0.0), (5612, 0.0), (5613, 0.0), (5614, 0.0), (5615, 0.0), (5616, 0.0), (5617, 0.010807780863301388), (5618, 0.0), (5619, 0.007296750021341943), (5620, 0.0), (5621, 0.0), (5622, 0.0), (5623, 0.021637913650764225), (5624, 0.0), (5625, 0.005853835436245795), (5626, 0.0), (5627, 0.0044673850535557665), (5628, 0.007472719689748008), (5629, 0.0), (5630, 0.019281548472092947), (5631, 0.0), (5632, 0.02983504907663159), (5633, 0.023209426834298913), (5634, 0.0), (5635, 0.0), (5636, 0.016558338123964775), (5637, 0.0), (5638, 0.0), (5639, 0.049939172975848406), (5640, 0.0), (5641, 0.005872839811501942), (5642, 0.027635360065723077), (5643, 0.0), (5644, 0.0), (5645, 0.0), (5646, 0.0), (5647, 0.0), (5648, 0.0), (5649, 0.0), (5650, 0.0), (5651, 0.019489574926600122), (5652, 0.0258935643635334), (5653, 0.0), (5654, 0.0), (5655, 0.004873450918351016), (5656, 0.0), (5657, 0.0), (5658, 0.03450903907253968), (5659, 0.0), (5660, 0.0), (5661, 0.0), (5662, 0.0), (5663, 0.0), (5664, 0.0), (5665, 0.01965350523436267), (5666, 0.005322628557741566), (5667, 0.0), (5668, 0.0), (5669, 0.0), (5670, 0.009642374979547874), (5671, 0.0), (5672, 0.0), (5673, 0.020102304096457947), (5674, 0.038942759473869555), (5675, 0.0), (5676, 0.0), (5677, 0.008755016691880673), (5678, 0.0), (5679, 0.0), (5680, 0.008412115646419378), (5681, 0.014443733163665895), (5682, 0.027492405770115688), (5683, 0.01965829768953285), (5684, 0.0), (5685, 0.0), (5686, 0.0), (5687, 0.0), (5688, 0.028386227550399337), (5689, 0.025082530060306644), (5690, 0.0), (5691, 0.0), (5692, 0.07202258595270919), (5693, 0.0), (5694, 0.0), (5695, 0.007318480101908085), (5696, 0.0), (5697, 0.0), (5698, 0.0), (5699, 0.004975404038947188), (5700, 0.0), (5701, 0.0), (5702, 0.0), (5703, 0.021271028409401187), (5704, 0.0), (5705, 0.014574968235575804), (5706, 0.006528947472397299), (5707, 0.029848995042527696), (5708, 0.017670246196529883), (5709, 0.0), (5710, 0.00379594087108197), (5711, 0.0), (5712, 0.0), (5713, 0.0), (5714, 0.011204746259166759), (5715, 0.0), (5716, 0.0), (5717, 0.0), (5718, 0.013987263996098814), (5719, 0.0), (5720, 0.017152869848495653), (5721, 0.0), (5722, 0.0), (5723, 0.0), (5724, 0.0), (5725, 0.0), (5726, 0.013586023212096903), (5727, 0.0), (5728, 0.0), (5729, 0.013001221109871978), (5730, 0.003327262517566826), (5731, 0.0328021540473642), (5732, 0.014345615339272179), (5733, 0.013492730171563255), (5734, 0.0), (5735, 0.009087511494528022), (5736, 0.0), (5737, 0.0), (5738, 0.0), (5739, 0.0), (5740, 0.0), (5741, 0.020897617253976132), (5742, 0.0), (5743, 0.0), (5744, 0.0071560366385139745), (5745, 0.0), (5746, 0.0), (5747, 0.0), (5748, 0.0037337429052502354), (5749, 0.0), (5750, 0.0), (5751, 0.0), (5752, 0.0), (5753, 0.0), (5754, 0.0), (5755, 0.014749060174678245), (5756, 0.0), (5757, 0.0), (5758, 0.005008835445427773), (5759, 0.012967286777639541), (5760, 0.019538737888220033), (5761, 0.0), (5762, 0.0), (5763, 0.03897479621928311), (5764, 0.021915830443843924), (5765, 0.0), (5766, 0.0), (5767, 0.0), (5768, 0.0), (5769, 0.0), (5770, 0.012823105706052473), (5771, 0.0), (5772, 0.0), (5773, 0.0), (5774, 0.0), (5775, 0.012889441517650901), (5776, 0.0), (5777, 0.014271215492344043), (5778, 0.0), (5779, 0.0), (5780, 0.0032232107746700957), (5781, 0.0), (5782, 0.0), (5783, 0.0), (5784, 0.0), (5785, 0.0), (5786, 0.008239672662253299), (5787, 0.0), (5788, 0.008819383867338076), (5789, 0.0), (5790, 0.008311292330381555), (5791, 0.0), (5792, 0.01762522893395455), (5793, 0.0), (5794, 0.007282369592335634), (5795, 0.0), (5796, 0.02319702027458266), (5797, 0.0), (5798, 0.0), (5799, 0.0), (5800, 0.0), (5801, 0.0), (5802, 0.0), (5803, 0.0), (5804, 0.0), (5805, 0.0), (5806, 0.0), (5807, 0.0), (5808, 0.0), (5809, 0.0), (5810, 0.018686140074453038), (5811, 0.01541060855921183), (5812, 0.012054249654023129), (5813, 0.0), (5814, 0.0), (5815, 0.0), (5816, 0.008022670058288496), (5817, 0.0), (5818, 0.009999070047400204), (5819, 0.0), (5820, 0.0), (5821, 0.015685836007714685), (5822, 0.014022825628000727), (5823, 0.0), (5824, 0.008265764348429667), (5825, 0.0), (5826, 0.0), (5827, 0.0), (5828, 0.009611961166869432), (5829, 0.0), (5830, 0.0), (5831, 0.0), (5832, 0.0), (5833, 0.0), (5834, 0.01618494860001556), (5835, 0.0), (5836, 0.0), (5837, 0.0), (5838, 0.0), (5839, 0.026504908649621312), (5840, 0.011944995563856453), (5841, 0.0), (5842, 0.0), (5843, 0.0), (5844, 0.0), (5845, 0.01230749271791188), (5846, 0.011300496011383393), (5847, 0.07180641777103006), (5848, 0.0), (5849, 0.005805803065143006), (5850, 0.0), (5851, 0.0), (5852, 0.0), (5853, 0.0), (5854, 0.015296621672814592), (5855, 0.0), (5856, 0.0), (5857, 0.0), (5858, 0.0), (5859, 0.013019708424237181), (5860, 0.024636724651759426), (5861, 0.021431025199114728), (5862, 0.0), (5863, 0.0), (5864, 0.02446605494198833), (5865, 0.0), (5866, 0.0), (5867, 0.0), (5868, 0.0), (5869, 0.0), (5870, 0.0), (5871, 0.0046461052868456065), (5872, 0.01650400807597478), (5873, 0.0), (5874, 0.0), (5875, 0.0), (5876, 0.0), (5877, 0.031183768077703962), (5878, 0.0), (5879, 0.0), (5880, 0.010081731223279431), (5881, 0.0), (5882, 0.0), (5883, 0.0), (5884, 0.0), (5885, 0.0), (5886, 0.0), (5887, 0.06597310351091301), (5888, 0.01069190725292986), (5889, 0.00769399487707511), (5890, 0.0), (5891, 0.0), (5892, 0.028170076009049555), (5893, 0.010751102550178148), (5894, 0.0), (5895, 0.0144843884238093), (5896, 0.0), (5897, 0.006610343144071858), (5898, 0.0), (5899, 0.006432271877101463), (5900, 0.0291976224444444), (5901, 0.0), (5902, 0.017956874955865704), (5903, 0.0), (5904, 0.008649089308316635), (5905, 0.0), (5906, 0.0), (5907, 0.007208953463607045), (5908, 0.0), (5909, 0.009481781993543574), (5910, 0.011991871285920252), (5911, 0.0), (5912, 0.0108035015050586), (5913, 0.018242914911939096), (5914, 0.013815662663108384), (5915, 0.0), (5916, 0.0), (5917, 0.02007639417263029), (5918, 0.0), (5919, 0.0), (5920, 0.0), (5921, 0.011203176449785295), (5922, 0.0), (5923, 0.0), (5924, 0.0), (5925, 0.0), (5926, 0.0), (5927, 0.0), (5928, 0.013780395246411852), (5929, 0.0), (5930, 0.03234489122077493), (5931, 0.040422497114493805), (5932, 0.01102693150872406), (5933, 0.03627539085108705), (5934, 0.00794663581892492), (5935, 0.0), (5936, 0.0), (5937, 0.0), (5938, 0.0), (5939, 0.0), (5940, 0.0), (5941, 0.004189324318664097), (5942, 0.0), (5943, 0.0), (5944, 0.0), (5945, 0.0), (5946, 0.0), (5947, 0.0), (5948, 0.0), (5949, 0.011387850543258596), (5950, 0.0), (5951, 0.0), (5952, 0.0), (5953, 0.0), (5954, 0.0), (5955, 0.0), (5956, 0.029387814538019662), (5957, 0.015069386505881327), (5958, 0.0), (5959, 0.028743986451951475), (5960, 0.0), (5961, 0.0), (5962, 0.03172321859051366), (5963, 0.0247034971236511), (5964, 0.0), (5965, 0.0), (5966, 0.0), (5967, 0.0), (5968, 0.0), (5969, 0.0), (5970, 0.013041913691380809), (5971, 0.005218345246020395), (5972, 0.0), (5973, 0.0), (5974, 0.0), (5975, 0.0), (5976, 0.0), (5977, 0.014405792515213645), (5978, 0.008490448123134875), (5979, 0.0), (5980, 0.011655380965792978), (5981, 0.0), (5982, 0.0), (5983, 0.0), (5984, 0.0), (5985, 0.0), (5986, 0.004834201276526352), (5987, 0.007643093525793645), (5988, 0.0), (5989, 0.0), (5990, 0.0), (5991, 0.017728380058519077), (5992, 0.0), (5993, 0.0), (5994, 0.035405137856990634), (5995, 0.0), (5996, 0.0), (5997, 0.0), (5998, 0.0), (5999, 0.0), (6000, 0.0), (6001, 0.0), (6002, 0.0), (6003, 0.0), (6004, 0.0), (6005, 0.0), (6006, 0.0), (6007, 0.012502735454442492), (6008, 0.0), (6009, 0.021715958990330783), (6010, 0.0048235794672811675), (6011, 0.0), (6012, 0.0), (6013, 0.0), (6014, 0.0), (6015, 0.0), (6016, 0.0), (6017, 0.0), (6018, 0.0), (6019, 0.0), (6020, 0.0), (6021, 0.0), (6022, 0.0), (6023, 0.0), (6024, 0.0), (6025, 0.0), (6026, 0.013814270015332843), (6027, 0.007541531791036036), (6028, 0.02087910812407495), (6029, 0.0), (6030, 0.016408648237134497), (6031, 0.0), (6032, 0.0), (6033, 0.0), (6034, 0.025741718408493233), (6035, 0.0), (6036, 0.0), (6037, 0.08794317702195693), (6038, 0.0), (6039, 0.0), (6040, 0.009435631841204162), (6041, 0.0), (6042, 0.020849412345149157), (6043, 0.0), (6044, 0.006102223266130703), (6045, 0.0), (6046, 0.0), (6047, 0.008077966842984412), (6048, 0.018547940653951645), (6049, 0.008391545761256395), (6050, 0.0), (6051, 0.0), (6052, 0.01907251172437787), (6053, 0.007172948243043853), (6054, 0.0), (6055, 0.0), (6056, 0.021022355907368534), (6057, 0.022269181613809086), (6058, 0.009962126802190286), (6059, 0.0), (6060, 0.0), (6061, 0.0), (6062, 0.0), (6063, 0.0), (6064, 0.0), (6065, 0.0), (6066, 0.0), (6067, 0.0), (6068, 0.0), (6069, 0.0), (6070, 0.0), (6071, 0.0), (6072, 0.0), (6073, 0.0), (6074, 0.011383820923894375), (6075, 0.0), (6076, 0.0), (6077, 0.0), (6078, 0.0), (6079, 0.0), (6080, 0.0), (6081, 0.0), (6082, 0.0), (6083, 0.006254001856334336), (6084, 0.033166112800826306), (6085, 0.013136003830050006), (6086, 0.015582367132365297), (6087, 0.0), (6088, 0.03804401656569291), (6089, 0.006935149984552938), (6090, 0.02141318271057226), (6091, 0.0153309842205776), (6092, 0.0), (6093, 0.06308501153071032), (6094, 0.0), (6095, 0.04472363678352052), (6096, 0.0), (6097, 0.0), (6098, 0.011241236657723478), (6099, 0.0), (6100, 0.014781219916161365), (6101, 0.0037935801732117687), (6102, 0.0), (6103, 0.0), (6104, 0.0), (6105, 0.0), (6106, 0.0), (6107, 0.030608023965455762), (6108, 0.014542473261552906), (6109, 0.025460653667284623), (6110, 0.0), (6111, 0.0), (6112, 0.0), (6113, 0.0), (6114, 0.012602655421068289), (6115, 0.0), (6116, 0.0), (6117, 0.006057879791605234), (6118, 0.0), (6119, 0.0063043791513009125), (6120, 0.0), (6121, 0.04251805753766579), (6122, 0.0), (6123, 0.0), (6124, 0.010648828544595921), (6125, 0.018974458109824593), (6126, 0.0), (6127, 0.0), (6128, 0.0), (6129, 0.018701242894904803), (6130, 0.0), (6131, 0.0), (6132, 0.0), (6133, 0.05554722678573525), (6134, 0.0), (6135, 0.011471025390379593), (6136, 0.010025636774234641), (6137, 0.0), (6138, 0.0), (6139, 0.0), (6140, 0.0), (6141, 0.0), (6142, 0.0), (6143, 0.0), (6144, 0.013226284552967815), (6145, 0.0), (6146, 0.0), (6147, 0.0), (6148, 0.0), (6149, 0.0), (6150, 0.0), (6151, 0.12286362972191048), (6152, 0.04985009626730638), (6153, 0.0), (6154, 0.0), (6155, 0.0), (6156, 0.0), (6157, 0.0), (6158, 0.0), (6159, 0.021155655614323806), (6160, 0.0), (6161, 0.0053019191358997025), (6162, 0.009074338713488566), (6163, 0.0), (6164, 0.039317890854487905), (6165, 0.0), (6166, 0.0), (6167, 0.0), (6168, 0.0), (6169, 0.0), (6170, 0.0), (6171, 0.0), (6172, 0.0), (6173, 0.0), (6174, 0.0), (6175, 0.014606477901937864), (6176, 0.0), (6177, 0.027913849787937647), (6178, 0.0), (6179, 0.006588669021489919), (6180, 0.0), (6181, 0.0), (6182, 0.0), (6183, 0.0), (6184, 0.013689669581499923), (6185, 0.0), (6186, 0.0), (6187, 0.02286962928318352), (6188, 0.013890116570000922), (6189, 0.0), (6190, 0.009289135535086082), (6191, 0.0), (6192, 0.0), (6193, 0.0), (6194, 0.0), (6195, 0.0), (6196, 0.013991410523113038), (6197, 0.0), (6198, 0.0), (6199, 0.0), (6200, 0.0), (6201, 0.0), (6202, 0.015559848305783058), (6203, 0.030008592973147355), (6204, 0.027127599800696775), (6205, 0.0), (6206, 0.0), (6207, 0.0), (6208, 0.024739481102666643), (6209, 0.0), (6210, 0.0), (6211, 0.0), (6212, 0.0), (6213, 0.0), (6214, 0.008776514148321011), (6215, 0.0), (6216, 0.0073345359867186), (6217, 0.0), (6218, 0.016951929054640803), (6219, 0.0), (6220, 0.0), (6221, 0.004416868525092906), (6222, 0.019008972076683048), (6223, 0.0), (6224, 0.009880508853140004), (6225, 0.0), (6226, 0.0), (6227, 0.0), (6228, 0.0), (6229, 0.01680081735867465), (6230, 0.02152028499588325), (6231, 0.018625785169935793), (6232, 0.0), (6233, 0.01530634844695459), (6234, 0.0), (6235, 0.015145699967757184), (6236, 0.0), (6237, 0.010043507693707989), (6238, 0.0), (6239, 0.0), (6240, 0.014386000351403635), (6241, 0.003923642297437986), (6242, 0.0), (6243, 0.0), (6244, 0.0), (6245, 0.0), (6246, 0.0), (6247, 0.0), (6248, 0.0), (6249, 0.0), (6250, 0.0), (6251, 0.0), (6252, 0.0), (6253, 0.01501066160452961), (6254, 0.0), (6255, 0.0), (6256, 0.013366153815966418), (6257, 0.0), (6258, 0.0), (6259, 0.023664237671614036), (6260, 0.0), (6261, 0.0), (6262, 0.0), (6263, 0.011596234507273774), (6264, 0.0), (6265, 0.0), (6266, 0.03417610524897751), (6267, 0.0), (6268, 0.0), (6269, 0.0), (6270, 0.0), (6271, 0.014689303325656319), (6272, 0.0), (6273, 0.0), (6274, 0.0), (6275, 0.0), (6276, 0.0049778044931541665), (6277, 0.005132774141632036), (6278, 0.023999396899444227), (6279, 0.0), (6280, 0.0), (6281, 0.0), (6282, 0.0), (6283, 0.011998469908668142), (6284, 0.0069863154671860415), (6285, 0.0), (6286, 0.010147875762428355), (6287, 0.0), (6288, 0.05670960044720981), (6289, 0.0), (6290, 0.0), (6291, 0.0), (6292, 0.0), (6293, 0.02121298721321005), (6294, 0.0), (6295, 0.006692654191940049), (6296, 0.0), (6297, 0.006746228684791392), (6298, 0.0), (6299, 0.0), (6300, 0.0), (6301, 0.010600661818871334), (6302, 0.018581657601726937), (6303, 0.013169680425707828), (6304, 0.0), (6305, 0.01631250406049466), (6306, 0.0), (6307, 0.0), (6308, 0.0), (6309, 0.0), (6310, 0.0), (6311, 0.0), (6312, 0.008984308154551349), (6313, 0.027908124050625174), (6314, 0.0), (6315, 0.013906066018967324), (6316, 0.0), (6317, 0.0), (6318, 0.0), (6319, 0.0035313457243460037), (6320, 0.0), (6321, 0.0), (6322, 0.029108915986503336), (6323, 0.0), (6324, 0.0), (6325, 0.0), (6326, 0.0), (6327, 0.0), (6328, 0.008592460032333684), (6329, 0.0), (6330, 0.0), (6331, 0.0), (6332, 0.0), (6333, 0.0), (6334, 0.0), (6335, 0.004746197188678806), (6336, 0.0022354594609849767), (6337, 0.0), (6338, 0.0), (6339, 0.009540687983044197), (6340, 0.017364137111336813), (6341, 0.002659494120461767), (6342, 0.0), (6343, 0.0), (6344, 0.0), (6345, 0.007289169004378168), (6346, 0.01586052908424434), (6347, 0.043148298585268384), (6348, 0.0), (6349, 0.0), (6350, 0.0), (6351, 0.0069061289160932075), (6352, 0.011978797373961597), (6353, 0.0), (6354, 0.0), (6355, 0.017328732436741486), (6356, 0.0), (6357, 0.0), (6358, 0.0050751964520140405), (6359, 0.0), (6360, 0.0), (6361, 0.0), (6362, 0.009194547990015414), (6363, 0.004212503949107713), (6364, 0.0), (6365, 0.0), (6366, 0.0), (6367, 0.0), (6368, 0.0), (6369, 0.0), (6370, 0.014867352779607212), (6371, 0.01036111365603468), (6372, 0.0), (6373, 0.0), (6374, 0.0), (6375, 0.01825000654664806), (6376, 0.014144760224693447), (6377, 0.0), (6378, 0.0), (6379, 0.014323971107221473), (6380, 0.0), (6381, 0.0), (6382, 0.0), (6383, 0.0), (6384, 0.0), (6385, 0.0), (6386, 0.0), (6387, 0.0), (6388, 0.0), (6389, 0.0), (6390, 0.0), (6391, 0.0032383764468553304), (6392, 0.0), (6393, 0.0), (6394, 0.0), (6395, 0.0), (6396, 0.0), (6397, 0.0), (6398, 0.0), (6399, 0.0075560082219780006), (6400, 0.0), (6401, 0.0), (6402, 0.0), (6403, 0.0064267459666772124), (6404, 0.0), (6405, 0.0), (6406, 0.0), (6407, 0.0), (6408, 0.022235936082796195), (6409, 0.0035221618218361835), (6410, 0.0), (6411, 0.0), (6412, 0.0), (6413, 0.05851441315493355), (6414, 0.0), (6415, 0.008665081670354591), (6416, 0.01858582963999855), (6417, 0.0), (6418, 0.0), (6419, 0.0), (6420, 0.022247825263688445), (6421, 0.0), (6422, 0.03343083481134757), (6423, 0.0), (6424, 0.0), (6425, 0.0), (6426, 0.002444402870641024), (6427, 0.0), (6428, 0.026542952033068272), (6429, 0.020091122298308346), (6430, 0.0), (6431, 0.0), (6432, 0.026433270846830084), (6433, 0.0), (6434, 0.0), (6435, 0.005743663014832771), (6436, 0.0), (6437, 0.0), (6438, 0.0), (6439, 0.0), (6440, 0.0), (6441, 0.015350748199525626), (6442, 0.02368839044332202), (6443, 0.0), (6444, 0.0), (6445, 0.015244975260996836), (6446, 0.028887388367953414), (6447, 0.0), (6448, 0.07344237084362307), (6449, 0.0), (6450, 0.0), (6451, 0.0), (6452, 0.04985235654113984), (6453, 0.0), (6454, 0.0), (6455, 0.0), (6456, 0.0), (6457, 0.0), (6458, 0.014898225889816643), (6459, 0.0), (6460, 0.016320674707527075), (6461, 0.0), (6462, 0.0), (6463, 0.0), (6464, 0.006920590532252265), (6465, 0.0), (6466, 0.008868672082988617), (6467, 0.0), (6468, 0.0), (6469, 0.0), (6470, 0.00861379207817739), (6471, 0.0), (6472, 0.0), (6473, 0.008751691988792557), (6474, 0.0), (6475, 0.015402465768360137), (6476, 0.0), (6477, 0.0), (6478, 0.0), (6479, 0.0), (6480, 0.007267986585368826), (6481, 0.012149697336881501), (6482, 0.0), (6483, 0.0), (6484, 0.0), (6485, 0.0), (6486, 0.00516541855934647), (6487, 0.0), (6488, 0.0), (6489, 0.0), (6490, 0.0), (6491, 0.0), (6492, 0.0), (6493, 0.026455722641890896), (6494, 0.0), (6495, 0.011083799778203148), (6496, 0.0), (6497, 0.0024584961347254254), (6498, 0.0), (6499, 0.0), (6500, 0.0), (6501, 0.0058643942241279785), (6502, 0.0), (6503, 0.027568403171783447), (6504, 0.0), (6505, 0.0), (6506, 0.0), (6507, 0.018376465544951353), (6508, 0.0), (6509, 0.0), (6510, 0.0), (6511, 0.0), (6512, 0.0), (6513, 0.009915296066808564), (6514, 0.0), (6515, 0.0), (6516, 0.007983539267664803), (6517, 0.014294164853105496), (6518, 0.0), (6519, 0.007276504279636949), (6520, 0.0), (6521, 0.01130637872308064), (6522, 0.049743539140388204), (6523, 0.0), (6524, 0.0), (6525, 0.007389423980692034), (6526, 0.0), (6527, 0.003609858779572279), (6528, 0.0), (6529, 0.014326243918133676), (6530, 0.0), (6531, 0.0), (6532, 0.008794402318320538), (6533, 0.0), (6534, 0.0), (6535, 0.004585848237873892), (6536, 0.0), (6537, 0.0), (6538, 0.01571917623232603), (6539, 0.0), (6540, 0.0), (6541, 0.0), (6542, 0.020753338962630614), (6543, 0.0), (6544, 0.01935009642031217), (6545, 0.023985851212085952), (6546, 0.0), (6547, 0.0), (6548, 0.004361600082063137), (6549, 0.0), (6550, 0.011386619566084015), (6551, 0.0), (6552, 0.0), (6553, 0.0), (6554, 0.040165645616538674), (6555, 0.017321320522158366), (6556, 0.0), (6557, 0.0), (6558, 0.0), (6559, 0.0), (6560, 0.01122604728249827), (6561, 0.0), (6562, 0.0), (6563, 0.0236329400648107), (6564, 0.0), (6565, 0.0), (6566, 0.0), (6567, 0.0), (6568, 0.0), (6569, 0.0), (6570, 0.0), (6571, 0.0), (6572, 0.0), (6573, 0.0), (6574, 0.013424353360702104), (6575, 0.0), (6576, 0.016737990971334698), (6577, 0.0), (6578, 0.01133667256455835), (6579, 0.028074313863375576), (6580, 0.025052232184736213), (6581, 0.023839186668407224), (6582, 0.0), (6583, 0.0), (6584, 0.0), (6585, 0.0), (6586, 0.0), (6587, 0.0), (6588, 0.008375382899606413), (6589, 0.021420893675156687), (6590, 0.0), (6591, 0.011703725772233897), (6592, 0.0), (6593, 0.032996466775189824), (6594, 0.0), (6595, 0.0), (6596, 0.0), (6597, 0.0), (6598, 0.008217715505664393), (6599, 0.0), (6600, 0.013151920717874367), (6601, 0.009452606984289073), (6602, 0.024138035478141306), (6603, 0.0), (6604, 0.03276586120910281), (6605, 0.0), (6606, 0.0), (6607, 0.0), (6608, 0.014474455287995406), (6609, 0.0), (6610, 0.009880912146389604), (6611, 0.030529054837641113), (6612, 0.016917712634125275), (6613, 0.0), (6614, 0.03650294636161754), (6615, 0.0), (6616, 0.0), (6617, 0.0), (6618, 0.0), (6619, 0.0), (6620, 0.008013101147620461), (6621, 0.011723952488429449), (6622, 0.0), (6623, 0.0), (6624, 0.0068440677951014045), (6625, 0.0), (6626, 0.02322382529164516), (6627, 0.046038078092192326), (6628, 0.0), (6629, 0.025501486394392057), (6630, 0.0), (6631, 0.0), (6632, 0.0), (6633, 0.0), (6634, 0.0), (6635, 0.0), (6636, 0.0), (6637, 0.0), (6638, 0.0), (6639, 0.003195219823469122), (6640, 0.0), (6641, 0.019927966857731058), (6642, 0.0), (6643, 0.014522280535809284), (6644, 0.0), (6645, 0.0), (6646, 0.011773338248034733), (6647, 0.0), (6648, 0.0), (6649, 0.0), (6650, 0.01529247959288305), (6651, 0.0), (6652, 0.008995054270296036), (6653, 0.0), (6654, 0.0), (6655, 0.017350842257005762), (6656, 0.01594065670353879), (6657, 0.0), (6658, 0.015585637239356949), (6659, 0.004731436725595791), (6660, 0.012982505680509434), (6661, 0.0), (6662, 0.0), (6663, 0.009924185243288267), (6664, 0.011010403583625818), (6665, 0.0), (6666, 0.0), (6667, 0.0), (6668, 0.028214269326231445), (6669, 0.014240537881010927), (6670, 0.0), (6671, 0.015855795134361597), (6672, 0.0), (6673, 0.0), (6674, 0.0), (6675, 0.0036348919561725148), (6676, 0.0), (6677, 0.019379853522247553), (6678, 0.01402297418750854), (6679, 0.0), (6680, 0.0), (6681, 0.0), (6682, 0.0), (6683, 0.029509470299081592), (6684, 0.010192394879526417), (6685, 0.0), (6686, 0.0), (6687, 0.010397503297928217), (6688, 0.013139937847577157), (6689, 0.0), (6690, 0.0), (6691, 0.0), (6692, 0.0), (6693, 0.0), (6694, 0.0), (6695, 0.0), (6696, 0.004381020671099701), (6697, 0.0), (6698, 0.01731123873774884), (6699, 0.0), (6700, 0.010571440817829418), (6701, 0.018690748142130318), (6702, 0.008062995037491695), (6703, 0.0), (6704, 0.008121055161217838), (6705, 0.0), (6706, 0.0), (6707, 0.0), (6708, 0.012513655464320893), (6709, 0.0), (6710, 0.0), (6711, 0.0), (6712, 0.0), (6713, 0.0), (6714, 0.0), (6715, 0.0), (6716, 0.0), (6717, 0.0), (6718, 0.0), (6719, 0.0), (6720, 0.0), (6721, 0.023361212651517412), (6722, 0.0), (6723, 0.010762914753067952), (6724, 0.0), (6725, 0.0), (6726, 0.0), (6727, 0.013088358567504675), (6728, 0.0), (6729, 0.01244687959520215), (6730, 0.0), (6731, 0.008311125202983733), (6732, 0.0), (6733, 0.0), (6734, 0.008136273063842007), (6735, 0.005094092173243159), (6736, 0.0), (6737, 0.0), (6738, 0.010735410828454707), (6739, 0.0), (6740, 0.0), (6741, 0.0), (6742, 0.0), (6743, 0.010028014809058303), (6744, 0.01609981280827371), (6745, 0.0), (6746, 0.017623280087574848), (6747, 0.0), (6748, 0.007940480342143721), (6749, 0.016578471146105264), (6750, 0.0), (6751, 0.0), (6752, 0.024923739665668264), (6753, 0.0), (6754, 0.0), (6755, 0.0), (6756, 0.017459480103191868), (6757, 0.018236657218468948), (6758, 0.016163403097263274), (6759, 0.009484297249871059), (6760, 0.011849615722545417), (6761, 0.0), (6762, 0.0), (6763, 0.0), (6764, 0.0), (6765, 0.0), (6766, 0.0), (6767, 0.0), (6768, 0.0), (6769, 0.018055418331346825), (6770, 0.0), (6771, 0.010026252488248233), (6772, 0.015906841498565236), (6773, 0.016273594336879242), (6774, 0.0), (6775, 0.0), (6776, 0.0), (6777, 0.0), (6778, 0.0), (6779, 0.00306468788945438), (6780, 0.0), (6781, 0.0), (6782, 0.0466747313225634), (6783, 0.0), (6784, 0.0), (6785, 0.032053064095445546), (6786, 0.0), (6787, 0.027268517357797287), (6788, 0.017491422410371896), (6789, 0.0), (6790, 0.006088692222602009), (6791, 0.0), (6792, 0.028670963791306882), (6793, 0.004543221826243837), (6794, 0.0), (6795, 0.0), (6796, 0.0), (6797, 0.0), (6798, 0.016698999395897456), (6799, 0.0), (6800, 0.0), (6801, 0.012719485034290648), (6802, 0.0), (6803, 0.0), (6804, 0.0), (6805, 0.014409375997666465), (6806, 0.018181088682776892), (6807, 0.03099834844270072), (6808, 0.0), (6809, 0.007458821087708075), (6810, 0.0), (6811, 0.0), (6812, 0.026157481491564872), (6813, 0.0), (6814, 0.0), (6815, 0.0058954659168259475), (6816, 0.0), (6817, 0.0), (6818, 0.0), (6819, 0.0), (6820, 0.0), (6821, 0.0), (6822, 0.0), (6823, 0.0), (6824, 0.0), (6825, 0.0), (6826, 0.0), (6827, 0.010448021675205555), (6828, 0.007859307565141428), (6829, 0.006815799946119342), (6830, 0.0), (6831, 0.0), (6832, 0.015144619516317622), (6833, 0.0), (6834, 0.0), (6835, 0.0), (6836, 0.0), (6837, 0.01631733221738823), (6838, 0.0), (6839, 0.015113352625960393), (6840, 0.0), (6841, 0.02574086183749641), (6842, 0.0), (6843, 0.0), (6844, 0.0), (6845, 0.017153120980554538), (6846, 0.0), (6847, 0.0045897469186332186), (6848, 0.0), (6849, 0.005553699802470512), (6850, 0.01330438043367568), (6851, 0.009492921156720825), (6852, 0.031262719066183074), (6853, 0.0055426757949238), (6854, 0.0), (6855, 0.0), (6856, 0.018465559988085193), (6857, 0.006604772793563353), (6858, 0.0), (6859, 0.0), (6860, 0.0), (6861, 0.0), (6862, 0.0), (6863, 0.0), (6864, 0.0), (6865, 0.0), (6866, 0.0), (6867, 0.0), (6868, 0.0), (6869, 0.0), (6870, 0.0), (6871, 0.0), (6872, 0.0), (6873, 0.0), (6874, 0.0), (6875, 0.0), (6876, 0.0), (6877, 0.0), (6878, 0.0), (6879, 0.0), (6880, 0.0), (6881, 0.0), (6882, 0.0), (6883, 0.0), (6884, 0.0), (6885, 0.007663477644042256), (6886, 0.02128359605448934), (6887, 0.0), (6888, 0.011255385942865395), (6889, 0.0), (6890, 0.005352200598501885), (6891, 0.0070936614769060895), (6892, 0.0), (6893, 0.005421072759672689), (6894, 0.0), (6895, 0.0), (6896, 0.0), (6897, 0.0), (6898, 0.0), (6899, 0.0), (6900, 0.0), (6901, 0.0), (6902, 0.0046577454852128695), (6903, 0.0), (6904, 0.0), (6905, 0.03645721777257805), (6906, 0.0), (6907, 0.01608480005631924), (6908, 0.0), (6909, 0.011454360836227324), (6910, 0.0), (6911, 0.0), (6912, 0.007731507968063281), (6913, 0.0), (6914, 0.0), (6915, 0.019135520307113088), (6916, 0.0), (6917, 0.009073846907583666), (6918, 0.0), (6919, 0.0), (6920, 0.02873828049954364), (6921, 0.0), (6922, 0.0), (6923, 0.0), (6924, 0.0), (6925, 0.0), (6926, 0.0), (6927, 0.0), (6928, 0.0), (6929, 0.0), (6930, 0.0), (6931, 0.029553868482250806), (6932, 0.0), (6933, 0.0), (6934, 0.0), (6935, 0.0), (6936, 0.0), (6937, 0.0), (6938, 0.0), (6939, 0.0), (6940, 0.028713168185677474), (6941, 0.0), (6942, 0.0), (6943, 0.0), (6944, 0.0), (6945, 0.0), (6946, 0.0), (6947, 0.0), (6948, 0.0), (6949, 0.024920904717860133), (6950, 0.007756834285821443), (6951, 0.0), (6952, 0.020565156651553958), (6953, 0.0), (6954, 0.007447807501262325), (6955, 0.017891542534330306), (6956, 0.0), (6957, 0.0), (6958, 0.014099458225075924), (6959, 0.0), (6960, 0.0), (6961, 0.0), (6962, 0.0), (6963, 0.0057127086323929864), (6964, 0.0), (6965, 0.0), (6966, 0.0), (6967, 0.009175767263775584), (6968, 0.0), (6969, 0.0), (6970, 0.0), (6971, 0.0), (6972, 0.0), (6973, 0.022970970271274878), (6974, 0.0), (6975, 0.02696849138198419), (6976, 0.017620847088604952), (6977, 0.00460018100534088), (6978, 0.0), (6979, 0.0), (6980, 0.011854633554019745), (6981, 0.0), (6982, 0.006390828597692446), (6983, 0.013705088949647797), (6984, 0.012687626454502625), (6985, 0.0), (6986, 0.02524207568662293), (6987, 0.0), (6988, 0.0074561082693304645), (6989, 0.009485957176367254), (6990, 0.0), (6991, 0.0), (6992, 0.0057202560937968635), (6993, 0.0), (6994, 0.0), (6995, 0.007193942845082543), (6996, 0.011092127979735255), (6997, 0.0), (6998, 0.0), (6999, 0.0), (7000, 0.0), (7001, 0.0), (7002, 0.0035809354933066776), (7003, 0.0), (7004, 0.0), (7005, 0.0), (7006, 0.0), (7007, 0.0), (7008, 0.017312036612157824), (7009, 0.018238675373156613), (7010, 0.0), (7011, 0.009486971392545923), (7012, 0.0), (7013, 0.0), (7014, 0.007730663859442049), (7015, 0.014208559645378089), (7016, 0.0), (7017, 0.0), (7018, 0.010859052460719594), (7019, 0.026679536048087826), (7020, 0.0), (7021, 0.07289495512063611), (7022, 0.0), (7023, 0.0), (7024, 0.0), (7025, 0.0), (7026, 0.0), (7027, 0.0), (7028, 0.0), (7029, 0.044578758773659466), (7030, 0.0), (7031, 0.0), (7032, 0.0), (7033, 0.01678455457506486), (7034, 0.014580706767120416), (7035, 0.0), (7036, 0.018109619750366766), (7037, 0.0), (7038, 0.0), (7039, 0.0), (7040, 0.0), (7041, 0.0), (7042, 0.0), (7043, 0.0), (7044, 0.0), (7045, 0.0), (7046, 0.0), (7047, 0.008321802603733911), (7048, 0.0), (7049, 0.0), (7050, 0.01358744774955426), (7051, 0.01556861999108676), (7052, 0.0), (7053, 0.0), (7054, 0.024040340897666455), (7055, 0.0), (7056, 0.0), (7057, 0.021861084895576095), (7058, 0.0), (7059, 0.0), (7060, 0.015762061060189236), (7061, 0.0), (7062, 0.04424451711378401), (7063, 0.0), (7064, 0.0), (7065, 0.04550853115976884), (7066, 0.0), (7067, 0.0), (7068, 0.015778720064845687), (7069, 0.0), (7070, 0.0), (7071, 0.0), (7072, 0.007364723376570633), (7073, 0.0), (7074, 0.0), (7075, 0.0), (7076, 0.0036788815701702753), (7077, 0.0), (7078, 0.0), (7079, 0.0), (7080, 0.011997748436433408), (7081, 0.0), (7082, 0.0), (7083, 0.0), (7084, 0.0), (7085, 0.01071183016857507), (7086, 0.0), (7087, 0.0), (7088, 0.02896281834705719), (7089, 0.0), (7090, 0.0), (7091, 0.002448259238258348), (7092, 0.017588474738850224), (7093, 0.014258380439937999), (7094, 0.0), (7095, 0.0), (7096, 0.0), (7097, 0.0), (7098, 0.012343784148095885), (7099, 0.017532108981316512), (7100, 0.004381345670676813), (7101, 0.0), (7102, 0.0), (7103, 0.0), (7104, 0.0), (7105, 0.05642580954243939), (7106, 0.026175336528775156), (7107, 0.00842480355357252), (7108, 0.005701219150867964), (7109, 0.0029632138120821157), (7110, 0.0), (7111, 0.0), (7112, 0.007673019723335589), (7113, 0.02618486025990661), (7114, 0.0), (7115, 0.0), (7116, 0.007753166144091084), (7117, 0.009511743573243976), (7118, 0.0), (7119, 0.03185670169258793), (7120, 0.01957753075575801), (7121, 0.0), (7122, 0.0), (7123, 0.01552709803473025), (7124, 0.0), (7125, 0.027932823826152836), (7126, 0.0), (7127, 0.0), (7128, 0.0), (7129, 0.0), (7130, 0.0), (7131, 0.0), (7132, 0.013970393431500317), (7133, 0.0), (7134, 0.00931624099809141), (7135, 0.007933788024095922), (7136, 0.005476343914044055), (7137, 0.0), (7138, 0.004072997265864891), (7139, 0.0), (7140, 0.0), (7141, 0.0), (7142, 0.0), (7143, 0.0), (7144, 0.0), (7145, 0.0), (7146, 0.0), (7147, 0.0), (7148, 0.0), (7149, 0.0), (7150, 0.0), (7151, 0.0), (7152, 0.0), (7153, 0.0), (7154, 0.0), (7155, 0.0), (7156, 0.0), (7157, 0.005717062492365094), (7158, 0.0), (7159, 0.010424495547260966), (7160, 0.0), (7161, 0.0), (7162, 0.00892337674357999), (7163, 0.0), (7164, 0.0), (7165, 0.0), (7166, 0.0), (7167, 0.0), (7168, 0.0), (7169, 0.0), (7170, 0.0), (7171, 0.010181918556095666), (7172, 0.0), (7173, 0.007555742447168868), (7174, 0.02423692065125567), (7175, 0.0), (7176, 0.0), (7177, 0.0), (7178, 0.005095261164051558), (7179, 0.0), (7180, 0.0), (7181, 0.0), (7182, 0.0), (7183, 0.0), (7184, 0.0333743318203778), (7185, 0.018211132558261324), (7186, 0.016754184896941717), (7187, 0.01157215021972347), (7188, 0.0), (7189, 0.0), (7190, 0.0), (7191, 0.0), (7192, 0.0), (7193, 0.011774808960478667), (7194, 0.0), (7195, 0.0), (7196, 0.010347654842365326), (7197, 0.021589579974485646), (7198, 0.0), (7199, 0.0), (7200, 0.0), (7201, 0.0), (7202, 0.0), (7203, 0.0), (7204, 0.0), (7205, 0.0), (7206, 0.0), (7207, 0.0), (7208, 0.0), (7209, 0.0), (7210, 0.006659650837432216), (7211, 0.015435770322493141), (7212, 0.0), (7213, 0.02780199439085209), (7214, 0.006524827360866508), (7215, 0.0), (7216, 0.0), (7217, 0.008461485451377319), (7218, 0.0), (7219, 0.0), (7220, 0.007676946475259249), (7221, 0.0), (7222, 0.0), (7223, 0.0), (7224, 0.0), (7225, 0.007258363646142187), (7226, 0.014986808074322322), (7227, 0.0), (7228, 0.0), (7229, 0.016455948612809915), (7230, 0.00769852916355547), (7231, 0.0), (7232, 0.0), (7233, 0.0), (7234, 0.0057576649479912515), (7235, 0.0), (7236, 0.0), (7237, 0.0), (7238, 0.017574214785904735), (7239, 0.0), (7240, 0.012016396561202203), (7241, 0.013081699849737729), (7242, 0.0), (7243, 0.0), (7244, 0.0), (7245, 0.0), (7246, 0.0), (7247, 0.004175915491951158), (7248, 0.0), (7249, 0.0), (7250, 0.012490137911344198), (7251, 0.0), (7252, 0.0), (7253, 0.023584790877806076), (7254, 0.0), (7255, 0.010374993299082202), (7256, 0.01357710003285749), (7257, 0.013779953595281284), (7258, 0.0), (7259, 0.0), (7260, 0.0), (7261, 0.0076678823148505475), (7262, 0.0), (7263, 0.0), (7264, 0.0), (7265, 0.0), (7266, 0.0), (7267, 0.0), (7268, 0.0), (7269, 0.0), (7270, 0.0), (7271, 0.009816322132331254), (7272, 0.0), (7273, 0.0), (7274, 0.0), (7275, 0.007572679715871712), (7276, 0.0), (7277, 0.015089645120491817), (7278, 0.0), (7279, 0.014145389004759826), (7280, 0.0), (7281, 0.00919299914033102), (7282, 0.0), (7283, 0.0), (7284, 0.0), (7285, 0.0), (7286, 0.0), (7287, 0.0), (7288, 0.007336433117712917), (7289, 0.011451489255001054), (7290, 0.021579259828674396), (7291, 0.0), (7292, 0.0), (7293, 0.006273454291166164), (7294, 0.010297224699667188), (7295, 0.0), (7296, 0.0), (7297, 0.0), (7298, 0.016265687151766243), (7299, 0.008996108088110553), (7300, 0.0), (7301, 0.0), (7302, 0.0), (7303, 0.015584384342118689), (7304, 0.0), (7305, 0.0), (7306, 0.0), (7307, 0.020156417270548038), (7308, 0.0), (7309, 0.0), (7310, 0.012091576811771709), (7311, 0.03757818402748329), (7312, 0.0), (7313, 0.0), (7314, 0.0), (7315, 0.0), (7316, 0.0), (7317, 0.0), (7318, 0.0), (7319, 0.05655580656624942), (7320, 0.0), (7321, 0.0), (7322, 0.019553399093023578), (7323, 0.021065633562871472), (7324, 0.0), (7325, 0.0), (7326, 0.0), (7327, 0.028596237406327225), (7328, 0.0), (7329, 0.005464399251004628), (7330, 0.03813109798930039), (7331, 0.0), (7332, 0.0), (7333, 0.008722777611216552), (7334, 0.03270630923990406), (7335, 0.0), (7336, 0.0), (7337, 0.011971588277870248), (7338, 0.0), (7339, 0.0), (7340, 0.0), (7341, 0.0), (7342, 0.0), (7343, 0.005157905984122396), (7344, 0.0), (7345, 0.03787581271953268), (7346, 0.013094491993582032), (7347, 0.0), (7348, 0.0), (7349, 0.0), (7350, 0.0), (7351, 0.0), (7352, 0.0), (7353, 0.0), (7354, 0.0), (7355, 0.035222424800188556), (7356, 0.023832854978835905), (7357, 0.0), (7358, 0.007668938939875865), (7359, 0.0), (7360, 0.0), (7361, 0.008939062915350484), (7362, 0.0), (7363, 0.008386291464599448), (7364, 0.0), (7365, 0.0), (7366, 0.005301738234964569), (7367, 0.0), (7368, 0.028203096410974494), (7369, 0.0), (7370, 0.0), (7371, 0.02838941460685457), (7372, 0.0), (7373, 0.0), (7374, 0.0), (7375, 0.0), (7376, 0.0), (7377, 0.0), (7378, 0.0), (7379, 0.010620554558309325), (7380, 0.013592919236475265), (7381, 0.0), (7382, 0.0), (7383, 0.0), (7384, 0.0), (7385, 0.0), (7386, 0.013182477049637535), (7387, 0.0), (7388, 0.0), (7389, 0.009133397557136257), (7390, 0.016108986258147148), (7391, 0.0), (7392, 0.0), (7393, 0.0), (7394, 0.0), (7395, 0.0), (7396, 0.0), (7397, 0.0), (7398, 0.024434564783909356), (7399, 0.0), (7400, 0.0076631968280565016), (7401, 0.012794482546829616), (7402, 0.0038082279765097237), (7403, 0.0), (7404, 0.0), (7405, 0.0), (7406, 0.0), (7407, 0.0), (7408, 0.01907232442796175), (7409, 0.029706040610700434), (7410, 0.012829127658552795), (7411, 0.0), (7412, 0.0038860370555279487), (7413, 0.005220898574754455), (7414, 0.012262630229415494), (7415, 0.0), (7416, 0.0), (7417, 0.008190147219716646), (7418, 0.006051184287356039), (7419, 0.0075368918346813115), (7420, 0.012532098396584153), (7421, 0.009484493083323903), (7422, 0.0), (7423, 0.0), (7424, 0.0), (7425, 0.0), (7426, 0.009165619629583057), (7427, 0.0), (7428, 0.0), (7429, 0.01916779053868087), (7430, 0.0), (7431, 0.0), (7432, 0.0), (7433, 0.010463227917179494), (7434, 0.0), (7435, 0.0), (7436, 0.0), (7437, 0.0), (7438, 0.0), (7439, 0.0), (7440, 0.0), (7441, 0.022481813349397597), (7442, 0.0), (7443, 0.0), (7444, 0.0), (7445, 0.034194829376516106), (7446, 0.0), (7447, 0.0), (7448, 0.0), (7449, 0.0), (7450, 0.009851928397106099), (7451, 0.0), (7452, 0.014136322440994406), (7453, 0.01836280657649875), (7454, 0.0), (7455, 0.0), (7456, 0.0), (7457, 0.0), (7458, 0.0), (7459, 0.008902816842993074), (7460, 0.014260783447918684), (7461, 0.0), (7462, 0.0), (7463, 0.012521276600948926), (7464, 0.0), (7465, 0.015703199489452365), (7466, 0.0), (7467, 0.03399291121758476), (7468, 0.01892454176662659), (7469, 0.0), (7470, 0.04405450299537137), (7471, 0.0), (7472, 0.0), (7473, 0.0), (7474, 0.014610492411790707), (7475, 0.008463566349329148), (7476, 0.0), (7477, 0.0), (7478, 0.0), (7479, 0.0), (7480, 0.011540670434002928), (7481, 0.0), (7482, 0.0), (7483, 0.012568916586117978), (7484, 0.008569057436113373), (7485, 0.026789310404378958), (7486, 0.0), (7487, 0.0), (7488, 0.02113834623652852), (7489, 0.010375958199225488), (7490, 0.0), (7491, 0.0), (7492, 0.005596232739846226), (7493, 0.0), (7494, 0.0), (7495, 0.014048444290659299), (7496, 0.003933520059358919), (7497, 0.00988639152823391), (7498, 0.013597977275136744), (7499, 0.0), (7500, 0.0), (7501, 0.0), (7502, 0.0), (7503, 0.0), (7504, 0.014165732164482114), (7505, 0.0), (7506, 0.0), (7507, 0.0), (7508, 0.0028970997869317023), (7509, 0.0), (7510, 0.0), (7511, 0.0051172479704065365), (7512, 0.0), (7513, 0.0), (7514, 0.011667943909657388), (7515, 0.0), (7516, 0.0), (7517, 0.0207823627720272), (7518, 0.008094574478008182), (7519, 0.010110565549976627), (7520, 0.005588308933991925), (7521, 0.0), (7522, 0.0), (7523, 0.0), (7524, 0.0), (7525, 0.022772687012113917), (7526, 0.01813476547071719), (7527, 0.0), (7528, 0.0), (7529, 0.0061618301459274265), (7530, 0.0), (7531, 0.0), (7532, 0.0), (7533, 0.0), (7534, 0.0), (7535, 0.0), (7536, 0.004206669839401318), (7537, 0.012832246655919536), (7538, 0.053213538751227744), (7539, 0.0), (7540, 0.012272245444519578), (7541, 0.0), (7542, 0.0), (7543, 0.0), (7544, 0.029550849293662154), (7545, 0.015786759618253005), (7546, 0.0), (7547, 0.0), (7548, 0.015895483567194727), (7549, 0.0), (7550, 0.0), (7551, 0.0), (7552, 0.052279183315739004), (7553, 0.005004947418368613), (7554, 0.0), (7555, 0.0), (7556, 0.0), (7557, 0.016145856424055735), (7558, 0.0), (7559, 0.0), (7560, 0.02210456480272775), (7561, 0.0), (7562, 0.0), (7563, 0.0), (7564, 0.021324703227356835), (7565, 0.0), (7566, 0.016828046427860635), (7567, 0.0), (7568, 0.008767241335089541), (7569, 0.0), (7570, 0.0), (7571, 0.013991986684138178), (7572, 0.007076084630274884), (7573, 0.0), (7574, 0.0), (7575, 0.039259727071245795), (7576, 0.005345426910634147), (7577, 0.0), (7578, 0.050595769190138945), (7579, 0.0), (7580, 0.017972491330268885), (7581, 0.0), (7582, 0.010745472627230706), (7583, 0.0), (7584, 0.02381406671166312), (7585, 0.0), (7586, 0.0), (7587, 0.0), (7588, 0.018071490976076864), (7589, 0.008332412276357323), (7590, 0.0), (7591, 0.0), (7592, 0.0), (7593, 0.006340418605341886), (7594, 0.0), (7595, 0.0), (7596, 0.0), (7597, 0.0), (7598, 0.027672378435347214), (7599, 0.0), (7600, 0.025959656418799618), (7601, 0.0062170498463146665), (7602, 0.0), (7603, 0.0), (7604, 0.0), (7605, 0.0), (7606, 0.0), (7607, 0.0), (7608, 0.0), (7609, 0.0), (7610, 0.009357053516027712), (7611, 0.012437095479494198), (7612, 0.014281093912661037), (7613, 0.0), (7614, 0.07816565133130933), (7615, 0.015585168526843756), (7616, 0.010969266071881763), (7617, 0.0), (7618, 0.029378181759864584), (7619, 0.013082764910314352), (7620, 0.0), (7621, 0.0), (7622, 0.0), (7623, 0.0), (7624, 0.02802915437431367), (7625, 0.0), (7626, 0.0), (7627, 0.0), (7628, 0.018425263518973962), (7629, 0.016672676920222455), (7630, 0.0), (7631, 0.0), (7632, 0.0), (7633, 0.028187242261582736), (7634, 0.0), (7635, 0.0), (7636, 0.0), (7637, 0.0), (7638, 0.0), (7639, 0.0), (7640, 0.0), (7641, 0.0), (7642, 0.0), (7643, 0.008635802810444276), (7644, 0.0), (7645, 0.0), (7646, 0.0), (7647, 0.0), (7648, 0.0), (7649, 0.0), (7650, 0.0), (7651, 0.0), (7652, 0.022377872960636237), (7653, 0.0), (7654, 0.0), (7655, 0.0), (7656, 0.0), (7657, 0.03002808268182467), (7658, 0.0), (7659, 0.0), (7660, 0.0), (7661, 0.0), (7662, 0.0), (7663, 0.0), (7664, 0.0), (7665, 0.027394860295488592), (7666, 0.0), (7667, 0.0), (7668, 0.0055416831503117495), (7669, 0.0), (7670, 0.0), (7671, 0.0), (7672, 0.016429074334520802), (7673, 0.0), (7674, 0.0), (7675, 0.009204735369850364), (7676, 0.009419139792725335), (7677, 0.0), (7678, 0.0), (7679, 0.0), (7680, 0.0), (7681, 0.0), (7682, 0.0), (7683, 0.0), (7684, 0.0277117439137836), (7685, 0.0), (7686, 0.0), (7687, 0.0), (7688, 0.0), (7689, 0.0), (7690, 0.02500520414085741), (7691, 0.0), (7692, 0.016330782586991), (7693, 0.0), (7694, 0.0), (7695, 0.0), (7696, 0.0), (7697, 0.006212807966039388), (7698, 0.0), (7699, 0.0), (7700, 0.0), (7701, 0.0), (7702, 0.010971718808947498), (7703, 0.0), (7704, 0.0), (7705, 0.017072179447402868), (7706, 0.008915765214524266), (7707, 0.0), (7708, 0.0), (7709, 0.020980006461764414), (7710, 0.0), (7711, 0.0), (7712, 0.0), (7713, 0.0), (7714, 0.0), (7715, 0.02750070674451298), (7716, 0.0), (7717, 0.0), (7718, 0.0), (7719, 0.03590068970297298), (7720, 0.0370272657597235), (7721, 0.010802086095347174), (7722, 0.02246745756960469), (7723, 0.0), (7724, 0.0), (7725, 0.0077849154121323325), (7726, 0.014994907677346238), (7727, 0.0), (7728, 0.0), (7729, 0.022196285431386763), (7730, 0.0), (7731, 0.04491882220690699), (7732, 0.02771897795810754), (7733, 0.009540844120729714), (7734, 0.02667138227456727), (7735, 0.00603893205432947), (7736, 0.0061018703115557), (7737, 0.0), (7738, 0.008178074204220273), (7739, 0.0), (7740, 0.0), (7741, 0.0), (7742, 0.0), (7743, 0.0), (7744, 0.011172330802098219), (7745, 0.0), (7746, 0.0), (7747, 0.0), (7748, 0.0), (7749, 0.0), (7750, 0.0), (7751, 0.004764545116399615), (7752, 0.0), (7753, 0.0060883637783780845), (7754, 0.0), (7755, 0.0), (7756, 0.0), (7757, 0.0047755215699411034), (7758, 0.0), (7759, 0.0), (7760, 0.0), (7761, 0.0), (7762, 0.0), (7763, 0.029923025271053966), (7764, 0.0), (7765, 0.030813651309031066), (7766, 0.0), (7767, 0.02925428151661703), (7768, 0.0), (7769, 0.0), (7770, 0.023073619915052097), (7771, 0.01671231270230691), (7772, 0.011913881714315653), (7773, 0.0), (7774, 0.0027347338626713606), (7775, 0.0), (7776, 0.0), (7777, 0.0), (7778, 0.00794056910891088), (7779, 0.03999015368757701), (7780, 0.0), (7781, 0.02988604817912185), (7782, 0.0), (7783, 0.0), (7784, 0.0), (7785, 0.0), (7786, 0.04201448407636308), (7787, 0.0), (7788, 0.0), (7789, 0.00399620634450139), (7790, 0.0193180424231075), (7791, 0.003122478781294744), (7792, 0.06999046411952804), (7793, 0.0), (7794, 0.019803541618402372), (7795, 0.0), (7796, 0.01338285090969546), (7797, 0.0), (7798, 0.0), (7799, 0.0), (7800, 0.0), (7801, 0.005967811373912836), (7802, 0.02907439824749315), (7803, 0.0), (7804, 0.0), (7805, 0.0), (7806, 0.0), (7807, 0.0), (7808, 0.015537142269751496), (7809, 0.0), (7810, 0.0), (7811, 0.0), (7812, 0.009760472729226852), (7813, 0.012216933564998204), (7814, 0.0), (7815, 0.0), (7816, 0.0), (7817, 0.0), (7818, 0.0), (7819, 0.009360310077070713), (7820, 0.0), (7821, 0.026855737426592807), (7822, 0.0), (7823, 0.006191356070767977), (7824, 0.009252866711290499), (7825, 0.0), (7826, 0.0), (7827, 0.0), (7828, 0.04842844438576505), (7829, 0.03730356692688549), (7830, 0.0), (7831, 0.01235169425166091), (7832, 0.0), (7833, 0.010933618327223895), (7834, 0.0), (7835, 0.0), (7836, 0.01732606078829028), (7837, 0.0), (7838, 0.0), (7839, 0.02112468449135507), (7840, 0.0), (7841, 0.017781594150262314), (7842, 0.009123098184258735), (7843, 0.0), (7844, 0.0368821153836791), (7845, 0.0), (7846, 0.0), (7847, 0.0), (7848, 0.0), (7849, 0.0), (7850, 0.0), (7851, 0.0), (7852, 0.04011997795653875), (7853, 0.0), (7854, 0.010815925810353762), (7855, 0.0), (7856, 0.0), (7857, 0.0), (7858, 0.0), (7859, 0.0), (7860, 0.0), (7861, 0.0), (7862, 0.010823190095524368), (7863, 0.019074631733900657), (7864, 0.005834456726006535), (7865, 0.014489539353775765), (7866, 0.0), (7867, 0.0), (7868, 0.0), (7869, 0.0), (7870, 0.013976831354751659), (7871, 0.006069484500428592), (7872, 0.03577537368870081), (7873, 0.0), (7874, 0.015584435126071206), (7875, 0.0), (7876, 0.00991877341004265), (7877, 0.010632997415759002), (7878, 0.0), (7879, 0.0), (7880, 0.0), (7881, 0.022679824348676172), (7882, 0.026281668825879026), (7883, 0.0), (7884, 0.0), (7885, 0.018288054547670983), (7886, 0.0), (7887, 0.015877474581376207), (7888, 0.0), (7889, 0.0), (7890, 0.0), (7891, 0.0), (7892, 0.0), (7893, 0.0), (7894, 0.0), (7895, 0.0), (7896, 0.005533748720992808), (7897, 0.0), (7898, 0.09848271312192815), (7899, 0.07127197844869343), (7900, 0.0), (7901, 0.0), (7902, 0.0), (7903, 0.0), (7904, 0.0), (7905, 0.0), (7906, 0.0), (7907, 0.0), (7908, 0.0), (7909, 0.0), (7910, 0.0), (7911, 0.0), (7912, 0.0), (7913, 0.0), (7914, 0.02235270993117694), (7915, 0.01887430715237537), (7916, 0.009984317567932475), (7917, 0.013933641012132998), (7918, 0.0), (7919, 0.012374778757194626), (7920, 0.0), (7921, 0.0), (7922, 0.0), (7923, 0.011560927936963767), (7924, 0.0), (7925, 0.0), (7926, 0.005455621929820135), (7927, 0.022106873297491593), (7928, 0.0), (7929, 0.0), (7930, 0.0), (7931, 0.0), (7932, 0.0), (7933, 0.010810006824831901), (7934, 0.010553495771387745), (7935, 0.009909510741202731), (7936, 0.0), (7937, 0.0), (7938, 0.0), (7939, 0.005871963109309331), (7940, 0.013950782374959163), (7941, 0.017269376560958814), (7942, 0.0), (7943, 0.0), (7944, 0.012548426134702481), (7945, 0.0), (7946, 0.021335633725081096), (7947, 0.01894248283454733), (7948, 0.012318021052846061), (7949, 0.004150068798778913), (7950, 0.0), (7951, 0.004134740128637227), (7952, 0.0), (7953, 0.0), (7954, 0.0), (7955, 0.0), (7956, 0.0), (7957, 0.008158783176954376), (7958, 0.016358834426792576), (7959, 0.005222972284950253), (7960, 0.0), (7961, 0.0), (7962, 0.004142326957896331), (7963, 0.027321610377444357), (7964, 0.0), (7965, 0.0), (7966, 0.0), (7967, 0.009025290850628654), (7968, 0.0), (7969, 0.0), (7970, 0.0060602046906215925), (7971, 0.013392745116765088), (7972, 0.0), (7973, 0.0), (7974, 0.0), (7975, 0.005848156248899414), (7976, 0.0), (7977, 0.0), (7978, 0.0), (7979, 0.025563623343804527), (7980, 0.0), (7981, 0.008055937252736966), (7982, 0.0), (7983, 0.0), (7984, 0.0), (7985, 0.0), (7986, 0.008052063169683767), (7987, 0.01453705887664491), (7988, 0.0), (7989, 0.03930667877073948), (7990, 0.0038058763421626213), (7991, 0.0), (7992, 0.0), (7993, 0.011118779451001792), (7994, 0.011682369436971807), (7995, 0.011986796898711169), (7996, 0.0), (7997, 0.0), (7998, 0.0), (7999, 0.026248888625030754), (8000, 0.0), (8001, 0.01760098360941887), (8002, 0.0), (8003, 0.0), (8004, 0.01452382266980145), (8005, 0.0), (8006, 0.004116656165506422), (8007, 0.006951829221434548), (8008, 0.0), (8009, 0.0), (8010, 0.0), (8011, 0.008061803576800445), (8012, 0.008901292524522552), (8013, 0.010903789379021844), (8014, 0.0), (8015, 0.006827942702899553), (8016, 0.010330830473748566), (8017, 0.0), (8018, 0.0), (8019, 0.0), (8020, 0.0), (8021, 0.012389185627761295), (8022, 0.0), (8023, 0.017390770769687147), (8024, 0.0), (8025, 0.0), (8026, 0.0), (8027, 0.008150714609647365), (8028, 0.0), (8029, 0.0), (8030, 0.0), (8031, 0.027990741365176795), (8032, 0.0), (8033, 0.0), (8034, 0.0), (8035, 0.0), (8036, 0.012010588881492458), (8037, 0.0), (8038, 0.01615296163252083), (8039, 0.01423642002686476), (8040, 0.0), (8041, 0.0), (8042, 0.0), (8043, 0.0), (8044, 0.013550428397081538), (8045, 0.0), (8046, 0.03520767305119309), (8047, 0.006221069973188677), (8048, 0.0), (8049, 0.0), (8050, 0.0), (8051, 0.0), (8052, 0.0), (8053, 0.010466097161119438), (8054, 0.0), (8055, 0.0), (8056, 0.0), (8057, 0.0), (8058, 0.02467529281835862), (8059, 0.02996706632173046), (8060, 0.004851512617911083), (8061, 0.016061501693968996), (8062, 0.014488126592371909), (8063, 0.0), (8064, 0.0), (8065, 0.0), (8066, 0.01280303027244458), (8067, 0.0), (8068, 0.0), (8069, 0.0), (8070, 0.0), (8071, 0.00610205290926613), (8072, 0.0), (8073, 0.0), (8074, 0.03845188638862853), (8075, 0.01343435609992069), (8076, 0.0), (8077, 0.0), (8078, 0.0), (8079, 0.0), (8080, 0.009543232115919982), (8081, 0.012600931000089716), (8082, 0.0), (8083, 0.0), (8084, 0.005032159593642094), (8085, 0.0), (8086, 0.0), (8087, 0.017750890710500997), (8088, 0.0), (8089, 0.023844276487548458), (8090, 0.004722297722203697), (8091, 0.0), (8092, 0.0), (8093, 0.007363713257838981), (8094, 0.06356082035217368), (8095, 0.030533680402952196), (8096, 0.013681941886303638), (8097, 0.006073845286728499), (8098, 0.0), (8099, 0.0), (8100, 0.0), (8101, 0.0), (8102, 0.03258481864395843), (8103, 0.01568995658119744), (8104, 0.0), (8105, 0.00506100523574266), (8106, 0.0), (8107, 0.0024888365614978715), (8108, 0.0), (8109, 0.0), (8110, 0.0), (8111, 0.016138471331834867), (8112, 0.0), (8113, 0.0), (8114, 0.0), (8115, 0.0), (8116, 0.0), (8117, 0.0045271819347840565), (8118, 0.0), (8119, 0.0), (8120, 0.0), (8121, 0.0), (8122, 0.0061223128826068), (8123, 0.0), (8124, 0.006542808342549727), (8125, 0.0), (8126, 0.023715943025620356), (8127, 0.0), (8128, 0.02157176815407822), (8129, 0.005309321111190658), (8130, 0.0), (8131, 0.0), (8132, 0.0), (8133, 0.0), (8134, 0.0), (8135, 0.0), (8136, 0.0297500557108382), (8137, 0.0), (8138, 0.01917450077956661), (8139, 0.0), (8140, 0.0), (8141, 0.011607900616981085), (8142, 0.0), (8143, 0.007845585690467206), (8144, 0.0), (8145, 0.0), (8146, 0.0), (8147, 0.0), (8148, 0.016115548338512677), (8149, 0.0), (8150, 0.0), (8151, 0.0), (8152, 0.009075748732749257), (8153, 0.0), (8154, 0.0), (8155, 0.0), (8156, 0.0), (8157, 0.0), (8158, 0.0), (8159, 0.0), (8160, 0.0), (8161, 0.01413988496792178), (8162, 0.0), (8163, 0.014237646341451608), (8164, 0.0), (8165, 0.0), (8166, 0.017373643889797043), (8167, 0.0), (8168, 0.0), (8169, 0.0), (8170, 0.0), (8171, 0.0), (8172, 0.0), (8173, 0.0), (8174, 0.0), (8175, 0.0), (8176, 0.0), (8177, 0.008959817507917646), (8178, 0.0), (8179, 0.0), (8180, 0.006983636967769165), (8181, 0.0), (8182, 0.0), (8183, 0.0), (8184, 0.0), (8185, 0.010103668286324696), (8186, 0.0), (8187, 0.007578133853870308), (8188, 0.01597212365006437), (8189, 0.0), (8190, 0.0), (8191, 0.0), (8192, 0.014496518733734722), (8193, 0.0), (8194, 0.0), (8195, 0.0), (8196, 0.007661925174526837), (8197, 0.0), (8198, 0.0), (8199, 0.014099177903810798), (8200, 0.0), (8201, 0.016297360444986225), (8202, 0.005030614494178058), (8203, 0.0), (8204, 0.008948072818055361), (8205, 0.0), (8206, 0.0), (8207, 0.0), (8208, 0.0), (8209, 0.0), (8210, 0.0306097288440807), (8211, 0.016504177891532527), (8212, 0.0), (8213, 0.012871669575915642), (8214, 0.0), (8215, 0.002996944189301328), (8216, 0.0), (8217, 0.0), (8218, 0.0), (8219, 0.0), (8220, 0.0), (8221, 0.0), (8222, 0.0), (8223, 0.010291261243931961), (8224, 0.0), (8225, 0.09532129800132406), (8226, 0.0), (8227, 0.0), (8228, 0.0), (8229, 0.00397084397433726), (8230, 0.0), (8231, 0.0), (8232, 0.0038600955224096854), (8233, 0.0), (8234, 0.019518767631908657), (8235, 0.0), (8236, 0.008051370915478773), (8237, 0.0), (8238, 0.0), (8239, 0.0), (8240, 0.0), (8241, 0.012483830174636777), (8242, 0.0), (8243, 0.0), (8244, 0.024200313284283462), (8245, 0.0), (8246, 0.0), (8247, 0.0), (8248, 0.0), (8249, 0.0), (8250, 0.0), (8251, 0.0), (8252, 0.0), (8253, 0.013631145923376086), (8254, 0.0), (8255, 0.022469512700127273), (8256, 0.0), (8257, 0.0), (8258, 0.0), (8259, 0.0), (8260, 0.012333731232306999), (8261, 0.0), (8262, 0.015268041237533655), (8263, 0.0), (8264, 0.04145616306789076), (8265, 0.0), (8266, 0.0), (8267, 0.04414369446323757), (8268, 0.028973624326376082), (8269, 0.01855778121962503), (8270, 0.0), (8271, 0.0), (8272, 0.0), (8273, 0.0559096252684635), (8274, 0.0), (8275, 0.013080545626656762), (8276, 0.020397988335291675), (8277, 0.0), (8278, 0.0), (8279, 0.0), (8280, 0.01594516545800561), (8281, 0.0), (8282, 0.0), (8283, 0.005082484884024561), (8284, 0.0), (8285, 0.0), (8286, 0.0), (8287, 0.008792814131964156), (8288, 0.012462706618810663), (8289, 0.014417077106254303), (8290, 0.0), (8291, 0.0), (8292, 0.0), (8293, 0.013502246402927005), (8294, 0.0), (8295, 0.0), (8296, 0.0), (8297, 0.0), (8298, 0.002213328382991994), (8299, 0.0), (8300, 0.0), (8301, 0.06473958959028321), (8302, 0.016711855652873055), (8303, 0.0), (8304, 0.032349409916456115), (8305, 0.0), (8306, 0.0), (8307, 0.0), (8308, 0.0), (8309, 0.03101348149409655), (8310, 0.0), (8311, 0.023257725687437968), (8312, 0.01146149738859304), (8313, 0.0), (8314, 0.02977523366402794), (8315, 0.0), (8316, 0.0), (8317, 0.0), (8318, 0.0), (8319, 0.0), (8320, 0.0), (8321, 0.0), (8322, 0.0), (8323, 0.0), (8324, 0.013300774182383845), (8325, 0.01439863244919702), (8326, 0.0), (8327, 0.0), (8328, 0.0), (8329, 0.009762204261245511), (8330, 0.018842018580424936), (8331, 0.0), (8332, 0.0), (8333, 0.0), (8334, 0.024550054966961558), (8335, 0.0), (8336, 0.0128845376957466), (8337, 0.0), (8338, 0.0), (8339, 0.0), (8340, 0.0), (8341, 0.005377304615094183), (8342, 0.009219584443049222), (8343, 0.0), (8344, 0.0), (8345, 0.0), (8346, 0.0), (8347, 0.0), (8348, 0.0), (8349, 0.03223043400980548), (8350, 0.008176792947862619), (8351, 0.0), (8352, 0.0), (8353, 0.0), (8354, 0.0), (8355, 0.0), (8356, 0.009943951183524128), (8357, 0.006888587195334764), (8358, 0.0), (8359, 0.009542452735934457), (8360, 0.0), (8361, 0.0), (8362, 0.0084936947342246), (8363, 0.007723052834476546), (8364, 0.01756808661358165), (8365, 0.0), (8366, 0.009863151814666979), (8367, 0.014814384495191847), (8368, 0.0), (8369, 0.005959525194629383), (8370, 0.0), (8371, 0.0), (8372, 0.0), (8373, 0.0), (8374, 0.0), (8375, 0.0), (8376, 0.0), (8377, 0.0), (8378, 0.01330292252315732), (8379, 0.0), (8380, 0.0), (8381, 0.0), (8382, 0.0053938731024848205), (8383, 0.0), (8384, 0.0), (8385, 0.0), (8386, 0.0), (8387, 0.019279254653588394), (8388, 0.0), (8389, 0.009928476563095106), (8390, 0.0), (8391, 0.016981238600457537), (8392, 0.0), (8393, 0.0), (8394, 0.0), (8395, 0.0), (8396, 0.0), (8397, 0.0), (8398, 0.0), (8399, 0.0), (8400, 0.0), (8401, 0.0), (8402, 0.0), (8403, 0.0), (8404, 0.0), (8405, 0.0), (8406, 0.013560344132627), (8407, 0.0), (8408, 0.01858570799339934), (8409, 0.0), (8410, 0.0), (8411, 0.0), (8412, 0.0), (8413, 0.0), (8414, 0.009605624439778667), (8415, 0.0), (8416, 0.0), (8417, 0.0), (8418, 0.00786811138897856), (8419, 0.0), (8420, 0.0), (8421, 0.0), (8422, 0.0), (8423, 0.0), (8424, 0.0), (8425, 0.0), (8426, 0.0), (8427, 0.0), (8428, 0.0), (8429, 0.014780525008196908), (8430, 0.0), (8431, 0.0), (8432, 0.007128637214638406), (8433, 0.0), (8434, 0.0), (8435, 0.0), (8436, 0.0), (8437, 0.004303909455552897), (8438, 0.0), (8439, 0.0), (8440, 0.0), (8441, 0.0), (8442, 0.0), (8443, 0.0), (8444, 0.0), (8445, 0.0), (8446, 0.0), (8447, 0.0032897894922950953), (8448, 0.012506291595205585), (8449, 0.01971720317509102), (8450, 0.00922026058067806), (8451, 0.0), (8452, 0.0), (8453, 0.0), (8454, 0.010893797419347354), (8455, 0.0), (8456, 0.0), (8457, 0.0), (8458, 0.0), (8459, 0.0), (8460, 0.0), (8461, 0.0), (8462, 0.0), (8463, 0.0), (8464, 0.0), (8465, 0.0), (8466, 0.0), (8467, 0.020878211565674532), (8468, 0.0044298299311000995), (8469, 0.0), (8470, 0.0), (8471, 0.01231205619008244), (8472, 0.024198820457601022), (8473, 0.0), (8474, 0.0), (8475, 0.01568169469808718), (8476, 0.0), (8477, 0.0), (8478, 0.01278133459352598), (8479, 0.0), (8480, 0.0), (8481, 0.01919743769103852), (8482, 0.004850994337041593), (8483, 0.010617503009963938), (8484, 0.0), (8485, 0.0), (8486, 0.0), (8487, 0.0033766007939728822), (8488, 0.0), (8489, 0.015423781834287806), (8490, 0.0), (8491, 0.0), (8492, 0.01856978435517803), (8493, 0.01699718893810245), (8494, 0.0), (8495, 0.0), (8496, 0.010052307501175967), (8497, 0.0), (8498, 0.03528063195844644), (8499, 0.0), (8500, 0.0), (8501, 0.0), (8502, 0.05012170947124212), (8503, 0.0), (8504, 0.0), (8505, 0.0), (8506, 0.0), (8507, 0.0), (8508, 0.03053021081319713), (8509, 0.025227223897969896), (8510, 0.0), (8511, 0.015402573432014023), (8512, 0.0), (8513, 0.007472451489798304), (8514, 0.0), (8515, 0.0), (8516, 0.0), (8517, 0.007877271182079792), (8518, 0.0), (8519, 0.0), (8520, 0.0), (8521, 0.0), (8522, 0.0), (8523, 0.0), (8524, 0.005603053174676371), (8525, 0.0), (8526, 0.010552232049975322), (8527, 0.02363345003311175), (8528, 0.0), (8529, 0.0), (8530, 0.0), (8531, 0.023758749467950858), (8532, 0.0), (8533, 0.0), (8534, 0.0), (8535, 0.0), (8536, 0.0), (8537, 0.01586091704823504), (8538, 0.007271160099253177), (8539, 0.01745782037451021), (8540, 0.0), (8541, 0.0), (8542, 0.0), (8543, 0.0), (8544, 0.0), (8545, 0.0), (8546, 0.019654067804274353), (8547, 0.011700834954346774), (8548, 0.0), (8549, 0.0), (8550, 0.011630967871432953), (8551, 0.0), (8552, 0.02123349601700327), (8553, 0.02681290693976439), (8554, 0.008134626487443248), (8555, 0.0), (8556, 0.015345352047713106), (8557, 0.0), (8558, 0.016969678284217332), (8559, 0.0), (8560, 0.0), (8561, 0.0), (8562, 0.056367883105864096), (8563, 0.02216355941775931), (8564, 0.017453046606051098), (8565, 0.0), (8566, 0.0), (8567, 0.0), (8568, 0.0), (8569, 0.0), (8570, 0.0), (8571, 0.010369267168181697), (8572, 0.0), (8573, 0.0), (8574, 0.0), (8575, 0.006709162303715241), (8576, 0.014631627645497454), (8577, 0.01735639915580602), (8578, 0.0), (8579, 0.0), (8580, 0.0), (8581, 0.0), (8582, 0.0), (8583, 0.01615627396453316), (8584, 0.0), (8585, 0.0), (8586, 0.0), (8587, 0.019565534236471754), (8588, 0.0), (8589, 0.0), (8590, 0.0), (8591, 0.016785239195035554), (8592, 0.001636536643697855), (8593, 0.013498227569374166), (8594, 0.014321847095729517), (8595, 0.0), (8596, 0.0), (8597, 0.023124373992401442), (8598, 0.0), (8599, 0.0), (8600, 0.0), (8601, 0.0), (8602, 0.0), (8603, 0.0), (8604, 0.0), (8605, 0.007891146996148428), (8606, 0.0), (8607, 0.0), (8608, 0.0), (8609, 0.0), (8610, 0.0), (8611, 0.0), (8612, 0.0), (8613, 0.021032495304550012), (8614, 0.0), (8615, 0.03291584318212101), (8616, 0.0), (8617, 0.017311196050490345), (8618, 0.04694146002927674), (8619, 0.006820957222612177), (8620, 0.0), (8621, 0.0), (8622, 0.011299484245234762), (8623, 0.0), (8624, 0.0), (8625, 0.0), (8626, 0.015452855183246999), (8627, 0.0), (8628, 0.009991059412247415), (8629, 0.017787670426838095), (8630, 0.008169352131257818), (8631, 0.015717820139604214), (8632, 0.0), (8633, 0.0), (8634, 0.006167856620073402), (8635, 0.0), (8636, 0.0), (8637, 0.009948230343762928), (8638, 0.010681938722450393), (8639, 0.0), (8640, 0.011145600242110532), (8641, 0.030038728328564503), (8642, 0.0), (8643, 0.0), (8644, 0.0), (8645, 0.02563064663895815), (8646, 0.007604701558699649), (8647, 0.027166068445425053), (8648, 0.0), (8649, 0.0), (8650, 0.0), (8651, 0.0), (8652, 0.013069515821132294), (8653, 0.0), (8654, 0.014060328668444326), (8655, 0.0), (8656, 0.0), (8657, 0.0), (8658, 0.0), (8659, 0.02204597545064309), (8660, 0.03249047866348271), (8661, 0.0), (8662, 0.0), (8663, 0.0), (8664, 0.014210455778167255), (8665, 0.0), (8666, 0.0), (8667, 0.0), (8668, 0.0), (8669, 0.0), (8670, 0.007998317299394889), (8671, 0.0), (8672, 0.0), (8673, 0.0), (8674, 0.017558816882332667), (8675, 0.0), (8676, 0.0), (8677, 0.011100396035992405), (8678, 0.0), (8679, 0.003285908768978803), (8680, 0.0), (8681, 0.0), (8682, 0.009385774295032213), (8683, 0.018588893159719642), (8684, 0.0), (8685, 0.0), (8686, 0.0), (8687, 0.0), (8688, 0.0), (8689, 0.0), (8690, 0.0), (8691, 0.017634365079098047), (8692, 0.0), (8693, 0.01625494536657282), (8694, 0.0), (8695, 0.0), (8696, 0.0), (8697, 0.0), (8698, 0.013432495350068907), (8699, 0.0), (8700, 0.007497292048639499), (8701, 0.0), (8702, 0.0), (8703, 0.0), (8704, 0.0), (8705, 0.0), (8706, 0.0), (8707, 0.010461190012686554), (8708, 0.0), (8709, 0.0), (8710, 0.0), (8711, 0.0), (8712, 0.01654178694159552), (8713, 0.0), (8714, 0.0), (8715, 0.0), (8716, 0.02832441105837753), (8717, 0.019982993796419796), (8718, 0.0), (8719, 0.0), (8720, 0.0), (8721, 0.0), (8722, 0.0), (8723, 0.0), (8724, 0.0), (8725, 0.011273260484155783), (8726, 0.0), (8727, 0.0), (8728, 0.0), (8729, 0.0), (8730, 0.0), (8731, 0.021302276880937075), (8732, 0.0), (8733, 0.04500179751437367), (8734, 0.0), (8735, 0.008255450828036725), (8736, 0.005070754186793489), (8737, 0.0), (8738, 0.0), (8739, 0.0), (8740, 0.0), (8741, 0.013978332408687523), (8742, 0.029556002794517023), (8743, 0.0), (8744, 0.0), (8745, 0.0), (8746, 0.0), (8747, 0.016685207591257665), (8748, 0.0), (8749, 0.0), (8750, 0.0), (8751, 0.0), (8752, 0.0), (8753, 0.0), (8754, 0.006808113060480857), (8755, 0.0), (8756, 0.0), (8757, 0.0), (8758, 0.0), (8759, 0.0), (8760, 0.02454182539269327), (8761, 0.0), (8762, 0.0), (8763, 0.0), (8764, 0.0), (8765, 0.0), (8766, 0.013226558826930837), (8767, 0.0), (8768, 0.0), (8769, 0.0), (8770, 0.0), (8771, 0.0), (8772, 0.0), (8773, 0.02370826488140121), (8774, 0.0), (8775, 0.02169755402763297), (8776, 0.018481295336315), (8777, 0.0), (8778, 0.011109830212448801), (8779, 0.0), (8780, 0.0), (8781, 0.0), (8782, 0.0), (8783, 0.017884541558187743), (8784, 0.012133048914484126), (8785, 0.010432359668874996), (8786, 0.0), (8787, 0.006082905052586735), (8788, 0.0), (8789, 0.0), (8790, 0.0), (8791, 0.0), (8792, 0.0), (8793, 0.013133859120734994), (8794, 0.016599101939690965), (8795, 0.0), (8796, 0.0), (8797, 0.0), (8798, 0.0), (8799, 0.07641373368067068), (8800, 0.0), (8801, 0.0), (8802, 0.016007239463882172), (8803, 0.0), (8804, 0.05793907090872848), (8805, 0.0), (8806, 0.0), (8807, 0.00662291205321921), (8808, 0.0), (8809, 0.0), (8810, 0.0), (8811, 0.0), (8812, 0.0), (8813, 0.0), (8814, 0.005731050999629665), (8815, 0.0), (8816, 0.013263646458877492), (8817, 0.015939202920217253), (8818, 0.017492591622943476), (8819, 0.0), (8820, 0.02100884645212395), (8821, 0.0), (8822, 0.0), (8823, 0.0), (8824, 0.026783388018014016), (8825, 0.030810095752938266), (8826, 0.0), (8827, 0.0), (8828, 0.015037871667676214), (8829, 0.0), (8830, 0.0), (8831, 0.0), (8832, 0.0), (8833, 0.01374594989620613), (8834, 0.0), (8835, 0.019648206348072177), (8836, 0.0), (8837, 0.021505876654633063), (8838, 0.0), (8839, 0.0), (8840, 0.020115979491891735), (8841, 0.0), (8842, 0.0), (8843, 0.008283175043642649), (8844, 0.0), (8845, 0.0), (8846, 0.0), (8847, 0.0), (8848, 0.009001957154178309), (8849, 0.01485925847672974), (8850, 0.0), (8851, 0.0), (8852, 0.0), (8853, 0.0), (8854, 0.0), (8855, 0.0), (8856, 0.015713576917918172), (8857, 0.012545560131769981), (8858, 0.0), (8859, 0.0), (8860, 0.0), (8861, 0.0), (8862, 0.0), (8863, 0.030071221590522185), (8864, 0.0), (8865, 0.0), (8866, 0.0), (8867, 0.0), (8868, 0.012271537591962457), (8869, 0.0), (8870, 0.0), (8871, 0.0), (8872, 0.0), (8873, 0.0049095912029409414), (8874, 0.0), (8875, 0.0), (8876, 0.02166322834350208), (8877, 0.011428881147947373), (8878, 0.004648918798424925), (8879, 0.008523466183835928), (8880, 0.0), (8881, 0.0), (8882, 0.009089852032572123), (8883, 0.0), (8884, 0.0), (8885, 0.023688790363537496), (8886, 0.0), (8887, 0.0), (8888, 0.011492290264453012), (8889, 0.046374767220726365), (8890, 0.0), (8891, 0.027386463505315383), (8892, 0.011936560389617545), (8893, 0.009516024645501988), (8894, 0.0), (8895, 0.0), (8896, 0.0), (8897, 0.0), (8898, 0.0), (8899, 0.0), (8900, 0.0), (8901, 0.0), (8902, 0.02557126419437363), (8903, 0.011688784186128535), (8904, 0.016496023544750688), (8905, 0.048913152247231764), (8906, 0.017141123323388196), (8907, 0.0), (8908, 0.0), (8909, 0.03461204474125538), (8910, 0.0), (8911, 0.0), (8912, 0.0), (8913, 0.0), (8914, 0.0), (8915, 0.0), (8916, 0.0), (8917, 0.0), (8918, 0.0), (8919, 0.010634618194472308), (8920, 0.0), (8921, 0.0), (8922, 0.024144021533888164), (8923, 0.0), (8924, 0.028594934399850547), (8925, 0.0), (8926, 0.0), (8927, 0.0), (8928, 0.0), (8929, 0.05523188626665845), (8930, 0.0), (8931, 0.0), (8932, 0.023373135880015845), (8933, 0.0), (8934, 0.0), (8935, 0.0), (8936, 0.008662202215302076), (8937, 0.0), (8938, 0.015251749137269321), (8939, 0.0), (8940, 0.0), (8941, 0.0), (8942, 0.01299982422165294), (8943, 0.01091363121486078), (8944, 0.0), (8945, 0.0), (8946, 0.014602660579109724), (8947, 0.011468051168141917), (8948, 0.0), (8949, 0.008162816826847094), (8950, 0.0), (8951, 0.01665937008563371), (8952, 0.0), (8953, 0.017822555076796837), (8954, 0.0), (8955, 0.005239679063961848), (8956, 0.0), (8957, 0.0), (8958, 0.0), (8959, 0.0755707827182998), (8960, 0.0), (8961, 0.0), (8962, 0.0), (8963, 0.0), (8964, 0.0), (8965, 0.0), (8966, 0.02728155055120876), (8967, 0.0), (8968, 0.00601222867976595), (8969, 0.0), (8970, 0.0), (8971, 0.006557944593056241), (8972, 0.0), (8973, 0.0), (8974, 0.020248069067078992), (8975, 0.0), (8976, 0.0), (8977, 0.0), (8978, 0.0), (8979, 0.019226902526817503), (8980, 0.0), (8981, 0.0), (8982, 0.0), (8983, 0.0), (8984, 0.0), (8985, 0.0), (8986, 0.0), (8987, 0.0), (8988, 0.0), (8989, 0.0), (8990, 0.0), (8991, 0.012342926231009478), (8992, 0.019449527060112586), (8993, 0.0), (8994, 0.0), (8995, 0.0), (8996, 0.0), (8997, 0.0), (8998, 0.010356319848135672), (8999, 0.0), (9000, 0.0), (9001, 0.004354885374764934), (9002, 0.013759255420920236), (9003, 0.0), (9004, 0.03135432586221136), (9005, 0.014018780530427731), (9006, 0.009805951692129168), (9007, 0.0), (9008, 0.010671261447138166), (9009, 0.0), (9010, 0.0), (9011, 0.0), (9012, 0.0), (9013, 0.0), (9014, 0.0), (9015, 0.01591232589587693), (9016, 0.0), (9017, 0.017168162011183125), (9018, 0.0), (9019, 0.0), (9020, 0.0), (9021, 0.0), (9022, 0.009528969312211293), (9023, 0.0), (9024, 0.0), (9025, 0.0), (9026, 0.0077210064038491875), (9027, 0.0), (9028, 0.023651254453137337), (9029, 0.01038403130362799), (9030, 0.0), (9031, 0.0), (9032, 0.0), (9033, 0.0), (9034, 0.0), (9035, 0.0), (9036, 0.0), (9037, 0.0291420901347516), (9038, 0.0), (9039, 0.0), (9040, 0.0), (9041, 0.0), (9042, 0.0), (9043, 0.0), (9044, 0.0), (9045, 0.0), (9046, 0.0), (9047, 0.0171106365638328), (9048, 0.0), (9049, 0.0), (9050, 0.01674648017445086), (9051, 0.0), (9052, 0.0), (9053, 0.0), (9054, 0.0), (9055, 0.0), (9056, 0.0), (9057, 0.0), (9058, 0.0), (9059, 0.0), (9060, 0.0), (9061, 0.0), (9062, 0.0), (9063, 0.0), (9064, 0.0), (9065, 0.055865742262467724), (9066, 0.0), (9067, 0.0), (9068, 0.0), (9069, 0.0), (9070, 0.0), (9071, 0.0), (9072, 0.0), (9073, 0.0), (9074, 0.0), (9075, 0.03459802476483538), (9076, 0.0), (9077, 0.0), (9078, 0.0), (9079, 0.00985758778746359), (9080, 0.0), (9081, 0.0), (9082, 0.0), (9083, 0.0), (9084, 0.0), (9085, 0.0), (9086, 0.0), (9087, 0.0), (9088, 0.0), (9089, 0.0), (9090, 0.0), (9091, 0.0), (9092, 0.005786003918269763)]\n",
            "len 9093\n",
            "sim_scores sort \n",
            " [(3, 1.0000000000000007), (6151, 0.12286362972191048), (2621, 0.10428042289116488), (1098, 0.10271159212135092), (4620, 0.10257362377192508), (7898, 0.09848271312192815), (1489, 0.09721061919885426), (8225, 0.09532129800132406), (6037, 0.08794317702195693), (4414, 0.08340213479617721), (1925, 0.08240059967603154), (2198, 0.08108838923994668), (1422, 0.08015703847949338), (3880, 0.07931451685740733), (7614, 0.07816565133130933), (1554, 0.07773721114889409), (3959, 0.07663107055984399), (8799, 0.07641373368067068), (1051, 0.07629439130040894), (8959, 0.0755707827182998), (4423, 0.07501499346325939), (4695, 0.07407691004346065), (6448, 0.07344237084362307), (7021, 0.07289495512063611), (5692, 0.07202258595270919), (5847, 0.07180641777103006), (7899, 0.07127197844869343), (1553, 0.06999574963334274), (7792, 0.06999046411952804), (577, 0.06899752049003915), (1600, 0.06808964662099924), (506, 0.06808131492364428), (583, 0.06737600021654179), (4554, 0.0669936371070124), (3158, 0.06674851444058796), (3070, 0.0663029100544252), (5887, 0.06597310351091301), (4110, 0.06538632377568405), (8301, 0.06473958959028321), (2466, 0.06361719797527253), (8094, 0.06356082035217368), (594, 0.0631054430007632), (6093, 0.06308501153071032), (3689, 0.06187063405709769), (5077, 0.061827891925849615), (3455, 0.06125490164474858), (3509, 0.061052675679804984), (722, 0.06094500506052044), (704, 0.06048450533709521), (1505, 0.06039241431093553), (2690, 0.0595450663471532), (6413, 0.05851441315493355), (1053, 0.05844475009823687), (3307, 0.05818165213153233), (8804, 0.05793907090872848), (4117, 0.05785326636356587), (379, 0.057786082705585246), (3863, 0.05726928830101721), (4491, 0.056888394316546284), (664, 0.05686985824397878), (6288, 0.05670960044720981), (7319, 0.05655580656624942), (7105, 0.05642580954243939), (8562, 0.056367883105864096), (2159, 0.05622658596386125), (8273, 0.0559096252684635), (9065, 0.055865742262467724), (6133, 0.05554722678573525), (342, 0.055258593783100315), (8929, 0.05523188626665845), (2556, 0.0547122985684485), (988, 0.05365540928691842), (7538, 0.053213538751227744), (5009, 0.05300021986313769), (2097, 0.052481480077972216), (7552, 0.052279183315739004), (3815, 0.05222957716217504), (2581, 0.051855242896506656), (2283, 0.05176962911754825), (1227, 0.05176104707967934), (1828, 0.05160276077277988), (2162, 0.05132366547265049), (3643, 0.05110414481943675), (466, 0.05083782189389072), (7578, 0.050595769190138945), (3257, 0.05055821268655149), (2903, 0.050346202428952797), (3250, 0.050270583994436416), (8502, 0.05012170947124212), (1062, 0.04998269430209783), (5639, 0.049939172975848406), (6452, 0.04985235654113984), (6152, 0.04985009626730638), (6522, 0.049743539140388204), (1472, 0.04971109615977351), (2304, 0.04970799060718091), (8905, 0.048913152247231764), (5092, 0.04888495490968289), (7828, 0.04842844438576505), (4906, 0.048185293350996486), (244, 0.047881393529849846), (4461, 0.04778046715970987), (3834, 0.04764153290725255), (3453, 0.047454754645278985), (1004, 0.047087159862316694), (8618, 0.04694146002927674), (2418, 0.04690096749570634), (5239, 0.04671550895003525), (6782, 0.0466747313225634), (2692, 0.04645982386166084), (8889, 0.046374767220726365), (1214, 0.04631085402158561), (6627, 0.046038078092192326), (1049, 0.04578420721842937), (7065, 0.04550853115976884), (5483, 0.0453664090237628), (3583, 0.04517161541153995), (8733, 0.04500179751437367), (7731, 0.04491882220690699), (6095, 0.04472363678352052), (1591, 0.0446831654281086), (7029, 0.044578758773659466), (1191, 0.04457616920313731), (4335, 0.04454105434506643), (5062, 0.044488951303077756), (596, 0.0443636369787822), (2177, 0.04424784538320849), (7062, 0.04424451711378401), (8267, 0.04414369446323757), (7470, 0.04405450299537137), (4350, 0.04388103970654694), (2462, 0.043565717219199177), (2313, 0.04353279054907628), (1163, 0.04343326184356383), (2749, 0.043330334894705745), (4432, 0.0433141835081963), (6347, 0.043148298585268384), (947, 0.04300620496654408), (5487, 0.04292282332861212), (1873, 0.042722251636681474), (1182, 0.04262409467845385), (3177, 0.04254113963935591), (6121, 0.04251805753766579), (706, 0.04229150012137579), (760, 0.04218666159441559), (4409, 0.04209505125625652), (2864, 0.042059598033902315), (4096, 0.04203050837480675), (7786, 0.04201448407636308), (2712, 0.04193489779785367), (329, 0.04189397751255529), (138, 0.04183406646299401), (3491, 0.04159489248845459), (4469, 0.041549568135588445), (4312, 0.04151729631459732), (8264, 0.04145616306789076), (901, 0.04138233506030503), (498, 0.041340425063157875), (5415, 0.04119556505810644), (4664, 0.04113784788948113), (786, 0.04094729521013078), (841, 0.040832684451453195), (2946, 0.04082648591430457), (873, 0.040760457639999505), (2300, 0.04064056809330516), (5931, 0.040422497114493805), (2237, 0.04033112699408557), (902, 0.040170241212946815), (6554, 0.040165645616538674), (2668, 0.04014786648998753), (7852, 0.04011997795653875), (3519, 0.04007247834097643), (7779, 0.03999015368757701), (1956, 0.03970559798745705), (2077, 0.03934782436742602), (6164, 0.039317890854487905), (7989, 0.03930667877073948), (7575, 0.039259727071245795), (3293, 0.03924679682021076), (3672, 0.039079031599078023), (5763, 0.03897479621928311), (519, 0.038948703073770644), (5674, 0.038942759473869555), (2796, 0.03881150290935639), (2390, 0.03879156105202452), (4369, 0.038695899158582785), (4046, 0.0386605107864796), (8074, 0.03845188638862853), (792, 0.03843036373132098), (3184, 0.038320525976594924), (1752, 0.03830517381422637), (2245, 0.03827534250235194), (7330, 0.03813109798930039), (6088, 0.03804401656569291), (1824, 0.037995028816428265), (2220, 0.037972739378663294), (3315, 0.037912340065015385), (4317, 0.037912340065015385), (7345, 0.03787581271953268), (2912, 0.0378410150627833), (144, 0.03770811481269683), (3031, 0.0376064114654591), (7311, 0.03757818402748329), (3181, 0.03754566692383394), (3211, 0.03746795183608422), (7829, 0.03730356692688549), (2285, 0.037105863571222406), (1543, 0.037105441940926076), (1256, 0.03705840958337696), (7720, 0.0370272657597235), (7844, 0.0368821153836791), (3968, 0.03686806286133484), (2643, 0.03671450576106584), (4689, 0.036625047532395226), (4196, 0.036585509204192075), (5533, 0.03650302146624369), (6614, 0.03650294636161754), (6905, 0.03645721777257805), (5933, 0.03627539085108705), (675, 0.036067672107374764), (3540, 0.03601068436456614), (72, 0.036000062363759334), (7719, 0.03590068970297298), (7872, 0.03577537368870081), (1145, 0.035769727758840256), (2399, 0.03571165959962189), (2966, 0.03557293446852536), (5347, 0.03548065088723969), (5994, 0.035405137856990634), (3586, 0.03533697989897103), (8498, 0.03528063195844644), (7355, 0.035222424800188556), (2504, 0.035209017705980145), (8046, 0.03520767305119309), (1507, 0.03519765081862734), (1731, 0.03517848720212124), (314, 0.035155856140715785), (4576, 0.03504855174920355), (2564, 0.03503304243595286), (4473, 0.03497621403376897), (1152, 0.03469859569839727), (5296, 0.03465306515714161), (8909, 0.03461204474125538), (9075, 0.03459802476483538), (587, 0.03458864398763096), (5658, 0.03450903907253968), (3788, 0.03444230542009554), (5362, 0.03441127339495284), (1271, 0.03433999579842939), (2710, 0.03426308684006662), (7445, 0.034194829376516106), (6266, 0.03417610524897751), (5293, 0.03414598231680337), (956, 0.03408150940875286), (1805, 0.03404179665737877), (7467, 0.03399291121758476), (5484, 0.033877806170228494), (1204, 0.03381303005526257), (264, 0.033809554147533706), (4715, 0.03359870884221273), (5387, 0.033582084690721645), (1661, 0.033509420679974956), (1841, 0.03347941089281606), (6422, 0.03343083481134757), (1020, 0.03340226466338416), (2833, 0.03339265593728131), (7184, 0.0333743318203778), (3614, 0.03332195926695107), (4040, 0.033313506662236377), (6084, 0.033166112800826306), (397, 0.033132619740835575), (79, 0.03312512565612471), (2213, 0.03301423719381835), (5045, 0.033012155358120944), (6593, 0.032996466775189824), (5274, 0.03293539329253191), (8615, 0.03291584318212101), (3431, 0.032912461832407446), (2632, 0.032834635386010246), (3120, 0.03283353111455399), (5731, 0.0328021540473642), (6604, 0.03276586120910281), (7334, 0.03270630923990406), (4263, 0.03265878822792689), (187, 0.03261818490969257), (2881, 0.032610298996912035), (8102, 0.03258481864395843), (3805, 0.03255645762902004), (551, 0.0325066264740173), (8660, 0.03249047866348271), (4893, 0.03243630451953983), (3334, 0.03239065547779168), (8304, 0.032349409916456115), (5930, 0.03234489122077493), (4358, 0.03233720323053739), (177, 0.03229007638241607), (996, 0.03228867100950926), (5021, 0.03225889595267279), (8349, 0.03223043400980548), (2673, 0.03222639393155089), (1929, 0.032162326443198636), (2887, 0.032126846337996694), (4420, 0.03207368304274442), (6785, 0.032053064095445546), (2188, 0.03196238630268211), (3198, 0.031888505339272885), (7119, 0.03185670169258793), (2314, 0.031843801777102845), (28, 0.03182100836766543), (5294, 0.03178449413526987), (976, 0.03176394402572611), (283, 0.031759497824116086), (5962, 0.03172321859051366), (5233, 0.0316897739347118), (2658, 0.031653104291330475), (1621, 0.03158513475103948), (5057, 0.03154608633078778), (953, 0.03146432375202855), (898, 0.031444614005913425), (2750, 0.03136319561359199), (9004, 0.03135432586221136), (2393, 0.03133938558436496), (2880, 0.031325191588957114), (3532, 0.03128196105690083), (6852, 0.031262719066183074), (5877, 0.031183768077703962), (4730, 0.031167318590384647), (3703, 0.031127206275966747), (5125, 0.031059554446110686), (4627, 0.031016756361858237), (8309, 0.03101348149409655), (2932, 0.03100677548505204), (6807, 0.03099834844270072), (1172, 0.030951424311064887), (3170, 0.030883807004759012), (7765, 0.030813651309031066), (8825, 0.030810095752938266), (5577, 0.03068071765763053), (4666, 0.030673402533556417), (1686, 0.030658621205134653), (8210, 0.0306097288440807), (6107, 0.030608023965455762), (4343, 0.030575584177507283), (5482, 0.030568481786378943), (5033, 0.030558223165629388), (8095, 0.030533680402952196), (8508, 0.03053021081319713), (6611, 0.030529054837641113), (140, 0.03049622928094714), (3909, 0.030474033208746042), (3097, 0.030429127660832965), (1041, 0.030348149172638547), (4094, 0.030308326847876), (4359, 0.03023130188998168), (4628, 0.030200833360465626), (1345, 0.03019978265128586), (4396, 0.030118641707308647), (430, 0.030084374285393137), (8863, 0.030071221590522185), (3129, 0.030061077089146845), (2853, 0.030059512862444182), (8641, 0.030038728328564503), (7657, 0.03002808268182467), (6203, 0.030008592973147355), (8059, 0.02996706632173046), (7763, 0.029923025271053966), (7781, 0.02988604817912185), (5707, 0.029848995042527696), (5632, 0.02983504907663159), (1320, 0.029828939062161622), (8314, 0.02977523366402794), (3793, 0.029755129802155472), (8136, 0.0297500557108382), (7409, 0.029706040610700434), (2601, 0.029660118266283068), (3340, 0.02965919322841213), (4955, 0.02965396727396847), (4259, 0.029561411913438557), (8742, 0.029556002794517023), (6931, 0.029553868482250806), (7544, 0.029550849293662154), (6683, 0.029509470299081592), (555, 0.029497473044332173), (5131, 0.0293916798702607), (5956, 0.029387814538019662), (7618, 0.029378181759864584), (1267, 0.029371279048637643), (1719, 0.0292691729530053), (7767, 0.02925428151661703), (5900, 0.0291976224444444), (1744, 0.02919049993628358), (864, 0.029146799399897366), (9037, 0.0291420901347516), (68, 0.029108926058636655), (6322, 0.029108915986503336), (7802, 0.02907439824749315), (871, 0.0290665417181147), (4826, 0.029044663536168937), (4945, 0.029042994141540938), (34, 0.02903172641027662), (5551, 0.029015472621343283), (3978, 0.029008280076523216), (8268, 0.028973624326376082), (1685, 0.02896759460145815), (7088, 0.02896281834705719), (6446, 0.028887388367953414), (61, 0.028877355734018645), (23, 0.02878972376834309), (5959, 0.028743986451951475), (6920, 0.02873828049954364), (6940, 0.028713168185677474), (3570, 0.02871136017334349), (4371, 0.028690438057861138), (6792, 0.028670963791306882), (3080, 0.02866235757243455), (1147, 0.028630529816880832), (7327, 0.028596237406327225), (8924, 0.028594934399850547), (155, 0.028580363694004865), (1765, 0.028526822185352987), (984, 0.028523830207993334), (2417, 0.028460479784821188), (7371, 0.02838941460685457), (5688, 0.028386227550399337), (2517, 0.028341221271189754), (8716, 0.02832441105837753), (2985, 0.028313302377333465), (6668, 0.028214269326231445), (5098, 0.02821425549495194), (7368, 0.028203096410974494), (1159, 0.0281988549595157), (7633, 0.028187242261582736), (5892, 0.028170076009049555), (2451, 0.028101582580674994), (970, 0.0280986759165013), (6579, 0.028074313863375576), (4821, 0.028048689836196468), (205, 0.028036206056461056), (7624, 0.02802915437431367), (3051, 0.028021347155150447), (8031, 0.027990741365176795), (7125, 0.027932823826152836), (1181, 0.027915852043047754), (6177, 0.027913849787937647), (6313, 0.027908124050625174), (3984, 0.027901620046420945), (5381, 0.027864363536871446), (1108, 0.027840142538321268), (1654, 0.027832008264445394), (798, 0.02782861805640558), (7213, 0.02780199439085209), (4009, 0.027788977756949503), (7732, 0.02771897795810754), (7684, 0.0277117439137836), (7598, 0.027672378435347214), (5642, 0.027635360065723077), (1660, 0.027611571967196363), (6503, 0.027568403171783447), (5360, 0.02752687443337369), (7715, 0.02750070674451298), (5682, 0.027492405770115688), (4599, 0.027475769945933124), (7665, 0.027394860295488592), (8891, 0.027386463505315383), (2174, 0.027361233963278057), (3723, 0.027350094047347676), (1919, 0.027338479252895048), (7963, 0.027321610377444357), (4917, 0.027283392481500763), (8966, 0.02728155055120876), (6787, 0.027268517357797287), (3233, 0.027261959789236075), (170, 0.027247645427782484), (4391, 0.0272245259840751), (8647, 0.027166068445425053), (6204, 0.027127599800696775), (5566, 0.027081908933705025), (4276, 0.02705964725928076), (4953, 0.027041637421404967), (1791, 0.026982611598015106), (6975, 0.02696849138198419), (3811, 0.026934972004213), (4455, 0.026863698722948758), (7821, 0.026855737426592807), (8553, 0.02681290693976439), (7485, 0.026789310404378958), (8824, 0.026783388018014016), (2331, 0.026782868575802993), (4759, 0.026750665482858926), (4285, 0.026692317720859445), (7019, 0.026679536048087826), (7734, 0.02667138227456727), (540, 0.026665994278252243), (936, 0.02662429220837879), (1208, 0.026585168689338055), (6428, 0.026542952033068272), (5839, 0.026504908649621312), (2603, 0.02648292788351161), (3370, 0.026472492110606188), (6493, 0.026455722641890896), (1405, 0.026449967040140385), (6432, 0.026433270846830084), (732, 0.026432731792109285), (5037, 0.026337076692075686), (7882, 0.026281668825879026), (4218, 0.026253263597247188), (7999, 0.026248888625030754), (2055, 0.026246751822445402), (7113, 0.02618486025990661), (7106, 0.026175336528775156), (6812, 0.026157481491564872), (1427, 0.026121614618746392), (1715, 0.02611164916314859), (981, 0.026090808093097554), (1946, 0.026074294843825355), (4474, 0.026015418422610823), (5238, 0.026003982512158776), (1252, 0.025987592983509288), (7600, 0.025959656418799618), (3721, 0.025914673246794542), (5652, 0.0258935643635334), (301, 0.02585125056780952), (2945, 0.025766549672376644), (6034, 0.025741718408493233), (6841, 0.02574086183749641), (3821, 0.02574058442262833), (990, 0.025671205526462175), (847, 0.025655328416647007), (231, 0.025652408724507525), (8645, 0.02563064663895815), (806, 0.025595243387559974), (2376, 0.02557321368198003), (8902, 0.02557126419437363), (2758, 0.025568088118728384), (7979, 0.025563623343804527), (5164, 0.025555596651966186), (1371, 0.025519901807943248), (6629, 0.025501486394392057), (2862, 0.025473987896133133), (2229, 0.02546706172954445), (6109, 0.025460653667284623), (308, 0.0254358501996179), (5545, 0.025434370572648274), (1328, 0.025432682981314188), (5213, 0.025421074281525124), (4561, 0.025408371007279277), (4294, 0.025303990074116732), (4633, 0.025293408137830813), (2835, 0.02527392163394444), (1213, 0.02525792832522305), (6986, 0.02524207568662293), (8509, 0.025227223897969896), (2422, 0.02521219230579838), (2148, 0.025202488165986355), (2103, 0.025191647258927603), (438, 0.025107189339258866), (5689, 0.025082530060306644), (1965, 0.02506476960468205), (3077, 0.02506442216329504), (4708, 0.025063004005405936), (4757, 0.02505458111964974), (6580, 0.025052232184736213), (7690, 0.02500520414085741), (991, 0.024983164530525112), (6752, 0.024923739665668264), (6949, 0.024920904717860133), (1113, 0.024857307297639117), (5373, 0.02483421291929719), (4163, 0.024821970498616616), (2047, 0.024807127231412564), (2742, 0.024789642721219637), (5486, 0.024770225754340784), (3182, 0.024766645371015656), (4337, 0.02476321567864328), (6208, 0.024739481102666643), (4562, 0.024717420321854727), (5963, 0.0247034971236511), (8058, 0.02467529281835862), (5027, 0.024647315820164238), (5860, 0.024636724651759426), (4401, 0.024614604366914972), (8334, 0.024550054966961558), (3469, 0.024545733512549225), (8760, 0.02454182539269327), (4763, 0.024526397678162296), (617, 0.024471002274471125), (5864, 0.02446605494198833), (7398, 0.024434564783909356), (3843, 0.024428154496505206), (86, 0.024414780820401938), (1439, 0.024386492455359978), (5256, 0.02438044777610531), (2642, 0.024370042813760505), (9, 0.024324991730639713), (3444, 0.02431270840302155), (3607, 0.024284608610367416), (2956, 0.02428283749250156), (5570, 0.02424752856332508), (662, 0.0242393075946138), (7174, 0.02423692065125567), (3290, 0.02422952456337204), (5431, 0.024224915232594957), (8244, 0.024200313284283462), (8472, 0.024198820457601022), (8922, 0.024144021533888164), (6602, 0.024138035478141306), (2735, 0.02406536056158449), (5592, 0.024056559283239905), (3580, 0.024047512075502212), (7054, 0.024040340897666455), (6278, 0.023999396899444227), (4938, 0.023992106389252834), (6545, 0.023985851212085952), (755, 0.023977092509004875), (2457, 0.023916479482497987), (274, 0.023895269760589376), (1109, 0.023884109193394162), (595, 0.023869049094463777), (8089, 0.023844276487548458), (6581, 0.023839186668407224), (7356, 0.023832854978835905), (7584, 0.02381406671166312), (2094, 0.023802221588732998), (4440, 0.023777704252616664), (819, 0.02377630365928643), (4854, 0.023771459315051573), (4508, 0.023759514170747793), (8531, 0.023758749467950858), (1193, 0.02374464147234842), (4494, 0.023726898962477382), (8126, 0.023715943025620356), (8773, 0.02370826488140121), (8885, 0.023688790363537496), (6442, 0.02368839044332202), (3187, 0.023681351543584833), (6259, 0.023664237671614036), (5310, 0.023659306898799422), (5018, 0.02365732635487826), (9028, 0.023651254453137337), (8527, 0.02363345003311175), (6563, 0.0236329400648107), (1165, 0.023621499046704537), (4662, 0.023609957953441833), (7253, 0.023584790877806076), (4677, 0.023544005586790533), (1247, 0.023386157878715286), (8932, 0.023373135880015845), (6721, 0.023361212651517412), (5168, 0.023347818913899147), (2232, 0.02328279051929885), (1888, 0.023264540916548716), (8311, 0.023257725687437968), (4331, 0.023239278312275125), (1578, 0.023226230657095552), (6626, 0.02322382529164516), (5633, 0.023209426834298913), (5796, 0.02319702027458266), (4923, 0.023174801748129675), (2305, 0.02315631928033819), (3234, 0.023145497749739962), (2310, 0.023144915652547934), (1462, 0.0231403523170137), (8597, 0.023124373992401442), (721, 0.023105417447732216), (2021, 0.02309143960916625), (7770, 0.023073619915052097), (5384, 0.02304226104238601), (3858, 0.02301787242474993), (1243, 0.023016277097023273), (6973, 0.022970970271274878), (4616, 0.022877142040900942), (6187, 0.02286962928318352), (983, 0.022867084109157932), (2136, 0.022816937252601834), (1409, 0.02278260131840224), (7525, 0.022772687012113917), (1492, 0.022701251749141678), (7881, 0.022679824348676172), (2290, 0.022657518774831346), (2784, 0.022617941340200145), (4042, 0.0226102758965946), (5554, 0.022552779244076882), (3742, 0.022516661665087846), (5440, 0.022492400631186415), (7441, 0.022481813349397597), (4652, 0.022478630927432717), (8255, 0.022469512700127273), (2565, 0.022467824537566267), (7722, 0.02246745756960469), (1907, 0.022434562936746803), (7652, 0.022377872960636237), (7914, 0.02235270993117694), (851, 0.02234573836150551), (1512, 0.022304327865418378), (6057, 0.022269181613809086), (2973, 0.022267649828065526), (6420, 0.022247825263688445), (2354, 0.022243909867650576), (6408, 0.022235936082796195), (4991, 0.022215437200975966), (435, 0.022210382719134975), (271, 0.022197572703551997), (7729, 0.022196285431386763), (3582, 0.02218639996843598), (690, 0.02217474530260178), (8563, 0.02216355941775931), (4004, 0.022135471906713652), (7927, 0.022106873297491593), (7560, 0.02210456480272775), (255, 0.02207905757442485), (4268, 0.022062634867114097), (8659, 0.02204597545064309), (246, 0.022045962000436483), (1168, 0.02201581423188923), (5573, 0.022001972157936946), (1101, 0.021999238771251973), (701, 0.021982487455849537), (3368, 0.0219792096811297), (4974, 0.021957191694466062), (4000, 0.02195468590097418), (4721, 0.02194252718364599), (5764, 0.021915830443843924), (3972, 0.021874033785217496), (2574, 0.02186317133830958), (7057, 0.021861084895576095), (842, 0.02184995298611028), (115, 0.02184349149519017), (459, 0.021829670248905596), (1572, 0.021827149426845265), (443, 0.02178155740291666), (6009, 0.021715958990330783), (8775, 0.02169755402763297), (1473, 0.02169739167493963), (878, 0.021691286156282002), (4182, 0.021690392586367905), (4166, 0.021690275526883417), (3710, 0.021678859008677654), (3377, 0.021671378749679438), (4837, 0.021669776217536258), (4403, 0.02166873028135181), (8876, 0.02166322834350208), (370, 0.021652146039814732), (5623, 0.021637913650764225), (317, 0.02161115058250896), (7197, 0.021589579974485646), (7290, 0.021579259828674396), (8128, 0.02157176815407822), (1743, 0.02156942158545487), (3781, 0.021520884047820564), (6230, 0.02152028499588325), (8837, 0.021505876654633063), (5385, 0.02148562272537902), (4951, 0.021450562962973097), (3776, 0.021442756651369688), (5861, 0.021431025199114728), (6589, 0.021420893675156687), (5595, 0.02142018784497436), (6090, 0.02141318271057226), (475, 0.02138683463641232), (229, 0.021360653392852882), (5364, 0.021347735230594907), (1488, 0.02133853883864422), (7946, 0.021335633725081096), (7564, 0.021324703227356835), (1116, 0.021308794172713266), (8731, 0.021302276880937075), (2503, 0.021299298790555296), (6886, 0.02128359605448934), (5703, 0.021271028409401187), (3071, 0.021243782394810284), (8552, 0.02123349601700327), (5447, 0.021220012067101147), (6293, 0.02121298721321005), (4442, 0.021197517050832684), (6159, 0.021155655614323806), (7488, 0.02113834623652852), (7839, 0.02112468449135507), (2713, 0.02112120299543533), (831, 0.021108662303668955), (520, 0.021099697233960206), (7323, 0.021065633562871472), (5429, 0.02105595767550982), (4327, 0.02104793138732358), (8613, 0.021032495304550012), (6056, 0.021022355907368534), (4306, 0.021017267336128236), (1351, 0.021012487063531045), (8820, 0.02100884645212395), (7709, 0.020980006461764414), (3095, 0.020956751490634872), (3960, 0.020955192266762283), (4720, 0.020949674257003153), (1006, 0.02093413329560214), (671, 0.02090612303658055), (5741, 0.020897617253976132), (6028, 0.02087910812407495), (8467, 0.020878211565674532), (3327, 0.020871873030299127), (6042, 0.020849412345149157), (1450, 0.02084919644860131), (3485, 0.02084594958075598), (234, 0.020844401553580954), (1649, 0.020822539062498837), (5346, 0.02078247601447857), (7517, 0.0207823627720272), (2798, 0.020767324443094592), (6542, 0.020753338962630614), (3696, 0.02071220550603332), (2374, 0.02069601121280816), (221, 0.02068673209942959), (442, 0.020641152702537), (1017, 0.020638111686234945), (904, 0.020632288552723182), (1245, 0.020602846324268082), (4260, 0.020596060957362126), (5138, 0.02059048244243253), (6952, 0.020565156651553958), (4039, 0.02053026579069972), (3159, 0.020508657634822132), (2578, 0.020505508434783833), (5148, 0.020457767943189344), (5038, 0.020447967239981765), (159, 0.020432576013051634), (1666, 0.020406986423673074), (8276, 0.020397988335291675), (4638, 0.02034224599948117), (1461, 0.02030985088972718), (715, 0.02030642610486525), (1634, 0.020289797406365898), (1852, 0.0202810914331781), (5049, 0.020269680443274804), (563, 0.02026814371751053), (8974, 0.020248069067078992), (2387, 0.020245270497014925), (2778, 0.020212418834853172), (47, 0.020206699238045325), (4465, 0.020204147617359558), (2138, 0.020191924456281), (2695, 0.020161606002937288), (7307, 0.020156417270548038), (4435, 0.02014890644266959), (1723, 0.020119203552128342), (8840, 0.020115979491891735), (2176, 0.020111070888739976), (5673, 0.020102304096457947), (5132, 0.020100371256859366), (6429, 0.020091122298308346), (5917, 0.02007639417263029), (2898, 0.019996017710771356), (8717, 0.019982993796419796), (4372, 0.019979187100642802), (4864, 0.019963330944296465), (3003, 0.01994935118085661), (6641, 0.019927966857731058), (4023, 0.019916605464746294), (1672, 0.019913786248667322), (1254, 0.019903475834080593), (2017, 0.01988239001684949), (3328, 0.019872776254875428), (3932, 0.019863210677081355), (2566, 0.019841336207662784), (7794, 0.019803541618402372), (3515, 0.01980351103774544), (2013, 0.019798877287383998), (4885, 0.019757267306440673), (222, 0.01972073002858177), (8449, 0.01971720317509102), (4737, 0.01969468544822541), (4199, 0.019674186989608974), (5683, 0.01965829768953285), (3312, 0.019655336255835598), (8546, 0.019654067804274353), (5665, 0.01965350523436267), (8835, 0.019648206348072177), (2493, 0.019587425088659294), (7120, 0.01957753075575801), (8587, 0.019565534236471754), (3338, 0.019556149409392293), (7322, 0.019553399093023578), (5760, 0.019538737888220033), (8234, 0.019518767631908657), (4219, 0.019518566318694867), (5651, 0.019489574926600122), (698, 0.0194813137044473), (4107, 0.01945590737708611), (8992, 0.019449527060112586), (3700, 0.01944317587552168), (4097, 0.019394422502066362), (6677, 0.019379853522247553), (2883, 0.019371732042126243), (4825, 0.01937056268987856), (1355, 0.019369151039948383), (6544, 0.01935009642031217), (1459, 0.019334597419245758), (7790, 0.0193180424231075), (1314, 0.01929257691677553), (2877, 0.019288769420785667), (2575, 0.019287496342410115), (5630, 0.019281548472092947), (8387, 0.019279254653588394), (1393, 0.01924422545447808), (2609, 0.019229003948751554), (8979, 0.019226902526817503), (2842, 0.019221259970358263), (1697, 0.019213529759863637), (8481, 0.01919743769103852), (4761, 0.019193028782203775), (1293, 0.01918723105532679), (8138, 0.01917450077956661), (4978, 0.01916819758608069), (7429, 0.01916779053868087), (133, 0.0191672509227348), (3089, 0.01916439069779488), (6915, 0.019135520307113088), (5090, 0.01908398638437654), (7863, 0.019074631733900657), (6052, 0.01907251172437787), (7408, 0.01907232442796175), (5578, 0.019067650632239246), (1122, 0.019066007987263895), (1710, 0.019047072505685436), (6222, 0.019008972076683048), (1133, 0.019008328890156315), (3851, 0.018976347520570053), (6125, 0.018974458109824593), (5073, 0.01896512411131395), (1064, 0.018953900914862265), (508, 0.018950159780941705), (7947, 0.01894248283454733), (4889, 0.018941418613513113), (2167, 0.018929689809676888), (7468, 0.01892454176662659), (2140, 0.018922036407154137), (1188, 0.018890004923434178), (7915, 0.01887430715237537), (8330, 0.018842018580424936), (4624, 0.018838356372046856), (822, 0.01882298785383594), (63, 0.018814646365409), (1810, 0.018808804255478498), (4205, 0.018794807705731553), (3357, 0.018771431426543177), (5399, 0.01876992072452975), (4615, 0.018757078997615306), (4354, 0.018746180278507715), (6129, 0.018701242894904803), (641, 0.01869530920169185), (6701, 0.018690748142130318), (5810, 0.018686140074453038), (1681, 0.01866949511880459), (573, 0.018669188108722253), (3405, 0.01866477500883189), (5072, 0.018659188273524484), (4131, 0.018628541496924864), (6231, 0.018625785169935793), (8683, 0.018588893159719642), (239, 0.018588661900177692), (524, 0.018588005307542278), (2218, 0.018587175667152886), (6416, 0.01858582963999855), (8408, 0.01858570799339934), (6302, 0.018581657601726937), (8492, 0.01856978435517803), (5410, 0.018569661914512856), (8269, 0.01855778121962503), (2, 0.018554928414103947), (6048, 0.018547940653951645), (5428, 0.018516995475298132), (3595, 0.0184914556436632), (8776, 0.018481295336315), (553, 0.018472496547693503), (4136, 0.01846596245174515), (6856, 0.018465559988085193), (840, 0.018461582635201052), (1138, 0.018440086401957108), (2573, 0.018434604436757127), (4979, 0.018432499688409067), (1970, 0.01842997887137817), (7628, 0.018425263518973962), (6507, 0.018376465544951353), (1713, 0.0183691245321996), (7453, 0.01836280657649875), (552, 0.018349953114886585), (5479, 0.01834554011216071), (3905, 0.01834473995243182), (300, 0.018306028358195444), (7885, 0.018288054547670983), (3662, 0.01826803461780105), (4422, 0.018266157354331923), (6375, 0.01825000654664806), (1981, 0.018245069414454987), (5913, 0.018242914911939096), (7009, 0.018238675373156613), (6757, 0.018236657218468948), (4334, 0.01822893537238477), (2035, 0.018228129764939854), (3106, 0.018215344552185233), (1040, 0.018214095549032455), (7185, 0.018211132558261324), (4077, 0.018196314789193105), (6806, 0.018181088682776892), (2327, 0.018135517461846096), (7526, 0.01813476547071719), (7036, 0.018109619750366766), (3791, 0.018104424810039172), (521, 0.018090000419774786), (4069, 0.018085162643204852), (7588, 0.018071490976076864), (6769, 0.018055418331346825), (1542, 0.017997174870219963), (1301, 0.017993050955800016), (2122, 0.01798163564978993), (7580, 0.017972491330268885), (5902, 0.017956874955865704), (4796, 0.017937708906626097), (5531, 0.01793028614810952), (4499, 0.01792736784273831), (6955, 0.017891542534330306), (8783, 0.017884541558187743), (4351, 0.017884106170908493), (4680, 0.017862422046040306), (1452, 0.017835305481428986), (8953, 0.017822555076796837), (1866, 0.017796924348392643), (5203, 0.017792405930745405), (8629, 0.017787670426838095), (7841, 0.017781594150262314), (5318, 0.0177552706251776), (982, 0.017752395836232313), (8087, 0.017750890710500997), (1378, 0.01773077534994446), (5991, 0.017728380058519077), (2254, 0.017684531523855074), (5708, 0.017670246196529883), (4913, 0.017659540512882994), (1033, 0.017658720274177447), (4723, 0.01765697536785125), (646, 0.017654995470717496), (8691, 0.017634365079098047), (1195, 0.01762537082054245), (5792, 0.01762522893395455), (6746, 0.017623280087574848), (6976, 0.017620847088604952), (8001, 0.01760098360941887), (7092, 0.017588474738850224), (7238, 0.017574214785904735), (8364, 0.01756808661358165), (8674, 0.017558816882332667), (2334, 0.017545858062365815), (592, 0.017534074928397578), (7099, 0.017532108981316512), (3074, 0.017505916780650436), (4931, 0.01750423389737851), (1339, 0.01750191453579864), (4769, 0.017500550746942994), (4559, 0.017495864190894963), (8818, 0.017492591622943476), (6788, 0.017491422410371896), (1602, 0.01748950937118134), (1131, 0.01748870728736013), (2359, 0.017487021262620098), (2145, 0.017481797629649375), (3016, 0.01746291877791742), (6756, 0.017459480103191868), (8539, 0.01745782037451021), (8564, 0.017453046606051098), (3180, 0.017418258450758794), (4618, 0.017406054911865986), (8023, 0.017390770769687147), (8166, 0.017373643889797043), (6340, 0.017364137111336813), (8577, 0.01735639915580602), (6655, 0.017350842257005762), (3264, 0.017334078832856516), (3705, 0.01732889875354165), (6355, 0.017328732436741486), (7836, 0.01732606078829028), (6555, 0.017321320522158366), (7008, 0.017312036612157824), (6698, 0.01731123873774884), (8617, 0.017311196050490345), (5407, 0.017308555976488414), (7941, 0.017269376560958814), (2330, 0.017263571241068375), (526, 0.017226917895743283), (401, 0.01721672816669778), (862, 0.017208911066676647), (2275, 0.01719339485794812), (2752, 0.01719110197466393), (3597, 0.017182203489738458), (9017, 0.017168162011183125), (439, 0.017162036926443313), (6845, 0.017153120980554538), (5720, 0.017152869848495653), (8906, 0.017141123323388196), (2410, 0.017133307862511632), (3606, 0.017129804174383142), (3802, 0.017129621992648603), (1136, 0.01711196433107915), (4226, 0.017111944514260582), (9047, 0.0171106365638328), (4068, 0.017108352425223964), (2814, 0.017095317344432114), (7705, 0.017072179447402868), (1806, 0.017062512539618675), (1627, 0.017053416541752336), (961, 0.017041188510676937), (8493, 0.01699718893810245), (8391, 0.016981238600457537), (8558, 0.016969678284217332), (4681, 0.016962606187875092), (6218, 0.016951929054640803), (2878, 0.016928296994960998), (5574, 0.016927632474691326), (2270, 0.016927299581571794), (1285, 0.016926153511516443), (6612, 0.016917712634125275), (4323, 0.01687442790026842), (1668, 0.016871787841037936), (7566, 0.016828046427860635), (3068, 0.016811397357952642), (6229, 0.01680081735867465), (2364, 0.01679852502021103), (8591, 0.016785239195035554), (7033, 0.01678455457506486), (251, 0.016761838909829893), (7186, 0.016754184896941717), (2027, 0.01675365619468409), (9050, 0.01674648017445086), (6576, 0.016737990971334698), (3188, 0.01673166047576511), (355, 0.01673061777498843), (4815, 0.016722823511738948), (3625, 0.016720086492798224), (5288, 0.016715222908485164), (7771, 0.01671231270230691), (8302, 0.016711855652873055), (6798, 0.016698999395897456), (751, 0.016698127160706778), (8747, 0.016685207591257665), (530, 0.01667956821867838), (7629, 0.016672676920222455), (8951, 0.01665937008563371), (3543, 0.01665477119553721), (2651, 0.016648352738758424), (2409, 0.016645344387745196), (4165, 0.016619085452574695), (8794, 0.016599101939690965), (622, 0.01658972307293095), (6749, 0.016578471146105264), (2618, 0.016573783205921143), (1988, 0.016567167834511714), (2264, 0.01656129398007037), (5636, 0.016558338123964775), (3488, 0.016555973475213513), (920, 0.016555454270561622), (8712, 0.01654178694159552), (3767, 0.016541548372986773), (5506, 0.01651337670103602), (1589, 0.016508863473407763), (8211, 0.016504177891532527), (5872, 0.01650400807597478), (8904, 0.016496023544750688), (2352, 0.01646940388461837), (7229, 0.016455948612809915), (7672, 0.016429074334520802), (6030, 0.016408648237134497), (99, 0.01637224687260899), (2638, 0.016363717063086352), (7958, 0.016358834426792576), (4045, 0.016357129635708477), (7692, 0.016330782586991), (5004, 0.0163265507566369), (2855, 0.01632160933878569), (6460, 0.016320674707527075), (6837, 0.01631733221738823), (6305, 0.01631250406049466), (8201, 0.016297360444986225), (719, 0.016296901928745732), (1546, 0.01629278217917306), (6773, 0.016273594336879242), (949, 0.01627187371595077), (7298, 0.016265687151766243), (8693, 0.01625494536657282), (770, 0.016225095392205846), (3192, 0.016216091849092548), (5834, 0.01618494860001556), (195, 0.01617993503165132), (6758, 0.016163403097263274), (8583, 0.01615627396453316), (3017, 0.016155151193321345), (8038, 0.01615296163252083), (7557, 0.016145856424055735), (8111, 0.016138471331834867), (1605, 0.016122688004364706), (8148, 0.016115548338512677), (7390, 0.016108986258147148), (6744, 0.01609981280827371), (1144, 0.016094629839444662), (2033, 0.016089673257689844), (2134, 0.016089493289793297), (699, 0.01608656806285707), (6907, 0.01608480005631924), (4411, 0.016081193164986525), (4379, 0.016076347759760225), (2889, 0.016067343464995252), (8061, 0.016061501693968996), (5435, 0.016056588271127107), (1228, 0.016050358147508416), (5225, 0.016015030602521168), (8802, 0.016007239463882172), (8188, 0.01597212365006437), (3220, 0.015951222135864907), (5127, 0.01594916615846005), (8280, 0.01594516545800561), (3719, 0.015943055840356185), (2189, 0.015941763235158637), (6656, 0.01594065670353879), (8817, 0.015939202920217253), (2183, 0.01593130843262333), (9015, 0.01591232589587693), (4080, 0.015908030412487277), (6772, 0.015906841498565236), (7548, 0.015895483567194727), (7887, 0.015877474581376207), (3554, 0.015870364563430855), (8537, 0.01586091704823504), (6346, 0.01586052908424434), (3854, 0.01585700638923243), (6671, 0.015855795134361597), (445, 0.015850681460412314), (4801, 0.015842115067518734), (1678, 0.01583874550598723), (2865, 0.015821154691754383), (1370, 0.015811908564249088), (4545, 0.015799363709386335), (1290, 0.01579660607961967), (5218, 0.015792117715311912), (7545, 0.015786759618253005), (4153, 0.015780231917206258), (7068, 0.015778720064845687), (2542, 0.015765281924182306), (7060, 0.015762061060189236), (3906, 0.015746622553494526), (5509, 0.015744084770931692), (1474, 0.01572642635736392), (6538, 0.01571917623232603), (8631, 0.015717820139604214), (1984, 0.015714119709376393), (8856, 0.015713576917918172), (1550, 0.015711997760382002), (7465, 0.015703199489452365), (5101, 0.015696317730769432), (4211, 0.01569548533202734), (8103, 0.01568995658119744), (5821, 0.015685836007714685), (8475, 0.01568169469808718), (3807, 0.015669798917573544), (4725, 0.015653521293090694), (5467, 0.015602932713708065), (6658, 0.015585637239356949), (7615, 0.015585168526843756), (7874, 0.015584435126071206), (7303, 0.015584384342118689), (6086, 0.015582367132365297), (7051, 0.01556861999108676), (4507, 0.015568108473366132), (6202, 0.015559848305783058), (4106, 0.015556719174470943), (7808, 0.015537142269751496), (7123, 0.01552709803473025), (2720, 0.01552420070445779), (3498, 0.015514282309955385), (1186, 0.015492067825168966), (4098, 0.015488952459553874), (1770, 0.015479242173572518), (8626, 0.015452855183246999), (7211, 0.015435770322493141), (8489, 0.015423781834287806), (4493, 0.015422160381416498), (3800, 0.015415320162567546), (5811, 0.01541060855921183), (8511, 0.015402573432014023), (6475, 0.015402465768360137), (5103, 0.01540088762670626), (5599, 0.01539902207653636), (828, 0.015395434149317471), (4527, 0.015392777858205264), (408, 0.015391997125679818), (3684, 0.015391818028109367), (4339, 0.015390741082251542), (1011, 0.015386773444901011), (5171, 0.015374737202929051), (869, 0.015359720205631857), (3396, 0.01535900680413895), (836, 0.015352459747658103), (6441, 0.015350748199525626), (8556, 0.015345352047713106), (6091, 0.0153309842205776), (5430, 0.015328562428868667), (38, 0.015317364309299097), (6233, 0.01530634844695459), (4598, 0.015300912334632379), (5854, 0.015296621672814592), (6650, 0.01529247959288305), (3295, 0.015288740504732529), (8262, 0.015268041237533655), (2127, 0.015259870228065135), (4840, 0.015258739304816894), (8938, 0.015251749137269321), (1504, 0.015251285570494754), (1315, 0.015245648696685684), (6445, 0.015244975260996836), (1174, 0.015224977263507699), (3156, 0.015223996559679823), (4949, 0.015223270367219313), (4668, 0.015201961618156519), (284, 0.01519373291098948), (2324, 0.015150583913388574), (6235, 0.015145699967757184), (6832, 0.015144619516317622), (3816, 0.01514353005730762), (2385, 0.01513893663696208), (1273, 0.015132114718549314), (4777, 0.015114094327060477), (6839, 0.015113352625960393), (2467, 0.015102357777346533), (7277, 0.015089645120491817), (2197, 0.01508316294356428), (4671, 0.015080241212679455), (5957, 0.015069386505881327), (8828, 0.015037871667676214), (2704, 0.015018189638414656), (245, 0.015013700532291804), (6253, 0.01501066160452961), (1792, 0.015008521341168996), (1075, 0.01500054619506154), (7726, 0.014994907677346238), (7226, 0.014986808074322322), (5376, 0.01497781897672289), (3009, 0.014977776750344155), (5192, 0.014962772026290075), (4679, 0.014943974292409052), (3484, 0.01493618439614096), (5272, 0.014916558407050053), (4310, 0.014908098945821905), (6458, 0.014898225889816643), (1541, 0.014886222202969658), (4121, 0.014875036089700706), (1381, 0.014870199251334136), (6370, 0.014867352779607212), (2532, 0.014864169121236403), (8849, 0.01485925847672974), (1433, 0.014841625000972278), (4342, 0.014840252844558881), (1834, 0.014816971751608796), (8367, 0.014814384495191847), (1811, 0.014813807141797345), (679, 0.014796686770035995), (6100, 0.014781219916161365), (3172, 0.014780609134173039), (8429, 0.014780525008196908), (5477, 0.014775075863054273), (5755, 0.014749060174678245), (4643, 0.014735673122095415), (5559, 0.014689909157732944), (6271, 0.014689303325656319), (2675, 0.014668519066914715), (1202, 0.014666666721801318), (5000, 0.014662227546352356), (4526, 0.014648977486434416), (2759, 0.014633314079178944), (8576, 0.014631627645497454), (684, 0.014630259279743906), (5097, 0.014624933470830784), (7474, 0.014610492411790707), (6175, 0.014606477901937864), (8946, 0.014602660579109724), (2473, 0.014581941902976245), (7034, 0.014580706767120416), (5705, 0.014574968235575804), (3035, 0.014572817039611599), (5326, 0.014571133554794799), (4500, 0.014558113292407198), (5095, 0.01455572192387777), (6108, 0.014542473261552906), (5126, 0.014538151264332767), (7987, 0.01453705887664491), (8004, 0.01452382266980145), (6643, 0.014522280535809284), (3778, 0.014513460114978097), (5030, 0.014511325380385211), (556, 0.014505304552433523), (774, 0.014501602927889878), (8192, 0.014496518733734722), (7865, 0.014489539353775765), (1843, 0.014488578887835734), (8062, 0.014488126592371909), (642, 0.014488075899698813), (2321, 0.014485878351720915), (5895, 0.0144843884238093), (3592, 0.014483152054358659), (1097, 0.014481383144458406), (6608, 0.014474455287995406), (485, 0.01446733569795685), (5681, 0.014443733163665895), (5051, 0.014432781788033346), (3481, 0.014425386010043258), (8289, 0.014417077106254303), (5105, 0.014410835699546331), (6805, 0.014409375997666465), (479, 0.014407052135453636), (5977, 0.014405792515213645), (8325, 0.01439863244919702), (6240, 0.014386000351403635), (3298, 0.014379953185643736), (1755, 0.014379947796339807), (5222, 0.014376752421658052), (39, 0.014368717359950468), (5064, 0.01436297910496685), (5732, 0.014345615339272179), (1458, 0.014342775146713272), (2839, 0.01432982308427772), (6529, 0.014326243918133676), (6379, 0.014323971107221473), (8594, 0.014321847095729517), (6517, 0.014294164853105496), (7612, 0.014281093912661037), (5777, 0.014271215492344043), (7460, 0.014260783447918684), (7093, 0.014258380439937999), (2847, 0.014251698621595447), (6669, 0.014240537881010927), (8163, 0.014237646341451608), (8039, 0.01423642002686476), (3784, 0.014234203458550395), (2226, 0.014233552479710636), (5205, 0.014210685708428162), (8664, 0.014210455778167255), (7015, 0.014208559645378089), (2868, 0.014168097356153113), (7504, 0.014165732164482114), (7279, 0.014145389004759826), (6376, 0.014144760224693447), (8161, 0.01413988496792178), (7452, 0.014136322440994406), (3814, 0.014116453600552865), (2803, 0.014111543605365892), (315, 0.014110744506810229), (37, 0.01410655021446854), (1178, 0.014105410960452673), (10, 0.014101646979091212), (6958, 0.014099458225075924), (8199, 0.014099177903810798), (2507, 0.014080386810037334), (3149, 0.014060507977360654), (8654, 0.014060328668444326), (122, 0.014048498927056962), (7495, 0.014048444290659299), (420, 0.01404489535289068), (1022, 0.014036255041784355), (571, 0.01402656824345289), (4798, 0.014026054472051736), (6678, 0.01402297418750854), (5822, 0.014022825628000727), (9005, 0.014018780530427731), (1976, 0.014013929839596496), (65, 0.01401226519116618), (7571, 0.013991986684138178), (5317, 0.013991868309451334), (6196, 0.013991410523113038), (5718, 0.013987263996098814), (8741, 0.013978332408687523), (7870, 0.013976831354751659), (7132, 0.013970393431500317), (1291, 0.013954475841985971), (626, 0.013952880913457437), (7940, 0.013950782374959163), (4061, 0.013949465429375278), (3640, 0.013933751827605844), (7917, 0.013933641012132998), (5246, 0.01391878824465596), (4415, 0.013917865247472088), (3673, 0.0139163976019302), (6315, 0.013906066018967324), (824, 0.013904950678406304), (4855, 0.013896479388917148), (6188, 0.013890116570000922), (1288, 0.013880782329492854), (4140, 0.013876320606567894), (5231, 0.013864882025965785), (3944, 0.0138611704799251), (4793, 0.013855871171077797), (800, 0.013854030965786957), (5914, 0.013815662663108384), (6026, 0.013814270015332843), (3316, 0.013810581393641937), (5928, 0.013780395246411852), (7257, 0.013779953595281284), (1624, 0.013763586668131307), (9002, 0.013759255420920236), (8833, 0.01374594989620613), (3728, 0.013716630859396882), (1394, 0.013712038951173237), (6983, 0.013705088949647797), (5065, 0.01369088320573089), (6184, 0.013689669581499923), (8096, 0.013681941886303638), (4656, 0.013667047995874072), (3345, 0.013660870354560053), (4385, 0.01365501570614263), (15, 0.013648738210374656), (4417, 0.01364411762705361), (291, 0.013643236431322606), (8253, 0.013631145923376086), (799, 0.013623628857360294), (5155, 0.013621865088699411), (7498, 0.013597977275136744), (7380, 0.013592919236475265), (7050, 0.01358744774955426), (5726, 0.013586023212096903), (7256, 0.01357710003285749), (2938, 0.013562437518668584), (8406, 0.013560344132627), (507, 0.013554727481237698), (8044, 0.013550428397081538), (2022, 0.01354710499987933), (3189, 0.013545236159193504), (4090, 0.013542024152644232), (3935, 0.013533641924249617), (8293, 0.013502246402927005), (8593, 0.013498227569374166), (5733, 0.013492730171563255), (5499, 0.013487911046931507), (4591, 0.013487798941945572), (3096, 0.013455446878681084), (3707, 0.013454603234085465), (2819, 0.013445280166503051), (456, 0.013442255583567967), (8075, 0.01343435609992069), (2969, 0.013434145289525726), (8698, 0.013432495350068907), (3621, 0.013426912572778045), (6574, 0.013424353360702104), (1235, 0.013422755128260593), (3492, 0.01341194396146409), (7971, 0.013392745116765088), (7796, 0.01338285090969546), (2182, 0.013372697091787693), (6256, 0.013366153815966418), (1778, 0.013359210682776453), (4719, 0.013358073034040336), (373, 0.013351323487407621), (4764, 0.013324078003211493), (6850, 0.01330438043367568), (8378, 0.01330292252315732), (2666, 0.01330144178631294), (8324, 0.013300774182383845), (3212, 0.013285496003937775), (4058, 0.013280303892955012), (3839, 0.013280154131137511), (1897, 0.01327377664423736), (2050, 0.013263833629700373), (8816, 0.013263646458877492), (4553, 0.013234858118763662), (8766, 0.013226558826930837), (6144, 0.013226284552967815), (4313, 0.013183187941369488), (7386, 0.013182477049637535), (2375, 0.013174823930536421), (6303, 0.013169680425707828), (5063, 0.013159273275301845), (1413, 0.013154743750787408), (6600, 0.013151920717874367), (474, 0.013142139870543575), (6688, 0.013139937847577157), (711, 0.01313904015133566), (6085, 0.013136003830050006), (2891, 0.013135012433538434), (8793, 0.013133859120734994), (3309, 0.013133583904501407), (5411, 0.0131320979782158), (322, 0.013131909092368324), (2598, 0.013123857961776522), (2830, 0.01311133694912239), (7346, 0.013094491993582032), (6727, 0.013088358567504675), (7619, 0.013082764910314352), (7241, 0.013081699849737729), (8275, 0.013080545626656762), (8652, 0.013069515821132294), (1190, 0.013054941451591785), (4261, 0.013045197652485399), (5970, 0.013041913691380809), (2028, 0.013038574024751736), (2184, 0.013020488806766775), (5859, 0.013019708424237181), (1613, 0.013019240478152479), (5729, 0.013001221109871978), (8942, 0.01299982422165294), (5516, 0.012997169779899294), (2124, 0.012994535333284232), (191, 0.012985683062012596), (6660, 0.012982505680509434), (3848, 0.0129772530059182), (781, 0.012976928456551188), (5759, 0.012967286777639541), (3748, 0.012955623528107951), (5112, 0.012955004614406676), (2156, 0.012950670886670871), (5575, 0.012923798440245372), (145, 0.012917204468120998), (1934, 0.012916574675511041), (5775, 0.012889441517650901), (8336, 0.0128845376957466), (8213, 0.012871669575915642), (2040, 0.012871030952213086), (2769, 0.01285229041035046), (7537, 0.012832246655919536), (4886, 0.01283117778897248), (7410, 0.012829127658552795), (5770, 0.012823105706052473), (2840, 0.012804697945936366), (8066, 0.01280303027244458), (7401, 0.012794482546829616), (5136, 0.012786352245989348), (8478, 0.01278133459352598), (3271, 0.012739039824984595), (1005, 0.012724466127187221), (6801, 0.012719485034290648), (2109, 0.012715480112525957), (2543, 0.012713539623776932), (5287, 0.012697951124451216), (4684, 0.012695233002530377), (613, 0.012692328039770679), (6984, 0.012687626454502625), (57, 0.012673174956924963), (5283, 0.012663562005411634), (1645, 0.012632046624139753), (1793, 0.012619898071148435), (464, 0.012617930202158609), (6114, 0.012602655421068289), (3112, 0.012602515732465538), (8081, 0.012600931000089716), (3712, 0.012598335773939923), (1702, 0.012582026435414926), (1617, 0.012577389832148582), (909, 0.012573889785685926), (3425, 0.012569535179912637), (7483, 0.012568916586117978), (3104, 0.012568914961363243), (5276, 0.012563002663399308), (210, 0.01256297881100357), (7944, 0.012548426134702481), (8857, 0.012545560131769981), (5582, 0.012544359369489215), (4126, 0.012535036452182539), (7420, 0.012532098396584153), (7463, 0.012521276600948926), (6708, 0.012513655464320893), (8448, 0.012506291595205585), (6007, 0.012502735454442492), (4626, 0.012501655191922824), (2151, 0.01249853344608126), (7250, 0.012490137911344198), (8241, 0.012483830174636777), (1463, 0.01247844703988199), (3994, 0.012470520167661535), (8288, 0.012462706618810663), (2944, 0.012455053147656948), (4305, 0.012454866170190254), (6729, 0.01244687959520215), (7611, 0.012437095479494198), (4271, 0.012426962957621513), (1403, 0.012416586487014701), (4001, 0.012411839420488192), (330, 0.012390666314985631), (8021, 0.012389185627761295), (1796, 0.012386224221319762), (7919, 0.012374778757194626), (3547, 0.012368978136044652), (7831, 0.01235169425166091), (527, 0.012351152073941997), (272, 0.012347092559343615), (7098, 0.012343784148095885), (8991, 0.012342926231009478), (3210, 0.01233592538643367), (8260, 0.012333731232306999), (7948, 0.012318021052846061), (8471, 0.01231205619008244), (3612, 0.012310363268670459), (5845, 0.01230749271791188), (7540, 0.012272245444519578), (8868, 0.012271537591962457), (5455, 0.012267283473456748), (7414, 0.012262630229415494), (389, 0.012259954049291668), (882, 0.012258083928138685), (4053, 0.012247935719983751), (1421, 0.012229230423003296), (494, 0.012221058012359816), (561, 0.012220789116580054), (7813, 0.012216933564998204), (2943, 0.012190572511524988), (3955, 0.012182076503228506), (1333, 0.012162096734322754), (3451, 0.012153742414390151), (1848, 0.012151031219531368), (6481, 0.012149697336881501), (5585, 0.012143351203755755), (2294, 0.012142197982437843), (8784, 0.012133048914484126), (4241, 0.01212925654290115), (316, 0.01212622825533153), (1455, 0.012125430706228412), (998, 0.01212493568273683), (1720, 0.012108426214957616), (4927, 0.012095367455797206), (7310, 0.012091576811771709), (4347, 0.012090195416849019), (3591, 0.012059384721943367), (5812, 0.012054249654023129), (4583, 0.012048418993813974), (1399, 0.012041710982337736), (4479, 0.01203622112897606), (4468, 0.012028765241108958), (3130, 0.012026865144122146), (7240, 0.012016396561202203), (2208, 0.012016232053162601), (121, 0.012012090357933249), (8036, 0.012010588881492458), (1184, 0.012001388015385226), (6283, 0.011998469908668142), (7080, 0.011997748436433408), (1261, 0.011992852763894868), (5910, 0.011991871285920252), (2746, 0.011988252228943265), (7995, 0.011986796898711169), (6352, 0.011978797373961597), (7337, 0.011971588277870248), (2723, 0.011968751353997052), (3986, 0.011961686050945962), (260, 0.011953836220652474), (3221, 0.011951049047818229), (1215, 0.011946062683525068), (5840, 0.011944995563856453), (8892, 0.011936560389617545), (3025, 0.011919279839557125), (7772, 0.011913881714315653), (4969, 0.011913639112353668), (4505, 0.011887897480245687), (1388, 0.011884345775033717), (6980, 0.011854633554019745), (6760, 0.011849615722545417), (832, 0.011838711776289656), (476, 0.01182213806455071), (4718, 0.011780355153283422), (7193, 0.011774808960478667), (6646, 0.011773338248034733), (1429, 0.011739368099020056), (6621, 0.011723952488429449), (6591, 0.011703725772233897), (8547, 0.011700834954346774), (1514, 0.011694246529063836), (8903, 0.011688784186128535), (130, 0.011683313363953158), (7994, 0.011682369436971807), (1104, 0.011681274202461286), (1569, 0.011673881041902253), (2073, 0.011671227559744498), (7514, 0.011667943909657388), (3199, 0.011662846775673065), (5980, 0.011655380965792978), (8550, 0.011630967871432953), (5279, 0.011608412575600064), (8141, 0.011607900616981085), (13, 0.011607446409780418), (2683, 0.011603128842096392), (410, 0.011600085115633532), (6263, 0.011596234507273774), (2166, 0.011589288302146419), (3699, 0.01157627875621091), (7187, 0.01157215021972347), (7923, 0.011560927936963767), (351, 0.011558589468819706), (4604, 0.01154321728574957), (5215, 0.011541607254643479), (7480, 0.011540670434002928), (2732, 0.011538629602051058), (3363, 0.011528528095780881), (3820, 0.011520335912867738), (3441, 0.01151771605658613), (3926, 0.011509260065906652), (576, 0.011503428050683771), (8888, 0.011492290264453012), (3043, 0.011478655960345906), (6135, 0.011471025390379593), (8947, 0.011468051168141917), (5414, 0.011462520021601988), (8312, 0.01146149738859304), (600, 0.01145950844077807), (2113, 0.011454611730705342), (6909, 0.011454360836227324), (7289, 0.011451489255001054), (1758, 0.011440046041530077), (8877, 0.011428881147947373), (2280, 0.011428236787424976), (1347, 0.01142091001037194), (5100, 0.011418040967370816), (1785, 0.011412283058474835), (4348, 0.011404928218446044), (3232, 0.011388335962912003), (5949, 0.011387850543258596), (6550, 0.011386619566084015), (6074, 0.011383820923894375), (888, 0.01138160939405407), (3876, 0.011370350133841975), (4839, 0.011368302887973893), (4607, 0.011356736645410903), (429, 0.011354409421857678), (6578, 0.01133667256455835), (3878, 0.01131881244245116), (102, 0.011317355373717803), (6521, 0.01130637872308064), (5846, 0.011300496011383393), (8622, 0.011299484245234762), (5078, 0.011297194936292458), (8725, 0.011273260484155783), (995, 0.011270839613406768), (5110, 0.011266659346329127), (6888, 0.011255385942865395), (6098, 0.011241236657723478), (6560, 0.01122604728249827), (142, 0.011220228830661334), (4413, 0.01121719972619187), (5248, 0.011215342783677924), (578, 0.011206280034686718), (5714, 0.011204746259166759), (5921, 0.011203176449785295), (103, 0.011203099767827332), (2766, 0.011192766777145396), (2990, 0.011187166653788732), (4314, 0.011184568116311428), (7744, 0.011172330802098219), (2774, 0.011166306800549301), (8640, 0.011145600242110532), (4778, 0.01113158184259395), (3372, 0.011129881428125888), (2269, 0.011124330696846731), (7993, 0.011118779451001792), (1739, 0.0111103181462433), (1361, 0.011110155880531596), (8778, 0.011109830212448801), (4726, 0.011102430837555773), (8677, 0.011100396035992405), (6996, 0.011092127979735255), (1056, 0.011085871001271752), (6495, 0.011083799778203148), (5462, 0.011077498548411687), (402, 0.011071441015774387), (5028, 0.01106292802809903), (5216, 0.011059467842472283), (2424, 0.011058142956351557), (92, 0.011038652048874357), (5932, 0.01102693150872406), (4362, 0.011026773367225316), (4183, 0.011011616046641382), (6664, 0.011010403583625818), (5382, 0.011003778469229212), (181, 0.010998555911939205), (718, 0.010987660156752246), (1308, 0.0109721827074839), (7702, 0.010971718808947498), (7616, 0.010969266071881763), (966, 0.01096545482911876), (1209, 0.010958980362599393), (2064, 0.01094213759513096), (2940, 0.010938810886194219), (7833, 0.010933618327223895), (8943, 0.01091363121486078), (323, 0.01091176237777969), (2970, 0.010907726544400882), (8013, 0.010903789379021844), (8454, 0.010893797419347354), (5589, 0.010889888767658536), (4384, 0.01088207672881095), (5142, 0.010875156859011232), (5085, 0.010873404319800599), (7018, 0.010859052460719594), (1760, 0.010856324631503454), (1972, 0.010855245337136712), (3163, 0.010840104560219546), (1249, 0.01082901588721474), (7862, 0.010823190095524368), (7854, 0.010815925810353762), (4171, 0.010813842012242371), (7933, 0.010810006824831901), (5617, 0.010807780863301388), (5912, 0.0108035015050586), (7721, 0.010802086095347174), (1921, 0.010800803498637032), (48, 0.010790931264715017), (4634, 0.010781007711045372), (805, 0.010778994163812944), (2520, 0.010765613008238641), (6723, 0.010762914753067952), (1978, 0.010762327364769288), (4625, 0.010757116482076817), (5412, 0.01075671948588066), (5893, 0.010751102550178148), (7582, 0.010745472627230706), (6738, 0.010735410828454707), (3726, 0.010732914429236002), (5199, 0.01072298882033416), (3891, 0.010719187585808946), (1263, 0.010714432409391461), (7085, 0.01071183016857507), (5093, 0.01071012129547974), (3069, 0.01070785114984992), (169, 0.01070756153712712), (3341, 0.010698028114746056), (2303, 0.01069663813456569), (5888, 0.01069190725292986), (8638, 0.010681938722450393), (312, 0.01067859133592033), (9008, 0.010671261447138166), (3864, 0.010662877156445986), (6124, 0.010648828544595921), (4845, 0.01064311176314382), (2963, 0.010642856456551162), (4812, 0.010641890811973358), (8919, 0.010634618194472308), (7877, 0.010632997415759002), (1954, 0.010626618047595954), (7379, 0.010620554558309325), (8483, 0.010617503009963938), (980, 0.010608851221312074), (2811, 0.010604541697878207), (6301, 0.010600661818871334), (75, 0.010587885219509327), (6700, 0.010571440817829418), (4175, 0.010566236133092892), (4246, 0.010554867988423354), (7934, 0.010553495771387745), (8526, 0.010552232049975322), (2045, 0.010550646041306167), (4843, 0.010546107691515979), (708, 0.010542761576339744), (4158, 0.010542165089359526), (4217, 0.010515712866174958), (3216, 0.010501198296901382), (5587, 0.01047948728350677), (3404, 0.010475378149946661), (8053, 0.010466097161119438), (7433, 0.010463227917179494), (8707, 0.010461190012686554), (2006, 0.010456030607841893), (6827, 0.010448021675205555), (8785, 0.010432359668874996), (747, 0.010426113626854989), (7159, 0.010424495547260966), (338, 0.010416389708862986), (1085, 0.010414976405149604), (3349, 0.010405030360554686), (6687, 0.010397503297928217), (4476, 0.010386925766435696), (9029, 0.01038403130362799), (7489, 0.010375958199225488), (925, 0.010375142572506987), (7255, 0.010374993299082202), (1337, 0.010373687074787445), (8571, 0.010369267168181697), (6371, 0.01036111365603468), (8998, 0.010356319848135672), (290, 0.01035621721008095), (7196, 0.010347654842365326), (3521, 0.010341238728159854), (3622, 0.010331378000455816), (8016, 0.010330830473748566), (1658, 0.01032249530475485), (4956, 0.010311626685057978), (5526, 0.010309154113621339), (3892, 0.01030254246788111), (7294, 0.010297224699667188), (3782, 0.010291790176665313), (8223, 0.010291261243931961), (3447, 0.010290391423939447), (3974, 0.010281912243037202), (5228, 0.01027558982435736), (1203, 0.010251157880312108), (1959, 0.010231451845782643), (482, 0.010228280603793148), (1913, 0.010226952231246039), (1042, 0.010223058904435232), (2505, 0.010213597936810547), (3324, 0.010200984681955067), (2061, 0.010200891498213844), (4176, 0.010197199633882959), (6684, 0.010192394879526417), (2910, 0.010192073403326344), (3183, 0.010189012253678287), (7171, 0.010181918556095666), (5433, 0.010176922727298648), (899, 0.010164089502698778), (2102, 0.01016375946304231), (6286, 0.010147875762428355), (2195, 0.010132131917298082), (4290, 0.010126509013810996), (2770, 0.010123508086989804), (2876, 0.010111425474166517), (7519, 0.010110565549976627), (8185, 0.010103668286324696), (5202, 0.010096044954181396), (3278, 0.010088151404097113), (5880, 0.010081731223279431), (709, 0.010063991695489164), (3962, 0.010062329195410245), (8496, 0.010052307501175967), (6237, 0.010043507693707989), (2498, 0.010031144041478644), (1129, 0.010028530193833006), (6743, 0.010028014809058303), (6771, 0.010026252488248233), (6136, 0.010025636774234641), (3332, 0.010019997331769474), (1530, 0.010017661300523612), (297, 0.010009882655449345), (2802, 0.01000433321036596), (2057, 0.010002029298233114), (5818, 0.009999070047400204), (8628, 0.009991059412247415), (1306, 0.009990854469371471), (2243, 0.009985666359381227), (5422, 0.009985456398513703), (7916, 0.009984317567932475), (165, 0.009982510172964048), (3795, 0.009980721647960433), (1584, 0.009978150231581712), (1846, 0.009966539537790895), (6058, 0.009962126802190286), (5013, 0.009961977438942463), (8637, 0.009948230343762928), (3134, 0.009947488848370973), (614, 0.009947392192807021), (8356, 0.009943951183524128), (1449, 0.00993954666321151), (4104, 0.009933569744816548), (8389, 0.009928476563095106), (6663, 0.009924185243288267), (7876, 0.00991877341004265), (6513, 0.009915296066808564), (3353, 0.009910654044965746), (7935, 0.009909510741202731), (1575, 0.009897261897645851), (3499, 0.009887581614602157), (7497, 0.00988639152823391), (194, 0.009886058182929472), (3539, 0.009885167723236714), (6610, 0.009880912146389604), (6224, 0.009880508853140004), (3761, 0.009869868266079251), (8366, 0.009863151814666979), (9079, 0.00985758778746359), (7450, 0.009851928397106099), (1927, 0.00983195061316249), (1567, 0.009816566617529292), (7271, 0.009816322132331254), (4863, 0.00980892797592086), (9006, 0.009805951692129168), (586, 0.00979762271607446), (5305, 0.00978100776791149), (1231, 0.00977879010703036), (8329, 0.009762204261245511), (7812, 0.009760472729226852), (971, 0.009753394415488208), (5160, 0.009730837989315295), (1604, 0.009720229037639092), (30, 0.0097150900272977), (844, 0.009706975625320528), (4418, 0.009701950010137043), (3568, 0.009700725011963738), (5449, 0.009681934224168832), (916, 0.009678298733047607), (776, 0.009670944574097631), (2634, 0.00965760218112334), (5670, 0.009642374979547874), (3140, 0.009613244315657793), (5828, 0.009611961166869432), (8414, 0.009605624439778667), (2396, 0.009605405110680774), (2648, 0.00960335157786155), (2315, 0.009596380012897726), (4064, 0.009595954703689706), (5307, 0.009594708058137377), (5255, 0.009592923890820608), (3311, 0.009590798049410848), (3306, 0.009588967330764038), (894, 0.009588801908551952), (8080, 0.009543232115919982), (8359, 0.009542452735934457), (7733, 0.009540844120729714), (6339, 0.009540687983044197), (9022, 0.009528969312211293), (1547, 0.009523289751861171), (8893, 0.009516024645501988), (3910, 0.009515025815059098), (7117, 0.009511743573243976), (3785, 0.009506233542697076), (6851, 0.009492921156720825), (4249, 0.00948982616628189), (7011, 0.009486971392545923), (6989, 0.009485957176367254), (7421, 0.009484493083323903), (6759, 0.009484297249871059), (2676, 0.009482539858454837), (5909, 0.009481781993543574), (3902, 0.009471138987218894), (2309, 0.009462134358348164), (91, 0.009455620144941598), (6601, 0.009452606984289073), (83, 0.0094392090702038), (6040, 0.009435631841204162), (7676, 0.009419139792725335), (1313, 0.00940943923821805), (2259, 0.009406464512682861), (2994, 0.00940466888580304), (1289, 0.009401947504956057), (3830, 0.009397976838660163), (8682, 0.009385774295032213), (7819, 0.009360310077070713), (7610, 0.009357053516027712), (4325, 0.00933163470869047), (1539, 0.00932905164634265), (3171, 0.009323207661533776), (5469, 0.009320847980077375), (7134, 0.00931624099809141), (4169, 0.009315540641588653), (1412, 0.009306786793470792), (6190, 0.009289135535086082), (1510, 0.00927414227451164), (1336, 0.009258725802905116), (2490, 0.009256150127135376), (7824, 0.009252866711290499), (3711, 0.009240591576261633), (8450, 0.00922026058067806), (8342, 0.009219584443049222), (1023, 0.009209392195119542), (7675, 0.009204735369850364), (6362, 0.009194547990015414), (7281, 0.00919299914033102), (1141, 0.009182068654370124), (6967, 0.009175767263775584), (7426, 0.009165619629583057), (2866, 0.009161777520083222), (398, 0.009158811094808953), (2948, 0.00915585056341505), (5088, 0.009151031633089803), (3289, 0.009139220169286148), (7389, 0.009133397557136257), (5048, 0.009130175801385938), (1197, 0.00912389430396684), (7842, 0.009123098184258735), (3729, 0.009108443691464805), (3151, 0.00910820756149431), (5488, 0.009106784518543033), (1698, 0.009106517595477261), (262, 0.009106382279072067), (913, 0.009095530234190708), (8882, 0.009089852032572123), (5735, 0.009087511494528022), (712, 0.009079183168462438), (8152, 0.009075748732749257), (6162, 0.009074338713488566), (6917, 0.009073846907583666), (4608, 0.009060578769577159), (5398, 0.009057048087913156), (89, 0.00905694625512141), (2299, 0.00904265862771988), (1779, 0.009042002736731537), (2395, 0.009039757252220691), (7967, 0.009025290850628654), (292, 0.00901589511975734), (4116, 0.009015496046781495), (3954, 0.009013804482468123), (8848, 0.009001957154178309), (2789, 0.009000651224914245), (7299, 0.008996108088110553), (6652, 0.008995054270296036), (6312, 0.008984308154551349), (2854, 0.008977185162362874), (3169, 0.008971748080620989), (2786, 0.008967808339733), (1689, 0.008961020212339488), (8177, 0.008959817507917646), (1189, 0.008959230103315915), (5403, 0.008951553851629901), (8204, 0.008948072818055361), (7361, 0.008939062915350484), (7162, 0.00892337674357999), (4809, 0.008921759171530048), (490, 0.008919954243041546), (4361, 0.00891837405271147), (7706, 0.008915765214524266), (602, 0.008908916477906027), (2063, 0.008904282609122356), (143, 0.00890289820433253), (7459, 0.008902816842993074), (8012, 0.008901292524522552), (6466, 0.008868672082988617), (2838, 0.00885983425392993), (3919, 0.008835372105544987), (2511, 0.008824538851959213), (5788, 0.008819383867338076), (1992, 0.008804304208798424), (31, 0.00879626727363354), (6532, 0.008794402318320538), (8287, 0.008792814131964156), (6214, 0.008776514148321011), (4235, 0.008774499844609646), (7568, 0.008767241335089541), (3542, 0.008766192099324482), (1706, 0.008763128115139287), (2190, 0.008760829255999662), (5677, 0.008755016691880673), (4368, 0.008753718661056257), (6473, 0.008751691988792557), (4233, 0.008747658855687807), (2154, 0.0087456492977376), (1855, 0.008726384386143421), (4355, 0.008725485313235791), (7333, 0.008722777611216552), (1647, 0.008697788315679031), (4756, 0.00869099294447076), (2550, 0.008674153205313364), (636, 0.008668689024700386), (6415, 0.008665081670354591), (4147, 0.008663604667578439), (8936, 0.008662202215302076), (5904, 0.008649089308316635), (4986, 0.008645383905428973), (3507, 0.008641830001227558), (7643, 0.008635802810444276), (1311, 0.008632770987776794), (1401, 0.008631839933731652), (4049, 0.00862262733931645), (557, 0.008617157579759373), (6470, 0.00861379207817739), (1148, 0.008612007346702795), (4194, 0.00860537588485686), (6328, 0.008592460032333684), (3161, 0.008587364643321944), (1420, 0.008586571695938086), (7484, 0.008569057436113373), (1327, 0.008558583228699445), (4031, 0.008552072868883676), (3061, 0.008549182417298825), (1342, 0.008544443069745094), (2978, 0.00854391778650015), (4016, 0.008535150597610383), (8879, 0.008523466183835928), (3714, 0.008508565932109378), (3245, 0.008502751128732697), (8362, 0.0084936947342246), (5978, 0.008490448123134875), (1646, 0.00847895627241491), (172, 0.008474401345610566), (7475, 0.008463566349329148), (7217, 0.008461485451377319), (3078, 0.008453275882322616), (7107, 0.00842480355357252), (5680, 0.008412115646419378), (906, 0.008408047884746687), (6049, 0.008391545761256395), (7363, 0.008386291464599448), (2345, 0.008380960983610141), (4449, 0.00837870397316819), (6588, 0.008375382899606413), (5356, 0.008347463937283441), (1538, 0.00834562530275091), (7589, 0.008332412276357323), (685, 0.008322771003845321), (7047, 0.008321802603733911), (5790, 0.008311292330381555), (6731, 0.008311125202983733), (2608, 0.008309542571747439), (4103, 0.008305431039230746), (2068, 0.008301977173518583), (8843, 0.008283175043642649), (3207, 0.008281340026495746), (3443, 0.008272730532046513), (5824, 0.008265764348429667), (3144, 0.00825694954872568), (8735, 0.008255450828036725), (855, 0.008255052407972259), (3605, 0.008247753266043358), (533, 0.008243727850835434), (5786, 0.008239672662253299), (874, 0.008227942638919494), (6598, 0.008217715505664393), (4722, 0.00821000279880007), (7417, 0.008190147219716646), (7738, 0.008178074204220273), (8350, 0.008176792947862619), (4188, 0.008171215953421289), (8630, 0.008169352131257818), (8949, 0.008162816826847094), (7957, 0.008158783176954376), (8027, 0.008150714609647365), (2449, 0.008138584923264948), (6734, 0.008136273063842007), (8554, 0.008134626487443248), (2095, 0.008121588772156555), (6704, 0.008121055161217838), (3407, 0.008114680050719903), (3636, 0.008110684738819407), (2569, 0.008106318684247136), (4448, 0.008104348940586809), (2217, 0.00809620664758909), (7518, 0.008094574478008182), (5182, 0.008091834865167173), (6047, 0.008077966842984412), (6702, 0.008062995037491695), (8011, 0.008061803576800445), (3770, 0.00805690876459908), (7981, 0.008055937252736966), (1711, 0.008053610761721387), (7986, 0.008052063169683767), (8236, 0.008051370915478773), (5357, 0.00803274370846404), (2895, 0.00802627804701598), (5271, 0.008025032102202512), (5816, 0.008022670058288496), (6620, 0.008013101147620461), (3433, 0.008013038370755), (2010, 0.008012755561419744), (3072, 0.008007259895868084), (3679, 0.00800608884265627), (8670, 0.007998317299394889), (2727, 0.00799471568708445), (4143, 0.007991391853736056), (2161, 0.007987319953428038), (6516, 0.007983539267664803), (3644, 0.007975304439344045), (2782, 0.007966287391183675), (2553, 0.007958859556298485), (3524, 0.00795157796135248), (5934, 0.00794663581892492), (7778, 0.00794056910891088), (6748, 0.007940480342143721), (387, 0.00793925370541954), (7135, 0.007933788024095922), (3103, 0.007929126081894439), (2584, 0.007928002224099506), (610, 0.007921678936901155), (3201, 0.007914130658063824), (2823, 0.007908257788449781), (999, 0.007892647555899648), (8605, 0.007891146996148428), (8517, 0.007877271182079792), (8418, 0.00786811138897856), (6828, 0.007859307565141428), (4108, 0.007852353491960737), (4208, 0.00785070288057334), (8143, 0.007845585690467206), (5328, 0.00783699886579598), (424, 0.007836798503205187), (4051, 0.007832553238730207), (5359, 0.007826905340688087), (4112, 0.007825440520554084), (1555, 0.0078106056783046884), (2199, 0.007799526045398654), (4441, 0.007791888645976013), (1423, 0.0077870018394592426), (5425, 0.007785794222441041), (7725, 0.0077849154121323325), (1241, 0.007779116912113315), (3756, 0.007774052701745936), (3179, 0.007766201140175894), (6950, 0.007756834285821443), (7116, 0.007753166144091084), (1419, 0.0077531270073749456), (2756, 0.007750856298203995), (5158, 0.007744347289191181), (3064, 0.007739951501812383), (4255, 0.0077398831032219765), (5352, 0.007732100833711965), (6912, 0.007731507968063281), (7014, 0.007730663859442049), (1090, 0.007725270782738107), (4076, 0.007724958803364171), (8363, 0.007723052834476546), (9026, 0.0077210064038491875), (7230, 0.00769852916355547), (5889, 0.00769399487707511), (105, 0.007691788374732123), (2959, 0.007689454328467504), (7220, 0.007676946475259249), (7112, 0.007673019723335589), (3796, 0.007671458595851303), (7358, 0.007668938939875865), (3085, 0.007668296178935834), (7261, 0.0076678823148505475), (321, 0.007665054705829644), (6885, 0.007663477644042256), (7400, 0.0076631968280565016), (1840, 0.00766253366455202), (8196, 0.007661925174526837), (1385, 0.0076531507124797), (2165, 0.007644863753883274), (5987, 0.007643093525793645), (4157, 0.007620070794890776), (2869, 0.0076153516438734505), (2976, 0.0076124150644641675), (8646, 0.007604701558699649), (295, 0.007598119647776259), (4377, 0.007597724630010502), (2555, 0.007585215131912398), (8187, 0.007578133853870308), (4161, 0.007577769445011295), (7275, 0.007572679715871712), (3912, 0.007566177524238342), (4883, 0.007558146331703161), (2828, 0.007557693965454654), (6399, 0.0075560082219780006), (7173, 0.007555742447168868), (2091, 0.007545378549580974), (6027, 0.007541531791036036), (3438, 0.007537215635545822), (7419, 0.0075368918346813115), (60, 0.007532431473453978), (5290, 0.007530336593300502), (2696, 0.007520911840739349), (5324, 0.007505972003749812), (3528, 0.007502008473570527), (2824, 0.00750106248220323), (8700, 0.007497292048639499), (1262, 0.0074812047472112555), (5628, 0.007472719689748008), (8513, 0.007472451489798304), (4780, 0.0074660260191299465), (659, 0.007463564963623509), (4398, 0.007460253109598818), (6809, 0.007458821087708075), (2972, 0.00745835686222312), (2069, 0.00745803935687693), (6988, 0.0074561082693304645), (1027, 0.007455437432359333), (203, 0.007453444431306547), (6954, 0.007447807501262325), (1025, 0.007429656440602169), (4774, 0.007418403686151823), (4003, 0.007396565164595595), (6525, 0.007389423980692034), (4332, 0.007380127222006411), (7072, 0.007364723376570633), (8093, 0.007363713257838981), (390, 0.007352747422805407), (5504, 0.007347431721186556), (7288, 0.007336433117712917), (6216, 0.0073345359867186), (2092, 0.007333252446552899), (5537, 0.007331192403436231), (5481, 0.007318947346503229), (5695, 0.007318480101908085), (5439, 0.00731732327788243), (4366, 0.007313905232810331), (5619, 0.007296750021341943), (2187, 0.007296545702562311), (1150, 0.007289889246441236), (6345, 0.007289169004378168), (3336, 0.00728753216009562), (5794, 0.007282369592335634), (3835, 0.007280349431713043), (1030, 0.007277847667551159), (6519, 0.007276504279636949), (1105, 0.0072715313473657945), (8538, 0.007271160099253177), (6480, 0.007267986585368826), (7225, 0.007258363646142187), (208, 0.0072503130671477505), (2859, 0.007242730290515704), (2795, 0.007241237900269043), (5907, 0.007208953463607045), (4458, 0.007207655505813783), (5082, 0.007206597603427903), (4835, 0.00719874453694071), (6995, 0.007193942845082543), (6053, 0.007172948243043853), (150, 0.007169629035967923), (5744, 0.0071560366385139745), (2200, 0.0071540814807682755), (2447, 0.007150580623169743), (8432, 0.007128637214638406), (4315, 0.007122762436631369), (5292, 0.007121392552723073), (4919, 0.007104152240494276), (3550, 0.007101998029737873), (6891, 0.0070936614769060895), (7572, 0.007076084630274884), (2858, 0.007075341120814295), (4394, 0.007074315738465297), (5277, 0.007069496645252545), (365, 0.007061862472290345), (537, 0.007056766232495765), (2659, 0.007052069769717197), (4256, 0.007050136716700395), (4805, 0.007037099523851004), (5236, 0.007033768322493755), (2934, 0.0070146543228887205), (2257, 0.007009602074210009), (5235, 0.00699029822727607), (6284, 0.0069863154671860415), (8180, 0.006983636967769165), (3029, 0.006961857342142154), (1211, 0.0069600546922801015), (8007, 0.006951829221434548), (3900, 0.006948017984752727), (4464, 0.006941738557418417), (6089, 0.006935149984552938), (5392, 0.006933647940846864), (6464, 0.006920590532252265), (6351, 0.0069061289160932075), (3713, 0.006890305750705038), (8357, 0.006888587195334764), (1239, 0.006887233961030283), (4975, 0.0068833300709973495), (372, 0.006875900505968807), (1623, 0.006857786990460565), (2075, 0.006852417906419813), (3981, 0.006851840661415608), (6624, 0.0068440677951014045), (8015, 0.006827942702899553), (8619, 0.006820957222612177), (5550, 0.0068196520165481195), (6829, 0.006815799946119342), (3219, 0.006810585751519973), (8754, 0.006808113060480857), (4007, 0.006789460654128442), (81, 0.0067836250133323445), (4810, 0.006782010460124658), (1434, 0.006778190500568417), (4732, 0.0067724504030901795), (2468, 0.006761763147188416), (5234, 0.006756843191672162), (2419, 0.006753743538848451), (3574, 0.0067501717113582155), (905, 0.006748764876910922), (6297, 0.006746228684791392), (2483, 0.006744456815477255), (2286, 0.006744199139409464), (1687, 0.006722081264546824), (1732, 0.006713155440521923), (8575, 0.006709162303715241), (4752, 0.006700296914235127), (6295, 0.006692654191940049), (2288, 0.006681818253249136), (2579, 0.006671082077244492), (4160, 0.006660844859703348), (7210, 0.006659650837432216), (3501, 0.006641530373970852), (8807, 0.00662291205321921), (2662, 0.006620066010053794), (1111, 0.006618453291501895), (1238, 0.006612693601217162), (2541, 0.006612142040541242), (5897, 0.006610343144071858), (6857, 0.006604772793563353), (6179, 0.006588669021489919), (8971, 0.006557944593056241), (2110, 0.00655580958332248), (5341, 0.006552874160967457), (1260, 0.006546330003367072), (8124, 0.006542808342549727), (5706, 0.006528947472397299), (4833, 0.006527735331619136), (7214, 0.006524827360866508), (2849, 0.006520492966435331), (4253, 0.0065192025080077765), (4740, 0.006518562915911002), (5130, 0.006515980981579712), (1074, 0.006489332514438044), (4578, 0.006484457386181116), (539, 0.006462760641883062), (1035, 0.006448104591065611), (2328, 0.00644391187824244), (1801, 0.006443176925970912), (5899, 0.006432271877101463), (6403, 0.0064267459666772124), (1521, 0.006424608507021598), (4010, 0.006416065298598923), (1607, 0.0064062520108785674), (2067, 0.006393717097331639), (6982, 0.006390828597692446), (384, 0.006374442551620404), (3155, 0.006374039389598304), (5229, 0.0063483348428865745), (3274, 0.006341131668051717), (7593, 0.006340418605341886), (201, 0.006321314857551645), (757, 0.006318106020478667), (186, 0.0063079958209774365), (6119, 0.0063043791513009125), (4490, 0.0062938834038800545), (7293, 0.006273454291166164), (1470, 0.006267797687601179), (5453, 0.006267303047710008), (2012, 0.006260387421900525), (6083, 0.006254001856334336), (3176, 0.0062439442057793835), (3626, 0.00622359175615829), (8047, 0.006221069973188677), (7601, 0.0062170498463146665), (7697, 0.006212807966039388), (796, 0.006195725171519593), (3522, 0.006192765902431984), (7823, 0.006191356070767977), (2258, 0.006185327518927557), (96, 0.006171122355338427), (8634, 0.006167856620073402), (7529, 0.0061618301459274265), (4909, 0.006155533079096191), (4488, 0.0061460300044695396), (1334, 0.006135939186317327), (8122, 0.0061223128826068), (4785, 0.0061063943567164145), (6044, 0.006102223266130703), (8071, 0.00610205290926613), (7736, 0.0061018703115557), (4672, 0.0060988183840730865), (4539, 0.006095694770935434), (4234, 0.006093894008147285), (3258, 0.0060914014320862225), (6790, 0.006088692222602009), (7753, 0.0060883637783780845), (268, 0.006086729426060938), (8787, 0.006082905052586735), (2322, 0.006077211943074066), (5011, 0.006074425150752947), (8097, 0.006073845286728499), (7871, 0.006069484500428592), (7970, 0.0060602046906215925), (6117, 0.006057879791605234), (7418, 0.006051184287356039), (7735, 0.00603893205432947), (8968, 0.00601222867976595), (619, 0.006011144540904172), (2674, 0.00600958643582779), (1155, 0.005999105717204872), (4072, 0.005987415709737649), (7801, 0.005967811373912836), (1829, 0.005961102634978501), (8369, 0.005959525194629383), (1081, 0.0059525341479313805), (1603, 0.005925642165264951), (2755, 0.00590656351266539), (3339, 0.0059022977994259195), (2347, 0.005899379062196041), (6815, 0.0058954659168259475), (1877, 0.005878543486680632), (5641, 0.005872839811501942), (7939, 0.005871963109309331), (6501, 0.0058643942241279785), (5489, 0.005863739189057523), (5625, 0.005853835436245795), (7975, 0.005848156248899414), (1766, 0.005847718740066674), (7864, 0.005834456726006535), (5849, 0.005805803065143006), (3736, 0.0057948256777162616), (3857, 0.0057865598679027195), (2164, 0.0057860957409321045), (9092, 0.005786003918269763), (2879, 0.00578491596644473), (3706, 0.005784895420873937), (2529, 0.005780140629844143), (4229, 0.005767945474004355), (7234, 0.0057576649479912515), (4575, 0.005747233960780374), (5377, 0.005745205571387722), (4822, 0.00574414930528038), (6435, 0.005743663014832771), (1428, 0.005742537570159851), (1046, 0.0057366873569564495), (4407, 0.005734733928088261), (8814, 0.005731050999629665), (76, 0.0057262174424787616), (6992, 0.0057202560937968635), (7157, 0.005717062492365094), (6963, 0.0057127086323929864), (1416, 0.005701979017587147), (7108, 0.005701219150867964), (1534, 0.005691314883784338), (4008, 0.005683678520948048), (2277, 0.005678666393369855), (1608, 0.005669483574577002), (601, 0.00566807174269427), (1389, 0.005660410262812084), (3458, 0.005657608342551938), (8524, 0.005603053174676371), (7492, 0.005596232739846226), (7520, 0.005588308933991925), (2450, 0.005568162925788179), (4066, 0.005567530776961706), (6849, 0.005553699802470512), (2059, 0.005550733415919815), (4964, 0.005548763864426993), (4333, 0.00554385627048943), (6853, 0.0055426757949238), (7668, 0.0055416831503117495), (4611, 0.005534775955360592), (7896, 0.005533748720992808), (4304, 0.005506179357604461), (3518, 0.005503701797983651), (2371, 0.005496550519859112), (4270, 0.0054946884499581915), (2960, 0.005491286018960722), (7136, 0.005476343914044055), (834, 0.005472333421606673), (7329, 0.005464399251004628), (7926, 0.005455621929820135), (4567, 0.005445369001263038), (5458, 0.005442305264280467), (2263, 0.005438046413752843), (2806, 0.005434090328259133), (6893, 0.005421072759672689), (3808, 0.005415577709956174), (8382, 0.0053938731024848205), (8341, 0.005377304615094183), (3205, 0.005358978828493362), (6890, 0.005352200598501885), (7576, 0.005345426910634147), (667, 0.005342488857506277), (59, 0.005340698812081219), (5666, 0.005322628557741566), (2032, 0.005318367474482858), (8129, 0.005309321111190658), (6161, 0.0053019191358997025), (7366, 0.005301738234964569), (3760, 0.005268271910118028), (4421, 0.005254794397725722), (4655, 0.00525365663948326), (1000, 0.005252088830260591), (2340, 0.005250750564997016), (8955, 0.005239679063961848), (225, 0.005229528517099642), (1582, 0.00522586096487474), (7959, 0.005222972284950253), (3868, 0.005220931655998728), (7413, 0.005220898574754455), (5971, 0.005218345246020395), (152, 0.0052149430729870605), (2513, 0.005210906033823547), (1297, 0.005203545398743111), (1134, 0.005202210540748218), (1939, 0.0052021967755590814), (2355, 0.005200299258626765), (3346, 0.005193614923230716), (2372, 0.005188227360700104), (2076, 0.005179747305408889), (6486, 0.00516541855934647), (7343, 0.005157905984122396), (332, 0.005145434000585563), (4776, 0.00513681726182027), (6277, 0.005132774141632036), (7511, 0.0051172479704065365), (5025, 0.005108207317608296), (7178, 0.005095261164051558), (6735, 0.005094092173243159), (8283, 0.005082484884024561), (2645, 0.005079924471522054), (1007, 0.005079662556395421), (1663, 0.0050762724316800595), (6358, 0.0050751964520140405), (8736, 0.005070754186793489), (8105, 0.00506100523574266), (4189, 0.005047687063105495), (2961, 0.005044428634670451), (8084, 0.005032159593642094), (8202, 0.005030614494178058), (3635, 0.005028296181150486), (1359, 0.005020293421444454), (5758, 0.005008835445427773), (7553, 0.005004947418368613), (2241, 0.004999725711547843), (3659, 0.004993959715067839), (462, 0.004993848535946209), (3265, 0.004993838542231288), (6276, 0.0049778044931541665), (5699, 0.004975404038947188), (637, 0.0049480043052126995), (1721, 0.0049119704139512065), (4804, 0.00491186840546186), (119, 0.004911864306575886), (8873, 0.0049095912029409414), (3239, 0.004904395746629076), (625, 0.004904126157006324), (4929, 0.004894541069727295), (937, 0.0048747910684195685), (5655, 0.004873450918351016), (3228, 0.004858171065549772), (8060, 0.004851512617911083), (8482, 0.004850994337041593), (1295, 0.00484801945467825), (5114, 0.00483454592901555), (5986, 0.004834201276526352), (422, 0.004833795389926398), (3847, 0.004823974757344658), (6010, 0.0048235794672811675), (736, 0.004817977901521996), (3512, 0.004804376358003947), (5124, 0.004798887635672339), (7757, 0.0047755215699411034), (4503, 0.004771072926348038), (7751, 0.004764545116399615), (3102, 0.004753014294368376), (3865, 0.004749589022317719), (6335, 0.004746197188678806), (6659, 0.004731436725595791), (8090, 0.004722297722203697), (1761, 0.004717911321276313), (511, 0.004714071118178971), (247, 0.004710960777600519), (2081, 0.004708284688456678), (5252, 0.004677336911038866), (6902, 0.0046577454852128695), (1142, 0.00465078356247592), (8878, 0.004648918798424925), (5871, 0.0046461052868456065), (1386, 0.004623021918512546), (4283, 0.004603609426598221), (6977, 0.00460018100534088), (6847, 0.0045897469186332186), (6535, 0.004585848237873892), (5076, 0.004570782752606178), (4471, 0.004555711970556217), (4252, 0.004554485835237575), (3664, 0.004546063379674418), (6793, 0.004543221826243837), (3073, 0.0045405926071641674), (2353, 0.004531037957952272), (8117, 0.0045271819347840565), (213, 0.004515957014248578), (1348, 0.004510694930945675), (575, 0.004485420029653843), (449, 0.004478768019189291), (5627, 0.0044673850535557665), (4318, 0.004464863837442593), (4238, 0.00445247441590002), (454, 0.00445211001112324), (8468, 0.0044298299311000995), (4021, 0.004424060810020058), (6221, 0.004416868525092906), (98, 0.00440958907877898), (879, 0.004391915975642646), (7100, 0.004381345670676813), (6696, 0.004381020671099701), (6548, 0.004361600082063137), (875, 0.0043596419092966745), (9001, 0.004354885374764934), (5055, 0.0043543363767118756), (4152, 0.004337337573928409), (672, 0.004331087968947421), (1223, 0.00431424082705514), (1140, 0.004310701161551554), (8437, 0.004303909455552897), (5600, 0.004302230249084717), (4823, 0.004282527283362347), (5344, 0.004269703814362624), (628, 0.004253402140975308), (4250, 0.0042395218252326205), (3988, 0.004220597345367729), (4924, 0.004218355559359824), (6363, 0.004212503949107713), (4365, 0.004211287463052326), (7536, 0.004206669839401318), (453, 0.004199767804616931), (3896, 0.004189484146377364), (5941, 0.004189324318664097), (7247, 0.004175915491951158), (2730, 0.004171400822478027), (3299, 0.004170373785103489), (2999, 0.004154851542520509), (7949, 0.004150068798778913), (7962, 0.004142326957896331), (7951, 0.004134740128637227), (3319, 0.004128328135030752), (440, 0.004124124225144908), (2342, 0.004118238818112647), (8006, 0.004116656165506422), (1083, 0.004106525421983346), (3464, 0.004093707309804796), (7138, 0.004072997265864891), (1060, 0.00401293914394303), (7789, 0.00399620634450139), (3384, 0.003976458639919375), (8229, 0.00397084397433726), (3819, 0.003968435529260862), (7496, 0.003933520059358919), (4659, 0.003932452794867278), (6241, 0.003923642297437986), (4946, 0.0039179068389543865), (812, 0.003914311072899925), (3766, 0.003909375074571366), (164, 0.0038886180497220988), (7412, 0.0038860370555279487), (2837, 0.003885609472812526), (8232, 0.0038600955224096854), (5569, 0.003857425875177491), (4109, 0.003814088580745978), (5474, 0.003809192650688011), (7402, 0.0038082279765097237), (7990, 0.0038058763421626213), (5710, 0.00379594087108197), (6101, 0.0037935801732117687), (2282, 0.0037716578798564593), (5748, 0.0037337429052502354), (310, 0.00371086728431939), (2326, 0.003692355727226088), (7076, 0.0036788815701702753), (87, 0.0036677569705874046), (2060, 0.003662258533398876), (6675, 0.0036348919561725148), (3827, 0.003631019552642478), (4428, 0.0036213398192351367), (6527, 0.003609858779572279), (5540, 0.003606526448273178), (835, 0.003602349933898006), (2039, 0.003598060819300937), (2602, 0.003589596258855284), (7002, 0.0035809354933066776), (2817, 0.0035746683908499713), (1194, 0.0035731788290962593), (5530, 0.0035649373226888945), (1284, 0.0035524910332921243), (6319, 0.0035313457243460037), (1667, 0.0035253332335599586), (6409, 0.0035221618218361835), (3841, 0.003475043024611534), (1783, 0.0034722950805727583), (2320, 0.00347038635736724), (4746, 0.003430531048546832), (5370, 0.0034023699439804126), (4224, 0.003387298465473346), (8487, 0.0033766007939728822), (5730, 0.003327262517566826), (3590, 0.0033208605676350446), (833, 0.003293791197646463), (8447, 0.0032897894922950953), (8679, 0.003285908768978803), (5172, 0.003278810161477455), (3717, 0.0032496115851930758), (6391, 0.0032383764468553304), (1160, 0.0032370482682896563), (5780, 0.0032232107746700957), (1319, 0.003215682706615522), (6639, 0.003195219823469122), (2392, 0.003156072297172559), (5250, 0.003128862618216017), (7791, 0.003122478781294744), (606, 0.0031030249825452607), (6779, 0.00306468788945438), (5388, 0.0030602621199865227), (938, 0.003052067377252525), (5254, 0.00304416769623645), (3267, 0.003041347969757755), (3419, 0.0030178718453349996), (8215, 0.002996944189301328), (2442, 0.0029940925931506964), (3538, 0.0029872130584897663), (1587, 0.0029804512805985182), (7109, 0.0029632138120821157), (1851, 0.0029288789841263865), (7508, 0.0028970997869317023), (4091, 0.0028844823958808067), (4522, 0.0028683348736097372), (5490, 0.0028069074298480044), (5289, 0.0027857740352637663), (1366, 0.0027802663257008404), (7774, 0.0027347338626713606), (6341, 0.002659494120461767), (3502, 0.002645102405774888), (8107, 0.0024888365614978715), (1491, 0.002465961094366461), (6497, 0.0024584961347254254), (7091, 0.002448259238258348), (6426, 0.002444402870641024), (500, 0.0023521198143447546), (6336, 0.0022354594609849767), (1594, 0.0022287442880010735), (8298, 0.002213328382991994), (457, 0.0019141738552198046), (8592, 0.001636536643697855), (0, 0.0), (1, 0.0), (4, 0.0), (5, 0.0), (6, 0.0), (7, 0.0), (8, 0.0), (11, 0.0), (12, 0.0), (14, 0.0), (16, 0.0), (17, 0.0), (18, 0.0), (19, 0.0), (20, 0.0), (21, 0.0), (22, 0.0), (24, 0.0), (25, 0.0), (26, 0.0), (27, 0.0), (29, 0.0), (32, 0.0), (33, 0.0), (35, 0.0), (36, 0.0), (40, 0.0), (41, 0.0), (42, 0.0), (43, 0.0), (44, 0.0), (45, 0.0), (46, 0.0), (49, 0.0), (50, 0.0), (51, 0.0), (52, 0.0), (53, 0.0), (54, 0.0), (55, 0.0), (56, 0.0), (58, 0.0), (62, 0.0), (64, 0.0), (66, 0.0), (67, 0.0), (69, 0.0), (70, 0.0), (71, 0.0), (73, 0.0), (74, 0.0), (77, 0.0), (78, 0.0), (80, 0.0), (82, 0.0), (84, 0.0), (85, 0.0), (88, 0.0), (90, 0.0), (93, 0.0), (94, 0.0), (95, 0.0), (97, 0.0), (100, 0.0), (101, 0.0), (104, 0.0), (106, 0.0), (107, 0.0), (108, 0.0), (109, 0.0), (110, 0.0), (111, 0.0), (112, 0.0), (113, 0.0), (114, 0.0), (116, 0.0), (117, 0.0), (118, 0.0), (120, 0.0), (123, 0.0), (124, 0.0), (125, 0.0), (126, 0.0), (127, 0.0), (128, 0.0), (129, 0.0), (131, 0.0), (132, 0.0), (134, 0.0), (135, 0.0), (136, 0.0), (137, 0.0), (139, 0.0), (141, 0.0), (146, 0.0), (147, 0.0), (148, 0.0), (149, 0.0), (151, 0.0), (153, 0.0), (154, 0.0), (156, 0.0), (157, 0.0), (158, 0.0), (160, 0.0), (161, 0.0), (162, 0.0), (163, 0.0), (166, 0.0), (167, 0.0), (168, 0.0), (171, 0.0), (173, 0.0), (174, 0.0), (175, 0.0), (176, 0.0), (178, 0.0), (179, 0.0), (180, 0.0), (182, 0.0), (183, 0.0), (184, 0.0), (185, 0.0), (188, 0.0), (189, 0.0), (190, 0.0), (192, 0.0), (193, 0.0), (196, 0.0), (197, 0.0), (198, 0.0), (199, 0.0), (200, 0.0), (202, 0.0), (204, 0.0), (206, 0.0), (207, 0.0), (209, 0.0), (211, 0.0), (212, 0.0), (214, 0.0), (215, 0.0), (216, 0.0), (217, 0.0), (218, 0.0), (219, 0.0), (220, 0.0), (223, 0.0), (224, 0.0), (226, 0.0), (227, 0.0), (228, 0.0), (230, 0.0), (232, 0.0), (233, 0.0), (235, 0.0), (236, 0.0), (237, 0.0), (238, 0.0), (240, 0.0), (241, 0.0), (242, 0.0), (243, 0.0), (248, 0.0), (249, 0.0), (250, 0.0), (252, 0.0), (253, 0.0), (254, 0.0), (256, 0.0), (257, 0.0), (258, 0.0), (259, 0.0), (261, 0.0), (263, 0.0), (265, 0.0), (266, 0.0), (267, 0.0), (269, 0.0), (270, 0.0), (273, 0.0), (275, 0.0), (276, 0.0), (277, 0.0), (278, 0.0), (279, 0.0), (280, 0.0), (281, 0.0), (282, 0.0), (285, 0.0), (286, 0.0), (287, 0.0), (288, 0.0), (289, 0.0), (293, 0.0), (294, 0.0), (296, 0.0), (298, 0.0), (299, 0.0), (302, 0.0), (303, 0.0), (304, 0.0), (305, 0.0), (306, 0.0), (307, 0.0), (309, 0.0), (311, 0.0), (313, 0.0), (318, 0.0), (319, 0.0), (320, 0.0), (324, 0.0), (325, 0.0), (326, 0.0), (327, 0.0), (328, 0.0), (331, 0.0), (333, 0.0), (334, 0.0), (335, 0.0), (336, 0.0), (337, 0.0), (339, 0.0), (340, 0.0), (341, 0.0), (343, 0.0), (344, 0.0), (345, 0.0), (346, 0.0), (347, 0.0), (348, 0.0), (349, 0.0), (350, 0.0), (352, 0.0), (353, 0.0), (354, 0.0), (356, 0.0), (357, 0.0), (358, 0.0), (359, 0.0), (360, 0.0), (361, 0.0), (362, 0.0), (363, 0.0), (364, 0.0), (366, 0.0), (367, 0.0), (368, 0.0), (369, 0.0), (371, 0.0), (374, 0.0), (375, 0.0), (376, 0.0), (377, 0.0), (378, 0.0), (380, 0.0), (381, 0.0), (382, 0.0), (383, 0.0), (385, 0.0), (386, 0.0), (388, 0.0), (391, 0.0), (392, 0.0), (393, 0.0), (394, 0.0), (395, 0.0), (396, 0.0), (399, 0.0), (400, 0.0), (403, 0.0), (404, 0.0), (405, 0.0), (406, 0.0), (407, 0.0), (409, 0.0), (411, 0.0), (412, 0.0), (413, 0.0), (414, 0.0), (415, 0.0), (416, 0.0), (417, 0.0), (418, 0.0), (419, 0.0), (421, 0.0), (423, 0.0), (425, 0.0), (426, 0.0), (427, 0.0), (428, 0.0), (431, 0.0), (432, 0.0), (433, 0.0), (434, 0.0), (436, 0.0), (437, 0.0), (441, 0.0), (444, 0.0), (446, 0.0), (447, 0.0), (448, 0.0), (450, 0.0), (451, 0.0), (452, 0.0), (455, 0.0), (458, 0.0), (460, 0.0), (461, 0.0), (463, 0.0), (465, 0.0), (467, 0.0), (468, 0.0), (469, 0.0), (470, 0.0), (471, 0.0), (472, 0.0), (473, 0.0), (477, 0.0), (478, 0.0), (480, 0.0), (481, 0.0), (483, 0.0), (484, 0.0), (486, 0.0), (487, 0.0), (488, 0.0), (489, 0.0), (491, 0.0), (492, 0.0), (493, 0.0), (495, 0.0), (496, 0.0), (497, 0.0), (499, 0.0), (501, 0.0), (502, 0.0), (503, 0.0), (504, 0.0), (505, 0.0), (509, 0.0), (510, 0.0), (512, 0.0), (513, 0.0), (514, 0.0), (515, 0.0), (516, 0.0), (517, 0.0), (518, 0.0), (522, 0.0), (523, 0.0), (525, 0.0), (528, 0.0), (529, 0.0), (531, 0.0), (532, 0.0), (534, 0.0), (535, 0.0), (536, 0.0), (538, 0.0), (541, 0.0), (542, 0.0), (543, 0.0), (544, 0.0), (545, 0.0), (546, 0.0), (547, 0.0), (548, 0.0), (549, 0.0), (550, 0.0), (554, 0.0), (558, 0.0), (559, 0.0), (560, 0.0), (562, 0.0), (564, 0.0), (565, 0.0), (566, 0.0), (567, 0.0), (568, 0.0), (569, 0.0), (570, 0.0), (572, 0.0), (574, 0.0), (579, 0.0), (580, 0.0), (581, 0.0), (582, 0.0), (584, 0.0), (585, 0.0), (588, 0.0), (589, 0.0), (590, 0.0), (591, 0.0), (593, 0.0), (597, 0.0), (598, 0.0), (599, 0.0), (603, 0.0), (604, 0.0), (605, 0.0), (607, 0.0), (608, 0.0), (609, 0.0), (611, 0.0), (612, 0.0), (615, 0.0), (616, 0.0), (618, 0.0), (620, 0.0), (621, 0.0), (623, 0.0), (624, 0.0), (627, 0.0), (629, 0.0), (630, 0.0), (631, 0.0), (632, 0.0), (633, 0.0), (634, 0.0), (635, 0.0), (638, 0.0), (639, 0.0), (640, 0.0), (643, 0.0), (644, 0.0), (645, 0.0), (647, 0.0), (648, 0.0), (649, 0.0), (650, 0.0), (651, 0.0), (652, 0.0), (653, 0.0), (654, 0.0), (655, 0.0), (656, 0.0), (657, 0.0), (658, 0.0), (660, 0.0), (661, 0.0), (663, 0.0), (665, 0.0), (666, 0.0), (668, 0.0), (669, 0.0), (670, 0.0), (673, 0.0), (674, 0.0), (676, 0.0), (677, 0.0), (678, 0.0), (680, 0.0), (681, 0.0), (682, 0.0), (683, 0.0), (686, 0.0), (687, 0.0), (688, 0.0), (689, 0.0), (691, 0.0), (692, 0.0), (693, 0.0), (694, 0.0), (695, 0.0), (696, 0.0), (697, 0.0), (700, 0.0), (702, 0.0), (703, 0.0), (705, 0.0), (707, 0.0), (710, 0.0), (713, 0.0), (714, 0.0), (716, 0.0), (717, 0.0), (720, 0.0), (723, 0.0), (724, 0.0), (725, 0.0), (726, 0.0), (727, 0.0), (728, 0.0), (729, 0.0), (730, 0.0), (731, 0.0), (733, 0.0), (734, 0.0), (735, 0.0), (737, 0.0), (738, 0.0), (739, 0.0), (740, 0.0), (741, 0.0), (742, 0.0), (743, 0.0), (744, 0.0), (745, 0.0), (746, 0.0), (748, 0.0), (749, 0.0), (750, 0.0), (752, 0.0), (753, 0.0), (754, 0.0), (756, 0.0), (758, 0.0), (759, 0.0), (761, 0.0), (762, 0.0), (763, 0.0), (764, 0.0), (765, 0.0), (766, 0.0), (767, 0.0), (768, 0.0), (769, 0.0), (771, 0.0), (772, 0.0), (773, 0.0), (775, 0.0), (777, 0.0), (778, 0.0), (779, 0.0), (780, 0.0), (782, 0.0), (783, 0.0), (784, 0.0), (785, 0.0), (787, 0.0), (788, 0.0), (789, 0.0), (790, 0.0), (791, 0.0), (793, 0.0), (794, 0.0), (795, 0.0), (797, 0.0), (801, 0.0), (802, 0.0), (803, 0.0), (804, 0.0), (807, 0.0), (808, 0.0), (809, 0.0), (810, 0.0), (811, 0.0), (813, 0.0), (814, 0.0), (815, 0.0), (816, 0.0), (817, 0.0), (818, 0.0), (820, 0.0), (821, 0.0), (823, 0.0), (825, 0.0), (826, 0.0), (827, 0.0), (829, 0.0), (830, 0.0), (837, 0.0), (838, 0.0), (839, 0.0), (843, 0.0), (845, 0.0), (846, 0.0), (848, 0.0), (849, 0.0), (850, 0.0), (852, 0.0), (853, 0.0), (854, 0.0), (856, 0.0), (857, 0.0), (858, 0.0), (859, 0.0), (860, 0.0), (861, 0.0), (863, 0.0), (865, 0.0), (866, 0.0), (867, 0.0), (868, 0.0), (870, 0.0), (872, 0.0), (876, 0.0), (877, 0.0), (880, 0.0), (881, 0.0), (883, 0.0), (884, 0.0), (885, 0.0), (886, 0.0), (887, 0.0), (889, 0.0), (890, 0.0), (891, 0.0), (892, 0.0), (893, 0.0), (895, 0.0), (896, 0.0), (897, 0.0), (900, 0.0), (903, 0.0), (907, 0.0), (908, 0.0), (910, 0.0), (911, 0.0), (912, 0.0), (914, 0.0), (915, 0.0), (917, 0.0), (918, 0.0), (919, 0.0), (921, 0.0), (922, 0.0), (923, 0.0), (924, 0.0), (926, 0.0), (927, 0.0), (928, 0.0), (929, 0.0), (930, 0.0), (931, 0.0), (932, 0.0), (933, 0.0), (934, 0.0), (935, 0.0), (939, 0.0), (940, 0.0), (941, 0.0), (942, 0.0), (943, 0.0), (944, 0.0), (945, 0.0), (946, 0.0), (948, 0.0), (950, 0.0), (951, 0.0), (952, 0.0), (954, 0.0), (955, 0.0), (957, 0.0), (958, 0.0), (959, 0.0), (960, 0.0), (962, 0.0), (963, 0.0), (964, 0.0), (965, 0.0), (967, 0.0), (968, 0.0), (969, 0.0), (972, 0.0), (973, 0.0), (974, 0.0), (975, 0.0), (977, 0.0), (978, 0.0), (979, 0.0), (985, 0.0), (986, 0.0), (987, 0.0), (989, 0.0), (992, 0.0), (993, 0.0), (994, 0.0), (997, 0.0), (1001, 0.0), (1002, 0.0), (1003, 0.0), (1008, 0.0), (1009, 0.0), (1010, 0.0), (1012, 0.0), (1013, 0.0), (1014, 0.0), (1015, 0.0), (1016, 0.0), (1018, 0.0), (1019, 0.0), (1021, 0.0), (1024, 0.0), (1026, 0.0), (1028, 0.0), (1029, 0.0), (1031, 0.0), (1032, 0.0), (1034, 0.0), (1036, 0.0), (1037, 0.0), (1038, 0.0), (1039, 0.0), (1043, 0.0), (1044, 0.0), (1045, 0.0), (1047, 0.0), (1048, 0.0), (1050, 0.0), (1052, 0.0), (1054, 0.0), (1055, 0.0), (1057, 0.0), (1058, 0.0), (1059, 0.0), (1061, 0.0), (1063, 0.0), (1065, 0.0), (1066, 0.0), (1067, 0.0), (1068, 0.0), (1069, 0.0), (1070, 0.0), (1071, 0.0), (1072, 0.0), (1073, 0.0), (1076, 0.0), (1077, 0.0), (1078, 0.0), (1079, 0.0), (1080, 0.0), (1082, 0.0), (1084, 0.0), (1086, 0.0), (1087, 0.0), (1088, 0.0), (1089, 0.0), (1091, 0.0), (1092, 0.0), (1093, 0.0), (1094, 0.0), (1095, 0.0), (1096, 0.0), (1099, 0.0), (1100, 0.0), (1102, 0.0), (1103, 0.0), (1106, 0.0), (1107, 0.0), (1110, 0.0), (1112, 0.0), (1114, 0.0), (1115, 0.0), (1117, 0.0), (1118, 0.0), (1119, 0.0), (1120, 0.0), (1121, 0.0), (1123, 0.0), (1124, 0.0), (1125, 0.0), (1126, 0.0), (1127, 0.0), (1128, 0.0), (1130, 0.0), (1132, 0.0), (1135, 0.0), (1137, 0.0), (1139, 0.0), (1143, 0.0), (1146, 0.0), (1149, 0.0), (1151, 0.0), (1153, 0.0), (1154, 0.0), (1156, 0.0), (1157, 0.0), (1158, 0.0), (1161, 0.0), (1162, 0.0), (1164, 0.0), (1166, 0.0), (1167, 0.0), (1169, 0.0), (1170, 0.0), (1171, 0.0), (1173, 0.0), (1175, 0.0), (1176, 0.0), (1177, 0.0), (1179, 0.0), (1180, 0.0), (1183, 0.0), (1185, 0.0), (1187, 0.0), (1192, 0.0), (1196, 0.0), (1198, 0.0), (1199, 0.0), (1200, 0.0), (1201, 0.0), (1205, 0.0), (1206, 0.0), (1207, 0.0), (1210, 0.0), (1212, 0.0), (1216, 0.0), (1217, 0.0), (1218, 0.0), (1219, 0.0), (1220, 0.0), (1221, 0.0), (1222, 0.0), (1224, 0.0), (1225, 0.0), (1226, 0.0), (1229, 0.0), (1230, 0.0), (1232, 0.0), (1233, 0.0), (1234, 0.0), (1236, 0.0), (1237, 0.0), (1240, 0.0), (1242, 0.0), (1244, 0.0), (1246, 0.0), (1248, 0.0), (1250, 0.0), (1251, 0.0), (1253, 0.0), (1255, 0.0), (1257, 0.0), (1258, 0.0), (1259, 0.0), (1264, 0.0), (1265, 0.0), (1266, 0.0), (1268, 0.0), (1269, 0.0), (1270, 0.0), (1272, 0.0), (1274, 0.0), (1275, 0.0), (1276, 0.0), (1277, 0.0), (1278, 0.0), (1279, 0.0), (1280, 0.0), (1281, 0.0), (1282, 0.0), (1283, 0.0), (1286, 0.0), (1287, 0.0), (1292, 0.0), (1294, 0.0), (1296, 0.0), (1298, 0.0), (1299, 0.0), (1300, 0.0), (1302, 0.0), (1303, 0.0), (1304, 0.0), (1305, 0.0), (1307, 0.0), (1309, 0.0), (1310, 0.0), (1312, 0.0), (1316, 0.0), (1317, 0.0), (1318, 0.0), (1321, 0.0), (1322, 0.0), (1323, 0.0), (1324, 0.0), (1325, 0.0), (1326, 0.0), (1329, 0.0), (1330, 0.0), (1331, 0.0), (1332, 0.0), (1335, 0.0), (1338, 0.0), (1340, 0.0), (1341, 0.0), (1343, 0.0), (1344, 0.0), (1346, 0.0), (1349, 0.0), (1350, 0.0), (1352, 0.0), (1353, 0.0), (1354, 0.0), (1356, 0.0), (1357, 0.0), (1358, 0.0), (1360, 0.0), (1362, 0.0), (1363, 0.0), (1364, 0.0), (1365, 0.0), (1367, 0.0), (1368, 0.0), (1369, 0.0), (1372, 0.0), (1373, 0.0), (1374, 0.0), (1375, 0.0), (1376, 0.0), (1377, 0.0), (1379, 0.0), (1380, 0.0), (1382, 0.0), (1383, 0.0), (1384, 0.0), (1387, 0.0), (1390, 0.0), (1391, 0.0), (1392, 0.0), (1395, 0.0), (1396, 0.0), (1397, 0.0), (1398, 0.0), (1400, 0.0), (1402, 0.0), (1404, 0.0), (1406, 0.0), (1407, 0.0), (1408, 0.0), (1410, 0.0), (1411, 0.0), (1414, 0.0), (1415, 0.0), (1417, 0.0), (1418, 0.0), (1424, 0.0), (1425, 0.0), (1426, 0.0), (1430, 0.0), (1431, 0.0), (1432, 0.0), (1435, 0.0), (1436, 0.0), (1437, 0.0), (1438, 0.0), (1440, 0.0), (1441, 0.0), (1442, 0.0), (1443, 0.0), (1444, 0.0), (1445, 0.0), (1446, 0.0), (1447, 0.0), (1448, 0.0), (1451, 0.0), (1453, 0.0), (1454, 0.0), (1456, 0.0), (1457, 0.0), (1460, 0.0), (1464, 0.0), (1465, 0.0), (1466, 0.0), (1467, 0.0), (1468, 0.0), (1469, 0.0), (1471, 0.0), (1475, 0.0), (1476, 0.0), (1477, 0.0), (1478, 0.0), (1479, 0.0), (1480, 0.0), (1481, 0.0), (1482, 0.0), (1483, 0.0), (1484, 0.0), (1485, 0.0), (1486, 0.0), (1487, 0.0), (1490, 0.0), (1493, 0.0), (1494, 0.0), (1495, 0.0), (1496, 0.0), (1497, 0.0), (1498, 0.0), (1499, 0.0), (1500, 0.0), (1501, 0.0), (1502, 0.0), (1503, 0.0), (1506, 0.0), (1508, 0.0), (1509, 0.0), (1511, 0.0), (1513, 0.0), (1515, 0.0), (1516, 0.0), (1517, 0.0), (1518, 0.0), (1519, 0.0), (1520, 0.0), (1522, 0.0), (1523, 0.0), (1524, 0.0), (1525, 0.0), (1526, 0.0), (1527, 0.0), (1528, 0.0), (1529, 0.0), (1531, 0.0), (1532, 0.0), (1533, 0.0), (1535, 0.0), (1536, 0.0), (1537, 0.0), (1540, 0.0), (1544, 0.0), (1545, 0.0), (1548, 0.0), (1549, 0.0), (1551, 0.0), (1552, 0.0), (1556, 0.0), (1557, 0.0), (1558, 0.0), (1559, 0.0), (1560, 0.0), (1561, 0.0), (1562, 0.0), (1563, 0.0), (1564, 0.0), (1565, 0.0), (1566, 0.0), (1568, 0.0), (1570, 0.0), (1571, 0.0), (1573, 0.0), (1574, 0.0), (1576, 0.0), (1577, 0.0), (1579, 0.0), (1580, 0.0), (1581, 0.0), (1583, 0.0), (1585, 0.0), (1586, 0.0), (1588, 0.0), (1590, 0.0), (1592, 0.0), (1593, 0.0), (1595, 0.0), (1596, 0.0), (1597, 0.0), (1598, 0.0), (1599, 0.0), (1601, 0.0), (1606, 0.0), (1609, 0.0), (1610, 0.0), (1611, 0.0), (1612, 0.0), (1614, 0.0), (1615, 0.0), (1616, 0.0), (1618, 0.0), (1619, 0.0), (1620, 0.0), (1622, 0.0), (1625, 0.0), (1626, 0.0), (1628, 0.0), (1629, 0.0), (1630, 0.0), (1631, 0.0), (1632, 0.0), (1633, 0.0), (1635, 0.0), (1636, 0.0), (1637, 0.0), (1638, 0.0), (1639, 0.0), (1640, 0.0), (1641, 0.0), (1642, 0.0), (1643, 0.0), (1644, 0.0), (1648, 0.0), (1650, 0.0), (1651, 0.0), (1652, 0.0), (1653, 0.0), (1655, 0.0), (1656, 0.0), (1657, 0.0), (1659, 0.0), (1662, 0.0), (1664, 0.0), (1665, 0.0), (1669, 0.0), (1670, 0.0), (1671, 0.0), (1673, 0.0), (1674, 0.0), (1675, 0.0), (1676, 0.0), (1677, 0.0), (1679, 0.0), (1680, 0.0), (1682, 0.0), (1683, 0.0), (1684, 0.0), (1688, 0.0), (1690, 0.0), (1691, 0.0), (1692, 0.0), (1693, 0.0), (1694, 0.0), (1695, 0.0), (1696, 0.0), (1699, 0.0), (1700, 0.0), (1701, 0.0), (1703, 0.0), (1704, 0.0), (1705, 0.0), (1707, 0.0), (1708, 0.0), (1709, 0.0), (1712, 0.0), (1714, 0.0), (1716, 0.0), (1717, 0.0), (1718, 0.0), (1722, 0.0), (1724, 0.0), (1725, 0.0), (1726, 0.0), (1727, 0.0), (1728, 0.0), (1729, 0.0), (1730, 0.0), (1733, 0.0), (1734, 0.0), (1735, 0.0), (1736, 0.0), (1737, 0.0), (1738, 0.0), (1740, 0.0), (1741, 0.0), (1742, 0.0), (1745, 0.0), (1746, 0.0), (1747, 0.0), (1748, 0.0), (1749, 0.0), (1750, 0.0), (1751, 0.0), (1753, 0.0), (1754, 0.0), (1756, 0.0), (1757, 0.0), (1759, 0.0), (1762, 0.0), (1763, 0.0), (1764, 0.0), (1767, 0.0), (1768, 0.0), (1769, 0.0), (1771, 0.0), (1772, 0.0), (1773, 0.0), (1774, 0.0), (1775, 0.0), (1776, 0.0), (1777, 0.0), (1780, 0.0), (1781, 0.0), (1782, 0.0), (1784, 0.0), (1786, 0.0), (1787, 0.0), (1788, 0.0), (1789, 0.0), (1790, 0.0), (1794, 0.0), (1795, 0.0), (1797, 0.0), (1798, 0.0), (1799, 0.0), (1800, 0.0), (1802, 0.0), (1803, 0.0), (1804, 0.0), (1807, 0.0), (1808, 0.0), (1809, 0.0), (1812, 0.0), (1813, 0.0), (1814, 0.0), (1815, 0.0), (1816, 0.0), (1817, 0.0), (1818, 0.0), (1819, 0.0), (1820, 0.0), (1821, 0.0), (1822, 0.0), (1823, 0.0), (1825, 0.0), (1826, 0.0), (1827, 0.0), (1830, 0.0), (1831, 0.0), (1832, 0.0), (1833, 0.0), (1835, 0.0), (1836, 0.0), (1837, 0.0), (1838, 0.0), (1839, 0.0), (1842, 0.0), (1844, 0.0), (1845, 0.0), (1847, 0.0), (1849, 0.0), (1850, 0.0), (1853, 0.0), (1854, 0.0), (1856, 0.0), (1857, 0.0), (1858, 0.0), (1859, 0.0), (1860, 0.0), (1861, 0.0), (1862, 0.0), (1863, 0.0), (1864, 0.0), (1865, 0.0), (1867, 0.0), (1868, 0.0), (1869, 0.0), (1870, 0.0), (1871, 0.0), (1872, 0.0), (1874, 0.0), (1875, 0.0), (1876, 0.0), (1878, 0.0), (1879, 0.0), (1880, 0.0), (1881, 0.0), (1882, 0.0), (1883, 0.0), (1884, 0.0), (1885, 0.0), (1886, 0.0), (1887, 0.0), (1889, 0.0), (1890, 0.0), (1891, 0.0), (1892, 0.0), (1893, 0.0), (1894, 0.0), (1895, 0.0), (1896, 0.0), (1898, 0.0), (1899, 0.0), (1900, 0.0), (1901, 0.0), (1902, 0.0), (1903, 0.0), (1904, 0.0), (1905, 0.0), (1906, 0.0), (1908, 0.0), (1909, 0.0), (1910, 0.0), (1911, 0.0), (1912, 0.0), (1914, 0.0), (1915, 0.0), (1916, 0.0), (1917, 0.0), (1918, 0.0), (1920, 0.0), (1922, 0.0), (1923, 0.0), (1924, 0.0), (1926, 0.0), (1928, 0.0), (1930, 0.0), (1931, 0.0), (1932, 0.0), (1933, 0.0), (1935, 0.0), (1936, 0.0), (1937, 0.0), (1938, 0.0), (1940, 0.0), (1941, 0.0), (1942, 0.0), (1943, 0.0), (1944, 0.0), (1945, 0.0), (1947, 0.0), (1948, 0.0), (1949, 0.0), (1950, 0.0), (1951, 0.0), (1952, 0.0), (1953, 0.0), (1955, 0.0), (1957, 0.0), (1958, 0.0), (1960, 0.0), (1961, 0.0), (1962, 0.0), (1963, 0.0), (1964, 0.0), (1966, 0.0), (1967, 0.0), (1968, 0.0), (1969, 0.0), (1971, 0.0), (1973, 0.0), (1974, 0.0), (1975, 0.0), (1977, 0.0), (1979, 0.0), (1980, 0.0), (1982, 0.0), (1983, 0.0), (1985, 0.0), (1986, 0.0), (1987, 0.0), (1989, 0.0), (1990, 0.0), (1991, 0.0), (1993, 0.0), (1994, 0.0), (1995, 0.0), (1996, 0.0), (1997, 0.0), (1998, 0.0), (1999, 0.0), (2000, 0.0), (2001, 0.0), (2002, 0.0), (2003, 0.0), (2004, 0.0), (2005, 0.0), (2007, 0.0), (2008, 0.0), (2009, 0.0), (2011, 0.0), (2014, 0.0), (2015, 0.0), (2016, 0.0), (2018, 0.0), (2019, 0.0), (2020, 0.0), (2023, 0.0), (2024, 0.0), (2025, 0.0), (2026, 0.0), (2029, 0.0), (2030, 0.0), (2031, 0.0), (2034, 0.0), (2036, 0.0), (2037, 0.0), (2038, 0.0), (2041, 0.0), (2042, 0.0), (2043, 0.0), (2044, 0.0), (2046, 0.0), (2048, 0.0), (2049, 0.0), (2051, 0.0), (2052, 0.0), (2053, 0.0), (2054, 0.0), (2056, 0.0), (2058, 0.0), (2062, 0.0), (2065, 0.0), (2066, 0.0), (2070, 0.0), (2071, 0.0), (2072, 0.0), (2074, 0.0), (2078, 0.0), (2079, 0.0), (2080, 0.0), (2082, 0.0), (2083, 0.0), (2084, 0.0), (2085, 0.0), (2086, 0.0), (2087, 0.0), (2088, 0.0), (2089, 0.0), (2090, 0.0), (2093, 0.0), (2096, 0.0), (2098, 0.0), (2099, 0.0), (2100, 0.0), (2101, 0.0), (2104, 0.0), (2105, 0.0), (2106, 0.0), (2107, 0.0), (2108, 0.0), (2111, 0.0), (2112, 0.0), (2114, 0.0), (2115, 0.0), (2116, 0.0), (2117, 0.0), (2118, 0.0), (2119, 0.0), (2120, 0.0), (2121, 0.0), (2123, 0.0), (2125, 0.0), (2126, 0.0), (2128, 0.0), (2129, 0.0), (2130, 0.0), (2131, 0.0), (2132, 0.0), (2133, 0.0), (2135, 0.0), (2137, 0.0), (2139, 0.0), (2141, 0.0), (2142, 0.0), (2143, 0.0), (2144, 0.0), (2146, 0.0), (2147, 0.0), (2149, 0.0), (2150, 0.0), (2152, 0.0), (2153, 0.0), (2155, 0.0), (2157, 0.0), (2158, 0.0), (2160, 0.0), (2163, 0.0), (2168, 0.0), (2169, 0.0), (2170, 0.0), (2171, 0.0), (2172, 0.0), (2173, 0.0), (2175, 0.0), (2178, 0.0), (2179, 0.0), (2180, 0.0), (2181, 0.0), (2185, 0.0), (2186, 0.0), (2191, 0.0), (2192, 0.0), (2193, 0.0), (2194, 0.0), (2196, 0.0), (2201, 0.0), (2202, 0.0), (2203, 0.0), (2204, 0.0), (2205, 0.0), (2206, 0.0), (2207, 0.0), (2209, 0.0), (2210, 0.0), (2211, 0.0), (2212, 0.0), (2214, 0.0), (2215, 0.0), (2216, 0.0), (2219, 0.0), (2221, 0.0), (2222, 0.0), (2223, 0.0), (2224, 0.0), (2225, 0.0), (2227, 0.0), (2228, 0.0), (2230, 0.0), (2231, 0.0), (2233, 0.0), (2234, 0.0), (2235, 0.0), (2236, 0.0), (2238, 0.0), (2239, 0.0), (2240, 0.0), (2242, 0.0), (2244, 0.0), (2246, 0.0), (2247, 0.0), (2248, 0.0), (2249, 0.0), (2250, 0.0), (2251, 0.0), (2252, 0.0), (2253, 0.0), (2255, 0.0), (2256, 0.0), (2260, 0.0), (2261, 0.0), (2262, 0.0), (2265, 0.0), (2266, 0.0), (2267, 0.0), (2268, 0.0), (2271, 0.0), (2272, 0.0), (2273, 0.0), (2274, 0.0), (2276, 0.0), (2278, 0.0), (2279, 0.0), (2281, 0.0), (2284, 0.0), (2287, 0.0), (2289, 0.0), (2291, 0.0), (2292, 0.0), (2293, 0.0), (2295, 0.0), (2296, 0.0), (2297, 0.0), (2298, 0.0), (2301, 0.0), (2302, 0.0), (2306, 0.0), (2307, 0.0), (2308, 0.0), (2311, 0.0), (2312, 0.0), (2316, 0.0), (2317, 0.0), (2318, 0.0), (2319, 0.0), (2323, 0.0), (2325, 0.0), (2329, 0.0), (2332, 0.0), (2333, 0.0), (2335, 0.0), (2336, 0.0), (2337, 0.0), (2338, 0.0), (2339, 0.0), (2341, 0.0), (2343, 0.0), (2344, 0.0), (2346, 0.0), (2348, 0.0), (2349, 0.0), (2350, 0.0), (2351, 0.0), (2356, 0.0), (2357, 0.0), (2358, 0.0), (2360, 0.0), (2361, 0.0), (2362, 0.0), (2363, 0.0), (2365, 0.0), (2366, 0.0), (2367, 0.0), (2368, 0.0), (2369, 0.0), (2370, 0.0), (2373, 0.0), (2377, 0.0), (2378, 0.0), (2379, 0.0), (2380, 0.0), (2381, 0.0), (2382, 0.0), (2383, 0.0), (2384, 0.0), (2386, 0.0), (2388, 0.0), (2389, 0.0), (2391, 0.0), (2394, 0.0), (2397, 0.0), (2398, 0.0), (2400, 0.0), (2401, 0.0), (2402, 0.0), (2403, 0.0), (2404, 0.0), (2405, 0.0), (2406, 0.0), (2407, 0.0), (2408, 0.0), (2411, 0.0), (2412, 0.0), (2413, 0.0), (2414, 0.0), (2415, 0.0), (2416, 0.0), (2420, 0.0), (2421, 0.0), (2423, 0.0), (2425, 0.0), (2426, 0.0), (2427, 0.0), (2428, 0.0), (2429, 0.0), (2430, 0.0), (2431, 0.0), (2432, 0.0), (2433, 0.0), (2434, 0.0), (2435, 0.0), (2436, 0.0), (2437, 0.0), (2438, 0.0), (2439, 0.0), (2440, 0.0), (2441, 0.0), (2443, 0.0), (2444, 0.0), (2445, 0.0), (2446, 0.0), (2448, 0.0), (2452, 0.0), (2453, 0.0), (2454, 0.0), (2455, 0.0), (2456, 0.0), (2458, 0.0), (2459, 0.0), (2460, 0.0), (2461, 0.0), (2463, 0.0), (2464, 0.0), (2465, 0.0), (2469, 0.0), (2470, 0.0), (2471, 0.0), (2472, 0.0), (2474, 0.0), (2475, 0.0), (2476, 0.0), (2477, 0.0), (2478, 0.0), (2479, 0.0), (2480, 0.0), (2481, 0.0), (2482, 0.0), (2484, 0.0), (2485, 0.0), (2486, 0.0), (2487, 0.0), (2488, 0.0), (2489, 0.0), (2491, 0.0), (2492, 0.0), (2494, 0.0), (2495, 0.0), (2496, 0.0), (2497, 0.0), (2499, 0.0), (2500, 0.0), (2501, 0.0), (2502, 0.0), (2506, 0.0), (2508, 0.0), (2509, 0.0), (2510, 0.0), (2512, 0.0), (2514, 0.0), (2515, 0.0), (2516, 0.0), (2518, 0.0), (2519, 0.0), (2521, 0.0), (2522, 0.0), (2523, 0.0), (2524, 0.0), (2525, 0.0), (2526, 0.0), (2527, 0.0), (2528, 0.0), (2530, 0.0), (2531, 0.0), (2533, 0.0), (2534, 0.0), (2535, 0.0), (2536, 0.0), (2537, 0.0), (2538, 0.0), (2539, 0.0), (2540, 0.0), (2544, 0.0), (2545, 0.0), (2546, 0.0), (2547, 0.0), (2548, 0.0), (2549, 0.0), (2551, 0.0), (2552, 0.0), (2554, 0.0), (2557, 0.0), (2558, 0.0), (2559, 0.0), (2560, 0.0), (2561, 0.0), (2562, 0.0), (2563, 0.0), (2567, 0.0), (2568, 0.0), (2570, 0.0), (2571, 0.0), (2572, 0.0), (2576, 0.0), (2577, 0.0), (2580, 0.0), (2582, 0.0), (2583, 0.0), (2585, 0.0), (2586, 0.0), (2587, 0.0), (2588, 0.0), (2589, 0.0), (2590, 0.0), (2591, 0.0), (2592, 0.0), (2593, 0.0), (2594, 0.0), (2595, 0.0), (2596, 0.0), (2597, 0.0), (2599, 0.0), (2600, 0.0), (2604, 0.0), (2605, 0.0), (2606, 0.0), (2607, 0.0), (2610, 0.0), (2611, 0.0), (2612, 0.0), (2613, 0.0), (2614, 0.0), (2615, 0.0), (2616, 0.0), (2617, 0.0), (2619, 0.0), (2620, 0.0), (2622, 0.0), (2623, 0.0), (2624, 0.0), (2625, 0.0), (2626, 0.0), (2627, 0.0), (2628, 0.0), (2629, 0.0), (2630, 0.0), (2631, 0.0), (2633, 0.0), (2635, 0.0), (2636, 0.0), (2637, 0.0), (2639, 0.0), (2640, 0.0), (2641, 0.0), (2644, 0.0), (2646, 0.0), (2647, 0.0), (2649, 0.0), (2650, 0.0), (2652, 0.0), (2653, 0.0), (2654, 0.0), (2655, 0.0), (2656, 0.0), (2657, 0.0), (2660, 0.0), (2661, 0.0), (2663, 0.0), (2664, 0.0), (2665, 0.0), (2667, 0.0), (2669, 0.0), (2670, 0.0), (2671, 0.0), (2672, 0.0), (2677, 0.0), (2678, 0.0), (2679, 0.0), (2680, 0.0), (2681, 0.0), (2682, 0.0), (2684, 0.0), (2685, 0.0), (2686, 0.0), (2687, 0.0), (2688, 0.0), (2689, 0.0), (2691, 0.0), (2693, 0.0), (2694, 0.0), (2697, 0.0), (2698, 0.0), (2699, 0.0), (2700, 0.0), (2701, 0.0), (2702, 0.0), (2703, 0.0), (2705, 0.0), (2706, 0.0), (2707, 0.0), (2708, 0.0), (2709, 0.0), (2711, 0.0), (2714, 0.0), (2715, 0.0), (2716, 0.0), (2717, 0.0), (2718, 0.0), (2719, 0.0), (2721, 0.0), (2722, 0.0), (2724, 0.0), (2725, 0.0), (2726, 0.0), (2728, 0.0), (2729, 0.0), (2731, 0.0), (2733, 0.0), (2734, 0.0), (2736, 0.0), (2737, 0.0), (2738, 0.0), (2739, 0.0), (2740, 0.0), (2741, 0.0), (2743, 0.0), (2744, 0.0), (2745, 0.0), (2747, 0.0), (2748, 0.0), (2751, 0.0), (2753, 0.0), (2754, 0.0), (2757, 0.0), (2760, 0.0), (2761, 0.0), (2762, 0.0), (2763, 0.0), (2764, 0.0), (2765, 0.0), (2767, 0.0), (2768, 0.0), (2771, 0.0), (2772, 0.0), (2773, 0.0), (2775, 0.0), (2776, 0.0), (2777, 0.0), (2779, 0.0), (2780, 0.0), (2781, 0.0), (2783, 0.0), (2785, 0.0), (2787, 0.0), (2788, 0.0), (2790, 0.0), (2791, 0.0), (2792, 0.0), (2793, 0.0), (2794, 0.0), (2797, 0.0), (2799, 0.0), (2800, 0.0), (2801, 0.0), (2804, 0.0), (2805, 0.0), (2807, 0.0), (2808, 0.0), (2809, 0.0), (2810, 0.0), (2812, 0.0), (2813, 0.0), (2815, 0.0), (2816, 0.0), (2818, 0.0), (2820, 0.0), (2821, 0.0), (2822, 0.0), (2825, 0.0), (2826, 0.0), (2827, 0.0), (2829, 0.0), (2831, 0.0), (2832, 0.0), (2834, 0.0), (2836, 0.0), (2841, 0.0), (2843, 0.0), (2844, 0.0), (2845, 0.0), (2846, 0.0), (2848, 0.0), (2850, 0.0), (2851, 0.0), (2852, 0.0), (2856, 0.0), (2857, 0.0), (2860, 0.0), (2861, 0.0), (2863, 0.0), (2867, 0.0), (2870, 0.0), (2871, 0.0), (2872, 0.0), (2873, 0.0), (2874, 0.0), (2875, 0.0), (2882, 0.0), (2884, 0.0), (2885, 0.0), (2886, 0.0), (2888, 0.0), (2890, 0.0), (2892, 0.0), (2893, 0.0), (2894, 0.0), (2896, 0.0), (2897, 0.0), (2899, 0.0), (2900, 0.0), (2901, 0.0), (2902, 0.0), (2904, 0.0), (2905, 0.0), (2906, 0.0), (2907, 0.0), (2908, 0.0), (2909, 0.0), (2911, 0.0), (2913, 0.0), (2914, 0.0), (2915, 0.0), (2916, 0.0), (2917, 0.0), (2918, 0.0), (2919, 0.0), (2920, 0.0), (2921, 0.0), (2922, 0.0), (2923, 0.0), (2924, 0.0), (2925, 0.0), (2926, 0.0), (2927, 0.0), (2928, 0.0), (2929, 0.0), (2930, 0.0), (2931, 0.0), (2933, 0.0), (2935, 0.0), (2936, 0.0), (2937, 0.0), (2939, 0.0), (2941, 0.0), (2942, 0.0), (2947, 0.0), (2949, 0.0), (2950, 0.0), (2951, 0.0), (2952, 0.0), (2953, 0.0), (2954, 0.0), (2955, 0.0), (2957, 0.0), (2958, 0.0), (2962, 0.0), (2964, 0.0), (2965, 0.0), (2967, 0.0), (2968, 0.0), (2971, 0.0), (2974, 0.0), (2975, 0.0), (2977, 0.0), (2979, 0.0), (2980, 0.0), (2981, 0.0), (2982, 0.0), (2983, 0.0), (2984, 0.0), (2986, 0.0), (2987, 0.0), (2988, 0.0), (2989, 0.0), (2991, 0.0), (2992, 0.0), (2993, 0.0), (2995, 0.0), (2996, 0.0), (2997, 0.0), (2998, 0.0), (3000, 0.0), (3001, 0.0), (3002, 0.0), (3004, 0.0), (3005, 0.0), (3006, 0.0), (3007, 0.0), (3008, 0.0), (3010, 0.0), (3011, 0.0), (3012, 0.0), (3013, 0.0), (3014, 0.0), (3015, 0.0), (3018, 0.0), (3019, 0.0), (3020, 0.0), (3021, 0.0), (3022, 0.0), (3023, 0.0), (3024, 0.0), (3026, 0.0), (3027, 0.0), (3028, 0.0), (3030, 0.0), (3032, 0.0), (3033, 0.0), (3034, 0.0), (3036, 0.0), (3037, 0.0), (3038, 0.0), (3039, 0.0), (3040, 0.0), (3041, 0.0), (3042, 0.0), (3044, 0.0), (3045, 0.0), (3046, 0.0), (3047, 0.0), (3048, 0.0), (3049, 0.0), (3050, 0.0), (3052, 0.0), (3053, 0.0), (3054, 0.0), (3055, 0.0), (3056, 0.0), (3057, 0.0), (3058, 0.0), (3059, 0.0), (3060, 0.0), (3062, 0.0), (3063, 0.0), (3065, 0.0), (3066, 0.0), (3067, 0.0), (3075, 0.0), (3076, 0.0), (3079, 0.0), (3081, 0.0), (3082, 0.0), (3083, 0.0), (3084, 0.0), (3086, 0.0), (3087, 0.0), (3088, 0.0), (3090, 0.0), (3091, 0.0), (3092, 0.0), (3093, 0.0), (3094, 0.0), (3098, 0.0), (3099, 0.0), (3100, 0.0), (3101, 0.0), (3105, 0.0), (3107, 0.0), (3108, 0.0), (3109, 0.0), (3110, 0.0), (3111, 0.0), (3113, 0.0), (3114, 0.0), (3115, 0.0), (3116, 0.0), (3117, 0.0), (3118, 0.0), (3119, 0.0), (3121, 0.0), (3122, 0.0), (3123, 0.0), (3124, 0.0), (3125, 0.0), (3126, 0.0), (3127, 0.0), (3128, 0.0), (3131, 0.0), (3132, 0.0), (3133, 0.0), (3135, 0.0), (3136, 0.0), (3137, 0.0), (3138, 0.0), (3139, 0.0), (3141, 0.0), (3142, 0.0), (3143, 0.0), (3145, 0.0), (3146, 0.0), (3147, 0.0), (3148, 0.0), (3150, 0.0), (3152, 0.0), (3153, 0.0), (3154, 0.0), (3157, 0.0), (3160, 0.0), (3162, 0.0), (3164, 0.0), (3165, 0.0), (3166, 0.0), (3167, 0.0), (3168, 0.0), (3173, 0.0), (3174, 0.0), (3175, 0.0), (3178, 0.0), (3185, 0.0), (3186, 0.0), (3190, 0.0), (3191, 0.0), (3193, 0.0), (3194, 0.0), (3195, 0.0), (3196, 0.0), (3197, 0.0), (3200, 0.0), (3202, 0.0), (3203, 0.0), (3204, 0.0), (3206, 0.0), (3208, 0.0), (3209, 0.0), (3213, 0.0), (3214, 0.0), (3215, 0.0), (3217, 0.0), (3218, 0.0), (3222, 0.0), (3223, 0.0), (3224, 0.0), (3225, 0.0), (3226, 0.0), (3227, 0.0), (3229, 0.0), (3230, 0.0), (3231, 0.0), (3235, 0.0), (3236, 0.0), (3237, 0.0), (3238, 0.0), (3240, 0.0), (3241, 0.0), (3242, 0.0), (3243, 0.0), (3244, 0.0), (3246, 0.0), (3247, 0.0), (3248, 0.0), (3249, 0.0), (3251, 0.0), (3252, 0.0), (3253, 0.0), (3254, 0.0), (3255, 0.0), (3256, 0.0), (3259, 0.0), (3260, 0.0), (3261, 0.0), (3262, 0.0), (3263, 0.0), (3266, 0.0), (3268, 0.0), (3269, 0.0), (3270, 0.0), (3272, 0.0), (3273, 0.0), (3275, 0.0), (3276, 0.0), (3277, 0.0), (3279, 0.0), (3280, 0.0), (3281, 0.0), (3282, 0.0), (3283, 0.0), (3284, 0.0), (3285, 0.0), (3286, 0.0), (3287, 0.0), (3288, 0.0), (3291, 0.0), (3292, 0.0), (3294, 0.0), (3296, 0.0), (3297, 0.0), (3300, 0.0), (3301, 0.0), (3302, 0.0), (3303, 0.0), (3304, 0.0), (3305, 0.0), (3308, 0.0), (3310, 0.0), (3313, 0.0), (3314, 0.0), (3317, 0.0), (3318, 0.0), (3320, 0.0), (3321, 0.0), (3322, 0.0), (3323, 0.0), (3325, 0.0), (3326, 0.0), (3329, 0.0), (3330, 0.0), (3331, 0.0), (3333, 0.0), (3335, 0.0), (3337, 0.0), (3342, 0.0), (3343, 0.0), (3344, 0.0), (3347, 0.0), (3348, 0.0), (3350, 0.0), (3351, 0.0), (3352, 0.0), (3354, 0.0), (3355, 0.0), (3356, 0.0), (3358, 0.0), (3359, 0.0), (3360, 0.0), (3361, 0.0), (3362, 0.0), (3364, 0.0), (3365, 0.0), (3366, 0.0), (3367, 0.0), (3369, 0.0), (3371, 0.0), (3373, 0.0), (3374, 0.0), (3375, 0.0), (3376, 0.0), (3378, 0.0), (3379, 0.0), (3380, 0.0), (3381, 0.0), (3382, 0.0), (3383, 0.0), (3385, 0.0), (3386, 0.0), (3387, 0.0), (3388, 0.0), (3389, 0.0), (3390, 0.0), (3391, 0.0), (3392, 0.0), (3393, 0.0), (3394, 0.0), (3395, 0.0), (3397, 0.0), (3398, 0.0), (3399, 0.0), (3400, 0.0), (3401, 0.0), (3402, 0.0), (3403, 0.0), (3406, 0.0), (3408, 0.0), (3409, 0.0), (3410, 0.0), (3411, 0.0), (3412, 0.0), (3413, 0.0), (3414, 0.0), (3415, 0.0), (3416, 0.0), (3417, 0.0), (3418, 0.0), (3420, 0.0), (3421, 0.0), (3422, 0.0), (3423, 0.0), (3424, 0.0), (3426, 0.0), (3427, 0.0), (3428, 0.0), (3429, 0.0), (3430, 0.0), (3432, 0.0), (3434, 0.0), (3435, 0.0), (3436, 0.0), (3437, 0.0), (3439, 0.0), (3440, 0.0), (3442, 0.0), (3445, 0.0), (3446, 0.0), (3448, 0.0), (3449, 0.0), (3450, 0.0), (3452, 0.0), (3454, 0.0), (3456, 0.0), (3457, 0.0), (3459, 0.0), (3460, 0.0), (3461, 0.0), (3462, 0.0), (3463, 0.0), (3465, 0.0), (3466, 0.0), (3467, 0.0), (3468, 0.0), (3470, 0.0), (3471, 0.0), (3472, 0.0), (3473, 0.0), (3474, 0.0), (3475, 0.0), (3476, 0.0), (3477, 0.0), (3478, 0.0), (3479, 0.0), (3480, 0.0), (3482, 0.0), (3483, 0.0), (3486, 0.0), (3487, 0.0), (3489, 0.0), (3490, 0.0), (3493, 0.0), (3494, 0.0), (3495, 0.0), (3496, 0.0), (3497, 0.0), (3500, 0.0), (3503, 0.0), (3504, 0.0), (3505, 0.0), (3506, 0.0), (3508, 0.0), (3510, 0.0), (3511, 0.0), (3513, 0.0), (3514, 0.0), (3516, 0.0), (3517, 0.0), (3520, 0.0), (3523, 0.0), (3525, 0.0), (3526, 0.0), (3527, 0.0), (3529, 0.0), (3530, 0.0), (3531, 0.0), (3533, 0.0), (3534, 0.0), (3535, 0.0), (3536, 0.0), (3537, 0.0), (3541, 0.0), (3544, 0.0), (3545, 0.0), (3546, 0.0), (3548, 0.0), (3549, 0.0), (3551, 0.0), (3552, 0.0), (3553, 0.0), (3555, 0.0), (3556, 0.0), (3557, 0.0), (3558, 0.0), (3559, 0.0), (3560, 0.0), (3561, 0.0), (3562, 0.0), (3563, 0.0), (3564, 0.0), (3565, 0.0), (3566, 0.0), (3567, 0.0), (3569, 0.0), (3571, 0.0), (3572, 0.0), (3573, 0.0), (3575, 0.0), (3576, 0.0), (3577, 0.0), (3578, 0.0), (3579, 0.0), (3581, 0.0), (3584, 0.0), (3585, 0.0), (3587, 0.0), (3588, 0.0), (3589, 0.0), (3593, 0.0), (3594, 0.0), (3596, 0.0), (3598, 0.0), (3599, 0.0), (3600, 0.0), (3601, 0.0), (3602, 0.0), (3603, 0.0), (3604, 0.0), (3608, 0.0), (3609, 0.0), (3610, 0.0), (3611, 0.0), (3613, 0.0), (3615, 0.0), (3616, 0.0), (3617, 0.0), (3618, 0.0), (3619, 0.0), (3620, 0.0), (3623, 0.0), (3624, 0.0), (3627, 0.0), (3628, 0.0), (3629, 0.0), (3630, 0.0), (3631, 0.0), (3632, 0.0), (3633, 0.0), (3634, 0.0), (3637, 0.0), (3638, 0.0), (3639, 0.0), (3641, 0.0), (3642, 0.0), (3645, 0.0), (3646, 0.0), (3647, 0.0), (3648, 0.0), (3649, 0.0), (3650, 0.0), (3651, 0.0), (3652, 0.0), (3653, 0.0), (3654, 0.0), (3655, 0.0), (3656, 0.0), (3657, 0.0), (3658, 0.0), (3660, 0.0), (3661, 0.0), (3663, 0.0), (3665, 0.0), (3666, 0.0), (3667, 0.0), (3668, 0.0), (3669, 0.0), (3670, 0.0), (3671, 0.0), (3674, 0.0), (3675, 0.0), (3676, 0.0), (3677, 0.0), (3678, 0.0), (3680, 0.0), (3681, 0.0), (3682, 0.0), (3683, 0.0), (3685, 0.0), (3686, 0.0), (3687, 0.0), (3688, 0.0), (3690, 0.0), (3691, 0.0), (3692, 0.0), (3693, 0.0), (3694, 0.0), (3695, 0.0), (3697, 0.0), (3698, 0.0), (3701, 0.0), (3702, 0.0), (3704, 0.0), (3708, 0.0), (3709, 0.0), (3715, 0.0), (3716, 0.0), (3718, 0.0), (3720, 0.0), (3722, 0.0), (3724, 0.0), (3725, 0.0), (3727, 0.0), (3730, 0.0), (3731, 0.0), (3732, 0.0), (3733, 0.0), (3734, 0.0), (3735, 0.0), (3737, 0.0), (3738, 0.0), (3739, 0.0), (3740, 0.0), (3741, 0.0), (3743, 0.0), (3744, 0.0), (3745, 0.0), (3746, 0.0), (3747, 0.0), (3749, 0.0), (3750, 0.0), (3751, 0.0), (3752, 0.0), (3753, 0.0), (3754, 0.0), (3755, 0.0), (3757, 0.0), (3758, 0.0), (3759, 0.0), (3762, 0.0), (3763, 0.0), (3764, 0.0), (3765, 0.0), (3768, 0.0), (3769, 0.0), (3771, 0.0), (3772, 0.0), (3773, 0.0), (3774, 0.0), (3775, 0.0), (3777, 0.0), (3779, 0.0), (3780, 0.0), (3783, 0.0), (3786, 0.0), (3787, 0.0), (3789, 0.0), (3790, 0.0), (3792, 0.0), (3794, 0.0), (3797, 0.0), (3798, 0.0), (3799, 0.0), (3801, 0.0), (3803, 0.0), (3804, 0.0), (3806, 0.0), (3809, 0.0), (3810, 0.0), (3812, 0.0), (3813, 0.0), (3817, 0.0), (3818, 0.0), (3822, 0.0), (3823, 0.0), (3824, 0.0), (3825, 0.0), (3826, 0.0), (3828, 0.0), (3829, 0.0), (3831, 0.0), (3832, 0.0), (3833, 0.0), (3836, 0.0), (3837, 0.0), (3838, 0.0), (3840, 0.0), (3842, 0.0), (3844, 0.0), (3845, 0.0), (3846, 0.0), (3849, 0.0), (3850, 0.0), (3852, 0.0), (3853, 0.0), (3855, 0.0), (3856, 0.0), (3859, 0.0), (3860, 0.0), (3861, 0.0), (3862, 0.0), (3866, 0.0), (3867, 0.0), (3869, 0.0), (3870, 0.0), (3871, 0.0), (3872, 0.0), (3873, 0.0), (3874, 0.0), (3875, 0.0), (3877, 0.0), (3879, 0.0), (3881, 0.0), (3882, 0.0), (3883, 0.0), (3884, 0.0), (3885, 0.0), (3886, 0.0), (3887, 0.0), (3888, 0.0), (3889, 0.0), (3890, 0.0), (3893, 0.0), (3894, 0.0), (3895, 0.0), (3897, 0.0), (3898, 0.0), (3899, 0.0), (3901, 0.0), (3903, 0.0), (3904, 0.0), (3907, 0.0), (3908, 0.0), (3911, 0.0), (3913, 0.0), (3914, 0.0), (3915, 0.0), (3916, 0.0), (3917, 0.0), (3918, 0.0), (3920, 0.0), (3921, 0.0), (3922, 0.0), (3923, 0.0), (3924, 0.0), (3925, 0.0), (3927, 0.0), (3928, 0.0), (3929, 0.0), (3930, 0.0), (3931, 0.0), (3933, 0.0), (3934, 0.0), (3936, 0.0), (3937, 0.0), (3938, 0.0), (3939, 0.0), (3940, 0.0), (3941, 0.0), (3942, 0.0), (3943, 0.0), (3945, 0.0), (3946, 0.0), (3947, 0.0), (3948, 0.0), (3949, 0.0), (3950, 0.0), (3951, 0.0), (3952, 0.0), (3953, 0.0), (3956, 0.0), (3957, 0.0), (3958, 0.0), (3961, 0.0), (3963, 0.0), (3964, 0.0), (3965, 0.0), (3966, 0.0), (3967, 0.0), (3969, 0.0), (3970, 0.0), (3971, 0.0), (3973, 0.0), (3975, 0.0), (3976, 0.0), (3977, 0.0), (3979, 0.0), (3980, 0.0), (3982, 0.0), (3983, 0.0), (3985, 0.0), (3987, 0.0), (3989, 0.0), (3990, 0.0), (3991, 0.0), (3992, 0.0), (3993, 0.0), (3995, 0.0), (3996, 0.0), (3997, 0.0), (3998, 0.0), (3999, 0.0), (4002, 0.0), (4005, 0.0), (4006, 0.0), (4011, 0.0), (4012, 0.0), (4013, 0.0), (4014, 0.0), (4015, 0.0), (4017, 0.0), (4018, 0.0), (4019, 0.0), (4020, 0.0), (4022, 0.0), (4024, 0.0), (4025, 0.0), (4026, 0.0), (4027, 0.0), (4028, 0.0), (4029, 0.0), (4030, 0.0), (4032, 0.0), (4033, 0.0), (4034, 0.0), (4035, 0.0), (4036, 0.0), (4037, 0.0), (4038, 0.0), (4041, 0.0), (4043, 0.0), (4044, 0.0), (4047, 0.0), (4048, 0.0), (4050, 0.0), (4052, 0.0), (4054, 0.0), (4055, 0.0), (4056, 0.0), (4057, 0.0), (4059, 0.0), (4060, 0.0), (4062, 0.0), (4063, 0.0), (4065, 0.0), (4067, 0.0), (4070, 0.0), (4071, 0.0), (4073, 0.0), (4074, 0.0), (4075, 0.0), (4078, 0.0), (4079, 0.0), (4081, 0.0), (4082, 0.0), (4083, 0.0), (4084, 0.0), (4085, 0.0), (4086, 0.0), (4087, 0.0), (4088, 0.0), (4089, 0.0), (4092, 0.0), (4093, 0.0), (4095, 0.0), (4099, 0.0), (4100, 0.0), (4101, 0.0), (4102, 0.0), (4105, 0.0), (4111, 0.0), (4113, 0.0), (4114, 0.0), (4115, 0.0), (4118, 0.0), (4119, 0.0), (4120, 0.0), (4122, 0.0), (4123, 0.0), (4124, 0.0), (4125, 0.0), (4127, 0.0), (4128, 0.0), (4129, 0.0), (4130, 0.0), (4132, 0.0), (4133, 0.0), (4134, 0.0), (4135, 0.0), (4137, 0.0), (4138, 0.0), (4139, 0.0), (4141, 0.0), (4142, 0.0), (4144, 0.0), (4145, 0.0), (4146, 0.0), (4148, 0.0), (4149, 0.0), (4150, 0.0), (4151, 0.0), (4154, 0.0), (4155, 0.0), (4156, 0.0), (4159, 0.0), (4162, 0.0), (4164, 0.0), (4167, 0.0), (4168, 0.0), (4170, 0.0), (4172, 0.0), (4173, 0.0), (4174, 0.0), (4177, 0.0), (4178, 0.0), (4179, 0.0), (4180, 0.0), (4181, 0.0), (4184, 0.0), (4185, 0.0), (4186, 0.0), (4187, 0.0), (4190, 0.0), (4191, 0.0), (4192, 0.0), (4193, 0.0), (4195, 0.0), (4197, 0.0), (4198, 0.0), (4200, 0.0), (4201, 0.0), (4202, 0.0), (4203, 0.0), (4204, 0.0), (4206, 0.0), (4207, 0.0), (4209, 0.0), (4210, 0.0), (4212, 0.0), (4213, 0.0), (4214, 0.0), (4215, 0.0), (4216, 0.0), (4220, 0.0), (4221, 0.0), (4222, 0.0), (4223, 0.0), (4225, 0.0), (4227, 0.0), (4228, 0.0), (4230, 0.0), (4231, 0.0), (4232, 0.0), (4236, 0.0), (4237, 0.0), (4239, 0.0), (4240, 0.0), (4242, 0.0), (4243, 0.0), (4244, 0.0), (4245, 0.0), (4247, 0.0), (4248, 0.0), (4251, 0.0), (4254, 0.0), (4257, 0.0), (4258, 0.0), (4262, 0.0), (4264, 0.0), (4265, 0.0), (4266, 0.0), (4267, 0.0), (4269, 0.0), (4272, 0.0), (4273, 0.0), (4274, 0.0), (4275, 0.0), (4277, 0.0), (4278, 0.0), (4279, 0.0), (4280, 0.0), (4281, 0.0), (4282, 0.0), (4284, 0.0), (4286, 0.0), (4287, 0.0), (4288, 0.0), (4289, 0.0), (4291, 0.0), (4292, 0.0), (4293, 0.0), (4295, 0.0), (4296, 0.0), (4297, 0.0), (4298, 0.0), (4299, 0.0), (4300, 0.0), (4301, 0.0), (4302, 0.0), (4303, 0.0), (4307, 0.0), (4308, 0.0), (4309, 0.0), (4311, 0.0), (4316, 0.0), (4319, 0.0), (4320, 0.0), (4321, 0.0), (4322, 0.0), (4324, 0.0), (4326, 0.0), (4328, 0.0), (4329, 0.0), (4330, 0.0), (4336, 0.0), (4338, 0.0), (4340, 0.0), (4341, 0.0), (4344, 0.0), (4345, 0.0), (4346, 0.0), (4349, 0.0), (4352, 0.0), (4353, 0.0), (4356, 0.0), (4357, 0.0), (4360, 0.0), (4363, 0.0), (4364, 0.0), (4367, 0.0), (4370, 0.0), (4373, 0.0), (4374, 0.0), (4375, 0.0), (4376, 0.0), (4378, 0.0), (4380, 0.0), (4381, 0.0), (4382, 0.0), (4383, 0.0), (4386, 0.0), (4387, 0.0), (4388, 0.0), (4389, 0.0), (4390, 0.0), (4392, 0.0), (4393, 0.0), (4395, 0.0), (4397, 0.0), (4399, 0.0), (4400, 0.0), (4402, 0.0), (4404, 0.0), (4405, 0.0), (4406, 0.0), (4408, 0.0), (4410, 0.0), (4412, 0.0), (4416, 0.0), (4419, 0.0), (4424, 0.0), (4425, 0.0), (4426, 0.0), (4427, 0.0), (4429, 0.0), (4430, 0.0), (4431, 0.0), (4433, 0.0), (4434, 0.0), (4436, 0.0), (4437, 0.0), (4438, 0.0), (4439, 0.0), (4443, 0.0), (4444, 0.0), (4445, 0.0), (4446, 0.0), (4447, 0.0), (4450, 0.0), (4451, 0.0), (4452, 0.0), (4453, 0.0), (4454, 0.0), (4456, 0.0), (4457, 0.0), (4459, 0.0), (4460, 0.0), (4462, 0.0), (4463, 0.0), (4466, 0.0), (4467, 0.0), (4470, 0.0), (4472, 0.0), (4475, 0.0), (4477, 0.0), (4478, 0.0), (4480, 0.0), (4481, 0.0), (4482, 0.0), (4483, 0.0), (4484, 0.0), (4485, 0.0), (4486, 0.0), (4487, 0.0), (4489, 0.0), (4492, 0.0), (4495, 0.0), (4496, 0.0), (4497, 0.0), (4498, 0.0), (4501, 0.0), (4502, 0.0), (4504, 0.0), (4506, 0.0), (4509, 0.0), (4510, 0.0), (4511, 0.0), (4512, 0.0), (4513, 0.0), (4514, 0.0), (4515, 0.0), (4516, 0.0), (4517, 0.0), (4518, 0.0), (4519, 0.0), (4520, 0.0), (4521, 0.0), (4523, 0.0), (4524, 0.0), (4525, 0.0), (4528, 0.0), (4529, 0.0), (4530, 0.0), (4531, 0.0), (4532, 0.0), (4533, 0.0), (4534, 0.0), (4535, 0.0), (4536, 0.0), (4537, 0.0), (4538, 0.0), (4540, 0.0), (4541, 0.0), (4542, 0.0), (4543, 0.0), (4544, 0.0), (4546, 0.0), (4547, 0.0), (4548, 0.0), (4549, 0.0), (4550, 0.0), (4551, 0.0), (4552, 0.0), (4555, 0.0), (4556, 0.0), (4557, 0.0), (4558, 0.0), (4560, 0.0), (4563, 0.0), (4564, 0.0), (4565, 0.0), (4566, 0.0), (4568, 0.0), (4569, 0.0), (4570, 0.0), (4571, 0.0), (4572, 0.0), (4573, 0.0), (4574, 0.0), (4577, 0.0), (4579, 0.0), (4580, 0.0), (4581, 0.0), (4582, 0.0), (4584, 0.0), (4585, 0.0), (4586, 0.0), (4587, 0.0), (4588, 0.0), (4589, 0.0), (4590, 0.0), (4592, 0.0), (4593, 0.0), (4594, 0.0), (4595, 0.0), (4596, 0.0), (4597, 0.0), (4600, 0.0), (4601, 0.0), (4602, 0.0), (4603, 0.0), (4605, 0.0), (4606, 0.0), (4609, 0.0), (4610, 0.0), (4612, 0.0), (4613, 0.0), (4614, 0.0), (4617, 0.0), (4619, 0.0), (4621, 0.0), (4622, 0.0), (4623, 0.0), (4629, 0.0), (4630, 0.0), (4631, 0.0), (4632, 0.0), (4635, 0.0), (4636, 0.0), (4637, 0.0), (4639, 0.0), (4640, 0.0), (4641, 0.0), (4642, 0.0), (4644, 0.0), (4645, 0.0), (4646, 0.0), (4647, 0.0), (4648, 0.0), (4649, 0.0), (4650, 0.0), (4651, 0.0), (4653, 0.0), (4654, 0.0), (4657, 0.0), (4658, 0.0), (4660, 0.0), (4661, 0.0), (4663, 0.0), (4665, 0.0), (4667, 0.0), (4669, 0.0), (4670, 0.0), (4673, 0.0), (4674, 0.0), (4675, 0.0), (4676, 0.0), (4678, 0.0), (4682, 0.0), (4683, 0.0), (4685, 0.0), (4686, 0.0), (4687, 0.0), (4688, 0.0), (4690, 0.0), (4691, 0.0), (4692, 0.0), (4693, 0.0), (4694, 0.0), (4696, 0.0), (4697, 0.0), (4698, 0.0), (4699, 0.0), (4700, 0.0), (4701, 0.0), (4702, 0.0), (4703, 0.0), (4704, 0.0), (4705, 0.0), (4706, 0.0), (4707, 0.0), (4709, 0.0), (4710, 0.0), (4711, 0.0), (4712, 0.0), (4713, 0.0), (4714, 0.0), (4716, 0.0), (4717, 0.0), (4724, 0.0), (4727, 0.0), (4728, 0.0), (4729, 0.0), (4731, 0.0), (4733, 0.0), (4734, 0.0), (4735, 0.0), (4736, 0.0), (4738, 0.0), (4739, 0.0), (4741, 0.0), (4742, 0.0), (4743, 0.0), (4744, 0.0), (4745, 0.0), (4747, 0.0), (4748, 0.0), (4749, 0.0), (4750, 0.0), (4751, 0.0), (4753, 0.0), (4754, 0.0), (4755, 0.0), (4758, 0.0), (4760, 0.0), (4762, 0.0), (4765, 0.0), (4766, 0.0), (4767, 0.0), (4768, 0.0), (4770, 0.0), (4771, 0.0), (4772, 0.0), (4773, 0.0), (4775, 0.0), (4779, 0.0), (4781, 0.0), (4782, 0.0), (4783, 0.0), (4784, 0.0), (4786, 0.0), (4787, 0.0), (4788, 0.0), (4789, 0.0), (4790, 0.0), (4791, 0.0), (4792, 0.0), (4794, 0.0), (4795, 0.0), (4797, 0.0), (4799, 0.0), (4800, 0.0), (4802, 0.0), (4803, 0.0), (4806, 0.0), (4807, 0.0), (4808, 0.0), (4811, 0.0), (4813, 0.0), (4814, 0.0), (4816, 0.0), (4817, 0.0), (4818, 0.0), (4819, 0.0), (4820, 0.0), (4824, 0.0), (4827, 0.0), (4828, 0.0), (4829, 0.0), (4830, 0.0), (4831, 0.0), (4832, 0.0), (4834, 0.0), (4836, 0.0), (4838, 0.0), (4841, 0.0), (4842, 0.0), (4844, 0.0), (4846, 0.0), (4847, 0.0), (4848, 0.0), (4849, 0.0), (4850, 0.0), (4851, 0.0), (4852, 0.0), (4853, 0.0), (4856, 0.0), (4857, 0.0), (4858, 0.0), (4859, 0.0), (4860, 0.0), (4861, 0.0), (4862, 0.0), (4865, 0.0), (4866, 0.0), (4867, 0.0), (4868, 0.0), (4869, 0.0), (4870, 0.0), (4871, 0.0), (4872, 0.0), (4873, 0.0), (4874, 0.0), (4875, 0.0), (4876, 0.0), (4877, 0.0), (4878, 0.0), (4879, 0.0), (4880, 0.0), (4881, 0.0), (4882, 0.0), (4884, 0.0), (4887, 0.0), (4888, 0.0), (4890, 0.0), (4891, 0.0), (4892, 0.0), (4894, 0.0), (4895, 0.0), (4896, 0.0), (4897, 0.0), (4898, 0.0), (4899, 0.0), (4900, 0.0), (4901, 0.0), (4902, 0.0), (4903, 0.0), (4904, 0.0), (4905, 0.0), (4907, 0.0), (4908, 0.0), (4910, 0.0), (4911, 0.0), (4912, 0.0), (4914, 0.0), (4915, 0.0), (4916, 0.0), (4918, 0.0), (4920, 0.0), (4921, 0.0), (4922, 0.0), (4925, 0.0), (4926, 0.0), (4928, 0.0), (4930, 0.0), (4932, 0.0), (4933, 0.0), (4934, 0.0), (4935, 0.0), (4936, 0.0), (4937, 0.0), (4939, 0.0), (4940, 0.0), (4941, 0.0), (4942, 0.0), (4943, 0.0), (4944, 0.0), (4947, 0.0), (4948, 0.0), (4950, 0.0), (4952, 0.0), (4954, 0.0), (4957, 0.0), (4958, 0.0), (4959, 0.0), (4960, 0.0), (4961, 0.0), (4962, 0.0), (4963, 0.0), (4965, 0.0), (4966, 0.0), (4967, 0.0), (4968, 0.0), (4970, 0.0), (4971, 0.0), (4972, 0.0), (4973, 0.0), (4976, 0.0), (4977, 0.0), (4980, 0.0), (4981, 0.0), (4982, 0.0), (4983, 0.0), (4984, 0.0), (4985, 0.0), (4987, 0.0), (4988, 0.0), (4989, 0.0), (4990, 0.0), (4992, 0.0), (4993, 0.0), (4994, 0.0), (4995, 0.0), (4996, 0.0), (4997, 0.0), (4998, 0.0), (4999, 0.0), (5001, 0.0), (5002, 0.0), (5003, 0.0), (5005, 0.0), (5006, 0.0), (5007, 0.0), (5008, 0.0), (5010, 0.0), (5012, 0.0), (5014, 0.0), (5015, 0.0), (5016, 0.0), (5017, 0.0), (5019, 0.0), (5020, 0.0), (5022, 0.0), (5023, 0.0), (5024, 0.0), (5026, 0.0), (5029, 0.0), (5031, 0.0), (5032, 0.0), (5034, 0.0), (5035, 0.0), (5036, 0.0), (5039, 0.0), (5040, 0.0), (5041, 0.0), (5042, 0.0), (5043, 0.0), (5044, 0.0), (5046, 0.0), (5047, 0.0), (5050, 0.0), (5052, 0.0), (5053, 0.0), (5054, 0.0), (5056, 0.0), (5058, 0.0), (5059, 0.0), (5060, 0.0), (5061, 0.0), (5066, 0.0), (5067, 0.0), (5068, 0.0), (5069, 0.0), (5070, 0.0), (5071, 0.0), (5074, 0.0), (5075, 0.0), (5079, 0.0), (5080, 0.0), (5081, 0.0), (5083, 0.0), (5084, 0.0), (5086, 0.0), (5087, 0.0), (5089, 0.0), (5091, 0.0), (5094, 0.0), (5096, 0.0), (5099, 0.0), (5102, 0.0), (5104, 0.0), (5106, 0.0), (5107, 0.0), (5108, 0.0), (5109, 0.0), (5111, 0.0), (5113, 0.0), (5115, 0.0), (5116, 0.0), (5117, 0.0), (5118, 0.0), (5119, 0.0), (5120, 0.0), (5121, 0.0), (5122, 0.0), (5123, 0.0), (5128, 0.0), (5129, 0.0), (5133, 0.0), (5134, 0.0), (5135, 0.0), (5137, 0.0), (5139, 0.0), (5140, 0.0), (5141, 0.0), (5143, 0.0), (5144, 0.0), (5145, 0.0), (5146, 0.0), (5147, 0.0), (5149, 0.0), (5150, 0.0), (5151, 0.0), (5152, 0.0), (5153, 0.0), (5154, 0.0), (5156, 0.0), (5157, 0.0), (5159, 0.0), (5161, 0.0), (5162, 0.0), (5163, 0.0), (5165, 0.0), (5166, 0.0), (5167, 0.0), (5169, 0.0), (5170, 0.0), (5173, 0.0), (5174, 0.0), (5175, 0.0), (5176, 0.0), (5177, 0.0), (5178, 0.0), (5179, 0.0), (5180, 0.0), (5181, 0.0), (5183, 0.0), (5184, 0.0), (5185, 0.0), (5186, 0.0), (5187, 0.0), (5188, 0.0), (5189, 0.0), (5190, 0.0), (5191, 0.0), (5193, 0.0), (5194, 0.0), (5195, 0.0), (5196, 0.0), (5197, 0.0), (5198, 0.0), (5200, 0.0), (5201, 0.0), (5204, 0.0), (5206, 0.0), (5207, 0.0), (5208, 0.0), (5209, 0.0), (5210, 0.0), (5211, 0.0), (5212, 0.0), (5214, 0.0), (5217, 0.0), (5219, 0.0), (5220, 0.0), (5221, 0.0), (5223, 0.0), (5224, 0.0), (5226, 0.0), (5227, 0.0), (5230, 0.0), (5232, 0.0), (5237, 0.0), (5240, 0.0), (5241, 0.0), (5242, 0.0), (5243, 0.0), (5244, 0.0), (5245, 0.0), (5247, 0.0), (5249, 0.0), (5251, 0.0), (5253, 0.0), (5257, 0.0), (5258, 0.0), (5259, 0.0), (5260, 0.0), (5261, 0.0), (5262, 0.0), (5263, 0.0), (5264, 0.0), (5265, 0.0), (5266, 0.0), (5267, 0.0), (5268, 0.0), (5269, 0.0), (5270, 0.0), (5273, 0.0), (5275, 0.0), (5278, 0.0), (5280, 0.0), (5281, 0.0), (5282, 0.0), (5284, 0.0), (5285, 0.0), (5286, 0.0), (5291, 0.0), (5295, 0.0), (5297, 0.0), (5298, 0.0), (5299, 0.0), (5300, 0.0), (5301, 0.0), (5302, 0.0), (5303, 0.0), (5304, 0.0), (5306, 0.0), (5308, 0.0), (5309, 0.0), (5311, 0.0), (5312, 0.0), (5313, 0.0), (5314, 0.0), (5315, 0.0), (5316, 0.0), (5319, 0.0), (5320, 0.0), (5321, 0.0), (5322, 0.0), (5323, 0.0), (5325, 0.0), (5327, 0.0), (5329, 0.0), (5330, 0.0), (5331, 0.0), (5332, 0.0), (5333, 0.0), (5334, 0.0), (5335, 0.0), (5336, 0.0), (5337, 0.0), (5338, 0.0), (5339, 0.0), (5340, 0.0), (5342, 0.0), (5343, 0.0), (5345, 0.0), (5348, 0.0), (5349, 0.0), (5350, 0.0), (5351, 0.0), (5353, 0.0), (5354, 0.0), (5355, 0.0), (5358, 0.0), (5361, 0.0), (5363, 0.0), (5365, 0.0), (5366, 0.0), (5367, 0.0), (5368, 0.0), (5369, 0.0), (5371, 0.0), (5372, 0.0), (5374, 0.0), (5375, 0.0), (5378, 0.0), (5379, 0.0), (5380, 0.0), (5383, 0.0), (5386, 0.0), (5389, 0.0), (5390, 0.0), (5391, 0.0), (5393, 0.0), (5394, 0.0), (5395, 0.0), (5396, 0.0), (5397, 0.0), (5400, 0.0), (5401, 0.0), (5402, 0.0), (5404, 0.0), (5405, 0.0), (5406, 0.0), (5408, 0.0), (5409, 0.0), (5413, 0.0), (5416, 0.0), (5417, 0.0), (5418, 0.0), (5419, 0.0), (5420, 0.0), (5421, 0.0), (5423, 0.0), (5424, 0.0), (5426, 0.0), (5427, 0.0), (5432, 0.0), (5434, 0.0), (5436, 0.0), (5437, 0.0), (5438, 0.0), (5441, 0.0), (5442, 0.0), (5443, 0.0), (5444, 0.0), (5445, 0.0), (5446, 0.0), (5448, 0.0), (5450, 0.0), (5451, 0.0), (5452, 0.0), (5454, 0.0), (5456, 0.0), (5457, 0.0), (5459, 0.0), (5460, 0.0), (5461, 0.0), (5463, 0.0), (5464, 0.0), (5465, 0.0), (5466, 0.0), (5468, 0.0), (5470, 0.0), (5471, 0.0), (5472, 0.0), (5473, 0.0), (5475, 0.0), (5476, 0.0), (5478, 0.0), (5480, 0.0), (5485, 0.0), (5491, 0.0), (5492, 0.0), (5493, 0.0), (5494, 0.0), (5495, 0.0), (5496, 0.0), (5497, 0.0), (5498, 0.0), (5500, 0.0), (5501, 0.0), (5502, 0.0), (5503, 0.0), (5505, 0.0), (5507, 0.0), (5508, 0.0), (5510, 0.0), (5511, 0.0), (5512, 0.0), (5513, 0.0), (5514, 0.0), (5515, 0.0), (5517, 0.0), (5518, 0.0), (5519, 0.0), (5520, 0.0), (5521, 0.0), (5522, 0.0), (5523, 0.0), (5524, 0.0), (5525, 0.0), (5527, 0.0), (5528, 0.0), (5529, 0.0), (5532, 0.0), (5534, 0.0), (5535, 0.0), (5536, 0.0), (5538, 0.0), (5539, 0.0), (5541, 0.0), (5542, 0.0), (5543, 0.0), (5544, 0.0), (5546, 0.0), (5547, 0.0), (5548, 0.0), (5549, 0.0), (5552, 0.0), (5553, 0.0), (5555, 0.0), (5556, 0.0), (5557, 0.0), (5558, 0.0), (5560, 0.0), (5561, 0.0), (5562, 0.0), (5563, 0.0), (5564, 0.0), (5565, 0.0), (5567, 0.0), (5568, 0.0), (5571, 0.0), (5572, 0.0), (5576, 0.0), (5579, 0.0), (5580, 0.0), (5581, 0.0), (5583, 0.0), (5584, 0.0), (5586, 0.0), (5588, 0.0), (5590, 0.0), (5591, 0.0), (5593, 0.0), (5594, 0.0), (5596, 0.0), (5597, 0.0), (5598, 0.0), (5601, 0.0), (5602, 0.0), (5603, 0.0), (5604, 0.0), (5605, 0.0), (5606, 0.0), (5607, 0.0), (5608, 0.0), (5609, 0.0), (5610, 0.0), (5611, 0.0), (5612, 0.0), (5613, 0.0), (5614, 0.0), (5615, 0.0), (5616, 0.0), (5618, 0.0), (5620, 0.0), (5621, 0.0), (5622, 0.0), (5624, 0.0), (5626, 0.0), (5629, 0.0), (5631, 0.0), (5634, 0.0), (5635, 0.0), (5637, 0.0), (5638, 0.0), (5640, 0.0), (5643, 0.0), (5644, 0.0), (5645, 0.0), (5646, 0.0), (5647, 0.0), (5648, 0.0), (5649, 0.0), (5650, 0.0), (5653, 0.0), (5654, 0.0), (5656, 0.0), (5657, 0.0), (5659, 0.0), (5660, 0.0), (5661, 0.0), (5662, 0.0), (5663, 0.0), (5664, 0.0), (5667, 0.0), (5668, 0.0), (5669, 0.0), (5671, 0.0), (5672, 0.0), (5675, 0.0), (5676, 0.0), (5678, 0.0), (5679, 0.0), (5684, 0.0), (5685, 0.0), (5686, 0.0), (5687, 0.0), (5690, 0.0), (5691, 0.0), (5693, 0.0), (5694, 0.0), (5696, 0.0), (5697, 0.0), (5698, 0.0), (5700, 0.0), (5701, 0.0), (5702, 0.0), (5704, 0.0), (5709, 0.0), (5711, 0.0), (5712, 0.0), (5713, 0.0), (5715, 0.0), (5716, 0.0), (5717, 0.0), (5719, 0.0), (5721, 0.0), (5722, 0.0), (5723, 0.0), (5724, 0.0), (5725, 0.0), (5727, 0.0), (5728, 0.0), (5734, 0.0), (5736, 0.0), (5737, 0.0), (5738, 0.0), (5739, 0.0), (5740, 0.0), (5742, 0.0), (5743, 0.0), (5745, 0.0), (5746, 0.0), (5747, 0.0), (5749, 0.0), (5750, 0.0), (5751, 0.0), (5752, 0.0), (5753, 0.0), (5754, 0.0), (5756, 0.0), (5757, 0.0), (5761, 0.0), (5762, 0.0), (5765, 0.0), (5766, 0.0), (5767, 0.0), (5768, 0.0), (5769, 0.0), (5771, 0.0), (5772, 0.0), (5773, 0.0), (5774, 0.0), (5776, 0.0), (5778, 0.0), (5779, 0.0), (5781, 0.0), (5782, 0.0), (5783, 0.0), (5784, 0.0), (5785, 0.0), (5787, 0.0), (5789, 0.0), (5791, 0.0), (5793, 0.0), (5795, 0.0), (5797, 0.0), (5798, 0.0), (5799, 0.0), (5800, 0.0), (5801, 0.0), (5802, 0.0), (5803, 0.0), (5804, 0.0), (5805, 0.0), (5806, 0.0), (5807, 0.0), (5808, 0.0), (5809, 0.0), (5813, 0.0), (5814, 0.0), (5815, 0.0), (5817, 0.0), (5819, 0.0), (5820, 0.0), (5823, 0.0), (5825, 0.0), (5826, 0.0), (5827, 0.0), (5829, 0.0), (5830, 0.0), (5831, 0.0), (5832, 0.0), (5833, 0.0), (5835, 0.0), (5836, 0.0), (5837, 0.0), (5838, 0.0), (5841, 0.0), (5842, 0.0), (5843, 0.0), (5844, 0.0), (5848, 0.0), (5850, 0.0), (5851, 0.0), (5852, 0.0), (5853, 0.0), (5855, 0.0), (5856, 0.0), (5857, 0.0), (5858, 0.0), (5862, 0.0), (5863, 0.0), (5865, 0.0), (5866, 0.0), (5867, 0.0), (5868, 0.0), (5869, 0.0), (5870, 0.0), (5873, 0.0), (5874, 0.0), (5875, 0.0), (5876, 0.0), (5878, 0.0), (5879, 0.0), (5881, 0.0), (5882, 0.0), (5883, 0.0), (5884, 0.0), (5885, 0.0), (5886, 0.0), (5890, 0.0), (5891, 0.0), (5894, 0.0), (5896, 0.0), (5898, 0.0), (5901, 0.0), (5903, 0.0), (5905, 0.0), (5906, 0.0), (5908, 0.0), (5911, 0.0), (5915, 0.0), (5916, 0.0), (5918, 0.0), (5919, 0.0), (5920, 0.0), (5922, 0.0), (5923, 0.0), (5924, 0.0), (5925, 0.0), (5926, 0.0), (5927, 0.0), (5929, 0.0), (5935, 0.0), (5936, 0.0), (5937, 0.0), (5938, 0.0), (5939, 0.0), (5940, 0.0), (5942, 0.0), (5943, 0.0), (5944, 0.0), (5945, 0.0), (5946, 0.0), (5947, 0.0), (5948, 0.0), (5950, 0.0), (5951, 0.0), (5952, 0.0), (5953, 0.0), (5954, 0.0), (5955, 0.0), (5958, 0.0), (5960, 0.0), (5961, 0.0), (5964, 0.0), (5965, 0.0), (5966, 0.0), (5967, 0.0), (5968, 0.0), (5969, 0.0), (5972, 0.0), (5973, 0.0), (5974, 0.0), (5975, 0.0), (5976, 0.0), (5979, 0.0), (5981, 0.0), (5982, 0.0), (5983, 0.0), (5984, 0.0), (5985, 0.0), (5988, 0.0), (5989, 0.0), (5990, 0.0), (5992, 0.0), (5993, 0.0), (5995, 0.0), (5996, 0.0), (5997, 0.0), (5998, 0.0), (5999, 0.0), (6000, 0.0), (6001, 0.0), (6002, 0.0), (6003, 0.0), (6004, 0.0), (6005, 0.0), (6006, 0.0), (6008, 0.0), (6011, 0.0), (6012, 0.0), (6013, 0.0), (6014, 0.0), (6015, 0.0), (6016, 0.0), (6017, 0.0), (6018, 0.0), (6019, 0.0), (6020, 0.0), (6021, 0.0), (6022, 0.0), (6023, 0.0), (6024, 0.0), (6025, 0.0), (6029, 0.0), (6031, 0.0), (6032, 0.0), (6033, 0.0), (6035, 0.0), (6036, 0.0), (6038, 0.0), (6039, 0.0), (6041, 0.0), (6043, 0.0), (6045, 0.0), (6046, 0.0), (6050, 0.0), (6051, 0.0), (6054, 0.0), (6055, 0.0), (6059, 0.0), (6060, 0.0), (6061, 0.0), (6062, 0.0), (6063, 0.0), (6064, 0.0), (6065, 0.0), (6066, 0.0), (6067, 0.0), (6068, 0.0), (6069, 0.0), (6070, 0.0), (6071, 0.0), (6072, 0.0), (6073, 0.0), (6075, 0.0), (6076, 0.0), (6077, 0.0), (6078, 0.0), (6079, 0.0), (6080, 0.0), (6081, 0.0), (6082, 0.0), (6087, 0.0), (6092, 0.0), (6094, 0.0), (6096, 0.0), (6097, 0.0), (6099, 0.0), (6102, 0.0), (6103, 0.0), (6104, 0.0), (6105, 0.0), (6106, 0.0), (6110, 0.0), (6111, 0.0), (6112, 0.0), (6113, 0.0), (6115, 0.0), (6116, 0.0), (6118, 0.0), (6120, 0.0), (6122, 0.0), (6123, 0.0), (6126, 0.0), (6127, 0.0), (6128, 0.0), (6130, 0.0), (6131, 0.0), (6132, 0.0), (6134, 0.0), (6137, 0.0), (6138, 0.0), (6139, 0.0), (6140, 0.0), (6141, 0.0), (6142, 0.0), (6143, 0.0), (6145, 0.0), (6146, 0.0), (6147, 0.0), (6148, 0.0), (6149, 0.0), (6150, 0.0), (6153, 0.0), (6154, 0.0), (6155, 0.0), (6156, 0.0), (6157, 0.0), (6158, 0.0), (6160, 0.0), (6163, 0.0), (6165, 0.0), (6166, 0.0), (6167, 0.0), (6168, 0.0), (6169, 0.0), (6170, 0.0), (6171, 0.0), (6172, 0.0), (6173, 0.0), (6174, 0.0), (6176, 0.0), (6178, 0.0), (6180, 0.0), (6181, 0.0), (6182, 0.0), (6183, 0.0), (6185, 0.0), (6186, 0.0), (6189, 0.0), (6191, 0.0), (6192, 0.0), (6193, 0.0), (6194, 0.0), (6195, 0.0), (6197, 0.0), (6198, 0.0), (6199, 0.0), (6200, 0.0), (6201, 0.0), (6205, 0.0), (6206, 0.0), (6207, 0.0), (6209, 0.0), (6210, 0.0), (6211, 0.0), (6212, 0.0), (6213, 0.0), (6215, 0.0), (6217, 0.0), (6219, 0.0), (6220, 0.0), (6223, 0.0), (6225, 0.0), (6226, 0.0), (6227, 0.0), (6228, 0.0), (6232, 0.0), (6234, 0.0), (6236, 0.0), (6238, 0.0), (6239, 0.0), (6242, 0.0), (6243, 0.0), (6244, 0.0), (6245, 0.0), (6246, 0.0), (6247, 0.0), (6248, 0.0), (6249, 0.0), (6250, 0.0), (6251, 0.0), (6252, 0.0), (6254, 0.0), (6255, 0.0), (6257, 0.0), (6258, 0.0), (6260, 0.0), (6261, 0.0), (6262, 0.0), (6264, 0.0), (6265, 0.0), (6267, 0.0), (6268, 0.0), (6269, 0.0), (6270, 0.0), (6272, 0.0), (6273, 0.0), (6274, 0.0), (6275, 0.0), (6279, 0.0), (6280, 0.0), (6281, 0.0), (6282, 0.0), (6285, 0.0), (6287, 0.0), (6289, 0.0), (6290, 0.0), (6291, 0.0), (6292, 0.0), (6294, 0.0), (6296, 0.0), (6298, 0.0), (6299, 0.0), (6300, 0.0), (6304, 0.0), (6306, 0.0), (6307, 0.0), (6308, 0.0), (6309, 0.0), (6310, 0.0), (6311, 0.0), (6314, 0.0), (6316, 0.0), (6317, 0.0), (6318, 0.0), (6320, 0.0), (6321, 0.0), (6323, 0.0), (6324, 0.0), (6325, 0.0), (6326, 0.0), (6327, 0.0), (6329, 0.0), (6330, 0.0), (6331, 0.0), (6332, 0.0), (6333, 0.0), (6334, 0.0), (6337, 0.0), (6338, 0.0), (6342, 0.0), (6343, 0.0), (6344, 0.0), (6348, 0.0), (6349, 0.0), (6350, 0.0), (6353, 0.0), (6354, 0.0), (6356, 0.0), (6357, 0.0), (6359, 0.0), (6360, 0.0), (6361, 0.0), (6364, 0.0), (6365, 0.0), (6366, 0.0), (6367, 0.0), (6368, 0.0), (6369, 0.0), (6372, 0.0), (6373, 0.0), (6374, 0.0), (6377, 0.0), (6378, 0.0), (6380, 0.0), (6381, 0.0), (6382, 0.0), (6383, 0.0), (6384, 0.0), (6385, 0.0), (6386, 0.0), (6387, 0.0), (6388, 0.0), (6389, 0.0), (6390, 0.0), (6392, 0.0), (6393, 0.0), (6394, 0.0), (6395, 0.0), (6396, 0.0), (6397, 0.0), (6398, 0.0), (6400, 0.0), (6401, 0.0), (6402, 0.0), (6404, 0.0), (6405, 0.0), (6406, 0.0), (6407, 0.0), (6410, 0.0), (6411, 0.0), (6412, 0.0), (6414, 0.0), (6417, 0.0), (6418, 0.0), (6419, 0.0), (6421, 0.0), (6423, 0.0), (6424, 0.0), (6425, 0.0), (6427, 0.0), (6430, 0.0), (6431, 0.0), (6433, 0.0), (6434, 0.0), (6436, 0.0), (6437, 0.0), (6438, 0.0), (6439, 0.0), (6440, 0.0), (6443, 0.0), (6444, 0.0), (6447, 0.0), (6449, 0.0), (6450, 0.0), (6451, 0.0), (6453, 0.0), (6454, 0.0), (6455, 0.0), (6456, 0.0), (6457, 0.0), (6459, 0.0), (6461, 0.0), (6462, 0.0), (6463, 0.0), (6465, 0.0), (6467, 0.0), (6468, 0.0), (6469, 0.0), (6471, 0.0), (6472, 0.0), (6474, 0.0), (6476, 0.0), (6477, 0.0), (6478, 0.0), (6479, 0.0), (6482, 0.0), (6483, 0.0), (6484, 0.0), (6485, 0.0), (6487, 0.0), (6488, 0.0), (6489, 0.0), (6490, 0.0), (6491, 0.0), (6492, 0.0), (6494, 0.0), (6496, 0.0), (6498, 0.0), (6499, 0.0), (6500, 0.0), (6502, 0.0), (6504, 0.0), (6505, 0.0), (6506, 0.0), (6508, 0.0), (6509, 0.0), (6510, 0.0), (6511, 0.0), (6512, 0.0), (6514, 0.0), (6515, 0.0), (6518, 0.0), (6520, 0.0), (6523, 0.0), (6524, 0.0), (6526, 0.0), (6528, 0.0), (6530, 0.0), (6531, 0.0), (6533, 0.0), (6534, 0.0), (6536, 0.0), (6537, 0.0), (6539, 0.0), (6540, 0.0), (6541, 0.0), (6543, 0.0), (6546, 0.0), (6547, 0.0), (6549, 0.0), (6551, 0.0), (6552, 0.0), (6553, 0.0), (6556, 0.0), (6557, 0.0), (6558, 0.0), (6559, 0.0), (6561, 0.0), (6562, 0.0), (6564, 0.0), (6565, 0.0), (6566, 0.0), (6567, 0.0), (6568, 0.0), (6569, 0.0), (6570, 0.0), (6571, 0.0), (6572, 0.0), (6573, 0.0), (6575, 0.0), (6577, 0.0), (6582, 0.0), (6583, 0.0), (6584, 0.0), (6585, 0.0), (6586, 0.0), (6587, 0.0), (6590, 0.0), (6592, 0.0), (6594, 0.0), (6595, 0.0), (6596, 0.0), (6597, 0.0), (6599, 0.0), (6603, 0.0), (6605, 0.0), (6606, 0.0), (6607, 0.0), (6609, 0.0), (6613, 0.0), (6615, 0.0), (6616, 0.0), (6617, 0.0), (6618, 0.0), (6619, 0.0), (6622, 0.0), (6623, 0.0), (6625, 0.0), (6628, 0.0), (6630, 0.0), (6631, 0.0), (6632, 0.0), (6633, 0.0), (6634, 0.0), (6635, 0.0), (6636, 0.0), (6637, 0.0), (6638, 0.0), (6640, 0.0), (6642, 0.0), (6644, 0.0), (6645, 0.0), (6647, 0.0), (6648, 0.0), (6649, 0.0), (6651, 0.0), (6653, 0.0), (6654, 0.0), (6657, 0.0), (6661, 0.0), (6662, 0.0), (6665, 0.0), (6666, 0.0), (6667, 0.0), (6670, 0.0), (6672, 0.0), (6673, 0.0), (6674, 0.0), (6676, 0.0), (6679, 0.0), (6680, 0.0), (6681, 0.0), (6682, 0.0), (6685, 0.0), (6686, 0.0), (6689, 0.0), (6690, 0.0), (6691, 0.0), (6692, 0.0), (6693, 0.0), (6694, 0.0), (6695, 0.0), (6697, 0.0), (6699, 0.0), (6703, 0.0), (6705, 0.0), (6706, 0.0), (6707, 0.0), (6709, 0.0), (6710, 0.0), (6711, 0.0), (6712, 0.0), (6713, 0.0), (6714, 0.0), (6715, 0.0), (6716, 0.0), (6717, 0.0), (6718, 0.0), (6719, 0.0), (6720, 0.0), (6722, 0.0), (6724, 0.0), (6725, 0.0), (6726, 0.0), (6728, 0.0), (6730, 0.0), (6732, 0.0), (6733, 0.0), (6736, 0.0), (6737, 0.0), (6739, 0.0), (6740, 0.0), (6741, 0.0), (6742, 0.0), (6745, 0.0), (6747, 0.0), (6750, 0.0), (6751, 0.0), (6753, 0.0), (6754, 0.0), (6755, 0.0), (6761, 0.0), (6762, 0.0), (6763, 0.0), (6764, 0.0), (6765, 0.0), (6766, 0.0), (6767, 0.0), (6768, 0.0), (6770, 0.0), (6774, 0.0), (6775, 0.0), (6776, 0.0), (6777, 0.0), (6778, 0.0), (6780, 0.0), (6781, 0.0), (6783, 0.0), (6784, 0.0), (6786, 0.0), (6789, 0.0), (6791, 0.0), (6794, 0.0), (6795, 0.0), (6796, 0.0), (6797, 0.0), (6799, 0.0), (6800, 0.0), (6802, 0.0), (6803, 0.0), (6804, 0.0), (6808, 0.0), (6810, 0.0), (6811, 0.0), (6813, 0.0), (6814, 0.0), (6816, 0.0), (6817, 0.0), (6818, 0.0), (6819, 0.0), (6820, 0.0), (6821, 0.0), (6822, 0.0), (6823, 0.0), (6824, 0.0), (6825, 0.0), (6826, 0.0), (6830, 0.0), (6831, 0.0), (6833, 0.0), (6834, 0.0), (6835, 0.0), (6836, 0.0), (6838, 0.0), (6840, 0.0), (6842, 0.0), (6843, 0.0), (6844, 0.0), (6846, 0.0), (6848, 0.0), (6854, 0.0), (6855, 0.0), (6858, 0.0), (6859, 0.0), (6860, 0.0), (6861, 0.0), (6862, 0.0), (6863, 0.0), (6864, 0.0), (6865, 0.0), (6866, 0.0), (6867, 0.0), (6868, 0.0), (6869, 0.0), (6870, 0.0), (6871, 0.0), (6872, 0.0), (6873, 0.0), (6874, 0.0), (6875, 0.0), (6876, 0.0), (6877, 0.0), (6878, 0.0), (6879, 0.0), (6880, 0.0), (6881, 0.0), (6882, 0.0), (6883, 0.0), (6884, 0.0), (6887, 0.0), (6889, 0.0), (6892, 0.0), (6894, 0.0), (6895, 0.0), (6896, 0.0), (6897, 0.0), (6898, 0.0), (6899, 0.0), (6900, 0.0), (6901, 0.0), (6903, 0.0), (6904, 0.0), (6906, 0.0), (6908, 0.0), (6910, 0.0), (6911, 0.0), (6913, 0.0), (6914, 0.0), (6916, 0.0), (6918, 0.0), (6919, 0.0), (6921, 0.0), (6922, 0.0), (6923, 0.0), (6924, 0.0), (6925, 0.0), (6926, 0.0), (6927, 0.0), (6928, 0.0), (6929, 0.0), (6930, 0.0), (6932, 0.0), (6933, 0.0), (6934, 0.0), (6935, 0.0), (6936, 0.0), (6937, 0.0), (6938, 0.0), (6939, 0.0), (6941, 0.0), (6942, 0.0), (6943, 0.0), (6944, 0.0), (6945, 0.0), (6946, 0.0), (6947, 0.0), (6948, 0.0), (6951, 0.0), (6953, 0.0), (6956, 0.0), (6957, 0.0), (6959, 0.0), (6960, 0.0), (6961, 0.0), (6962, 0.0), (6964, 0.0), (6965, 0.0), (6966, 0.0), (6968, 0.0), (6969, 0.0), (6970, 0.0), (6971, 0.0), (6972, 0.0), (6974, 0.0), (6978, 0.0), (6979, 0.0), (6981, 0.0), (6985, 0.0), (6987, 0.0), (6990, 0.0), (6991, 0.0), (6993, 0.0), (6994, 0.0), (6997, 0.0), (6998, 0.0), (6999, 0.0), (7000, 0.0), (7001, 0.0), (7003, 0.0), (7004, 0.0), (7005, 0.0), (7006, 0.0), (7007, 0.0), (7010, 0.0), (7012, 0.0), (7013, 0.0), (7016, 0.0), (7017, 0.0), (7020, 0.0), (7022, 0.0), (7023, 0.0), (7024, 0.0), (7025, 0.0), (7026, 0.0), (7027, 0.0), (7028, 0.0), (7030, 0.0), (7031, 0.0), (7032, 0.0), (7035, 0.0), (7037, 0.0), (7038, 0.0), (7039, 0.0), (7040, 0.0), (7041, 0.0), (7042, 0.0), (7043, 0.0), (7044, 0.0), (7045, 0.0), (7046, 0.0), (7048, 0.0), (7049, 0.0), (7052, 0.0), (7053, 0.0), (7055, 0.0), (7056, 0.0), (7058, 0.0), (7059, 0.0), (7061, 0.0), (7063, 0.0), (7064, 0.0), (7066, 0.0), (7067, 0.0), (7069, 0.0), (7070, 0.0), (7071, 0.0), (7073, 0.0), (7074, 0.0), (7075, 0.0), (7077, 0.0), (7078, 0.0), (7079, 0.0), (7081, 0.0), (7082, 0.0), (7083, 0.0), (7084, 0.0), (7086, 0.0), (7087, 0.0), (7089, 0.0), (7090, 0.0), (7094, 0.0), (7095, 0.0), (7096, 0.0), (7097, 0.0), (7101, 0.0), (7102, 0.0), (7103, 0.0), (7104, 0.0), (7110, 0.0), (7111, 0.0), (7114, 0.0), (7115, 0.0), (7118, 0.0), (7121, 0.0), (7122, 0.0), (7124, 0.0), (7126, 0.0), (7127, 0.0), (7128, 0.0), (7129, 0.0), (7130, 0.0), (7131, 0.0), (7133, 0.0), (7137, 0.0), (7139, 0.0), (7140, 0.0), (7141, 0.0), (7142, 0.0), (7143, 0.0), (7144, 0.0), (7145, 0.0), (7146, 0.0), (7147, 0.0), (7148, 0.0), (7149, 0.0), (7150, 0.0), (7151, 0.0), (7152, 0.0), (7153, 0.0), (7154, 0.0), (7155, 0.0), (7156, 0.0), (7158, 0.0), (7160, 0.0), (7161, 0.0), (7163, 0.0), (7164, 0.0), (7165, 0.0), (7166, 0.0), (7167, 0.0), (7168, 0.0), (7169, 0.0), (7170, 0.0), (7172, 0.0), (7175, 0.0), (7176, 0.0), (7177, 0.0), (7179, 0.0), (7180, 0.0), (7181, 0.0), (7182, 0.0), (7183, 0.0), (7188, 0.0), (7189, 0.0), (7190, 0.0), (7191, 0.0), (7192, 0.0), (7194, 0.0), (7195, 0.0), (7198, 0.0), (7199, 0.0), (7200, 0.0), (7201, 0.0), (7202, 0.0), (7203, 0.0), (7204, 0.0), (7205, 0.0), (7206, 0.0), (7207, 0.0), (7208, 0.0), (7209, 0.0), (7212, 0.0), (7215, 0.0), (7216, 0.0), (7218, 0.0), (7219, 0.0), (7221, 0.0), (7222, 0.0), (7223, 0.0), (7224, 0.0), (7227, 0.0), (7228, 0.0), (7231, 0.0), (7232, 0.0), (7233, 0.0), (7235, 0.0), (7236, 0.0), (7237, 0.0), (7239, 0.0), (7242, 0.0), (7243, 0.0), (7244, 0.0), (7245, 0.0), (7246, 0.0), (7248, 0.0), (7249, 0.0), (7251, 0.0), (7252, 0.0), (7254, 0.0), (7258, 0.0), (7259, 0.0), (7260, 0.0), (7262, 0.0), (7263, 0.0), (7264, 0.0), (7265, 0.0), (7266, 0.0), (7267, 0.0), (7268, 0.0), (7269, 0.0), (7270, 0.0), (7272, 0.0), (7273, 0.0), (7274, 0.0), (7276, 0.0), (7278, 0.0), (7280, 0.0), (7282, 0.0), (7283, 0.0), (7284, 0.0), (7285, 0.0), (7286, 0.0), (7287, 0.0), (7291, 0.0), (7292, 0.0), (7295, 0.0), (7296, 0.0), (7297, 0.0), (7300, 0.0), (7301, 0.0), (7302, 0.0), (7304, 0.0), (7305, 0.0), (7306, 0.0), (7308, 0.0), (7309, 0.0), (7312, 0.0), (7313, 0.0), (7314, 0.0), (7315, 0.0), (7316, 0.0), (7317, 0.0), (7318, 0.0), (7320, 0.0), (7321, 0.0), (7324, 0.0), (7325, 0.0), (7326, 0.0), (7328, 0.0), (7331, 0.0), (7332, 0.0), (7335, 0.0), (7336, 0.0), (7338, 0.0), (7339, 0.0), (7340, 0.0), (7341, 0.0), (7342, 0.0), (7344, 0.0), (7347, 0.0), (7348, 0.0), (7349, 0.0), (7350, 0.0), (7351, 0.0), (7352, 0.0), (7353, 0.0), (7354, 0.0), (7357, 0.0), (7359, 0.0), (7360, 0.0), (7362, 0.0), (7364, 0.0), (7365, 0.0), (7367, 0.0), (7369, 0.0), (7370, 0.0), (7372, 0.0), (7373, 0.0), (7374, 0.0), (7375, 0.0), (7376, 0.0), (7377, 0.0), (7378, 0.0), (7381, 0.0), (7382, 0.0), (7383, 0.0), (7384, 0.0), (7385, 0.0), (7387, 0.0), (7388, 0.0), (7391, 0.0), (7392, 0.0), (7393, 0.0), (7394, 0.0), (7395, 0.0), (7396, 0.0), (7397, 0.0), (7399, 0.0), (7403, 0.0), (7404, 0.0), (7405, 0.0), (7406, 0.0), (7407, 0.0), (7411, 0.0), (7415, 0.0), (7416, 0.0), (7422, 0.0), (7423, 0.0), (7424, 0.0), (7425, 0.0), (7427, 0.0), (7428, 0.0), (7430, 0.0), (7431, 0.0), (7432, 0.0), (7434, 0.0), (7435, 0.0), (7436, 0.0), (7437, 0.0), (7438, 0.0), (7439, 0.0), (7440, 0.0), (7442, 0.0), (7443, 0.0), (7444, 0.0), (7446, 0.0), (7447, 0.0), (7448, 0.0), (7449, 0.0), (7451, 0.0), (7454, 0.0), (7455, 0.0), (7456, 0.0), (7457, 0.0), (7458, 0.0), (7461, 0.0), (7462, 0.0), (7464, 0.0), (7466, 0.0), (7469, 0.0), (7471, 0.0), (7472, 0.0), (7473, 0.0), (7476, 0.0), (7477, 0.0), (7478, 0.0), (7479, 0.0), (7481, 0.0), (7482, 0.0), (7486, 0.0), (7487, 0.0), (7490, 0.0), (7491, 0.0), (7493, 0.0), (7494, 0.0), (7499, 0.0), (7500, 0.0), (7501, 0.0), (7502, 0.0), (7503, 0.0), (7505, 0.0), (7506, 0.0), (7507, 0.0), (7509, 0.0), (7510, 0.0), (7512, 0.0), (7513, 0.0), (7515, 0.0), (7516, 0.0), (7521, 0.0), (7522, 0.0), (7523, 0.0), (7524, 0.0), (7527, 0.0), (7528, 0.0), (7530, 0.0), (7531, 0.0), (7532, 0.0), (7533, 0.0), (7534, 0.0), (7535, 0.0), (7539, 0.0), (7541, 0.0), (7542, 0.0), (7543, 0.0), (7546, 0.0), (7547, 0.0), (7549, 0.0), (7550, 0.0), (7551, 0.0), (7554, 0.0), (7555, 0.0), (7556, 0.0), (7558, 0.0), (7559, 0.0), (7561, 0.0), (7562, 0.0), (7563, 0.0), (7565, 0.0), (7567, 0.0), (7569, 0.0), (7570, 0.0), (7573, 0.0), (7574, 0.0), (7577, 0.0), (7579, 0.0), (7581, 0.0), (7583, 0.0), (7585, 0.0), (7586, 0.0), (7587, 0.0), (7590, 0.0), (7591, 0.0), (7592, 0.0), (7594, 0.0), (7595, 0.0), (7596, 0.0), (7597, 0.0), (7599, 0.0), (7602, 0.0), (7603, 0.0), (7604, 0.0), (7605, 0.0), (7606, 0.0), (7607, 0.0), (7608, 0.0), (7609, 0.0), (7613, 0.0), (7617, 0.0), (7620, 0.0), (7621, 0.0), (7622, 0.0), (7623, 0.0), (7625, 0.0), (7626, 0.0), (7627, 0.0), (7630, 0.0), (7631, 0.0), (7632, 0.0), (7634, 0.0), (7635, 0.0), (7636, 0.0), (7637, 0.0), (7638, 0.0), (7639, 0.0), (7640, 0.0), (7641, 0.0), (7642, 0.0), (7644, 0.0), (7645, 0.0), (7646, 0.0), (7647, 0.0), (7648, 0.0), (7649, 0.0), (7650, 0.0), (7651, 0.0), (7653, 0.0), (7654, 0.0), (7655, 0.0), (7656, 0.0), (7658, 0.0), (7659, 0.0), (7660, 0.0), (7661, 0.0), (7662, 0.0), (7663, 0.0), (7664, 0.0), (7666, 0.0), (7667, 0.0), (7669, 0.0), (7670, 0.0), (7671, 0.0), (7673, 0.0), (7674, 0.0), (7677, 0.0), (7678, 0.0), (7679, 0.0), (7680, 0.0), (7681, 0.0), (7682, 0.0), (7683, 0.0), (7685, 0.0), (7686, 0.0), (7687, 0.0), (7688, 0.0), (7689, 0.0), (7691, 0.0), (7693, 0.0), (7694, 0.0), (7695, 0.0), (7696, 0.0), (7698, 0.0), (7699, 0.0), (7700, 0.0), (7701, 0.0), (7703, 0.0), (7704, 0.0), (7707, 0.0), (7708, 0.0), (7710, 0.0), (7711, 0.0), (7712, 0.0), (7713, 0.0), (7714, 0.0), (7716, 0.0), (7717, 0.0), (7718, 0.0), (7723, 0.0), (7724, 0.0), (7727, 0.0), (7728, 0.0), (7730, 0.0), (7737, 0.0), (7739, 0.0), (7740, 0.0), (7741, 0.0), (7742, 0.0), (7743, 0.0), (7745, 0.0), (7746, 0.0), (7747, 0.0), (7748, 0.0), (7749, 0.0), (7750, 0.0), (7752, 0.0), (7754, 0.0), (7755, 0.0), (7756, 0.0), (7758, 0.0), (7759, 0.0), (7760, 0.0), (7761, 0.0), (7762, 0.0), (7764, 0.0), (7766, 0.0), (7768, 0.0), (7769, 0.0), (7773, 0.0), (7775, 0.0), (7776, 0.0), (7777, 0.0), (7780, 0.0), (7782, 0.0), (7783, 0.0), (7784, 0.0), (7785, 0.0), (7787, 0.0), (7788, 0.0), (7793, 0.0), (7795, 0.0), (7797, 0.0), (7798, 0.0), (7799, 0.0), (7800, 0.0), (7803, 0.0), (7804, 0.0), (7805, 0.0), (7806, 0.0), (7807, 0.0), (7809, 0.0), (7810, 0.0), (7811, 0.0), (7814, 0.0), (7815, 0.0), (7816, 0.0), (7817, 0.0), (7818, 0.0), (7820, 0.0), (7822, 0.0), (7825, 0.0), (7826, 0.0), (7827, 0.0), (7830, 0.0), (7832, 0.0), (7834, 0.0), (7835, 0.0), (7837, 0.0), (7838, 0.0), (7840, 0.0), (7843, 0.0), (7845, 0.0), (7846, 0.0), (7847, 0.0), (7848, 0.0), (7849, 0.0), (7850, 0.0), (7851, 0.0), (7853, 0.0), (7855, 0.0), (7856, 0.0), (7857, 0.0), (7858, 0.0), (7859, 0.0), (7860, 0.0), (7861, 0.0), (7866, 0.0), (7867, 0.0), (7868, 0.0), (7869, 0.0), (7873, 0.0), (7875, 0.0), (7878, 0.0), (7879, 0.0), (7880, 0.0), (7883, 0.0), (7884, 0.0), (7886, 0.0), (7888, 0.0), (7889, 0.0), (7890, 0.0), (7891, 0.0), (7892, 0.0), (7893, 0.0), (7894, 0.0), (7895, 0.0), (7897, 0.0), (7900, 0.0), (7901, 0.0), (7902, 0.0), (7903, 0.0), (7904, 0.0), (7905, 0.0), (7906, 0.0), (7907, 0.0), (7908, 0.0), (7909, 0.0), (7910, 0.0), (7911, 0.0), (7912, 0.0), (7913, 0.0), (7918, 0.0), (7920, 0.0), (7921, 0.0), (7922, 0.0), (7924, 0.0), (7925, 0.0), (7928, 0.0), (7929, 0.0), (7930, 0.0), (7931, 0.0), (7932, 0.0), (7936, 0.0), (7937, 0.0), (7938, 0.0), (7942, 0.0), (7943, 0.0), (7945, 0.0), (7950, 0.0), (7952, 0.0), (7953, 0.0), (7954, 0.0), (7955, 0.0), (7956, 0.0), (7960, 0.0), (7961, 0.0), (7964, 0.0), (7965, 0.0), (7966, 0.0), (7968, 0.0), (7969, 0.0), (7972, 0.0), (7973, 0.0), (7974, 0.0), (7976, 0.0), (7977, 0.0), (7978, 0.0), (7980, 0.0), (7982, 0.0), (7983, 0.0), (7984, 0.0), (7985, 0.0), (7988, 0.0), (7991, 0.0), (7992, 0.0), (7996, 0.0), (7997, 0.0), (7998, 0.0), (8000, 0.0), (8002, 0.0), (8003, 0.0), (8005, 0.0), (8008, 0.0), (8009, 0.0), (8010, 0.0), (8014, 0.0), (8017, 0.0), (8018, 0.0), (8019, 0.0), (8020, 0.0), (8022, 0.0), (8024, 0.0), (8025, 0.0), (8026, 0.0), (8028, 0.0), (8029, 0.0), (8030, 0.0), (8032, 0.0), (8033, 0.0), (8034, 0.0), (8035, 0.0), (8037, 0.0), (8040, 0.0), (8041, 0.0), (8042, 0.0), (8043, 0.0), (8045, 0.0), (8048, 0.0), (8049, 0.0), (8050, 0.0), (8051, 0.0), (8052, 0.0), (8054, 0.0), (8055, 0.0), (8056, 0.0), (8057, 0.0), (8063, 0.0), (8064, 0.0), (8065, 0.0), (8067, 0.0), (8068, 0.0), (8069, 0.0), (8070, 0.0), (8072, 0.0), (8073, 0.0), (8076, 0.0), (8077, 0.0), (8078, 0.0), (8079, 0.0), (8082, 0.0), (8083, 0.0), (8085, 0.0), (8086, 0.0), (8088, 0.0), (8091, 0.0), (8092, 0.0), (8098, 0.0), (8099, 0.0), (8100, 0.0), (8101, 0.0), (8104, 0.0), (8106, 0.0), (8108, 0.0), (8109, 0.0), (8110, 0.0), (8112, 0.0), (8113, 0.0), (8114, 0.0), (8115, 0.0), (8116, 0.0), (8118, 0.0), (8119, 0.0), (8120, 0.0), (8121, 0.0), (8123, 0.0), (8125, 0.0), (8127, 0.0), (8130, 0.0), (8131, 0.0), (8132, 0.0), (8133, 0.0), (8134, 0.0), (8135, 0.0), (8137, 0.0), (8139, 0.0), (8140, 0.0), (8142, 0.0), (8144, 0.0), (8145, 0.0), (8146, 0.0), (8147, 0.0), (8149, 0.0), (8150, 0.0), (8151, 0.0), (8153, 0.0), (8154, 0.0), (8155, 0.0), (8156, 0.0), (8157, 0.0), (8158, 0.0), (8159, 0.0), (8160, 0.0), (8162, 0.0), (8164, 0.0), (8165, 0.0), (8167, 0.0), (8168, 0.0), (8169, 0.0), (8170, 0.0), (8171, 0.0), (8172, 0.0), (8173, 0.0), (8174, 0.0), (8175, 0.0), (8176, 0.0), (8178, 0.0), (8179, 0.0), (8181, 0.0), (8182, 0.0), (8183, 0.0), (8184, 0.0), (8186, 0.0), (8189, 0.0), (8190, 0.0), (8191, 0.0), (8193, 0.0), (8194, 0.0), (8195, 0.0), (8197, 0.0), (8198, 0.0), (8200, 0.0), (8203, 0.0), (8205, 0.0), (8206, 0.0), (8207, 0.0), (8208, 0.0), (8209, 0.0), (8212, 0.0), (8214, 0.0), (8216, 0.0), (8217, 0.0), (8218, 0.0), (8219, 0.0), (8220, 0.0), (8221, 0.0), (8222, 0.0), (8224, 0.0), (8226, 0.0), (8227, 0.0), (8228, 0.0), (8230, 0.0), (8231, 0.0), (8233, 0.0), (8235, 0.0), (8237, 0.0), (8238, 0.0), (8239, 0.0), (8240, 0.0), (8242, 0.0), (8243, 0.0), (8245, 0.0), (8246, 0.0), (8247, 0.0), (8248, 0.0), (8249, 0.0), (8250, 0.0), (8251, 0.0), (8252, 0.0), (8254, 0.0), (8256, 0.0), (8257, 0.0), (8258, 0.0), (8259, 0.0), (8261, 0.0), (8263, 0.0), (8265, 0.0), (8266, 0.0), (8270, 0.0), (8271, 0.0), (8272, 0.0), (8274, 0.0), (8277, 0.0), (8278, 0.0), (8279, 0.0), (8281, 0.0), (8282, 0.0), (8284, 0.0), (8285, 0.0), (8286, 0.0), (8290, 0.0), (8291, 0.0), (8292, 0.0), (8294, 0.0), (8295, 0.0), (8296, 0.0), (8297, 0.0), (8299, 0.0), (8300, 0.0), (8303, 0.0), (8305, 0.0), (8306, 0.0), (8307, 0.0), (8308, 0.0), (8310, 0.0), (8313, 0.0), (8315, 0.0), (8316, 0.0), (8317, 0.0), (8318, 0.0), (8319, 0.0), (8320, 0.0), (8321, 0.0), (8322, 0.0), (8323, 0.0), (8326, 0.0), (8327, 0.0), (8328, 0.0), (8331, 0.0), (8332, 0.0), (8333, 0.0), (8335, 0.0), (8337, 0.0), (8338, 0.0), (8339, 0.0), (8340, 0.0), (8343, 0.0), (8344, 0.0), (8345, 0.0), (8346, 0.0), (8347, 0.0), (8348, 0.0), (8351, 0.0), (8352, 0.0), (8353, 0.0), (8354, 0.0), (8355, 0.0), (8358, 0.0), (8360, 0.0), (8361, 0.0), (8365, 0.0), (8368, 0.0), (8370, 0.0), (8371, 0.0), (8372, 0.0), (8373, 0.0), (8374, 0.0), (8375, 0.0), (8376, 0.0), (8377, 0.0), (8379, 0.0), (8380, 0.0), (8381, 0.0), (8383, 0.0), (8384, 0.0), (8385, 0.0), (8386, 0.0), (8388, 0.0), (8390, 0.0), (8392, 0.0), (8393, 0.0), (8394, 0.0), (8395, 0.0), (8396, 0.0), (8397, 0.0), (8398, 0.0), (8399, 0.0), (8400, 0.0), (8401, 0.0), (8402, 0.0), (8403, 0.0), (8404, 0.0), (8405, 0.0), (8407, 0.0), (8409, 0.0), (8410, 0.0), (8411, 0.0), (8412, 0.0), (8413, 0.0), (8415, 0.0), (8416, 0.0), (8417, 0.0), (8419, 0.0), (8420, 0.0), (8421, 0.0), (8422, 0.0), (8423, 0.0), (8424, 0.0), (8425, 0.0), (8426, 0.0), (8427, 0.0), (8428, 0.0), (8430, 0.0), (8431, 0.0), (8433, 0.0), (8434, 0.0), (8435, 0.0), (8436, 0.0), (8438, 0.0), (8439, 0.0), (8440, 0.0), (8441, 0.0), (8442, 0.0), (8443, 0.0), (8444, 0.0), (8445, 0.0), (8446, 0.0), (8451, 0.0), (8452, 0.0), (8453, 0.0), (8455, 0.0), (8456, 0.0), (8457, 0.0), (8458, 0.0), (8459, 0.0), (8460, 0.0), (8461, 0.0), (8462, 0.0), (8463, 0.0), (8464, 0.0), (8465, 0.0), (8466, 0.0), (8469, 0.0), (8470, 0.0), (8473, 0.0), (8474, 0.0), (8476, 0.0), (8477, 0.0), (8479, 0.0), (8480, 0.0), (8484, 0.0), (8485, 0.0), (8486, 0.0), (8488, 0.0), (8490, 0.0), (8491, 0.0), (8494, 0.0), (8495, 0.0), (8497, 0.0), (8499, 0.0), (8500, 0.0), (8501, 0.0), (8503, 0.0), (8504, 0.0), (8505, 0.0), (8506, 0.0), (8507, 0.0), (8510, 0.0), (8512, 0.0), (8514, 0.0), (8515, 0.0), (8516, 0.0), (8518, 0.0), (8519, 0.0), (8520, 0.0), (8521, 0.0), (8522, 0.0), (8523, 0.0), (8525, 0.0), (8528, 0.0), (8529, 0.0), (8530, 0.0), (8532, 0.0), (8533, 0.0), (8534, 0.0), (8535, 0.0), (8536, 0.0), (8540, 0.0), (8541, 0.0), (8542, 0.0), (8543, 0.0), (8544, 0.0), (8545, 0.0), (8548, 0.0), (8549, 0.0), (8551, 0.0), (8555, 0.0), (8557, 0.0), (8559, 0.0), (8560, 0.0), (8561, 0.0), (8565, 0.0), (8566, 0.0), (8567, 0.0), (8568, 0.0), (8569, 0.0), (8570, 0.0), (8572, 0.0), (8573, 0.0), (8574, 0.0), (8578, 0.0), (8579, 0.0), (8580, 0.0), (8581, 0.0), (8582, 0.0), (8584, 0.0), (8585, 0.0), (8586, 0.0), (8588, 0.0), (8589, 0.0), (8590, 0.0), (8595, 0.0), (8596, 0.0), (8598, 0.0), (8599, 0.0), (8600, 0.0), (8601, 0.0), (8602, 0.0), (8603, 0.0), (8604, 0.0), (8606, 0.0), (8607, 0.0), (8608, 0.0), (8609, 0.0), (8610, 0.0), (8611, 0.0), (8612, 0.0), (8614, 0.0), (8616, 0.0), (8620, 0.0), (8621, 0.0), (8623, 0.0), (8624, 0.0), (8625, 0.0), (8627, 0.0), (8632, 0.0), (8633, 0.0), (8635, 0.0), (8636, 0.0), (8639, 0.0), (8642, 0.0), (8643, 0.0), (8644, 0.0), (8648, 0.0), (8649, 0.0), (8650, 0.0), (8651, 0.0), (8653, 0.0), (8655, 0.0), (8656, 0.0), (8657, 0.0), (8658, 0.0), (8661, 0.0), (8662, 0.0), (8663, 0.0), (8665, 0.0), (8666, 0.0), (8667, 0.0), (8668, 0.0), (8669, 0.0), (8671, 0.0), (8672, 0.0), (8673, 0.0), (8675, 0.0), (8676, 0.0), (8678, 0.0), (8680, 0.0), (8681, 0.0), (8684, 0.0), (8685, 0.0), (8686, 0.0), (8687, 0.0), (8688, 0.0), (8689, 0.0), (8690, 0.0), (8692, 0.0), (8694, 0.0), (8695, 0.0), (8696, 0.0), (8697, 0.0), (8699, 0.0), (8701, 0.0), (8702, 0.0), (8703, 0.0), (8704, 0.0), (8705, 0.0), (8706, 0.0), (8708, 0.0), (8709, 0.0), (8710, 0.0), (8711, 0.0), (8713, 0.0), (8714, 0.0), (8715, 0.0), (8718, 0.0), (8719, 0.0), (8720, 0.0), (8721, 0.0), (8722, 0.0), (8723, 0.0), (8724, 0.0), (8726, 0.0), (8727, 0.0), (8728, 0.0), (8729, 0.0), (8730, 0.0), (8732, 0.0), (8734, 0.0), (8737, 0.0), (8738, 0.0), (8739, 0.0), (8740, 0.0), (8743, 0.0), (8744, 0.0), (8745, 0.0), (8746, 0.0), (8748, 0.0), (8749, 0.0), (8750, 0.0), (8751, 0.0), (8752, 0.0), (8753, 0.0), (8755, 0.0), (8756, 0.0), (8757, 0.0), (8758, 0.0), (8759, 0.0), (8761, 0.0), (8762, 0.0), (8763, 0.0), (8764, 0.0), (8765, 0.0), (8767, 0.0), (8768, 0.0), (8769, 0.0), (8770, 0.0), (8771, 0.0), (8772, 0.0), (8774, 0.0), (8777, 0.0), (8779, 0.0), (8780, 0.0), (8781, 0.0), (8782, 0.0), (8786, 0.0), (8788, 0.0), (8789, 0.0), (8790, 0.0), (8791, 0.0), (8792, 0.0), (8795, 0.0), (8796, 0.0), (8797, 0.0), (8798, 0.0), (8800, 0.0), (8801, 0.0), (8803, 0.0), (8805, 0.0), (8806, 0.0), (8808, 0.0), (8809, 0.0), (8810, 0.0), (8811, 0.0), (8812, 0.0), (8813, 0.0), (8815, 0.0), (8819, 0.0), (8821, 0.0), (8822, 0.0), (8823, 0.0), (8826, 0.0), (8827, 0.0), (8829, 0.0), (8830, 0.0), (8831, 0.0), (8832, 0.0), (8834, 0.0), (8836, 0.0), (8838, 0.0), (8839, 0.0), (8841, 0.0), (8842, 0.0), (8844, 0.0), (8845, 0.0), (8846, 0.0), (8847, 0.0), (8850, 0.0), (8851, 0.0), (8852, 0.0), (8853, 0.0), (8854, 0.0), (8855, 0.0), (8858, 0.0), (8859, 0.0), (8860, 0.0), (8861, 0.0), (8862, 0.0), (8864, 0.0), (8865, 0.0), (8866, 0.0), (8867, 0.0), (8869, 0.0), (8870, 0.0), (8871, 0.0), (8872, 0.0), (8874, 0.0), (8875, 0.0), (8880, 0.0), (8881, 0.0), (8883, 0.0), (8884, 0.0), (8886, 0.0), (8887, 0.0), (8890, 0.0), (8894, 0.0), (8895, 0.0), (8896, 0.0), (8897, 0.0), (8898, 0.0), (8899, 0.0), (8900, 0.0), (8901, 0.0), (8907, 0.0), (8908, 0.0), (8910, 0.0), (8911, 0.0), (8912, 0.0), (8913, 0.0), (8914, 0.0), (8915, 0.0), (8916, 0.0), (8917, 0.0), (8918, 0.0), (8920, 0.0), (8921, 0.0), (8923, 0.0), (8925, 0.0), (8926, 0.0), (8927, 0.0), (8928, 0.0), (8930, 0.0), (8931, 0.0), (8933, 0.0), (8934, 0.0), (8935, 0.0), (8937, 0.0), (8939, 0.0), (8940, 0.0), (8941, 0.0), (8944, 0.0), (8945, 0.0), (8948, 0.0), (8950, 0.0), (8952, 0.0), (8954, 0.0), (8956, 0.0), (8957, 0.0), (8958, 0.0), (8960, 0.0), (8961, 0.0), (8962, 0.0), (8963, 0.0), (8964, 0.0), (8965, 0.0), (8967, 0.0), (8969, 0.0), (8970, 0.0), (8972, 0.0), (8973, 0.0), (8975, 0.0), (8976, 0.0), (8977, 0.0), (8978, 0.0), (8980, 0.0), (8981, 0.0), (8982, 0.0), (8983, 0.0), (8984, 0.0), (8985, 0.0), (8986, 0.0), (8987, 0.0), (8988, 0.0), (8989, 0.0), (8990, 0.0), (8993, 0.0), (8994, 0.0), (8995, 0.0), (8996, 0.0), (8997, 0.0), (8999, 0.0), (9000, 0.0), (9003, 0.0), (9007, 0.0), (9009, 0.0), (9010, 0.0), (9011, 0.0), (9012, 0.0), (9013, 0.0), (9014, 0.0), (9016, 0.0), (9018, 0.0), (9019, 0.0), (9020, 0.0), (9021, 0.0), (9023, 0.0), (9024, 0.0), (9025, 0.0), (9027, 0.0), (9030, 0.0), (9031, 0.0), (9032, 0.0), (9033, 0.0), (9034, 0.0), (9035, 0.0), (9036, 0.0), (9038, 0.0), (9039, 0.0), (9040, 0.0), (9041, 0.0), (9042, 0.0), (9043, 0.0), (9044, 0.0), (9045, 0.0), (9046, 0.0), (9048, 0.0), (9049, 0.0), (9051, 0.0), (9052, 0.0), (9053, 0.0), (9054, 0.0), (9055, 0.0), (9056, 0.0), (9057, 0.0), (9058, 0.0), (9059, 0.0), (9060, 0.0), (9061, 0.0), (9062, 0.0), (9063, 0.0), (9064, 0.0), (9066, 0.0), (9067, 0.0), (9068, 0.0), (9069, 0.0), (9070, 0.0), (9071, 0.0), (9072, 0.0), (9073, 0.0), (9074, 0.0), (9076, 0.0), (9077, 0.0), (9078, 0.0), (9080, 0.0), (9081, 0.0), (9082, 0.0), (9083, 0.0), (9084, 0.0), (9085, 0.0), (9086, 0.0), (9087, 0.0), (9088, 0.0), (9089, 0.0), (9090, 0.0), (9091, 0.0)]\n",
            "sim_scores top 10: \n",
            "  [(6151, 0.12286362972191048), (2621, 0.10428042289116488), (1098, 0.10271159212135092), (4620, 0.10257362377192508), (7898, 0.09848271312192815), (1489, 0.09721061919885426), (8225, 0.09532129800132406), (6037, 0.08794317702195693), (4414, 0.08340213479617721), (1925, 0.08240059967603154)]\n",
            "movie_indices: \n",
            " [6151, 2621, 1098, 4620, 7898, 1489, 8225, 6037, 4414, 1925]\n",
            "Return the top 10 most similar movies\n",
            " 6151                      Parineeta\n",
            "2621                        Ventoux\n",
            "1098       History Is Made at Night\n",
            "4620              Friends with Kids\n",
            "7898            Becoming Cary Grant\n",
            "1489               To Catch a Thief\n",
            "8225    Joe Dirt 2: Beautiful Loser\n",
            "6037                       Daylight\n",
            "4414                 Love Forbidden\n",
            "1925        Night Across the Street\n",
            "Name: title, dtype: object\n"
          ],
          "name": "stdout"
        }
      ]
    },
    {
      "cell_type": "markdown",
      "metadata": {
        "id": "Dj-RR6zw_tD3",
        "colab_type": "text"
      },
      "source": [
        "### End explain"
      ]
    },
    {
      "cell_type": "code",
      "metadata": {
        "id": "L7Cc7jqsvwH8",
        "colab_type": "code",
        "colab": {
          "base_uri": "https://localhost:8080/",
          "height": 765
        },
        "outputId": "7d8583d6-cde8-424e-fa06-e3bf658f717b"
      },
      "source": [
        "#Get recommendations for The Lion King\n",
        "content_recommender('The Lion King')"
      ],
      "execution_count": null,
      "outputs": [
        {
          "output_type": "error",
          "ename": "KeyError",
          "evalue": "ignored",
          "traceback": [
            "\u001b[0;31m---------------------------------------------------------------------------\u001b[0m",
            "\u001b[0;31mTypeError\u001b[0m                                 Traceback (most recent call last)",
            "\u001b[0;32m/usr/local/lib/python3.6/dist-packages/pandas/core/indexes/base.py\u001b[0m in \u001b[0;36mget_value\u001b[0;34m(self, series, key)\u001b[0m\n\u001b[1;32m   4410\u001b[0m             \u001b[0;32mtry\u001b[0m\u001b[0;34m:\u001b[0m\u001b[0;34m\u001b[0m\u001b[0;34m\u001b[0m\u001b[0m\n\u001b[0;32m-> 4411\u001b[0;31m                 \u001b[0;32mreturn\u001b[0m \u001b[0mlibindex\u001b[0m\u001b[0;34m.\u001b[0m\u001b[0mget_value_at\u001b[0m\u001b[0;34m(\u001b[0m\u001b[0ms\u001b[0m\u001b[0;34m,\u001b[0m \u001b[0mkey\u001b[0m\u001b[0;34m)\u001b[0m\u001b[0;34m\u001b[0m\u001b[0;34m\u001b[0m\u001b[0m\n\u001b[0m\u001b[1;32m   4412\u001b[0m             \u001b[0;32mexcept\u001b[0m \u001b[0mIndexError\u001b[0m\u001b[0;34m:\u001b[0m\u001b[0;34m\u001b[0m\u001b[0;34m\u001b[0m\u001b[0m\n",
            "\u001b[0;32mpandas/_libs/index.pyx\u001b[0m in \u001b[0;36mpandas._libs.index.get_value_at\u001b[0;34m()\u001b[0m\n",
            "\u001b[0;32mpandas/_libs/index.pyx\u001b[0m in \u001b[0;36mpandas._libs.index.get_value_at\u001b[0;34m()\u001b[0m\n",
            "\u001b[0;32mpandas/_libs/util.pxd\u001b[0m in \u001b[0;36mpandas._libs.util.get_value_at\u001b[0;34m()\u001b[0m\n",
            "\u001b[0;32mpandas/_libs/util.pxd\u001b[0m in \u001b[0;36mpandas._libs.util.validate_indexer\u001b[0;34m()\u001b[0m\n",
            "\u001b[0;31mTypeError\u001b[0m: 'str' object cannot be interpreted as an integer",
            "\nDuring handling of the above exception, another exception occurred:\n",
            "\u001b[0;31mKeyError\u001b[0m                                  Traceback (most recent call last)",
            "\u001b[0;32m<ipython-input-44-db269e735146>\u001b[0m in \u001b[0;36m<module>\u001b[0;34m()\u001b[0m\n\u001b[1;32m      1\u001b[0m \u001b[0;31m#Get recommendations for The Lion King\u001b[0m\u001b[0;34m\u001b[0m\u001b[0;34m\u001b[0m\u001b[0;34m\u001b[0m\u001b[0m\n\u001b[0;32m----> 2\u001b[0;31m \u001b[0mcontent_recommender\u001b[0m\u001b[0;34m(\u001b[0m\u001b[0;34m'The Lion King'\u001b[0m\u001b[0;34m)\u001b[0m\u001b[0;34m\u001b[0m\u001b[0;34m\u001b[0m\u001b[0m\n\u001b[0m",
            "\u001b[0;32m<ipython-input-41-200443956b8e>\u001b[0m in \u001b[0;36mcontent_recommender\u001b[0;34m(title, cosine_sim, df, indices)\u001b[0m\n\u001b[1;32m      2\u001b[0m \u001b[0;32mdef\u001b[0m \u001b[0mcontent_recommender\u001b[0m\u001b[0;34m(\u001b[0m\u001b[0mtitle\u001b[0m\u001b[0;34m,\u001b[0m \u001b[0mcosine_sim\u001b[0m\u001b[0;34m=\u001b[0m\u001b[0mcosine_sim\u001b[0m\u001b[0;34m,\u001b[0m \u001b[0mdf\u001b[0m\u001b[0;34m=\u001b[0m\u001b[0mdf\u001b[0m\u001b[0;34m,\u001b[0m \u001b[0mindices\u001b[0m\u001b[0;34m=\u001b[0m\u001b[0mindices\u001b[0m\u001b[0;34m)\u001b[0m\u001b[0;34m:\u001b[0m\u001b[0;34m\u001b[0m\u001b[0;34m\u001b[0m\u001b[0m\n\u001b[1;32m      3\u001b[0m     \u001b[0;31m# Obtain the index of the movie that matches the title\u001b[0m\u001b[0;34m\u001b[0m\u001b[0;34m\u001b[0m\u001b[0;34m\u001b[0m\u001b[0m\n\u001b[0;32m----> 4\u001b[0;31m     \u001b[0midx\u001b[0m \u001b[0;34m=\u001b[0m \u001b[0mindices\u001b[0m\u001b[0;34m[\u001b[0m\u001b[0mtitle\u001b[0m\u001b[0;34m]\u001b[0m\u001b[0;34m\u001b[0m\u001b[0;34m\u001b[0m\u001b[0m\n\u001b[0m\u001b[1;32m      5\u001b[0m \u001b[0;34m\u001b[0m\u001b[0m\n\u001b[1;32m      6\u001b[0m     \u001b[0;31m# Get the pairwsie similarity scores of all movies with that movie\u001b[0m\u001b[0;34m\u001b[0m\u001b[0;34m\u001b[0m\u001b[0;34m\u001b[0m\u001b[0m\n",
            "\u001b[0;32m/usr/local/lib/python3.6/dist-packages/pandas/core/series.py\u001b[0m in \u001b[0;36m__getitem__\u001b[0;34m(self, key)\u001b[0m\n\u001b[1;32m    869\u001b[0m         \u001b[0mkey\u001b[0m \u001b[0;34m=\u001b[0m \u001b[0mcom\u001b[0m\u001b[0;34m.\u001b[0m\u001b[0mapply_if_callable\u001b[0m\u001b[0;34m(\u001b[0m\u001b[0mkey\u001b[0m\u001b[0;34m,\u001b[0m \u001b[0mself\u001b[0m\u001b[0;34m)\u001b[0m\u001b[0;34m\u001b[0m\u001b[0;34m\u001b[0m\u001b[0m\n\u001b[1;32m    870\u001b[0m         \u001b[0;32mtry\u001b[0m\u001b[0;34m:\u001b[0m\u001b[0;34m\u001b[0m\u001b[0;34m\u001b[0m\u001b[0m\n\u001b[0;32m--> 871\u001b[0;31m             \u001b[0mresult\u001b[0m \u001b[0;34m=\u001b[0m \u001b[0mself\u001b[0m\u001b[0;34m.\u001b[0m\u001b[0mindex\u001b[0m\u001b[0;34m.\u001b[0m\u001b[0mget_value\u001b[0m\u001b[0;34m(\u001b[0m\u001b[0mself\u001b[0m\u001b[0;34m,\u001b[0m \u001b[0mkey\u001b[0m\u001b[0;34m)\u001b[0m\u001b[0;34m\u001b[0m\u001b[0;34m\u001b[0m\u001b[0m\n\u001b[0m\u001b[1;32m    872\u001b[0m \u001b[0;34m\u001b[0m\u001b[0m\n\u001b[1;32m    873\u001b[0m             \u001b[0;32mif\u001b[0m \u001b[0;32mnot\u001b[0m \u001b[0mis_scalar\u001b[0m\u001b[0;34m(\u001b[0m\u001b[0mresult\u001b[0m\u001b[0;34m)\u001b[0m\u001b[0;34m:\u001b[0m\u001b[0;34m\u001b[0m\u001b[0;34m\u001b[0m\u001b[0m\n",
            "\u001b[0;32m/usr/local/lib/python3.6/dist-packages/pandas/core/indexes/base.py\u001b[0m in \u001b[0;36mget_value\u001b[0;34m(self, series, key)\u001b[0m\n\u001b[1;32m   4417\u001b[0m                     \u001b[0;32mraise\u001b[0m \u001b[0mInvalidIndexError\u001b[0m\u001b[0;34m(\u001b[0m\u001b[0mkey\u001b[0m\u001b[0;34m)\u001b[0m\u001b[0;34m\u001b[0m\u001b[0;34m\u001b[0m\u001b[0m\n\u001b[1;32m   4418\u001b[0m                 \u001b[0;32melse\u001b[0m\u001b[0;34m:\u001b[0m\u001b[0;34m\u001b[0m\u001b[0;34m\u001b[0m\u001b[0m\n\u001b[0;32m-> 4419\u001b[0;31m                     \u001b[0;32mraise\u001b[0m \u001b[0me1\u001b[0m\u001b[0;34m\u001b[0m\u001b[0;34m\u001b[0m\u001b[0m\n\u001b[0m\u001b[1;32m   4420\u001b[0m             \u001b[0;32mexcept\u001b[0m \u001b[0mException\u001b[0m\u001b[0;34m:\u001b[0m\u001b[0;34m\u001b[0m\u001b[0;34m\u001b[0m\u001b[0m\n\u001b[1;32m   4421\u001b[0m                 \u001b[0;32mraise\u001b[0m \u001b[0me1\u001b[0m\u001b[0;34m\u001b[0m\u001b[0;34m\u001b[0m\u001b[0m\n",
            "\u001b[0;32m/usr/local/lib/python3.6/dist-packages/pandas/core/indexes/base.py\u001b[0m in \u001b[0;36mget_value\u001b[0;34m(self, series, key)\u001b[0m\n\u001b[1;32m   4403\u001b[0m         \u001b[0mk\u001b[0m \u001b[0;34m=\u001b[0m \u001b[0mself\u001b[0m\u001b[0;34m.\u001b[0m\u001b[0m_convert_scalar_indexer\u001b[0m\u001b[0;34m(\u001b[0m\u001b[0mk\u001b[0m\u001b[0;34m,\u001b[0m \u001b[0mkind\u001b[0m\u001b[0;34m=\u001b[0m\u001b[0;34m\"getitem\"\u001b[0m\u001b[0;34m)\u001b[0m\u001b[0;34m\u001b[0m\u001b[0;34m\u001b[0m\u001b[0m\n\u001b[1;32m   4404\u001b[0m         \u001b[0;32mtry\u001b[0m\u001b[0;34m:\u001b[0m\u001b[0;34m\u001b[0m\u001b[0;34m\u001b[0m\u001b[0m\n\u001b[0;32m-> 4405\u001b[0;31m             \u001b[0;32mreturn\u001b[0m \u001b[0mself\u001b[0m\u001b[0;34m.\u001b[0m\u001b[0m_engine\u001b[0m\u001b[0;34m.\u001b[0m\u001b[0mget_value\u001b[0m\u001b[0;34m(\u001b[0m\u001b[0ms\u001b[0m\u001b[0;34m,\u001b[0m \u001b[0mk\u001b[0m\u001b[0;34m,\u001b[0m \u001b[0mtz\u001b[0m\u001b[0;34m=\u001b[0m\u001b[0mgetattr\u001b[0m\u001b[0;34m(\u001b[0m\u001b[0mseries\u001b[0m\u001b[0;34m.\u001b[0m\u001b[0mdtype\u001b[0m\u001b[0;34m,\u001b[0m \u001b[0;34m\"tz\"\u001b[0m\u001b[0;34m,\u001b[0m \u001b[0;32mNone\u001b[0m\u001b[0;34m)\u001b[0m\u001b[0;34m)\u001b[0m\u001b[0;34m\u001b[0m\u001b[0;34m\u001b[0m\u001b[0m\n\u001b[0m\u001b[1;32m   4406\u001b[0m         \u001b[0;32mexcept\u001b[0m \u001b[0mKeyError\u001b[0m \u001b[0;32mas\u001b[0m \u001b[0me1\u001b[0m\u001b[0;34m:\u001b[0m\u001b[0;34m\u001b[0m\u001b[0;34m\u001b[0m\u001b[0m\n\u001b[1;32m   4407\u001b[0m             \u001b[0;32mif\u001b[0m \u001b[0mlen\u001b[0m\u001b[0;34m(\u001b[0m\u001b[0mself\u001b[0m\u001b[0;34m)\u001b[0m \u001b[0;34m>\u001b[0m \u001b[0;36m0\u001b[0m \u001b[0;32mand\u001b[0m \u001b[0;34m(\u001b[0m\u001b[0mself\u001b[0m\u001b[0;34m.\u001b[0m\u001b[0mholds_integer\u001b[0m\u001b[0;34m(\u001b[0m\u001b[0;34m)\u001b[0m \u001b[0;32mor\u001b[0m \u001b[0mself\u001b[0m\u001b[0;34m.\u001b[0m\u001b[0mis_boolean\u001b[0m\u001b[0;34m(\u001b[0m\u001b[0;34m)\u001b[0m\u001b[0;34m)\u001b[0m\u001b[0;34m:\u001b[0m\u001b[0;34m\u001b[0m\u001b[0;34m\u001b[0m\u001b[0m\n",
            "\u001b[0;32mpandas/_libs/index.pyx\u001b[0m in \u001b[0;36mpandas._libs.index.IndexEngine.get_value\u001b[0;34m()\u001b[0m\n",
            "\u001b[0;32mpandas/_libs/index.pyx\u001b[0m in \u001b[0;36mpandas._libs.index.IndexEngine.get_value\u001b[0;34m()\u001b[0m\n",
            "\u001b[0;32mpandas/_libs/index.pyx\u001b[0m in \u001b[0;36mpandas._libs.index.IndexEngine.get_loc\u001b[0;34m()\u001b[0m\n",
            "\u001b[0;32mpandas/_libs/index.pyx\u001b[0m in \u001b[0;36mpandas._libs.index.IndexEngine._get_loc_duplicates\u001b[0;34m()\u001b[0m\n",
            "\u001b[0;32mpandas/_libs/index.pyx\u001b[0m in \u001b[0;36mpandas._libs.index.IndexEngine._maybe_get_bool_indexer\u001b[0;34m()\u001b[0m\n",
            "\u001b[0;31mKeyError\u001b[0m: 'The Lion King'"
          ]
        }
      ]
    },
    {
      "cell_type": "markdown",
      "metadata": {
        "id": "HBkhziyavwH_",
        "colab_type": "text"
      },
      "source": [
        "# Metadata Based Recommender"
      ]
    },
    {
      "cell_type": "code",
      "metadata": {
        "id": "6OJNw2sEvwIA",
        "colab_type": "code",
        "colab": {}
      },
      "source": [
        "# Load the keywords and credits files\n",
        "cred_df = pd.read_csv('/content/drive/My Drive/Data/Movie dataset/credits.csv')\n",
        "key_df = pd.read_csv('/content/drive/My Drive/Data/Movie dataset/keywords.csv')"
      ],
      "execution_count": null,
      "outputs": []
    },
    {
      "cell_type": "code",
      "metadata": {
        "id": "Rc6fsffjvwIF",
        "colab_type": "code",
        "colab": {
          "base_uri": "https://localhost:8080/",
          "height": 204
        },
        "outputId": "a67114aa-d5aa-4e2c-865a-d8f86d90d08d"
      },
      "source": [
        "#Print the head of the credit dataframe\n",
        "cred_df.head()"
      ],
      "execution_count": null,
      "outputs": [
        {
          "output_type": "execute_result",
          "data": {
            "text/html": [
              "<div>\n",
              "<style scoped>\n",
              "    .dataframe tbody tr th:only-of-type {\n",
              "        vertical-align: middle;\n",
              "    }\n",
              "\n",
              "    .dataframe tbody tr th {\n",
              "        vertical-align: top;\n",
              "    }\n",
              "\n",
              "    .dataframe thead th {\n",
              "        text-align: right;\n",
              "    }\n",
              "</style>\n",
              "<table border=\"1\" class=\"dataframe\">\n",
              "  <thead>\n",
              "    <tr style=\"text-align: right;\">\n",
              "      <th></th>\n",
              "      <th>cast</th>\n",
              "      <th>crew</th>\n",
              "      <th>id</th>\n",
              "    </tr>\n",
              "  </thead>\n",
              "  <tbody>\n",
              "    <tr>\n",
              "      <th>0</th>\n",
              "      <td>[{'cast_id': 14, 'character': 'Woody (voice)',...</td>\n",
              "      <td>[{'credit_id': '52fe4284c3a36847f8024f49', 'de...</td>\n",
              "      <td>862</td>\n",
              "    </tr>\n",
              "    <tr>\n",
              "      <th>1</th>\n",
              "      <td>[{'cast_id': 1, 'character': 'Alan Parrish', '...</td>\n",
              "      <td>[{'credit_id': '52fe44bfc3a36847f80a7cd1', 'de...</td>\n",
              "      <td>8844</td>\n",
              "    </tr>\n",
              "    <tr>\n",
              "      <th>2</th>\n",
              "      <td>[{'cast_id': 2, 'character': 'Max Goldman', 'c...</td>\n",
              "      <td>[{'credit_id': '52fe466a9251416c75077a89', 'de...</td>\n",
              "      <td>15602</td>\n",
              "    </tr>\n",
              "    <tr>\n",
              "      <th>3</th>\n",
              "      <td>[{'cast_id': 1, 'character': \"Savannah 'Vannah...</td>\n",
              "      <td>[{'credit_id': '52fe44779251416c91011acb', 'de...</td>\n",
              "      <td>31357</td>\n",
              "    </tr>\n",
              "    <tr>\n",
              "      <th>4</th>\n",
              "      <td>[{'cast_id': 1, 'character': 'George Banks', '...</td>\n",
              "      <td>[{'credit_id': '52fe44959251416c75039ed7', 'de...</td>\n",
              "      <td>11862</td>\n",
              "    </tr>\n",
              "  </tbody>\n",
              "</table>\n",
              "</div>"
            ],
            "text/plain": [
              "                                                cast  ...     id\n",
              "0  [{'cast_id': 14, 'character': 'Woody (voice)',...  ...    862\n",
              "1  [{'cast_id': 1, 'character': 'Alan Parrish', '...  ...   8844\n",
              "2  [{'cast_id': 2, 'character': 'Max Goldman', 'c...  ...  15602\n",
              "3  [{'cast_id': 1, 'character': \"Savannah 'Vannah...  ...  31357\n",
              "4  [{'cast_id': 1, 'character': 'George Banks', '...  ...  11862\n",
              "\n",
              "[5 rows x 3 columns]"
            ]
          },
          "metadata": {
            "tags": []
          },
          "execution_count": 7
        }
      ]
    },
    {
      "cell_type": "code",
      "metadata": {
        "id": "pjIVMnE6vwIH",
        "colab_type": "code",
        "colab": {
          "base_uri": "https://localhost:8080/",
          "height": 204
        },
        "outputId": "88b1477e-3323-4189-b107-d4ed1bd97506"
      },
      "source": [
        "#Print the head of the keywords dataframe\n",
        "key_df.head()"
      ],
      "execution_count": null,
      "outputs": [
        {
          "output_type": "execute_result",
          "data": {
            "text/html": [
              "<div>\n",
              "<style scoped>\n",
              "    .dataframe tbody tr th:only-of-type {\n",
              "        vertical-align: middle;\n",
              "    }\n",
              "\n",
              "    .dataframe tbody tr th {\n",
              "        vertical-align: top;\n",
              "    }\n",
              "\n",
              "    .dataframe thead th {\n",
              "        text-align: right;\n",
              "    }\n",
              "</style>\n",
              "<table border=\"1\" class=\"dataframe\">\n",
              "  <thead>\n",
              "    <tr style=\"text-align: right;\">\n",
              "      <th></th>\n",
              "      <th>id</th>\n",
              "      <th>keywords</th>\n",
              "    </tr>\n",
              "  </thead>\n",
              "  <tbody>\n",
              "    <tr>\n",
              "      <th>0</th>\n",
              "      <td>862</td>\n",
              "      <td>[{'id': 931, 'name': 'jealousy'}, {'id': 4290,...</td>\n",
              "    </tr>\n",
              "    <tr>\n",
              "      <th>1</th>\n",
              "      <td>8844</td>\n",
              "      <td>[{'id': 10090, 'name': 'board game'}, {'id': 1...</td>\n",
              "    </tr>\n",
              "    <tr>\n",
              "      <th>2</th>\n",
              "      <td>15602</td>\n",
              "      <td>[{'id': 1495, 'name': 'fishing'}, {'id': 12392...</td>\n",
              "    </tr>\n",
              "    <tr>\n",
              "      <th>3</th>\n",
              "      <td>31357</td>\n",
              "      <td>[{'id': 818, 'name': 'based on novel'}, {'id':...</td>\n",
              "    </tr>\n",
              "    <tr>\n",
              "      <th>4</th>\n",
              "      <td>11862</td>\n",
              "      <td>[{'id': 1009, 'name': 'baby'}, {'id': 1599, 'n...</td>\n",
              "    </tr>\n",
              "  </tbody>\n",
              "</table>\n",
              "</div>"
            ],
            "text/plain": [
              "      id                                           keywords\n",
              "0    862  [{'id': 931, 'name': 'jealousy'}, {'id': 4290,...\n",
              "1   8844  [{'id': 10090, 'name': 'board game'}, {'id': 1...\n",
              "2  15602  [{'id': 1495, 'name': 'fishing'}, {'id': 12392...\n",
              "3  31357  [{'id': 818, 'name': 'based on novel'}, {'id':...\n",
              "4  11862  [{'id': 1009, 'name': 'baby'}, {'id': 1599, 'n..."
            ]
          },
          "metadata": {
            "tags": []
          },
          "execution_count": 8
        }
      ]
    },
    {
      "cell_type": "code",
      "metadata": {
        "id": "u6ULoZkkvwIK",
        "colab_type": "code",
        "colab": {},
        "outputId": "865a4b4c-4494-4a7f-9709-588d4a594361"
      },
      "source": [
        "#Convert the IDs of df into int\n",
        "df['id'] = df['id'].astype('int')"
      ],
      "execution_count": null,
      "outputs": [
        {
          "output_type": "error",
          "ename": "ValueError",
          "evalue": "invalid literal for int() with base 10: '1997-08-20'",
          "traceback": [
            "\u001b[0;31m---------------------------------------------------------------------------\u001b[0m",
            "\u001b[0;31mValueError\u001b[0m                                Traceback (most recent call last)",
            "\u001b[0;32m<ipython-input-11-d101985d6747>\u001b[0m in \u001b[0;36m<module>\u001b[0;34m()\u001b[0m\n\u001b[1;32m      1\u001b[0m \u001b[0;31m#Convert the IDs of df into int\u001b[0m\u001b[0;34m\u001b[0m\u001b[0;34m\u001b[0m\u001b[0m\n\u001b[0;32m----> 2\u001b[0;31m \u001b[0mdf\u001b[0m\u001b[0;34m[\u001b[0m\u001b[0;34m'id'\u001b[0m\u001b[0;34m]\u001b[0m \u001b[0;34m=\u001b[0m \u001b[0mdf\u001b[0m\u001b[0;34m[\u001b[0m\u001b[0;34m'id'\u001b[0m\u001b[0;34m]\u001b[0m\u001b[0;34m.\u001b[0m\u001b[0mastype\u001b[0m\u001b[0;34m(\u001b[0m\u001b[0;34m'int'\u001b[0m\u001b[0;34m)\u001b[0m\u001b[0;34m\u001b[0m\u001b[0m\n\u001b[0m",
            "\u001b[0;32m/usr/local/lib/python3.6/site-packages/pandas/util/_decorators.py\u001b[0m in \u001b[0;36mwrapper\u001b[0;34m(*args, **kwargs)\u001b[0m\n\u001b[1;32m     89\u001b[0m                 \u001b[0;32melse\u001b[0m\u001b[0;34m:\u001b[0m\u001b[0;34m\u001b[0m\u001b[0m\n\u001b[1;32m     90\u001b[0m                     \u001b[0mkwargs\u001b[0m\u001b[0;34m[\u001b[0m\u001b[0mnew_arg_name\u001b[0m\u001b[0;34m]\u001b[0m \u001b[0;34m=\u001b[0m \u001b[0mnew_arg_value\u001b[0m\u001b[0;34m\u001b[0m\u001b[0m\n\u001b[0;32m---> 91\u001b[0;31m             \u001b[0;32mreturn\u001b[0m \u001b[0mfunc\u001b[0m\u001b[0;34m(\u001b[0m\u001b[0;34m*\u001b[0m\u001b[0margs\u001b[0m\u001b[0;34m,\u001b[0m \u001b[0;34m**\u001b[0m\u001b[0mkwargs\u001b[0m\u001b[0;34m)\u001b[0m\u001b[0;34m\u001b[0m\u001b[0m\n\u001b[0m\u001b[1;32m     92\u001b[0m         \u001b[0;32mreturn\u001b[0m \u001b[0mwrapper\u001b[0m\u001b[0;34m\u001b[0m\u001b[0m\n\u001b[1;32m     93\u001b[0m     \u001b[0;32mreturn\u001b[0m \u001b[0m_deprecate_kwarg\u001b[0m\u001b[0;34m\u001b[0m\u001b[0m\n",
            "\u001b[0;32m/usr/local/lib/python3.6/site-packages/pandas/core/generic.py\u001b[0m in \u001b[0;36mastype\u001b[0;34m(self, dtype, copy, errors, **kwargs)\u001b[0m\n\u001b[1;32m   3408\u001b[0m         \u001b[0;31m# else, only a single dtype is given\u001b[0m\u001b[0;34m\u001b[0m\u001b[0;34m\u001b[0m\u001b[0m\n\u001b[1;32m   3409\u001b[0m         new_data = self._data.astype(dtype=dtype, copy=copy, errors=errors,\n\u001b[0;32m-> 3410\u001b[0;31m                                      **kwargs)\n\u001b[0m\u001b[1;32m   3411\u001b[0m         \u001b[0;32mreturn\u001b[0m \u001b[0mself\u001b[0m\u001b[0;34m.\u001b[0m\u001b[0m_constructor\u001b[0m\u001b[0;34m(\u001b[0m\u001b[0mnew_data\u001b[0m\u001b[0;34m)\u001b[0m\u001b[0;34m.\u001b[0m\u001b[0m__finalize__\u001b[0m\u001b[0;34m(\u001b[0m\u001b[0mself\u001b[0m\u001b[0;34m)\u001b[0m\u001b[0;34m\u001b[0m\u001b[0m\n\u001b[1;32m   3412\u001b[0m \u001b[0;34m\u001b[0m\u001b[0m\n",
            "\u001b[0;32m/usr/local/lib/python3.6/site-packages/pandas/core/internals.py\u001b[0m in \u001b[0;36mastype\u001b[0;34m(self, dtype, **kwargs)\u001b[0m\n\u001b[1;32m   3222\u001b[0m \u001b[0;34m\u001b[0m\u001b[0m\n\u001b[1;32m   3223\u001b[0m     \u001b[0;32mdef\u001b[0m \u001b[0mastype\u001b[0m\u001b[0;34m(\u001b[0m\u001b[0mself\u001b[0m\u001b[0;34m,\u001b[0m \u001b[0mdtype\u001b[0m\u001b[0;34m,\u001b[0m \u001b[0;34m**\u001b[0m\u001b[0mkwargs\u001b[0m\u001b[0;34m)\u001b[0m\u001b[0;34m:\u001b[0m\u001b[0;34m\u001b[0m\u001b[0m\n\u001b[0;32m-> 3224\u001b[0;31m         \u001b[0;32mreturn\u001b[0m \u001b[0mself\u001b[0m\u001b[0;34m.\u001b[0m\u001b[0mapply\u001b[0m\u001b[0;34m(\u001b[0m\u001b[0;34m'astype'\u001b[0m\u001b[0;34m,\u001b[0m \u001b[0mdtype\u001b[0m\u001b[0;34m=\u001b[0m\u001b[0mdtype\u001b[0m\u001b[0;34m,\u001b[0m \u001b[0;34m**\u001b[0m\u001b[0mkwargs\u001b[0m\u001b[0;34m)\u001b[0m\u001b[0;34m\u001b[0m\u001b[0m\n\u001b[0m\u001b[1;32m   3225\u001b[0m \u001b[0;34m\u001b[0m\u001b[0m\n\u001b[1;32m   3226\u001b[0m     \u001b[0;32mdef\u001b[0m \u001b[0mconvert\u001b[0m\u001b[0;34m(\u001b[0m\u001b[0mself\u001b[0m\u001b[0;34m,\u001b[0m \u001b[0;34m**\u001b[0m\u001b[0mkwargs\u001b[0m\u001b[0;34m)\u001b[0m\u001b[0;34m:\u001b[0m\u001b[0;34m\u001b[0m\u001b[0m\n",
            "\u001b[0;32m/usr/local/lib/python3.6/site-packages/pandas/core/internals.py\u001b[0m in \u001b[0;36mapply\u001b[0;34m(self, f, axes, filter, do_integrity_check, consolidate, **kwargs)\u001b[0m\n\u001b[1;32m   3089\u001b[0m \u001b[0;34m\u001b[0m\u001b[0m\n\u001b[1;32m   3090\u001b[0m             \u001b[0mkwargs\u001b[0m\u001b[0;34m[\u001b[0m\u001b[0;34m'mgr'\u001b[0m\u001b[0;34m]\u001b[0m \u001b[0;34m=\u001b[0m \u001b[0mself\u001b[0m\u001b[0;34m\u001b[0m\u001b[0m\n\u001b[0;32m-> 3091\u001b[0;31m             \u001b[0mapplied\u001b[0m \u001b[0;34m=\u001b[0m \u001b[0mgetattr\u001b[0m\u001b[0;34m(\u001b[0m\u001b[0mb\u001b[0m\u001b[0;34m,\u001b[0m \u001b[0mf\u001b[0m\u001b[0;34m)\u001b[0m\u001b[0;34m(\u001b[0m\u001b[0;34m**\u001b[0m\u001b[0mkwargs\u001b[0m\u001b[0;34m)\u001b[0m\u001b[0;34m\u001b[0m\u001b[0m\n\u001b[0m\u001b[1;32m   3092\u001b[0m             \u001b[0mresult_blocks\u001b[0m \u001b[0;34m=\u001b[0m \u001b[0m_extend_blocks\u001b[0m\u001b[0;34m(\u001b[0m\u001b[0mapplied\u001b[0m\u001b[0;34m,\u001b[0m \u001b[0mresult_blocks\u001b[0m\u001b[0;34m)\u001b[0m\u001b[0;34m\u001b[0m\u001b[0m\n\u001b[1;32m   3093\u001b[0m \u001b[0;34m\u001b[0m\u001b[0m\n",
            "\u001b[0;32m/usr/local/lib/python3.6/site-packages/pandas/core/internals.py\u001b[0m in \u001b[0;36mastype\u001b[0;34m(self, dtype, copy, errors, values, **kwargs)\u001b[0m\n\u001b[1;32m    469\u001b[0m     \u001b[0;32mdef\u001b[0m \u001b[0mastype\u001b[0m\u001b[0;34m(\u001b[0m\u001b[0mself\u001b[0m\u001b[0;34m,\u001b[0m \u001b[0mdtype\u001b[0m\u001b[0;34m,\u001b[0m \u001b[0mcopy\u001b[0m\u001b[0;34m=\u001b[0m\u001b[0;32mFalse\u001b[0m\u001b[0;34m,\u001b[0m \u001b[0merrors\u001b[0m\u001b[0;34m=\u001b[0m\u001b[0;34m'raise'\u001b[0m\u001b[0;34m,\u001b[0m \u001b[0mvalues\u001b[0m\u001b[0;34m=\u001b[0m\u001b[0;32mNone\u001b[0m\u001b[0;34m,\u001b[0m \u001b[0;34m**\u001b[0m\u001b[0mkwargs\u001b[0m\u001b[0;34m)\u001b[0m\u001b[0;34m:\u001b[0m\u001b[0;34m\u001b[0m\u001b[0m\n\u001b[1;32m    470\u001b[0m         return self._astype(dtype, copy=copy, errors=errors, values=values,\n\u001b[0;32m--> 471\u001b[0;31m                             **kwargs)\n\u001b[0m\u001b[1;32m    472\u001b[0m \u001b[0;34m\u001b[0m\u001b[0m\n\u001b[1;32m    473\u001b[0m     def _astype(self, dtype, copy=False, errors='raise', values=None,\n",
            "\u001b[0;32m/usr/local/lib/python3.6/site-packages/pandas/core/internals.py\u001b[0m in \u001b[0;36m_astype\u001b[0;34m(self, dtype, copy, errors, values, klass, mgr, raise_on_error, **kwargs)\u001b[0m\n\u001b[1;32m    519\u001b[0m \u001b[0;34m\u001b[0m\u001b[0m\n\u001b[1;32m    520\u001b[0m                 \u001b[0;31m# _astype_nansafe works fine with 1-d only\u001b[0m\u001b[0;34m\u001b[0m\u001b[0;34m\u001b[0m\u001b[0m\n\u001b[0;32m--> 521\u001b[0;31m                 \u001b[0mvalues\u001b[0m \u001b[0;34m=\u001b[0m \u001b[0mastype_nansafe\u001b[0m\u001b[0;34m(\u001b[0m\u001b[0mvalues\u001b[0m\u001b[0;34m.\u001b[0m\u001b[0mravel\u001b[0m\u001b[0;34m(\u001b[0m\u001b[0;34m)\u001b[0m\u001b[0;34m,\u001b[0m \u001b[0mdtype\u001b[0m\u001b[0;34m,\u001b[0m \u001b[0mcopy\u001b[0m\u001b[0;34m=\u001b[0m\u001b[0;32mTrue\u001b[0m\u001b[0;34m)\u001b[0m\u001b[0;34m\u001b[0m\u001b[0m\n\u001b[0m\u001b[1;32m    522\u001b[0m                 \u001b[0mvalues\u001b[0m \u001b[0;34m=\u001b[0m \u001b[0mvalues\u001b[0m\u001b[0;34m.\u001b[0m\u001b[0mreshape\u001b[0m\u001b[0;34m(\u001b[0m\u001b[0mself\u001b[0m\u001b[0;34m.\u001b[0m\u001b[0mshape\u001b[0m\u001b[0;34m)\u001b[0m\u001b[0;34m\u001b[0m\u001b[0m\n\u001b[1;32m    523\u001b[0m \u001b[0;34m\u001b[0m\u001b[0m\n",
            "\u001b[0;32m/usr/local/lib/python3.6/site-packages/pandas/core/dtypes/cast.py\u001b[0m in \u001b[0;36mastype_nansafe\u001b[0;34m(arr, dtype, copy)\u001b[0m\n\u001b[1;32m    623\u001b[0m     \u001b[0;32melif\u001b[0m \u001b[0marr\u001b[0m\u001b[0;34m.\u001b[0m\u001b[0mdtype\u001b[0m \u001b[0;34m==\u001b[0m \u001b[0mnp\u001b[0m\u001b[0;34m.\u001b[0m\u001b[0mobject_\u001b[0m \u001b[0;32mand\u001b[0m \u001b[0mnp\u001b[0m\u001b[0;34m.\u001b[0m\u001b[0missubdtype\u001b[0m\u001b[0;34m(\u001b[0m\u001b[0mdtype\u001b[0m\u001b[0;34m.\u001b[0m\u001b[0mtype\u001b[0m\u001b[0;34m,\u001b[0m \u001b[0mnp\u001b[0m\u001b[0;34m.\u001b[0m\u001b[0minteger\u001b[0m\u001b[0;34m)\u001b[0m\u001b[0;34m:\u001b[0m\u001b[0;34m\u001b[0m\u001b[0m\n\u001b[1;32m    624\u001b[0m         \u001b[0;31m# work around NumPy brokenness, #1987\u001b[0m\u001b[0;34m\u001b[0m\u001b[0;34m\u001b[0m\u001b[0m\n\u001b[0;32m--> 625\u001b[0;31m         \u001b[0;32mreturn\u001b[0m \u001b[0mlib\u001b[0m\u001b[0;34m.\u001b[0m\u001b[0mastype_intsafe\u001b[0m\u001b[0;34m(\u001b[0m\u001b[0marr\u001b[0m\u001b[0;34m.\u001b[0m\u001b[0mravel\u001b[0m\u001b[0;34m(\u001b[0m\u001b[0;34m)\u001b[0m\u001b[0;34m,\u001b[0m \u001b[0mdtype\u001b[0m\u001b[0;34m)\u001b[0m\u001b[0;34m.\u001b[0m\u001b[0mreshape\u001b[0m\u001b[0;34m(\u001b[0m\u001b[0marr\u001b[0m\u001b[0;34m.\u001b[0m\u001b[0mshape\u001b[0m\u001b[0;34m)\u001b[0m\u001b[0;34m\u001b[0m\u001b[0m\n\u001b[0m\u001b[1;32m    626\u001b[0m \u001b[0;34m\u001b[0m\u001b[0m\n\u001b[1;32m    627\u001b[0m     \u001b[0;32mif\u001b[0m \u001b[0mdtype\u001b[0m\u001b[0;34m.\u001b[0m\u001b[0mname\u001b[0m \u001b[0;32min\u001b[0m \u001b[0;34m(\u001b[0m\u001b[0;34m\"datetime64\"\u001b[0m\u001b[0;34m,\u001b[0m \u001b[0;34m\"timedelta64\"\u001b[0m\u001b[0;34m)\u001b[0m\u001b[0;34m:\u001b[0m\u001b[0;34m\u001b[0m\u001b[0m\n",
            "\u001b[0;32mpandas/_libs/lib.pyx\u001b[0m in \u001b[0;36mpandas._libs.lib.astype_intsafe (pandas/_libs/lib.c:16264)\u001b[0;34m()\u001b[0m\n",
            "\u001b[0;32mpandas/_libs/src/util.pxd\u001b[0m in \u001b[0;36mutil.set_value_at_unsafe (pandas/_libs/lib.c:73298)\u001b[0;34m()\u001b[0m\n",
            "\u001b[0;31mValueError\u001b[0m: invalid literal for int() with base 10: '1997-08-20'"
          ]
        }
      ]
    },
    {
      "cell_type": "code",
      "metadata": {
        "id": "7pZFit-XvwIN",
        "colab_type": "code",
        "colab": {}
      },
      "source": [
        "# Function to convert all non-integer IDs to NaN\n",
        "def clean_ids(x):\n",
        "    try:\n",
        "        return int(x)\n",
        "    except:\n",
        "        return np.nan"
      ],
      "execution_count": null,
      "outputs": []
    },
    {
      "cell_type": "code",
      "metadata": {
        "id": "Jw14VdZwvwIQ",
        "colab_type": "code",
        "colab": {}
      },
      "source": [
        "#Clean the ids of df\n",
        "df['id'] = df['id'].apply(clean_ids)\n",
        "\n",
        "#Filter all rows that have a null ID\n",
        "df = df[df['id'].notnull()]"
      ],
      "execution_count": null,
      "outputs": []
    },
    {
      "cell_type": "code",
      "metadata": {
        "id": "Y_B66giWvwIZ",
        "colab_type": "code",
        "colab": {},
        "outputId": "76a1673e-7dd0-4323-ae8a-b1e85bab6881"
      },
      "source": [
        "# Convert IDs into integer\n",
        "df['id'] = df['id'].astype('int')\n",
        "key_df['id'] = key_df['id'].astype('int')\n",
        "cred_df['id'] = cred_df['id'].astype('int')\n",
        "\n",
        "# Merge keywords and credits into your main metadata dataframe\n",
        "df = df.merge(cred_df, on='id')\n",
        "df = df.merge(key_df, on='id')\n",
        "\n",
        "#Display the head of df\n",
        "df.head()"
      ],
      "execution_count": null,
      "outputs": [
        {
          "output_type": "stream",
          "text": [
            "/usr/local/lib/python3.6/site-packages/ipykernel_launcher.py:2: SettingWithCopyWarning: \n",
            "A value is trying to be set on a copy of a slice from a DataFrame.\n",
            "Try using .loc[row_indexer,col_indexer] = value instead\n",
            "\n",
            "See the caveats in the documentation: http://pandas.pydata.org/pandas-docs/stable/indexing.html#indexing-view-versus-copy\n",
            "  \n"
          ],
          "name": "stderr"
        },
        {
          "output_type": "execute_result",
          "data": {
            "text/html": [
              "<div>\n",
              "<style>\n",
              "    .dataframe thead tr:only-child th {\n",
              "        text-align: right;\n",
              "    }\n",
              "\n",
              "    .dataframe thead th {\n",
              "        text-align: left;\n",
              "    }\n",
              "\n",
              "    .dataframe tbody tr th {\n",
              "        vertical-align: top;\n",
              "    }\n",
              "</style>\n",
              "<table border=\"1\" class=\"dataframe\">\n",
              "  <thead>\n",
              "    <tr style=\"text-align: right;\">\n",
              "      <th></th>\n",
              "      <th>title</th>\n",
              "      <th>genres</th>\n",
              "      <th>runtime</th>\n",
              "      <th>vote_average</th>\n",
              "      <th>vote_count</th>\n",
              "      <th>year</th>\n",
              "      <th>overview</th>\n",
              "      <th>id</th>\n",
              "      <th>cast</th>\n",
              "      <th>crew</th>\n",
              "      <th>keywords</th>\n",
              "    </tr>\n",
              "  </thead>\n",
              "  <tbody>\n",
              "    <tr>\n",
              "      <th>0</th>\n",
              "      <td>Toy Story</td>\n",
              "      <td>['animation', 'comedy', 'family']</td>\n",
              "      <td>81.0</td>\n",
              "      <td>7.7</td>\n",
              "      <td>5415.0</td>\n",
              "      <td>1995</td>\n",
              "      <td>Led by Woody, Andy's toys live happily in his ...</td>\n",
              "      <td>862</td>\n",
              "      <td>[{'cast_id': 14, 'character': 'Woody (voice)',...</td>\n",
              "      <td>[{'credit_id': '52fe4284c3a36847f8024f49', 'de...</td>\n",
              "      <td>[{'id': 931, 'name': 'jealousy'}, {'id': 4290,...</td>\n",
              "    </tr>\n",
              "    <tr>\n",
              "      <th>1</th>\n",
              "      <td>Jumanji</td>\n",
              "      <td>['adventure', 'fantasy', 'family']</td>\n",
              "      <td>104.0</td>\n",
              "      <td>6.9</td>\n",
              "      <td>2413.0</td>\n",
              "      <td>1995</td>\n",
              "      <td>When siblings Judy and Peter discover an encha...</td>\n",
              "      <td>8844</td>\n",
              "      <td>[{'cast_id': 1, 'character': 'Alan Parrish', '...</td>\n",
              "      <td>[{'credit_id': '52fe44bfc3a36847f80a7cd1', 'de...</td>\n",
              "      <td>[{'id': 10090, 'name': 'board game'}, {'id': 1...</td>\n",
              "    </tr>\n",
              "    <tr>\n",
              "      <th>2</th>\n",
              "      <td>Grumpier Old Men</td>\n",
              "      <td>['romance', 'comedy']</td>\n",
              "      <td>101.0</td>\n",
              "      <td>6.5</td>\n",
              "      <td>92.0</td>\n",
              "      <td>1995</td>\n",
              "      <td>A family wedding reignites the ancient feud be...</td>\n",
              "      <td>15602</td>\n",
              "      <td>[{'cast_id': 2, 'character': 'Max Goldman', 'c...</td>\n",
              "      <td>[{'credit_id': '52fe466a9251416c75077a89', 'de...</td>\n",
              "      <td>[{'id': 1495, 'name': 'fishing'}, {'id': 12392...</td>\n",
              "    </tr>\n",
              "    <tr>\n",
              "      <th>3</th>\n",
              "      <td>Waiting to Exhale</td>\n",
              "      <td>['comedy', 'drama', 'romance']</td>\n",
              "      <td>127.0</td>\n",
              "      <td>6.1</td>\n",
              "      <td>34.0</td>\n",
              "      <td>1995</td>\n",
              "      <td>Cheated on, mistreated and stepped on, the wom...</td>\n",
              "      <td>31357</td>\n",
              "      <td>[{'cast_id': 1, 'character': \"Savannah 'Vannah...</td>\n",
              "      <td>[{'credit_id': '52fe44779251416c91011acb', 'de...</td>\n",
              "      <td>[{'id': 818, 'name': 'based on novel'}, {'id':...</td>\n",
              "    </tr>\n",
              "    <tr>\n",
              "      <th>4</th>\n",
              "      <td>Father of the Bride Part II</td>\n",
              "      <td>['comedy']</td>\n",
              "      <td>106.0</td>\n",
              "      <td>5.7</td>\n",
              "      <td>173.0</td>\n",
              "      <td>1995</td>\n",
              "      <td>Just when George Banks has recovered from his ...</td>\n",
              "      <td>11862</td>\n",
              "      <td>[{'cast_id': 1, 'character': 'George Banks', '...</td>\n",
              "      <td>[{'credit_id': '52fe44959251416c75039ed7', 'de...</td>\n",
              "      <td>[{'id': 1009, 'name': 'baby'}, {'id': 1599, 'n...</td>\n",
              "    </tr>\n",
              "  </tbody>\n",
              "</table>\n",
              "</div>"
            ],
            "text/plain": [
              "                         title                              genres  runtime  \\\n",
              "0                    Toy Story   ['animation', 'comedy', 'family']     81.0   \n",
              "1                      Jumanji  ['adventure', 'fantasy', 'family']    104.0   \n",
              "2             Grumpier Old Men               ['romance', 'comedy']    101.0   \n",
              "3            Waiting to Exhale      ['comedy', 'drama', 'romance']    127.0   \n",
              "4  Father of the Bride Part II                          ['comedy']    106.0   \n",
              "\n",
              "   vote_average  vote_count  year  \\\n",
              "0           7.7      5415.0  1995   \n",
              "1           6.9      2413.0  1995   \n",
              "2           6.5        92.0  1995   \n",
              "3           6.1        34.0  1995   \n",
              "4           5.7       173.0  1995   \n",
              "\n",
              "                                            overview     id  \\\n",
              "0  Led by Woody, Andy's toys live happily in his ...    862   \n",
              "1  When siblings Judy and Peter discover an encha...   8844   \n",
              "2  A family wedding reignites the ancient feud be...  15602   \n",
              "3  Cheated on, mistreated and stepped on, the wom...  31357   \n",
              "4  Just when George Banks has recovered from his ...  11862   \n",
              "\n",
              "                                                cast  \\\n",
              "0  [{'cast_id': 14, 'character': 'Woody (voice)',...   \n",
              "1  [{'cast_id': 1, 'character': 'Alan Parrish', '...   \n",
              "2  [{'cast_id': 2, 'character': 'Max Goldman', 'c...   \n",
              "3  [{'cast_id': 1, 'character': \"Savannah 'Vannah...   \n",
              "4  [{'cast_id': 1, 'character': 'George Banks', '...   \n",
              "\n",
              "                                                crew  \\\n",
              "0  [{'credit_id': '52fe4284c3a36847f8024f49', 'de...   \n",
              "1  [{'credit_id': '52fe44bfc3a36847f80a7cd1', 'de...   \n",
              "2  [{'credit_id': '52fe466a9251416c75077a89', 'de...   \n",
              "3  [{'credit_id': '52fe44779251416c91011acb', 'de...   \n",
              "4  [{'credit_id': '52fe44959251416c75039ed7', 'de...   \n",
              "\n",
              "                                            keywords  \n",
              "0  [{'id': 931, 'name': 'jealousy'}, {'id': 4290,...  \n",
              "1  [{'id': 10090, 'name': 'board game'}, {'id': 1...  \n",
              "2  [{'id': 1495, 'name': 'fishing'}, {'id': 12392...  \n",
              "3  [{'id': 818, 'name': 'based on novel'}, {'id':...  \n",
              "4  [{'id': 1009, 'name': 'baby'}, {'id': 1599, 'n...  "
            ]
          },
          "metadata": {
            "tags": []
          },
          "execution_count": 14
        }
      ]
    },
    {
      "cell_type": "code",
      "metadata": {
        "id": "xMQBQdExvwIc",
        "colab_type": "code",
        "colab": {}
      },
      "source": [
        "# Convert the stringified objects into the native python objects\n",
        "from ast import literal_eval\n",
        "\n",
        "features = ['cast', 'crew', 'keywords', 'genres']\n",
        "for feature in features:\n",
        "    df[feature] = df[feature].apply(literal_eval)"
      ],
      "execution_count": null,
      "outputs": []
    },
    {
      "cell_type": "code",
      "metadata": {
        "id": "pdQbRVvGvwIe",
        "colab_type": "code",
        "colab": {},
        "outputId": "4339ab90-24af-4e37-c916-f5896045a9ea"
      },
      "source": [
        "#Print the first cast member of the first movie in df\n",
        "df.iloc[0]['crew'][0]"
      ],
      "execution_count": null,
      "outputs": [
        {
          "output_type": "execute_result",
          "data": {
            "text/plain": [
              "{'credit_id': '52fe4284c3a36847f8024f49',\n",
              " 'department': 'Directing',\n",
              " 'gender': 2,\n",
              " 'id': 7879,\n",
              " 'job': 'Director',\n",
              " 'name': 'John Lasseter',\n",
              " 'profile_path': '/7EdqiNbr4FRjIhKHyPPdFfEEEFG.jpg'}"
            ]
          },
          "metadata": {
            "tags": []
          },
          "execution_count": 16
        }
      ]
    },
    {
      "cell_type": "code",
      "metadata": {
        "id": "9MQ11dn9vwIh",
        "colab_type": "code",
        "colab": {}
      },
      "source": [
        "# Extract the director's name. If director is not listed, return NaN\n",
        "def get_director(x):\n",
        "    for crew_member in x:\n",
        "        if crew_member['job'] == 'Director':\n",
        "            return crew_member['name']\n",
        "    return np.nan"
      ],
      "execution_count": null,
      "outputs": []
    },
    {
      "cell_type": "code",
      "metadata": {
        "id": "kJv_sz1LvwIk",
        "colab_type": "code",
        "colab": {},
        "outputId": "b3866a8d-4c01-4626-8772-64d708bca99d"
      },
      "source": [
        "#Define the new director feature\n",
        "df['director'] = df['crew'].apply(get_director)\n",
        "\n",
        "#Print the directors of the first five movies\n",
        "df['director'].head()"
      ],
      "execution_count": null,
      "outputs": [
        {
          "output_type": "execute_result",
          "data": {
            "text/plain": [
              "0      John Lasseter\n",
              "1       Joe Johnston\n",
              "2      Howard Deutch\n",
              "3    Forest Whitaker\n",
              "4      Charles Shyer\n",
              "Name: director, dtype: object"
            ]
          },
          "metadata": {
            "tags": []
          },
          "execution_count": 18
        }
      ]
    },
    {
      "cell_type": "code",
      "metadata": {
        "id": "zi5ihJm0vwIn",
        "colab_type": "code",
        "colab": {}
      },
      "source": [
        "# Returns the list top 3 elements or entire list; whichever is more.\n",
        "def generate_list(x):\n",
        "    if isinstance(x, list):\n",
        "        names = [i['name'] for i in x]\n",
        "        #Check if more than 3 elements exist. If yes, return only first three. If no, return entire list.\n",
        "        if len(names) > 3:\n",
        "            names = names[:3]\n",
        "        return names\n",
        "\n",
        "    #Return empty list in case of missing/malformed data\n",
        "    return []"
      ],
      "execution_count": null,
      "outputs": []
    },
    {
      "cell_type": "code",
      "metadata": {
        "id": "ThmJwVW6vwIp",
        "colab_type": "code",
        "colab": {}
      },
      "source": [
        "#Apply the generate_list function to cast and keywords\n",
        "df['cast'] = df['cast'].apply(generate_list)\n",
        "df['keywords'] = df['keywords'].apply(generate_list)"
      ],
      "execution_count": null,
      "outputs": []
    },
    {
      "cell_type": "code",
      "metadata": {
        "id": "1eirrZ3GvwIr",
        "colab_type": "code",
        "colab": {}
      },
      "source": [
        "#Only consider a maximum of 3 genres\n",
        "df['genres'] = df['genres'].apply(lambda x: x[:3])"
      ],
      "execution_count": null,
      "outputs": []
    },
    {
      "cell_type": "code",
      "metadata": {
        "id": "G6VcVbQivwI1",
        "colab_type": "code",
        "colab": {},
        "outputId": "791defd2-167e-4790-9edc-5347610b0e2e"
      },
      "source": [
        "# Print the new features of the first 5 movies along with title\n",
        "df[['title', 'cast', 'director', 'keywords', 'genres']].head()"
      ],
      "execution_count": null,
      "outputs": [
        {
          "output_type": "execute_result",
          "data": {
            "text/html": [
              "<div>\n",
              "<style>\n",
              "    .dataframe thead tr:only-child th {\n",
              "        text-align: right;\n",
              "    }\n",
              "\n",
              "    .dataframe thead th {\n",
              "        text-align: left;\n",
              "    }\n",
              "\n",
              "    .dataframe tbody tr th {\n",
              "        vertical-align: top;\n",
              "    }\n",
              "</style>\n",
              "<table border=\"1\" class=\"dataframe\">\n",
              "  <thead>\n",
              "    <tr style=\"text-align: right;\">\n",
              "      <th></th>\n",
              "      <th>title</th>\n",
              "      <th>cast</th>\n",
              "      <th>director</th>\n",
              "      <th>keywords</th>\n",
              "      <th>genres</th>\n",
              "    </tr>\n",
              "  </thead>\n",
              "  <tbody>\n",
              "    <tr>\n",
              "      <th>0</th>\n",
              "      <td>Toy Story</td>\n",
              "      <td>[Tom Hanks, Tim Allen, Don Rickles]</td>\n",
              "      <td>John Lasseter</td>\n",
              "      <td>[jealousy, toy, boy]</td>\n",
              "      <td>[animation, comedy, family]</td>\n",
              "    </tr>\n",
              "    <tr>\n",
              "      <th>1</th>\n",
              "      <td>Jumanji</td>\n",
              "      <td>[Robin Williams, Jonathan Hyde, Kirsten Dunst]</td>\n",
              "      <td>Joe Johnston</td>\n",
              "      <td>[board game, disappearance, based on children'...</td>\n",
              "      <td>[adventure, fantasy, family]</td>\n",
              "    </tr>\n",
              "    <tr>\n",
              "      <th>2</th>\n",
              "      <td>Grumpier Old Men</td>\n",
              "      <td>[Walter Matthau, Jack Lemmon, Ann-Margret]</td>\n",
              "      <td>Howard Deutch</td>\n",
              "      <td>[fishing, best friend, duringcreditsstinger]</td>\n",
              "      <td>[romance, comedy]</td>\n",
              "    </tr>\n",
              "    <tr>\n",
              "      <th>3</th>\n",
              "      <td>Waiting to Exhale</td>\n",
              "      <td>[Whitney Houston, Angela Bassett, Loretta Devine]</td>\n",
              "      <td>Forest Whitaker</td>\n",
              "      <td>[based on novel, interracial relationship, sin...</td>\n",
              "      <td>[comedy, drama, romance]</td>\n",
              "    </tr>\n",
              "    <tr>\n",
              "      <th>4</th>\n",
              "      <td>Father of the Bride Part II</td>\n",
              "      <td>[Steve Martin, Diane Keaton, Martin Short]</td>\n",
              "      <td>Charles Shyer</td>\n",
              "      <td>[baby, midlife crisis, confidence]</td>\n",
              "      <td>[comedy]</td>\n",
              "    </tr>\n",
              "  </tbody>\n",
              "</table>\n",
              "</div>"
            ],
            "text/plain": [
              "                         title  \\\n",
              "0                    Toy Story   \n",
              "1                      Jumanji   \n",
              "2             Grumpier Old Men   \n",
              "3            Waiting to Exhale   \n",
              "4  Father of the Bride Part II   \n",
              "\n",
              "                                                cast         director  \\\n",
              "0                [Tom Hanks, Tim Allen, Don Rickles]    John Lasseter   \n",
              "1     [Robin Williams, Jonathan Hyde, Kirsten Dunst]     Joe Johnston   \n",
              "2         [Walter Matthau, Jack Lemmon, Ann-Margret]    Howard Deutch   \n",
              "3  [Whitney Houston, Angela Bassett, Loretta Devine]  Forest Whitaker   \n",
              "4         [Steve Martin, Diane Keaton, Martin Short]    Charles Shyer   \n",
              "\n",
              "                                            keywords  \\\n",
              "0                               [jealousy, toy, boy]   \n",
              "1  [board game, disappearance, based on children'...   \n",
              "2       [fishing, best friend, duringcreditsstinger]   \n",
              "3  [based on novel, interracial relationship, sin...   \n",
              "4                 [baby, midlife crisis, confidence]   \n",
              "\n",
              "                         genres  \n",
              "0   [animation, comedy, family]  \n",
              "1  [adventure, fantasy, family]  \n",
              "2             [romance, comedy]  \n",
              "3      [comedy, drama, romance]  \n",
              "4                      [comedy]  "
            ]
          },
          "metadata": {
            "tags": []
          },
          "execution_count": 22
        }
      ]
    },
    {
      "cell_type": "code",
      "metadata": {
        "id": "BCTfUmhvvwI4",
        "colab_type": "code",
        "colab": {}
      },
      "source": [
        "# Function to sanitize data to prevent ambiguity. It removes spaces and converts to lowercase\n",
        "def sanitize(x):\n",
        "    if isinstance(x, list):\n",
        "        #Strip spaces and convert to lowercase\n",
        "        return [str.lower(i.replace(\" \", \"\")) for i in x]\n",
        "    else:\n",
        "        #Check if director exists. If not, return empty string\n",
        "        if isinstance(x, str):\n",
        "            return str.lower(x.replace(\" \", \"\"))\n",
        "        else:\n",
        "            return ''"
      ],
      "execution_count": null,
      "outputs": []
    },
    {
      "cell_type": "code",
      "metadata": {
        "id": "-3Cc0fbbvwI6",
        "colab_type": "code",
        "colab": {}
      },
      "source": [
        "#Apply the generate_list function to cast, keywords, director and genres\n",
        "for feature in ['cast', 'director', 'genres', 'keywords']:\n",
        "    df[feature] = df[feature].apply(sanitize)"
      ],
      "execution_count": null,
      "outputs": []
    },
    {
      "cell_type": "code",
      "metadata": {
        "scrolled": true,
        "id": "-DZPliyUvwI8",
        "colab_type": "code",
        "colab": {}
      },
      "source": [
        "#Function that creates a soup out of the desired metadata\n",
        "def create_soup(x):\n",
        "    return ' '.join(x['keywords']) + ' ' + ' '.join(x['cast']) + ' ' + x['director'] + ' ' + ' '.join(x['genres'])"
      ],
      "execution_count": null,
      "outputs": []
    },
    {
      "cell_type": "code",
      "metadata": {
        "id": "fv7s6nlxvwI_",
        "colab_type": "code",
        "colab": {}
      },
      "source": [
        "# Create the new soup feature\n",
        "df['soup'] = df.apply(create_soup, axis=1)"
      ],
      "execution_count": null,
      "outputs": []
    },
    {
      "cell_type": "code",
      "metadata": {
        "id": "9u6Y4gq0vwJB",
        "colab_type": "code",
        "colab": {},
        "outputId": "cbf6deb6-5d11-44ed-e93e-a3ade82ea424"
      },
      "source": [
        "#Display the soup of the first movie\n",
        "df.iloc[0]['soup']"
      ],
      "execution_count": null,
      "outputs": [
        {
          "output_type": "execute_result",
          "data": {
            "text/plain": [
              "'jealousy toy boy tomhanks timallen donrickles johnlasseter animation comedy family'"
            ]
          },
          "metadata": {
            "tags": []
          },
          "execution_count": 27
        }
      ]
    },
    {
      "cell_type": "code",
      "metadata": {
        "id": "h7GVvSPhvwJD",
        "colab_type": "code",
        "colab": {}
      },
      "source": [
        "# Import CountVectorizer\n",
        "from sklearn.feature_extraction.text import CountVectorizer\n",
        "\n",
        "#Define a new CountVectorizer object and create vectors for the soup\n",
        "count = CountVectorizer(stop_words='english')\n",
        "count_matrix = count.fit_transform(df['soup'])"
      ],
      "execution_count": null,
      "outputs": []
    },
    {
      "cell_type": "code",
      "metadata": {
        "id": "qpWRShQMvwJG",
        "colab_type": "code",
        "colab": {}
      },
      "source": [
        "#Import cosine_similarity function\n",
        "from sklearn.metrics.pairwise import cosine_similarity\n",
        "\n",
        "#Compute the cosine similarity score (equivalent to dot product for tf-idf vectors)\n",
        "cosine_sim2 = cosine_similarity(count_matrix, count_matrix)"
      ],
      "execution_count": null,
      "outputs": []
    },
    {
      "cell_type": "code",
      "metadata": {
        "id": "hQyxrqanvwJI",
        "colab_type": "code",
        "colab": {}
      },
      "source": [
        "# Reset index of your df and construct reverse mapping again\n",
        "df = df.reset_index()\n",
        "indices2 = pd.Series(df.index, index=df['title'])"
      ],
      "execution_count": null,
      "outputs": []
    },
    {
      "cell_type": "code",
      "metadata": {
        "id": "QnqvI82TvwJM",
        "colab_type": "code",
        "colab": {},
        "outputId": "6042cfa5-159b-4694-e7b1-d7d67e529693"
      },
      "source": [
        "content_recommender('The Lion King', cosine_sim2, df, indices2)"
      ],
      "execution_count": null,
      "outputs": [
        {
          "output_type": "execute_result",
          "data": {
            "text/plain": [
              "29607                                          Cheburashka\n",
              "40904                   VeggieTales: Josh and the Big Wall\n",
              "40913    VeggieTales: Minnesota Cuke and the Search for...\n",
              "27768                                 The Little Matchgirl\n",
              "15209             Spiderman: The Ultimate Villain Showdown\n",
              "16613                            Cirque du Soleil: Varekai\n",
              "24654                                  The Seventh Brother\n",
              "29198                                      Superstar Goofy\n",
              "30244                                              My Love\n",
              "31179                Pokémon: Arceus and the Jewel of Life\n",
              "Name: title, dtype: object"
            ]
          },
          "metadata": {
            "tags": []
          },
          "execution_count": 37
        }
      ]
    },
    {
      "cell_type": "code",
      "metadata": {
        "id": "6v-WacPFvwJO",
        "colab_type": "code",
        "colab": {}
      },
      "source": [
        ""
      ],
      "execution_count": null,
      "outputs": []
    }
  ]
}